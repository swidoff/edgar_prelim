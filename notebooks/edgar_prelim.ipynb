{
 "cells": [
  {
   "cell_type": "code",
   "execution_count": null,
   "metadata": {},
   "outputs": [],
   "source": [
    "from edgar_prelim import *\n",
    "from edgar_query import *\n",
    "from edgar_title import *\n",
    "import re\n",
    "from bs4 import BeautifulSoup\n",
    "import pandas as pd\n",
    "%load_ext autoreload\n",
    "%autoreload 2\n",
    "%matplotlib inline\n",
    "pd.set_option('display.max_rows', 500)\n",
    "pd.set_option('display.max_columns', 500)"
   ]
  },
  {
   "cell_type": "code",
   "execution_count": null,
   "metadata": {},
   "outputs": [],
   "source": [
    "BAC='0000070858'\n",
    "C='0000831001'\n",
    "STI = '0000750556'\n",
    "JPM = '0000019617'\n",
    "WFC = '0000072971'\n",
    "GS = '0000886982'\n",
    "COF = '0000927628'\n",
    "MS = '0000895421'\n",
    "USB = '0000036104'\n",
    "PNC = '0000713676'\n",
    "BK='0001390777'\n",
    "SCHW='0000316709'\n",
    "STT='0000093751'\n",
    "BBT='0000092230'\n",
    "UBSH='0000883948'"
   ]
  },
  {
   "cell_type": "code",
   "execution_count": null,
   "metadata": {},
   "outputs": [],
   "source": [
    "d=date(2012, 1, 20)\n",
    "df = extract_prelim_statements('0001403475', start=d, end=d)\n",
    "df"
   ]
  },
  {
   "cell_type": "code",
   "execution_count": null,
   "metadata": {},
   "outputs": [],
   "source": [
    "d = date(2019, 1, 15)\n",
    "filings = query_edgar_for_filings(JPM, \"8-K\", start=d, end=d, require_xbrl=False)\n",
    "report = query_edgar_for_submission_text(filings[1].href)\n",
    "submission = load_submission(report.href)\n",
    "tables = list(parse_tables(submission))\n",
    "items_from_tables(tables)"
   ]
  },
  {
   "cell_type": "code",
   "execution_count": null,
   "metadata": {},
   "outputs": [],
   "source": [
    "bs = BeautifulSoup(submission.documents[-1].text, features='lxml')"
   ]
  },
  {
   "cell_type": "code",
   "execution_count": null,
   "metadata": {},
   "outputs": [],
   "source": [
    "tables = bs.find_all('table')"
   ]
  },
  {
   "cell_type": "code",
   "execution_count": null,
   "metadata": {},
   "outputs": [],
   "source": [
    "re.search(        fr'^{UNAUDITED}(?:(?:quarterly|condensed|select(?:ed)?)\\s+)*consolidated\\s+'\n",
    "        fr'(?:(?:select(?:ed)?|key)\\s+)*'\n",
    "        r'(?:financial|operating|earnings|capital)?(?:\\s+and\\s+other)?'\n",
    "        r'(?:\\s+(?:results|metrics|highlights?|summary|information|data))+', 'CONSOLIDATED FINANCIAL HIGHLIGHTS'.lower())"
   ]
  },
  {
   "cell_type": "code",
   "execution_count": null,
   "metadata": {},
   "outputs": [],
   "source": [
    "    table_matches = find_tag_text_matches(\n",
    "        [tables[2]],\n",
    "        title_inclusion_patterns,,\n",
    "        max_tables=2)\n"
   ]
  },
  {
   "cell_type": "code",
   "execution_count": null,
   "metadata": {},
   "outputs": [],
   "source": [
    "list(table_matches)"
   ]
  },
  {
   "cell_type": "code",
   "execution_count": null,
   "metadata": {},
   "outputs": [],
   "source": [
    "[t.title for t in tables]"
   ]
  },
  {
   "cell_type": "code",
   "execution_count": null,
   "metadata": {},
   "outputs": [],
   "source": [
    "units_from_table(tables[0])"
   ]
  },
  {
   "cell_type": "code",
   "execution_count": null,
   "metadata": {},
   "outputs": [],
   "source": [
    "re.search(prelim_items[-2].name_pattern, 'Book value per common share  GAAP (a)(b)', flags=re.IGNORECASE)"
   ]
  },
  {
   "cell_type": "code",
   "execution_count": null,
   "metadata": {},
   "outputs": [],
   "source": [
    "prelim_items[-2].name_pattern"
   ]
  },
  {
   "cell_type": "code",
   "execution_count": null,
   "metadata": {},
   "outputs": [],
   "source": [
    "re.search(r'([1-4])\\s*q(?:tr)?\\s*((?:20)?\\s*\\d\\s*\\d)', 'QUARTERLY TRENDS 3Q11'.lower())"
   ]
  },
  {
   "cell_type": "code",
   "execution_count": null,
   "metadata": {},
   "outputs": [],
   "source": [
    "%%prun\n",
    "tables = list(parse_tables(submission))\n",
    "items_from_tables(tables)"
   ]
  },
  {
   "cell_type": "code",
   "execution_count": null,
   "metadata": {},
   "outputs": [],
   "source": [
    "bs = BeautifulSoup(submission.documents[-1].text, features='lxml')"
   ]
  },
  {
   "cell_type": "code",
   "execution_count": null,
   "metadata": {},
   "outputs": [],
   "source": [
    "tables = bs.find_all('table')"
   ]
  },
  {
   "cell_type": "code",
   "execution_count": null,
   "metadata": {},
   "outputs": [],
   "source": [
    "for t in tables:\n",
    "    title = title_from_table_tag(t)\n",
    "    if title:\n",
    "        print(title[0])"
   ]
  },
  {
   "cell_type": "code",
   "execution_count": null,
   "metadata": {},
   "outputs": [],
   "source": [
    "for t in tables:\n",
    "   print(t.df[0])"
   ]
  },
  {
   "cell_type": "code",
   "execution_count": null,
   "metadata": {},
   "outputs": [],
   "source": [
    "item_value_from_table(tables[4].df.iloc[:, [0, 1]], prelim_items[-1].name_pattern, 1)"
   ]
  },
  {
   "cell_type": "code",
   "execution_count": null,
   "metadata": {},
   "outputs": [],
   "source": [
    "max_fiscal_period(tables[4].df)"
   ]
  },
  {
   "cell_type": "code",
   "execution_count": null,
   "metadata": {},
   "outputs": [],
   "source": [
    "discard_prelim(UBSH, date(2018, 11, 16))"
   ]
  },
  {
   "cell_type": "code",
   "execution_count": null,
   "metadata": {},
   "outputs": [],
   "source": [
    "force_reload_prelim('0001005817',  date(2013, 4, 26))"
   ]
  },
  {
   "cell_type": "code",
   "execution_count": null,
   "metadata": {},
   "outputs": [],
   "source": [
    "force_reload_prelim('0001411974',  date(2009, 4, 28))"
   ]
  },
  {
   "cell_type": "code",
   "execution_count": null,
   "metadata": {},
   "outputs": [],
   "source": [
    "d=date(2010, 4, 21)\n",
    "filings = query_edgar_for_filings(STI, \"8-K\", start=d, end=d, require_xbrl=False)\n",
    "report = query_edgar_for_submission_text(filings[0].href)\n",
    "submission = load_submission(report.href)"
   ]
  },
  {
   "cell_type": "code",
   "execution_count": null,
   "metadata": {},
   "outputs": [],
   "source": [
    "table_tags = BeautifulSoup(submission.documents[1].text, features='lxml').find_all('table')"
   ]
  },
  {
   "cell_type": "code",
   "execution_count": null,
   "metadata": {},
   "outputs": [],
   "source": [
    "title_from_table_tag(table_tags[18])"
   ]
  },
  {
   "cell_type": "code",
   "execution_count": null,
   "metadata": {},
   "outputs": [],
   "source": [
    "table_tags = list(filter(lambda x: title_from_table_tag(x) is not None, table_tags))"
   ]
  },
  {
   "cell_type": "code",
   "execution_count": null,
   "metadata": {},
   "outputs": [],
   "source": [
    "pd.read_html(table_tags[0].prettify(), flavor='html5lib')[0].pipe(drop_single_value_rows) \\\n",
    "    .pipe(drop_null_rows_and_columns) \\\n",
    "    .fillna(value='') \\\n",
    "    .pipe(collapse_identical_rows) \\\n",
    "    .pipe(collapse_identical_columns) \\\n",
    "    .pipe(drop_bogus_header_rows)  \\\n",
    "    .pipe(collapse_header_rows) \\\n",
    "    .pipe(collapse_columns_with_identical_header, start_col=0)"
   ]
  },
  {
   "cell_type": "code",
   "execution_count": null,
   "metadata": {},
   "outputs": [],
   "source": [
    "parse_fiscal_period('QTD 2011')"
   ]
  },
  {
   "cell_type": "code",
   "execution_count": null,
   "metadata": {},
   "outputs": [],
   "source": [
    "pattern = (\n",
    "    r'^(?:unaudited\\s+)?(?:(?:selected|key)\\s+)?(?:quarterly\\s+)?'\n",
    "    r'(?:financial|operating|income\\s+statement)\\s+'\n",
    "    fr'(?:highlights?|information|results|data)$'\n",
    ")\n",
    "re.search(pattern, 'FINANCIAL HIGHLIGHTS', flags=re.IGNORECASE)"
   ]
  },
  {
   "cell_type": "code",
   "execution_count": null,
   "metadata": {},
   "outputs": [],
   "source": [
    "parse_value('$48.33 \t')"
   ]
  },
  {
   "cell_type": "code",
   "execution_count": null,
   "metadata": {},
   "outputs": [],
   "source": [
    "re.search('\\w', 'Interest and dividend income')"
   ]
  },
  {
   "cell_type": "code",
   "execution_count": null,
   "metadata": {},
   "outputs": [],
   "source": [
    "widget = query_prelims_for_override('0001005817', filing_date='2016-01-28', item=None)\n",
    "widget"
   ]
  },
  {
   "cell_type": "code",
   "execution_count": null,
   "metadata": {},
   "outputs": [],
   "source": [
    "widget.save()"
   ]
  },
  {
   "cell_type": "code",
   "execution_count": null,
   "metadata": {},
   "outputs": [],
   "source": [
    "cik_df = pd.read_sql(\"select * from cik\", prelim_engine)"
   ]
  },
  {
   "cell_type": "code",
   "execution_count": null,
   "metadata": {},
   "outputs": [],
   "source": [
    "cik_df.head()"
   ]
  },
  {
   "cell_type": "code",
   "execution_count": null,
   "metadata": {},
   "outputs": [],
   "source": [
    "cik_df.to_csv(\"../src/resources/cik.csv\")"
   ]
  },
  {
   "cell_type": "code",
   "execution_count": null,
   "metadata": {},
   "outputs": [],
   "source": [
    "%pwd"
   ]
  },
  {
   "cell_type": "code",
   "execution_count": null,
   "metadata": {},
   "outputs": [],
   "source": []
  }
 ],
 "metadata": {
  "kernelspec": {
   "display_name": "Python 3",
   "language": "python",
   "name": "python3"
  },
  "language_info": {
   "codemirror_mode": {
    "name": "ipython",
    "version": 3
   },
   "file_extension": ".py",
   "mimetype": "text/x-python",
   "name": "python",
   "nbconvert_exporter": "python",
   "pygments_lexer": "ipython3",
   "version": "3.7.2"
  }
 },
 "nbformat": 4,
 "nbformat_minor": 2
}
