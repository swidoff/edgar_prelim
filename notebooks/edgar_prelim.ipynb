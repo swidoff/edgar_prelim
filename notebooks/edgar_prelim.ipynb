{
 "cells": [
  {
   "cell_type": "code",
   "execution_count": 46,
   "metadata": {},
   "outputs": [
    {
     "name": "stdout",
     "output_type": "stream",
     "text": [
      "The autoreload extension is already loaded. To reload it, use:\n",
      "  %reload_ext autoreload\n"
     ]
    }
   ],
   "source": [
    "from edgar_prelim import *\n",
    "from edgar_query import *\n",
    "from edgar_title import *\n",
    "import re\n",
    "from bs4 import BeautifulSoup\n",
    "import pandas as pd\n",
    "%load_ext autoreload\n",
    "%autoreload 2\n",
    "%matplotlib inline\n",
    "pd.set_option('display.max_rows', 500)\n",
    "pd.set_option('display.max_columns', 500)"
   ]
  },
  {
   "cell_type": "code",
   "execution_count": 2,
   "metadata": {},
   "outputs": [],
   "source": [
    "BAC='0000070858'\n",
    "C='0000831001'\n",
    "STI = '0000750556'\n",
    "JPM = '0000019617'\n",
    "WFC = '0000072971'\n",
    "GS = '0000886982'\n",
    "COF = '0000927628'\n",
    "MS = '0000895421'\n",
    "USB = '0000036104'\n",
    "PNC = '0000713676'\n",
    "BK='0001390777'\n",
    "SCHW='0000316709'\n",
    "STT='0000093751'\n",
    "BBT='0000092230'\n",
    "UBSH='0000883948'"
   ]
  },
  {
   "cell_type": "code",
   "execution_count": null,
   "metadata": {},
   "outputs": [],
   "source": [
    "d=date(2012, 1, 20)\n",
    "df = extract_prelim_statements('0001403475', start=d, end=d)\n",
    "df"
   ]
  },
  {
   "cell_type": "code",
   "execution_count": 49,
   "metadata": {},
   "outputs": [
    {
     "data": {
      "text/html": [
       "<div>\n",
       "<style scoped>\n",
       "    .dataframe tbody tr th:only-of-type {\n",
       "        vertical-align: middle;\n",
       "    }\n",
       "\n",
       "    .dataframe tbody tr th {\n",
       "        vertical-align: top;\n",
       "    }\n",
       "\n",
       "    .dataframe thead th {\n",
       "        text-align: right;\n",
       "    }\n",
       "</style>\n",
       "<table border=\"1\" class=\"dataframe\">\n",
       "  <thead>\n",
       "    <tr style=\"text-align: right;\">\n",
       "      <th></th>\n",
       "      <th>item</th>\n",
       "      <th>fiscal_period</th>\n",
       "      <th>item_rank</th>\n",
       "      <th>item_value</th>\n",
       "      <th>src_column</th>\n",
       "      <th>src_row</th>\n",
       "      <th>src_table</th>\n",
       "      <th>src_units</th>\n",
       "      <th>src_value</th>\n",
       "      <th>table_rank</th>\n",
       "    </tr>\n",
       "  </thead>\n",
       "  <tbody>\n",
       "    <tr>\n",
       "      <th>0</th>\n",
       "      <td>book value per share</td>\n",
       "      <td>2018Q4</td>\n",
       "      <td>0</td>\n",
       "      <td>7.035000e+01</td>\n",
       "      <td>QUARTERLY TRENDS 4Q18</td>\n",
       "      <td>Book value per share</td>\n",
       "      <td>CONSOLIDATED FINANCIAL HIGHLIGHTS</td>\n",
       "      <td>(in millions, except per share and ratio data)</td>\n",
       "      <td>70.35</td>\n",
       "      <td>4</td>\n",
       "    </tr>\n",
       "    <tr>\n",
       "      <th>1</th>\n",
       "      <td>interest income</td>\n",
       "      <td>2018Q4</td>\n",
       "      <td>0</td>\n",
       "      <td>2.103800e+10</td>\n",
       "      <td>QUARTERLY TRENDS 4Q18</td>\n",
       "      <td>Interest income</td>\n",
       "      <td>CONSOLIDATED STATEMENTS OF INCOME</td>\n",
       "      <td>(in millions, except per share and ratio data)</td>\n",
       "      <td>21038</td>\n",
       "      <td>0</td>\n",
       "    </tr>\n",
       "    <tr>\n",
       "      <th>2</th>\n",
       "      <td>net income</td>\n",
       "      <td>2018Q4</td>\n",
       "      <td>0</td>\n",
       "      <td>7.066000e+09</td>\n",
       "      <td>QUARTERLY TRENDS 4Q18</td>\n",
       "      <td>NET INCOME</td>\n",
       "      <td>CONSOLIDATED STATEMENTS OF INCOME</td>\n",
       "      <td>(in millions, except per share and ratio data)</td>\n",
       "      <td>$7066</td>\n",
       "      <td>0</td>\n",
       "    </tr>\n",
       "    <tr>\n",
       "      <th>3</th>\n",
       "      <td>net interest income</td>\n",
       "      <td>2018Q4</td>\n",
       "      <td>0</td>\n",
       "      <td>1.435400e+10</td>\n",
       "      <td>QUARTERLY TRENDS 4Q18</td>\n",
       "      <td>Net interest income</td>\n",
       "      <td>CONSOLIDATED STATEMENTS OF INCOME</td>\n",
       "      <td>(in millions, except per share and ratio data)</td>\n",
       "      <td>14354</td>\n",
       "      <td>0</td>\n",
       "    </tr>\n",
       "    <tr>\n",
       "      <th>4</th>\n",
       "      <td>provision for loan losses</td>\n",
       "      <td>2018Q4</td>\n",
       "      <td>0</td>\n",
       "      <td>1.548000e+09</td>\n",
       "      <td>QUARTERLY TRENDS 4Q18</td>\n",
       "      <td>Provision for credit losses</td>\n",
       "      <td>CONSOLIDATED STATEMENTS OF INCOME</td>\n",
       "      <td>(in millions, except per share and ratio data)</td>\n",
       "      <td>1548</td>\n",
       "      <td>0</td>\n",
       "    </tr>\n",
       "    <tr>\n",
       "      <th>5</th>\n",
       "      <td>total revenue</td>\n",
       "      <td>2018Q4</td>\n",
       "      <td>0</td>\n",
       "      <td>2.610900e+10</td>\n",
       "      <td>QUARTERLY TRENDS 4Q18</td>\n",
       "      <td>TOTAL NET REVENUE</td>\n",
       "      <td>CONSOLIDATED STATEMENTS OF INCOME</td>\n",
       "      <td>(in millions, except per share and ratio data)</td>\n",
       "      <td>26109</td>\n",
       "      <td>0</td>\n",
       "    </tr>\n",
       "  </tbody>\n",
       "</table>\n",
       "</div>"
      ],
      "text/plain": [
       "                        item fiscal_period  item_rank    item_value  \\\n",
       "0       book value per share        2018Q4          0  7.035000e+01   \n",
       "1            interest income        2018Q4          0  2.103800e+10   \n",
       "2                 net income        2018Q4          0  7.066000e+09   \n",
       "3        net interest income        2018Q4          0  1.435400e+10   \n",
       "4  provision for loan losses        2018Q4          0  1.548000e+09   \n",
       "5              total revenue        2018Q4          0  2.610900e+10   \n",
       "\n",
       "              src_column                      src_row  \\\n",
       "0  QUARTERLY TRENDS 4Q18         Book value per share   \n",
       "1  QUARTERLY TRENDS 4Q18              Interest income   \n",
       "2  QUARTERLY TRENDS 4Q18                   NET INCOME   \n",
       "3  QUARTERLY TRENDS 4Q18          Net interest income   \n",
       "4  QUARTERLY TRENDS 4Q18  Provision for credit losses   \n",
       "5  QUARTERLY TRENDS 4Q18            TOTAL NET REVENUE   \n",
       "\n",
       "                           src_table  \\\n",
       "0  CONSOLIDATED FINANCIAL HIGHLIGHTS   \n",
       "1  CONSOLIDATED STATEMENTS OF INCOME   \n",
       "2  CONSOLIDATED STATEMENTS OF INCOME   \n",
       "3  CONSOLIDATED STATEMENTS OF INCOME   \n",
       "4  CONSOLIDATED STATEMENTS OF INCOME   \n",
       "5  CONSOLIDATED STATEMENTS OF INCOME   \n",
       "\n",
       "                                        src_units src_value  table_rank  \n",
       "0  (in millions, except per share and ratio data)     70.35           4  \n",
       "1  (in millions, except per share and ratio data)     21038           0  \n",
       "2  (in millions, except per share and ratio data)     $7066           0  \n",
       "3  (in millions, except per share and ratio data)     14354           0  \n",
       "4  (in millions, except per share and ratio data)      1548           0  \n",
       "5  (in millions, except per share and ratio data)     26109           0  "
      ]
     },
     "execution_count": 49,
     "metadata": {},
     "output_type": "execute_result"
    }
   ],
   "source": [
    "d = date(2019, 1, 15)\n",
    "filings = query_edgar_for_filings(JPM, \"8-K\", start=d, end=d, require_xbrl=False)\n",
    "report = query_edgar_for_submission_text(filings[1].href)\n",
    "submission = load_submission(report.href)\n",
    "tables = list(parse_tables(submission))\n",
    "items_from_tables(tables)"
   ]
  },
  {
   "cell_type": "code",
   "execution_count": 7,
   "metadata": {},
   "outputs": [],
   "source": [
    "bs = BeautifulSoup(submission.documents[-1].text, features='lxml')"
   ]
  },
  {
   "cell_type": "code",
   "execution_count": 8,
   "metadata": {},
   "outputs": [],
   "source": [
    "tables = bs.find_all('table')"
   ]
  },
  {
   "cell_type": "code",
   "execution_count": 32,
   "metadata": {},
   "outputs": [
    {
     "data": {
      "text/plain": [
       "<re.Match object; span=(0, 33), match='consolidated financial highlights'>"
      ]
     },
     "execution_count": 32,
     "metadata": {},
     "output_type": "execute_result"
    }
   ],
   "source": [
    "re.search(        fr'^{UNAUDITED}(?:(?:quarterly|condensed|select(?:ed)?)\\s+)*consolidated\\s+'\n",
    "        fr'(?:(?:select(?:ed)?|key)\\s+)*'\n",
    "        r'(?:financial|operating|earnings|capital)?(?:\\s+and\\s+other)?'\n",
    "        r'(?:\\s+(?:results|metrics|highlights?|summary|information|data))+', 'CONSOLIDATED FINANCIAL HIGHLIGHTS'.lower())"
   ]
  },
  {
   "cell_type": "code",
   "execution_count": 47,
   "metadata": {},
   "outputs": [],
   "source": [
    "    table_matches = find_tag_text_matches(\n",
    "        [tables[2]],\n",
    "        title_inclusion_patterns,,\n",
    "        max_tables=2)\n"
   ]
  },
  {
   "cell_type": "code",
   "execution_count": 48,
   "metadata": {},
   "outputs": [
    {
     "ename": "TypeError",
     "evalue": "unhashable type: 'list'",
     "output_type": "error",
     "traceback": [
      "\u001b[1;31m---------------------------------------------------------------------------\u001b[0m",
      "\u001b[1;31mTypeError\u001b[0m                                 Traceback (most recent call last)",
      "\u001b[1;32m<ipython-input-48-15d1eaa2d9a6>\u001b[0m in \u001b[0;36m<module>\u001b[1;34m\u001b[0m\n\u001b[1;32m----> 1\u001b[1;33m \u001b[0mlist\u001b[0m\u001b[1;33m(\u001b[0m\u001b[0mtable_matches\u001b[0m\u001b[1;33m)\u001b[0m\u001b[1;33m\u001b[0m\u001b[1;33m\u001b[0m\u001b[0m\n\u001b[0m",
      "\u001b[1;32m~\\Documents\\dev\\edgar_prelim\\src\\bs4_util.py\u001b[0m in \u001b[0;36mfind_tag_text_matches\u001b[1;34m(tag_iter, inclusion_patterns, exclusion_patterns, max_tables, continue_to_next_table_after_match)\u001b[0m\n\u001b[0;32m    164\u001b[0m             \u001b[1;32mreturn\u001b[0m\u001b[1;33m\u001b[0m\u001b[1;33m\u001b[0m\u001b[0m\n\u001b[0;32m    165\u001b[0m \u001b[1;33m\u001b[0m\u001b[0m\n\u001b[1;32m--> 166\u001b[1;33m         \u001b[1;32myield\u001b[0m \u001b[1;32mfrom\u001b[0m \u001b[0mmatch_tag_text\u001b[0m\u001b[1;33m(\u001b[0m\u001b[0mtag\u001b[0m\u001b[1;33m,\u001b[0m \u001b[0minclusion_patterns\u001b[0m\u001b[1;33m)\u001b[0m\u001b[1;33m\u001b[0m\u001b[1;33m\u001b[0m\u001b[0m\n\u001b[0m\u001b[0;32m    167\u001b[0m \u001b[1;33m\u001b[0m\u001b[0m\n\u001b[0;32m    168\u001b[0m         \u001b[1;31m# If until_match is specified, don't continue past its location to avoid matching an earlier table.\u001b[0m\u001b[1;33m\u001b[0m\u001b[1;33m\u001b[0m\u001b[1;33m\u001b[0m\u001b[0m\n",
      "\u001b[1;32m~\\Documents\\dev\\edgar_prelim\\src\\bs4_util.py\u001b[0m in \u001b[0;36mmatch_tag_text\u001b[1;34m(tag, patterns)\u001b[0m\n\u001b[0;32m    127\u001b[0m     \u001b[1;32mfor\u001b[0m \u001b[0mtxt\u001b[0m \u001b[1;32min\u001b[0m \u001b[0miter_tag_text\u001b[0m\u001b[1;33m(\u001b[0m\u001b[0mtag\u001b[0m\u001b[1;33m)\u001b[0m\u001b[1;33m:\u001b[0m\u001b[1;33m\u001b[0m\u001b[1;33m\u001b[0m\u001b[0m\n\u001b[0;32m    128\u001b[0m         \u001b[1;32mfor\u001b[0m \u001b[0mpattern_idx\u001b[0m\u001b[1;33m,\u001b[0m \u001b[0mpattern\u001b[0m \u001b[1;32min\u001b[0m \u001b[0menumerate\u001b[0m\u001b[1;33m(\u001b[0m\u001b[0mpatterns\u001b[0m\u001b[1;33m)\u001b[0m\u001b[1;33m:\u001b[0m\u001b[1;33m\u001b[0m\u001b[1;33m\u001b[0m\u001b[0m\n\u001b[1;32m--> 129\u001b[1;33m             \u001b[0mmatch\u001b[0m \u001b[1;33m=\u001b[0m \u001b[0mre\u001b[0m\u001b[1;33m.\u001b[0m\u001b[0msearch\u001b[0m\u001b[1;33m(\u001b[0m\u001b[0mpattern\u001b[0m\u001b[1;33m,\u001b[0m \u001b[0mtxt\u001b[0m\u001b[1;33m.\u001b[0m\u001b[0mlower\u001b[0m\u001b[1;33m(\u001b[0m\u001b[1;33m)\u001b[0m\u001b[1;33m)\u001b[0m\u001b[1;33m\u001b[0m\u001b[1;33m\u001b[0m\u001b[0m\n\u001b[0m\u001b[0;32m    130\u001b[0m             \u001b[1;32mif\u001b[0m \u001b[0mmatch\u001b[0m\u001b[1;33m:\u001b[0m\u001b[1;33m\u001b[0m\u001b[1;33m\u001b[0m\u001b[0m\n\u001b[0;32m    131\u001b[0m                 \u001b[1;32myield\u001b[0m \u001b[0mtxt\u001b[0m\u001b[1;33m,\u001b[0m \u001b[0mpattern_idx\u001b[0m\u001b[1;33m\u001b[0m\u001b[1;33m\u001b[0m\u001b[0m\n",
      "\u001b[1;32mC:\\ProgramData\\Miniconda3\\lib\\re.py\u001b[0m in \u001b[0;36msearch\u001b[1;34m(pattern, string, flags)\u001b[0m\n\u001b[0;32m    181\u001b[0m     \"\"\"Scan through string looking for a match to the pattern, returning\n\u001b[0;32m    182\u001b[0m     a Match object, or None if no match was found.\"\"\"\n\u001b[1;32m--> 183\u001b[1;33m     \u001b[1;32mreturn\u001b[0m \u001b[0m_compile\u001b[0m\u001b[1;33m(\u001b[0m\u001b[0mpattern\u001b[0m\u001b[1;33m,\u001b[0m \u001b[0mflags\u001b[0m\u001b[1;33m)\u001b[0m\u001b[1;33m.\u001b[0m\u001b[0msearch\u001b[0m\u001b[1;33m(\u001b[0m\u001b[0mstring\u001b[0m\u001b[1;33m)\u001b[0m\u001b[1;33m\u001b[0m\u001b[1;33m\u001b[0m\u001b[0m\n\u001b[0m\u001b[0;32m    184\u001b[0m \u001b[1;33m\u001b[0m\u001b[0m\n\u001b[0;32m    185\u001b[0m \u001b[1;32mdef\u001b[0m \u001b[0msub\u001b[0m\u001b[1;33m(\u001b[0m\u001b[0mpattern\u001b[0m\u001b[1;33m,\u001b[0m \u001b[0mrepl\u001b[0m\u001b[1;33m,\u001b[0m \u001b[0mstring\u001b[0m\u001b[1;33m,\u001b[0m \u001b[0mcount\u001b[0m\u001b[1;33m=\u001b[0m\u001b[1;36m0\u001b[0m\u001b[1;33m,\u001b[0m \u001b[0mflags\u001b[0m\u001b[1;33m=\u001b[0m\u001b[1;36m0\u001b[0m\u001b[1;33m)\u001b[0m\u001b[1;33m:\u001b[0m\u001b[1;33m\u001b[0m\u001b[1;33m\u001b[0m\u001b[0m\n",
      "\u001b[1;32mC:\\ProgramData\\Miniconda3\\lib\\re.py\u001b[0m in \u001b[0;36m_compile\u001b[1;34m(pattern, flags)\u001b[0m\n\u001b[0;32m    274\u001b[0m         \u001b[0mflags\u001b[0m \u001b[1;33m=\u001b[0m \u001b[0mflags\u001b[0m\u001b[1;33m.\u001b[0m\u001b[0mvalue\u001b[0m\u001b[1;33m\u001b[0m\u001b[1;33m\u001b[0m\u001b[0m\n\u001b[0;32m    275\u001b[0m     \u001b[1;32mtry\u001b[0m\u001b[1;33m:\u001b[0m\u001b[1;33m\u001b[0m\u001b[1;33m\u001b[0m\u001b[0m\n\u001b[1;32m--> 276\u001b[1;33m         \u001b[1;32mreturn\u001b[0m \u001b[0m_cache\u001b[0m\u001b[1;33m[\u001b[0m\u001b[0mtype\u001b[0m\u001b[1;33m(\u001b[0m\u001b[0mpattern\u001b[0m\u001b[1;33m)\u001b[0m\u001b[1;33m,\u001b[0m \u001b[0mpattern\u001b[0m\u001b[1;33m,\u001b[0m \u001b[0mflags\u001b[0m\u001b[1;33m]\u001b[0m\u001b[1;33m\u001b[0m\u001b[1;33m\u001b[0m\u001b[0m\n\u001b[0m\u001b[0;32m    277\u001b[0m     \u001b[1;32mexcept\u001b[0m \u001b[0mKeyError\u001b[0m\u001b[1;33m:\u001b[0m\u001b[1;33m\u001b[0m\u001b[1;33m\u001b[0m\u001b[0m\n\u001b[0;32m    278\u001b[0m         \u001b[1;32mpass\u001b[0m\u001b[1;33m\u001b[0m\u001b[1;33m\u001b[0m\u001b[0m\n",
      "\u001b[1;31mTypeError\u001b[0m: unhashable type: 'list'"
     ]
    }
   ],
   "source": [
    "list(table_matches)"
   ]
  },
  {
   "cell_type": "code",
   "execution_count": 5,
   "metadata": {},
   "outputs": [
    {
     "data": {
      "text/plain": [
       "['CONSOLIDATED STATEMENTS OF INCOME',\n",
       " 'CONSOLIDATED STATEMENTS OF INCOME',\n",
       " 'CONSOLIDATED FINANCIAL HIGHLIGHTS, CONTINUED',\n",
       " 'CONSOLIDATED BALANCE SHEETS',\n",
       " 'CONSOLIDATED BALANCE SHEETS',\n",
       " 'CONSOLIDATED BALANCE SHEETS',\n",
       " 'FINANCIAL HIGHLIGHTS',\n",
       " 'FINANCIAL HIGHLIGHTS',\n",
       " 'FINANCIAL HIGHLIGHTS',\n",
       " 'FINANCIAL HIGHLIGHTS',\n",
       " 'FINANCIAL HIGHLIGHTS',\n",
       " 'FINANCIAL HIGHLIGHTS',\n",
       " 'FINANCIAL HIGHLIGHTS',\n",
       " 'FINANCIAL HIGHLIGHTS',\n",
       " 'FINANCIAL HIGHLIGHTS',\n",
       " 'FINANCIAL HIGHLIGHTS',\n",
       " 'FINANCIAL HIGHLIGHTS',\n",
       " 'FINANCIAL HIGHLIGHTS',\n",
       " 'FINANCIAL HIGHLIGHTS, CONTINUED',\n",
       " 'FINANCIAL HIGHLIGHTS, CONTINUED',\n",
       " 'FINANCIAL HIGHLIGHTS, CONTINUED',\n",
       " 'FINANCIAL HIGHLIGHTS, CONTINUED',\n",
       " 'FINANCIAL HIGHLIGHTS, CONTINUED',\n",
       " 'FINANCIAL HIGHLIGHTS, CONTINUED',\n",
       " 'FINANCIAL HIGHLIGHTS, CONTINUED',\n",
       " 'FINANCIAL HIGHLIGHTS, CONTINUED',\n",
       " 'FINANCIAL HIGHLIGHTS, CONTINUED',\n",
       " 'FINANCIAL HIGHLIGHTS, CONTINUED',\n",
       " 'FINANCIAL HIGHLIGHTS, CONTINUED',\n",
       " 'FINANCIAL HIGHLIGHTS, CONTINUED',\n",
       " 'FINANCIAL HIGHLIGHTS, CONTINUED',\n",
       " 'FINANCIAL HIGHLIGHTS, CONTINUED',\n",
       " 'FINANCIAL HIGHLIGHTS, CONTINUED',\n",
       " 'Common stockholders’ equity',\n",
       " 'Common stockholders’ equity',\n",
       " 'Common stockholders’ equity',\n",
       " 'Earnings per share',\n",
       " 'Earnings per share',\n",
       " 'EARNINGS PER SHARE AND RELATED INFORMATION',\n",
       " 'EARNINGS PER SHARE AND RELATED INFORMATION']"
      ]
     },
     "execution_count": 5,
     "metadata": {},
     "output_type": "execute_result"
    }
   ],
   "source": [
    "[t.title for t in tables]"
   ]
  },
  {
   "cell_type": "code",
   "execution_count": 37,
   "metadata": {},
   "outputs": [
    {
     "data": {
      "text/plain": [
       "(\"($000's omitted)\", 1000.0)"
      ]
     },
     "execution_count": 37,
     "metadata": {},
     "output_type": "execute_result"
    }
   ],
   "source": [
    "units_from_table(tables[0])"
   ]
  },
  {
   "cell_type": "code",
   "execution_count": 50,
   "metadata": {},
   "outputs": [
    {
     "data": {
      "text/plain": [
       "<re.Match object; span=(0, 41), match='Book value per common share \\x96 GAAP (a)(b)'>"
      ]
     },
     "execution_count": 50,
     "metadata": {},
     "output_type": "execute_result"
    }
   ],
   "source": [
    "re.search(prelim_items[-2].name_pattern, 'Book value per common share  GAAP (a)(b)', flags=re.IGNORECASE)"
   ]
  },
  {
   "cell_type": "code",
   "execution_count": 49,
   "metadata": {},
   "outputs": [
    {
     "data": {
      "text/plain": [
       "'^(?:total\\\\s+)?(?:common\\\\s+)?(?:(?:shareholders\\\\W?\\\\s+)?equity\\\\s+)?\\\\(?book\\\\s+value\\\\)?(?:\\\\s+per\\\\s+(?:common\\\\s+)?share(?:\\\\s+of\\\\s+common\\\\s+stock)?)?,?(?:(?:\\\\s+at)?\\\\s+\\\\(?period\\\\s*-?\\\\s*end\\\\)?)?(?:\\\\s*[—\\\\x97\\\\x96–-]*\\\\s*gaap)?(?:\\\\s*(?:\\\\(\\\\w{1,2}\\\\)|\\\\*))*$'"
      ]
     },
     "execution_count": 49,
     "metadata": {},
     "output_type": "execute_result"
    }
   ],
   "source": [
    "prelim_items[-2].name_pattern"
   ]
  },
  {
   "cell_type": "code",
   "execution_count": 40,
   "metadata": {},
   "outputs": [
    {
     "data": {
      "text/plain": [
       "<re.Match object; span=(17, 21), match='3q11'>"
      ]
     },
     "execution_count": 40,
     "metadata": {},
     "output_type": "execute_result"
    }
   ],
   "source": [
    "re.search(r'([1-4])\\s*q(?:tr)?\\s*((?:20)?\\s*\\d\\s*\\d)', 'QUARTERLY TRENDS 3Q11'.lower())"
   ]
  },
  {
   "cell_type": "code",
   "execution_count": null,
   "metadata": {},
   "outputs": [],
   "source": [
    "%%prun\n",
    "tables = list(parse_tables(submission))\n",
    "items_from_tables(tables)"
   ]
  },
  {
   "cell_type": "code",
   "execution_count": 7,
   "metadata": {},
   "outputs": [],
   "source": [
    "bs = BeautifulSoup(submission.documents[-1].text, features='lxml')"
   ]
  },
  {
   "cell_type": "code",
   "execution_count": 8,
   "metadata": {},
   "outputs": [],
   "source": [
    "tables = bs.find_all('table')"
   ]
  },
  {
   "cell_type": "code",
   "execution_count": 12,
   "metadata": {},
   "outputs": [
    {
     "name": "stdout",
     "output_type": "stream",
     "text": [
      "Consolidated Statement of Income\n",
      "CITIGROUP  FINANCIAL SUMMARY\n",
      "CITIGROUP  FINANCIAL SUMMARY\n",
      "CITIGROUP CONSOLIDATED STATEMENT OF INCOME\n",
      "CITIGROUP CONSOLIDATED STATEMENT OF INCOME\n",
      "CITIGROUP CONSOLIDATED BALANCE SHEET\n",
      "CITIGROUP CONSOLIDATED BALANCE SHEET\n",
      "CITIGROUP CONSOLIDATED BALANCE SHEET\n",
      "CITIGROUP CONSOLIDATED BALANCE SHEET\n"
     ]
    }
   ],
   "source": [
    "for t in tables:\n",
    "    title = title_from_table_tag(t)\n",
    "    if title:\n",
    "        print(title[0])"
   ]
  },
  {
   "cell_type": "code",
   "execution_count": null,
   "metadata": {},
   "outputs": [],
   "source": [
    "for t in tables:\n",
    "   print(t.df[0])"
   ]
  },
  {
   "cell_type": "code",
   "execution_count": 134,
   "metadata": {},
   "outputs": [
    {
     "data": {
      "text/plain": [
       "ItemValue(src_row='Book value per common share', src_column='ThreeMonthsEnded June30 2007', src_value='$48.33', value=48.33)"
      ]
     },
     "execution_count": 134,
     "metadata": {},
     "output_type": "execute_result"
    }
   ],
   "source": [
    "item_value_from_table(tables[4].df.iloc[:, [0, 1]], prelim_items[-1].name_pattern, 1)"
   ]
  },
  {
   "cell_type": "code",
   "execution_count": 135,
   "metadata": {},
   "outputs": [
    {
     "data": {
      "text/plain": [
       "(2, '2030Q2')"
      ]
     },
     "execution_count": 135,
     "metadata": {},
     "output_type": "execute_result"
    }
   ],
   "source": [
    "max_fiscal_period(tables[4].df)"
   ]
  },
  {
   "cell_type": "code",
   "execution_count": 134,
   "metadata": {},
   "outputs": [],
   "source": [
    "discard_prelim(UBSH, date(2018, 11, 16))"
   ]
  },
  {
   "cell_type": "code",
   "execution_count": 60,
   "metadata": {},
   "outputs": [
    {
     "name": "stderr",
     "output_type": "stream",
     "text": [
      "2019-05-15 09:57:01,569 edgar_prelim INFO MainThread Loading preliminary statements for 0001005817.\n",
      "2019-05-15 09:57:01,569 edgar_prelim INFO MainThread Deleting old preliminary statements for 0001005817.\n"
     ]
    }
   ],
   "source": [
    "force_reload_prelim('0001005817',  date(2013, 4, 26))"
   ]
  },
  {
   "cell_type": "code",
   "execution_count": 33,
   "metadata": {},
   "outputs": [
    {
     "name": "stderr",
     "output_type": "stream",
     "text": [
      "2019-04-29 17:08:53,639 edgar_prelim INFO MainThread Loading preliminary statements for 0001487052.\n",
      "2019-04-29 17:08:53,641 edgar_prelim INFO MainThread Deleting old preliminary statements for 0001487052.\n",
      "2019-04-29 17:08:57,335 edgar_prelim INFO MainThread Loading filing: Filing(date=datetime.date(2013, 2, 7), type='8-K', href='https://www.sec.gov/Archives/edgar/data/1487052/000148705213000003/0001487052-13-000003-index.htm').\n",
      "2019-04-29 17:09:04,335 edgar_prelim INFO MainThread Loading filing: Filing(date=datetime.date(2013, 4, 24), type='8-K', href='https://www.sec.gov/Archives/edgar/data/1487052/000148705213000022/0001487052-13-000022-index.htm').\n"
     ]
    }
   ],
   "source": [
    "force_reload_prelim('0001411974',  date(2009, 4, 28))"
   ]
  },
  {
   "cell_type": "code",
   "execution_count": 358,
   "metadata": {},
   "outputs": [],
   "source": [
    "d=date(2010, 4, 21)\n",
    "filings = query_edgar_for_filings(STI, \"8-K\", start=d, end=d, require_xbrl=False)\n",
    "report = query_edgar_for_submission_text(filings[0].href)\n",
    "submission = load_submission(report.href)"
   ]
  },
  {
   "cell_type": "code",
   "execution_count": 490,
   "metadata": {},
   "outputs": [],
   "source": [
    "table_tags = BeautifulSoup(submission.documents[1].text, features='lxml').find_all('table')"
   ]
  },
  {
   "cell_type": "code",
   "execution_count": null,
   "metadata": {},
   "outputs": [],
   "source": [
    "title_from_table_tag(table_tags[18])"
   ]
  },
  {
   "cell_type": "code",
   "execution_count": 153,
   "metadata": {},
   "outputs": [],
   "source": [
    "table_tags = list(filter(lambda x: title_from_table_tag(x) is not None, table_tags))"
   ]
  },
  {
   "cell_type": "code",
   "execution_count": null,
   "metadata": {},
   "outputs": [],
   "source": [
    "pd.read_html(table_tags[0].prettify(), flavor='html5lib')[0].pipe(drop_single_value_rows) \\\n",
    "    .pipe(drop_null_rows_and_columns) \\\n",
    "    .fillna(value='') \\\n",
    "    .pipe(collapse_identical_rows) \\\n",
    "    .pipe(collapse_identical_columns) \\\n",
    "    .pipe(drop_bogus_header_rows)  \\\n",
    "    .pipe(collapse_header_rows) \\\n",
    "    .pipe(collapse_columns_with_identical_header, start_col=0)"
   ]
  },
  {
   "cell_type": "code",
   "execution_count": 223,
   "metadata": {},
   "outputs": [
    {
     "data": {
      "text/plain": [
       "'2011QTD'"
      ]
     },
     "execution_count": 223,
     "metadata": {},
     "output_type": "execute_result"
    }
   ],
   "source": [
    "parse_fiscal_period('QTD 2011')"
   ]
  },
  {
   "cell_type": "code",
   "execution_count": 192,
   "metadata": {},
   "outputs": [
    {
     "data": {
      "text/plain": [
       "<re.Match object; span=(0, 20), match='FINANCIAL HIGHLIGHTS'>"
      ]
     },
     "execution_count": 192,
     "metadata": {},
     "output_type": "execute_result"
    }
   ],
   "source": [
    "pattern = (\n",
    "    r'^(?:unaudited\\s+)?(?:(?:selected|key)\\s+)?(?:quarterly\\s+)?'\n",
    "    r'(?:financial|operating|income\\s+statement)\\s+'\n",
    "    fr'(?:highlights?|information|results|data)$'\n",
    ")\n",
    "re.search(pattern, 'FINANCIAL HIGHLIGHTS', flags=re.IGNORECASE)"
   ]
  },
  {
   "cell_type": "code",
   "execution_count": 123,
   "metadata": {},
   "outputs": [
    {
     "data": {
      "text/plain": [
       "48.33"
      ]
     },
     "execution_count": 123,
     "metadata": {},
     "output_type": "execute_result"
    }
   ],
   "source": [
    "parse_value('$48.33 \t')"
   ]
  },
  {
   "cell_type": "code",
   "execution_count": 69,
   "metadata": {},
   "outputs": [
    {
     "data": {
      "text/plain": [
       "<re.Match object; span=(0, 1), match='I'>"
      ]
     },
     "execution_count": 69,
     "metadata": {},
     "output_type": "execute_result"
    }
   ],
   "source": [
    "re.search('\\w', 'Interest and dividend income')"
   ]
  },
  {
   "cell_type": "code",
   "execution_count": 57,
   "metadata": {},
   "outputs": [
    {
     "data": {
      "application/vnd.jupyter.widget-view+json": {
       "model_id": "4ad976d8214045cab5dd75e0498be657",
       "version_major": 2,
       "version_minor": 0
      },
      "text/plain": [
       "QgridWidget(grid_options={'fullWidthRows': True, 'syncColumnCellResize': True, 'forceFitColumns': True, 'defau…"
      ]
     },
     "metadata": {},
     "output_type": "display_data"
    }
   ],
   "source": [
    "widget = query_prelims_for_override('0001005817', filing_date='2016-01-28', item=None)\n",
    "widget"
   ]
  },
  {
   "cell_type": "code",
   "execution_count": 58,
   "metadata": {},
   "outputs": [
    {
     "data": {
      "text/html": [
       "<div>\n",
       "<style scoped>\n",
       "    .dataframe tbody tr th:only-of-type {\n",
       "        vertical-align: middle;\n",
       "    }\n",
       "\n",
       "    .dataframe tbody tr th {\n",
       "        vertical-align: top;\n",
       "    }\n",
       "\n",
       "    .dataframe thead th {\n",
       "        text-align: right;\n",
       "    }\n",
       "</style>\n",
       "<table border=\"1\" class=\"dataframe\">\n",
       "  <thead>\n",
       "    <tr style=\"text-align: right;\">\n",
       "      <th></th>\n",
       "      <th>filing_date</th>\n",
       "      <th>item</th>\n",
       "      <th>cik</th>\n",
       "      <th>filing_href</th>\n",
       "      <th>filing_type</th>\n",
       "      <th>fpe_date</th>\n",
       "      <th>fiscal_year</th>\n",
       "      <th>fiscal_quarter</th>\n",
       "      <th>fiscal_period</th>\n",
       "      <th>item_value</th>\n",
       "    </tr>\n",
       "  </thead>\n",
       "  <tbody>\n",
       "    <tr>\n",
       "      <th>0</th>\n",
       "      <td>2016-01-28</td>\n",
       "      <td>net income</td>\n",
       "      <td>0001005817</td>\n",
       "      <td>Unknown</td>\n",
       "      <td>8-K</td>\n",
       "      <td>None</td>\n",
       "      <td>None</td>\n",
       "      <td>None</td>\n",
       "      <td>None</td>\n",
       "      <td>None</td>\n",
       "    </tr>\n",
       "    <tr>\n",
       "      <th>1</th>\n",
       "      <td>2016-01-28</td>\n",
       "      <td>net interest income</td>\n",
       "      <td>0001005817</td>\n",
       "      <td>Unknown</td>\n",
       "      <td>8-K</td>\n",
       "      <td>None</td>\n",
       "      <td>None</td>\n",
       "      <td>None</td>\n",
       "      <td>None</td>\n",
       "      <td>None</td>\n",
       "    </tr>\n",
       "    <tr>\n",
       "      <th>2</th>\n",
       "      <td>2016-01-28</td>\n",
       "      <td>interest income</td>\n",
       "      <td>0001005817</td>\n",
       "      <td>Unknown</td>\n",
       "      <td>8-K</td>\n",
       "      <td>None</td>\n",
       "      <td>None</td>\n",
       "      <td>None</td>\n",
       "      <td>None</td>\n",
       "      <td>None</td>\n",
       "    </tr>\n",
       "    <tr>\n",
       "      <th>3</th>\n",
       "      <td>2016-01-28</td>\n",
       "      <td>provision for loan losses</td>\n",
       "      <td>0001005817</td>\n",
       "      <td>Unknown</td>\n",
       "      <td>8-K</td>\n",
       "      <td>None</td>\n",
       "      <td>None</td>\n",
       "      <td>None</td>\n",
       "      <td>None</td>\n",
       "      <td>None</td>\n",
       "    </tr>\n",
       "    <tr>\n",
       "      <th>4</th>\n",
       "      <td>2016-01-28</td>\n",
       "      <td>total revenue</td>\n",
       "      <td>0001005817</td>\n",
       "      <td>Unknown</td>\n",
       "      <td>8-K</td>\n",
       "      <td>None</td>\n",
       "      <td>None</td>\n",
       "      <td>None</td>\n",
       "      <td>None</td>\n",
       "      <td>None</td>\n",
       "    </tr>\n",
       "    <tr>\n",
       "      <th>5</th>\n",
       "      <td>2016-01-28</td>\n",
       "      <td>book value per share</td>\n",
       "      <td>0001005817</td>\n",
       "      <td>Unknown</td>\n",
       "      <td>8-K</td>\n",
       "      <td>None</td>\n",
       "      <td>None</td>\n",
       "      <td>None</td>\n",
       "      <td>None</td>\n",
       "      <td>None</td>\n",
       "    </tr>\n",
       "  </tbody>\n",
       "</table>\n",
       "</div>"
      ],
      "text/plain": [
       "  filing_date                       item         cik filing_href filing_type  \\\n",
       "0  2016-01-28                 net income  0001005817     Unknown         8-K   \n",
       "1  2016-01-28        net interest income  0001005817     Unknown         8-K   \n",
       "2  2016-01-28            interest income  0001005817     Unknown         8-K   \n",
       "3  2016-01-28  provision for loan losses  0001005817     Unknown         8-K   \n",
       "4  2016-01-28              total revenue  0001005817     Unknown         8-K   \n",
       "5  2016-01-28       book value per share  0001005817     Unknown         8-K   \n",
       "\n",
       "  fpe_date fiscal_year fiscal_quarter fiscal_period item_value  \n",
       "0     None        None           None          None       None  \n",
       "1     None        None           None          None       None  \n",
       "2     None        None           None          None       None  \n",
       "3     None        None           None          None       None  \n",
       "4     None        None           None          None       None  \n",
       "5     None        None           None          None       None  "
      ]
     },
     "execution_count": 58,
     "metadata": {},
     "output_type": "execute_result"
    }
   ],
   "source": [
    "widget.save()"
   ]
  },
  {
   "cell_type": "code",
   "execution_count": 8,
   "metadata": {},
   "outputs": [],
   "source": [
    "cik_df = pd.read_sql(\"select * from cik\", prelim_engine)"
   ]
  },
  {
   "cell_type": "code",
   "execution_count": 9,
   "metadata": {},
   "outputs": [
    {
     "data": {
      "text/html": [
       "<div>\n",
       "<style scoped>\n",
       "    .dataframe tbody tr th:only-of-type {\n",
       "        vertical-align: middle;\n",
       "    }\n",
       "\n",
       "    .dataframe tbody tr th {\n",
       "        vertical-align: top;\n",
       "    }\n",
       "\n",
       "    .dataframe thead th {\n",
       "        text-align: right;\n",
       "    }\n",
       "</style>\n",
       "<table border=\"1\" class=\"dataframe\">\n",
       "  <thead>\n",
       "    <tr style=\"text-align: right;\">\n",
       "      <th></th>\n",
       "      <th>cik</th>\n",
       "      <th>sic</th>\n",
       "      <th>sic_description</th>\n",
       "      <th>company_name</th>\n",
       "      <th>ticker</th>\n",
       "    </tr>\n",
       "  </thead>\n",
       "  <tbody>\n",
       "    <tr>\n",
       "      <th>0</th>\n",
       "      <td>0000004962</td>\n",
       "      <td>6199</td>\n",
       "      <td>FINANCE SERVICES</td>\n",
       "      <td>AMERICAN EXPRESS CO</td>\n",
       "      <td>AXP</td>\n",
       "    </tr>\n",
       "    <tr>\n",
       "      <th>1</th>\n",
       "      <td>0000007789</td>\n",
       "      <td>6022</td>\n",
       "      <td>STATE COMMERCIAL BANKS</td>\n",
       "      <td>ASSOCIATED BANC-CORP</td>\n",
       "      <td>ASB</td>\n",
       "    </tr>\n",
       "    <tr>\n",
       "      <th>2</th>\n",
       "      <td>0000016614</td>\n",
       "      <td>6036</td>\n",
       "      <td>SAVINGS INSTITUTIONS, NOT FEDERALLY CHARTERED</td>\n",
       "      <td>CAMCO FINANCIAL CORP</td>\n",
       "      <td>CAFI</td>\n",
       "    </tr>\n",
       "    <tr>\n",
       "      <th>3</th>\n",
       "      <td>0000018349</td>\n",
       "      <td>6021</td>\n",
       "      <td>NATIONAL COMMERCIAL BANKS</td>\n",
       "      <td>SYNOVUS FINANCIAL CORP</td>\n",
       "      <td>SNV</td>\n",
       "    </tr>\n",
       "    <tr>\n",
       "      <th>4</th>\n",
       "      <td>0000019612</td>\n",
       "      <td>6022</td>\n",
       "      <td>STATE COMMERCIAL BANKS</td>\n",
       "      <td>CHEMICAL FINANCIAL CORP</td>\n",
       "      <td>CHFC</td>\n",
       "    </tr>\n",
       "  </tbody>\n",
       "</table>\n",
       "</div>"
      ],
      "text/plain": [
       "          cik   sic                                sic_description  \\\n",
       "0  0000004962  6199                               FINANCE SERVICES   \n",
       "1  0000007789  6022                         STATE COMMERCIAL BANKS   \n",
       "2  0000016614  6036  SAVINGS INSTITUTIONS, NOT FEDERALLY CHARTERED   \n",
       "3  0000018349  6021                      NATIONAL COMMERCIAL BANKS   \n",
       "4  0000019612  6022                         STATE COMMERCIAL BANKS   \n",
       "\n",
       "              company_name ticker  \n",
       "0      AMERICAN EXPRESS CO    AXP  \n",
       "1     ASSOCIATED BANC-CORP    ASB  \n",
       "2     CAMCO FINANCIAL CORP   CAFI  \n",
       "3   SYNOVUS FINANCIAL CORP    SNV  \n",
       "4  CHEMICAL FINANCIAL CORP   CHFC  "
      ]
     },
     "execution_count": 9,
     "metadata": {},
     "output_type": "execute_result"
    }
   ],
   "source": [
    "cik_df.head()"
   ]
  },
  {
   "cell_type": "code",
   "execution_count": 10,
   "metadata": {},
   "outputs": [],
   "source": [
    "cik_df.to_csv(\"../src/resources/cik.csv\")"
   ]
  },
  {
   "cell_type": "code",
   "execution_count": 6,
   "metadata": {},
   "outputs": [
    {
     "data": {
      "text/plain": [
       "'C:\\\\Users\\\\swido\\\\Documents\\\\dev\\\\edgar_prelim\\\\notebooks'"
      ]
     },
     "execution_count": 6,
     "metadata": {},
     "output_type": "execute_result"
    }
   ],
   "source": [
    "%pwd"
   ]
  },
  {
   "cell_type": "code",
   "execution_count": null,
   "metadata": {},
   "outputs": [],
   "source": []
  }
 ],
 "metadata": {
  "kernelspec": {
   "display_name": "Python 3",
   "language": "python",
   "name": "python3"
  },
  "language_info": {
   "codemirror_mode": {
    "name": "ipython",
    "version": 3
   },
   "file_extension": ".py",
   "mimetype": "text/x-python",
   "name": "python",
   "nbconvert_exporter": "python",
   "pygments_lexer": "ipython3",
   "version": "3.7.2"
  }
 },
 "nbformat": 4,
 "nbformat_minor": 2
}
