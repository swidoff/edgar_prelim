{
 "cells": [
  {
   "cell_type": "code",
   "execution_count": 1,
   "metadata": {
    "papermill": {
     "duration": 1.481534,
     "end_time": "2019-05-29T19:15:53.944992",
     "exception": false,
     "start_time": "2019-05-29T19:15:52.463458",
     "status": "completed"
    },
    "tags": []
   },
   "outputs": [],
   "source": [
    "from edgar_prelim import *\n",
    "import pandas as pd\n",
    "%load_ext autoreload\n",
    "%autoreload 2\n",
    "%matplotlib inline\n",
    "pd.set_option('display.max_rows', 500)\n",
    "pd.set_option('display.max_columns', 500)"
   ]
  },
  {
   "cell_type": "code",
   "execution_count": 2,
   "metadata": {
    "papermill": {
     "duration": 0.126424,
     "end_time": "2019-05-29T19:15:54.083005",
     "exception": false,
     "start_time": "2019-05-29T19:15:53.956581",
     "status": "completed"
    },
    "tags": [
     "parameters"
    ]
   },
   "outputs": [],
   "source": [
    "cik='0000004962'"
   ]
  },
  {
   "cell_type": "code",
   "execution_count": 3,
   "metadata": {
    "papermill": {
     "duration": 0.132361,
     "end_time": "2019-05-29T19:15:54.224969",
     "exception": false,
     "start_time": "2019-05-29T19:15:54.092608",
     "status": "completed"
    },
    "tags": [
     "injected-parameters"
    ]
   },
   "outputs": [],
   "source": [
    "# Parameters\n",
    "cik = \"0001076394\"\n"
   ]
  },
  {
   "cell_type": "markdown",
   "metadata": {
    "papermill": {
     "duration": 0.012955,
     "end_time": "2019-05-29T19:15:54.254856",
     "exception": false,
     "start_time": "2019-05-29T19:15:54.241901",
     "status": "completed"
    },
    "tags": []
   },
   "source": [
    "# Company"
   ]
  },
  {
   "cell_type": "code",
   "execution_count": 4,
   "metadata": {
    "papermill": {
     "duration": 1.35019,
     "end_time": "2019-05-29T19:15:55.613415",
     "exception": false,
     "start_time": "2019-05-29T19:15:54.263225",
     "status": "completed"
    },
    "tags": []
   },
   "outputs": [
    {
     "data": {
      "text/html": [
       "<div>\n",
       "<style scoped>\n",
       "    .dataframe tbody tr th:only-of-type {\n",
       "        vertical-align: middle;\n",
       "    }\n",
       "\n",
       "    .dataframe tbody tr th {\n",
       "        vertical-align: top;\n",
       "    }\n",
       "\n",
       "    .dataframe thead th {\n",
       "        text-align: right;\n",
       "    }\n",
       "</style>\n",
       "<table border=\"1\" class=\"dataframe\">\n",
       "  <thead>\n",
       "    <tr style=\"text-align: right;\">\n",
       "      <th></th>\n",
       "      <th></th>\n",
       "    </tr>\n",
       "  </thead>\n",
       "  <tbody>\n",
       "    <tr>\n",
       "      <th>CIK</th>\n",
       "      <td>0001076394</td>\n",
       "    </tr>\n",
       "    <tr>\n",
       "      <th>SIC</th>\n",
       "      <td>6022</td>\n",
       "    </tr>\n",
       "    <tr>\n",
       "      <th>Description</th>\n",
       "      <td>STATE COMMERCIAL BANKS</td>\n",
       "    </tr>\n",
       "    <tr>\n",
       "      <th>Name</th>\n",
       "      <td>CENTRAL BANCORP INC /MA/</td>\n",
       "    </tr>\n",
       "    <tr>\n",
       "      <th>Ticker</th>\n",
       "      <td>CEBK</td>\n",
       "    </tr>\n",
       "  </tbody>\n",
       "</table>\n",
       "</div>"
      ],
      "text/plain": [
       "                                     \n",
       "CIK                        0001076394\n",
       "SIC                              6022\n",
       "Description    STATE COMMERCIAL BANKS\n",
       "Name         CENTRAL BANCORP INC /MA/\n",
       "Ticker                           CEBK"
      ]
     },
     "execution_count": 4,
     "metadata": {},
     "output_type": "execute_result"
    }
   ],
   "source": [
    "cik_df = pd.read_sql(text(\"select cik, sic, sic_description, company_name, ticker from cik where cik = :cik\").bindparams(cik=cik), prelim_engine)\n",
    "cik_df.rename({'cik': 'CIK', 'sic': 'SIC', 'sic_description': 'Description', 'company_name': 'Name', 'ticker': 'Ticker'}, axis=1).T.rename({0: ''}, axis=1)"
   ]
  },
  {
   "cell_type": "code",
   "execution_count": 5,
   "metadata": {
    "papermill": {
     "duration": 0.369542,
     "end_time": "2019-05-29T19:15:55.997003",
     "exception": false,
     "start_time": "2019-05-29T19:15:55.627461",
     "status": "completed"
    },
    "tags": []
   },
   "outputs": [],
   "source": [
    "prelims = query_prelims(cik)"
   ]
  },
  {
   "cell_type": "markdown",
   "metadata": {
    "papermill": {
     "duration": 0.011526,
     "end_time": "2019-05-29T19:15:56.023492",
     "exception": false,
     "start_time": "2019-05-29T19:15:56.011966",
     "status": "completed"
    },
    "tags": []
   },
   "source": [
    "# Summary Statistics"
   ]
  },
  {
   "cell_type": "code",
   "execution_count": 6,
   "metadata": {
    "papermill": {
     "duration": 0.166748,
     "end_time": "2019-05-29T19:15:56.203004",
     "exception": false,
     "start_time": "2019-05-29T19:15:56.036256",
     "status": "completed"
    },
    "tags": []
   },
   "outputs": [
    {
     "data": {
      "text/html": [
       "<div>\n",
       "<style scoped>\n",
       "    .dataframe tbody tr th:only-of-type {\n",
       "        vertical-align: middle;\n",
       "    }\n",
       "\n",
       "    .dataframe tbody tr th {\n",
       "        vertical-align: top;\n",
       "    }\n",
       "\n",
       "    .dataframe thead th {\n",
       "        text-align: right;\n",
       "    }\n",
       "</style>\n",
       "<table border=\"1\" class=\"dataframe\">\n",
       "  <thead>\n",
       "    <tr style=\"text-align: right;\">\n",
       "      <th></th>\n",
       "      <th>count</th>\n",
       "      <th>mean</th>\n",
       "      <th>std</th>\n",
       "      <th>min</th>\n",
       "      <th>25%</th>\n",
       "      <th>50%</th>\n",
       "      <th>75%</th>\n",
       "      <th>max</th>\n",
       "    </tr>\n",
       "    <tr>\n",
       "      <th>item</th>\n",
       "      <th></th>\n",
       "      <th></th>\n",
       "      <th></th>\n",
       "      <th></th>\n",
       "      <th></th>\n",
       "      <th></th>\n",
       "      <th></th>\n",
       "      <th></th>\n",
       "    </tr>\n",
       "  </thead>\n",
       "  <tbody>\n",
       "    <tr>\n",
       "      <th>book value per share</th>\n",
       "      <td>10.0</td>\n",
       "      <td>21.722</td>\n",
       "      <td>5.780004e-01</td>\n",
       "      <td>20.72</td>\n",
       "      <td>2.135750e+01</td>\n",
       "      <td>21.91</td>\n",
       "      <td>2.223750e+01</td>\n",
       "      <td>22.26</td>\n",
       "    </tr>\n",
       "    <tr>\n",
       "      <th>interest income</th>\n",
       "      <td>10.0</td>\n",
       "      <td>3796096.400</td>\n",
       "      <td>1.364712e+06</td>\n",
       "      <td>3964.00</td>\n",
       "      <td>3.878750e+06</td>\n",
       "      <td>4142000.00</td>\n",
       "      <td>4.463250e+06</td>\n",
       "      <td>4635000.00</td>\n",
       "    </tr>\n",
       "    <tr>\n",
       "      <th>net income</th>\n",
       "      <td>10.0</td>\n",
       "      <td>257924.100</td>\n",
       "      <td>3.571742e+05</td>\n",
       "      <td>-482000.00</td>\n",
       "      <td>8.925000e+04</td>\n",
       "      <td>290500.00</td>\n",
       "      <td>3.907500e+05</td>\n",
       "      <td>739000.00</td>\n",
       "    </tr>\n",
       "    <tr>\n",
       "      <th>provision for loan losses</th>\n",
       "      <td>10.0</td>\n",
       "      <td>270020.000</td>\n",
       "      <td>1.273194e+05</td>\n",
       "      <td>200.00</td>\n",
       "      <td>2.625000e+05</td>\n",
       "      <td>300000.00</td>\n",
       "      <td>3.000000e+05</td>\n",
       "      <td>500000.00</td>\n",
       "    </tr>\n",
       "  </tbody>\n",
       "</table>\n",
       "</div>"
      ],
      "text/plain": [
       "                           count         mean           std        min  \\\n",
       "item                                                                     \n",
       "book value per share        10.0       21.722  5.780004e-01      20.72   \n",
       "interest income             10.0  3796096.400  1.364712e+06    3964.00   \n",
       "net income                  10.0   257924.100  3.571742e+05 -482000.00   \n",
       "provision for loan losses   10.0   270020.000  1.273194e+05     200.00   \n",
       "\n",
       "                                    25%         50%           75%         max  \n",
       "item                                                                           \n",
       "book value per share       2.135750e+01       21.91  2.223750e+01       22.26  \n",
       "interest income            3.878750e+06  4142000.00  4.463250e+06  4635000.00  \n",
       "net income                 8.925000e+04   290500.00  3.907500e+05   739000.00  \n",
       "provision for loan losses  2.625000e+05   300000.00  3.000000e+05   500000.00  "
      ]
     },
     "execution_count": 6,
     "metadata": {},
     "output_type": "execute_result"
    }
   ],
   "source": [
    "prelims.groupby('item').item_value.describe()"
   ]
  },
  {
   "cell_type": "markdown",
   "metadata": {
    "papermill": {
     "duration": 0.016994,
     "end_time": "2019-05-29T19:15:56.239947",
     "exception": false,
     "start_time": "2019-05-29T19:15:56.222953",
     "status": "completed"
    },
    "tags": []
   },
   "source": [
    "# Plots"
   ]
  },
  {
   "cell_type": "code",
   "execution_count": 7,
   "metadata": {
    "papermill": {
     "duration": 1.095877,
     "end_time": "2019-05-29T19:15:57.345639",
     "exception": false,
     "start_time": "2019-05-29T19:15:56.249762",
     "status": "completed"
    },
    "tags": []
   },
   "outputs": [
    {
     "data": {
      "image/png": "[encoded data removed]",
      "text/plain": [
       "<Figure size 1440x720 with 6 Axes>"
      ]
     },
     "metadata": {
      "needs_background": "light"
     },
     "output_type": "display_data"
    }
   ],
   "source": [
    "_ = prelims.set_index('filing_date').pivot(columns='item', values='item_value').fillna(method=\"ffill\").plot(subplots=True, layout=(2, 3), figsize=(20, 10), sharex=False)"
   ]
  },
  {
   "cell_type": "markdown",
   "metadata": {
    "papermill": {
     "duration": 0.019462,
     "end_time": "2019-05-29T19:15:57.391817",
     "exception": false,
     "start_time": "2019-05-29T19:15:57.372355",
     "status": "completed"
    },
    "tags": []
   },
   "source": [
    "# Quality"
   ]
  },
  {
   "cell_type": "code",
   "execution_count": 8,
   "metadata": {
    "papermill": {
     "duration": 0.263234,
     "end_time": "2019-05-29T19:15:57.672913",
     "exception": false,
     "start_time": "2019-05-29T19:15:57.409679",
     "status": "completed"
    },
    "tags": []
   },
   "outputs": [
    {
     "data": {
      "text/html": [
       "<div>\n",
       "<style scoped>\n",
       "    .dataframe tbody tr th:only-of-type {\n",
       "        vertical-align: middle;\n",
       "    }\n",
       "\n",
       "    .dataframe tbody tr th {\n",
       "        vertical-align: top;\n",
       "    }\n",
       "\n",
       "    .dataframe thead th {\n",
       "        text-align: right;\n",
       "    }\n",
       "</style>\n",
       "<table border=\"1\" class=\"dataframe\">\n",
       "  <thead>\n",
       "    <tr style=\"text-align: right;\">\n",
       "      <th></th>\n",
       "      <th></th>\n",
       "      <th>period</th>\n",
       "      <th>msg_type</th>\n",
       "      <th>message</th>\n",
       "    </tr>\n",
       "    <tr>\n",
       "      <th>cik</th>\n",
       "      <th>item</th>\n",
       "      <th></th>\n",
       "      <th></th>\n",
       "      <th></th>\n",
       "    </tr>\n",
       "  </thead>\n",
       "  <tbody>\n",
       "    <tr>\n",
       "      <th rowspan=\"2\" valign=\"top\">0001076394</th>\n",
       "      <th>net interest income</th>\n",
       "      <td>None</td>\n",
       "      <td>empty</td>\n",
       "      <td>No values for item</td>\n",
       "    </tr>\n",
       "    <tr>\n",
       "      <th>total revenue</th>\n",
       "      <td>None</td>\n",
       "      <td>empty</td>\n",
       "      <td>No values for item</td>\n",
       "    </tr>\n",
       "  </tbody>\n",
       "</table>\n",
       "</div>"
      ],
      "text/plain": [
       "                               period msg_type             message\n",
       "cik        item                                                   \n",
       "0001076394 net interest income   None    empty  No values for item\n",
       "           total revenue         None    empty  No values for item"
      ]
     },
     "execution_count": 8,
     "metadata": {},
     "output_type": "execute_result"
    }
   ],
   "source": [
    "validate_prelims(prelims)"
   ]
  },
  {
   "cell_type": "markdown",
   "metadata": {
    "papermill": {
     "duration": 0.014958,
     "end_time": "2019-05-29T19:15:57.704750",
     "exception": false,
     "start_time": "2019-05-29T19:15:57.689792",
     "status": "completed"
    },
    "tags": []
   },
   "source": [
    "# Data"
   ]
  },
  {
   "cell_type": "code",
   "execution_count": 9,
   "metadata": {
    "papermill": {
     "duration": 0.178978,
     "end_time": "2019-05-29T19:15:57.905305",
     "exception": false,
     "start_time": "2019-05-29T19:15:57.726327",
     "status": "completed"
    },
    "tags": []
   },
   "outputs": [
    {
     "data": {
      "text/html": [
       "<style  type=\"text/css\" >\n",
       "</style><table id=\"T_3029dfca_8246_11e9_9f48_34e12d8376c5\" ><thead>    <tr>        <th class=\"blank\" ></th>        <th class=\"blank level0\" ></th>        <th class=\"col_heading level0 col0\" >fiscal_period</th>        <th class=\"col_heading level0 col1\" >item_value</th>        <th class=\"col_heading level0 col2\" >src_table</th>        <th class=\"col_heading level0 col3\" >src_row</th>        <th class=\"col_heading level0 col4\" >src_column</th>        <th class=\"col_heading level0 col5\" >src_value</th>        <th class=\"col_heading level0 col6\" >src_units</th>    </tr>    <tr>        <th class=\"index_name level0\" >filing_date</th>        <th class=\"index_name level1\" >item</th>        <th class=\"blank\" ></th>        <th class=\"blank\" ></th>        <th class=\"blank\" ></th>        <th class=\"blank\" ></th>        <th class=\"blank\" ></th>        <th class=\"blank\" ></th>        <th class=\"blank\" ></th>    </tr></thead><tbody>\n",
       "                <tr>\n",
       "                        <th id=\"T_3029dfca_8246_11e9_9f48_34e12d8376c5level0_row0\" class=\"row_heading level0 row0\" rowspan=4>2010-05-11</th>\n",
       "                        <th id=\"T_3029dfca_8246_11e9_9f48_34e12d8376c5level1_row0\" class=\"row_heading level1 row0\" >book value per share</th>\n",
       "                        <td id=\"T_3029dfca_8246_11e9_9f48_34e12d8376c5row0_col0\" class=\"data row0 col0\" ><a href=\"https://www.sec.gov/Archives/edgar/data/1076394/000090965410000237/0000909654-10-000237-index.htm\">2010Q1</a></td>\n",
       "                        <td id=\"T_3029dfca_8246_11e9_9f48_34e12d8376c5row0_col1\" class=\"data row0 col1\" >21.31</td>\n",
       "                        <td id=\"T_3029dfca_8246_11e9_9f48_34e12d8376c5row0_col2\" class=\"data row0 col2\" >Consolidated Balance Sheet Data</td>\n",
       "                        <td id=\"T_3029dfca_8246_11e9_9f48_34e12d8376c5row0_col3\" class=\"data row0 col3\" >Book value per common share</td>\n",
       "                        <td id=\"T_3029dfca_8246_11e9_9f48_34e12d8376c5row0_col4\" class=\"data row0 col4\" >March 31, 2010</td>\n",
       "                        <td id=\"T_3029dfca_8246_11e9_9f48_34e12d8376c5row0_col5\" class=\"data row0 col5\" >21.31</td>\n",
       "                        <td id=\"T_3029dfca_8246_11e9_9f48_34e12d8376c5row0_col6\" class=\"data row0 col6\" >(In Thousands, Except Per Share Data)</td>\n",
       "            </tr>\n",
       "            <tr>\n",
       "                                <th id=\"T_3029dfca_8246_11e9_9f48_34e12d8376c5level1_row1\" class=\"row_heading level1 row1\" >interest income</th>\n",
       "                        <td id=\"T_3029dfca_8246_11e9_9f48_34e12d8376c5row1_col0\" class=\"data row1 col0\" ><a href=\"https://www.sec.gov/Archives/edgar/data/1076394/000090965410000237/0000909654-10-000237-index.htm\">2010Q1</a></td>\n",
       "                        <td id=\"T_3029dfca_8246_11e9_9f48_34e12d8376c5row1_col1\" class=\"data row1 col1\" >4.602e+06</td>\n",
       "                        <td id=\"T_3029dfca_8246_11e9_9f48_34e12d8376c5row1_col2\" class=\"data row1 col2\" >Consolidated Operating Data</td>\n",
       "                        <td id=\"T_3029dfca_8246_11e9_9f48_34e12d8376c5row1_col3\" class=\"data row1 col3\" >Net interest and dividend income</td>\n",
       "                        <td id=\"T_3029dfca_8246_11e9_9f48_34e12d8376c5row1_col4\" class=\"data row1 col4\" >Three Months Ended March 31, 2010</td>\n",
       "                        <td id=\"T_3029dfca_8246_11e9_9f48_34e12d8376c5row1_col5\" class=\"data row1 col5\" >$4602</td>\n",
       "                        <td id=\"T_3029dfca_8246_11e9_9f48_34e12d8376c5row1_col6\" class=\"data row1 col6\" >(In Thousands, Except Per Share Data)</td>\n",
       "            </tr>\n",
       "            <tr>\n",
       "                                <th id=\"T_3029dfca_8246_11e9_9f48_34e12d8376c5level1_row2\" class=\"row_heading level1 row2\" >net income</th>\n",
       "                        <td id=\"T_3029dfca_8246_11e9_9f48_34e12d8376c5row2_col0\" class=\"data row2 col0\" ><a href=\"https://www.sec.gov/Archives/edgar/data/1076394/000090965410000237/0000909654-10-000237-index.htm\">2010Q1</a></td>\n",
       "                        <td id=\"T_3029dfca_8246_11e9_9f48_34e12d8376c5row2_col1\" class=\"data row2 col1\" >725000</td>\n",
       "                        <td id=\"T_3029dfca_8246_11e9_9f48_34e12d8376c5row2_col2\" class=\"data row2 col2\" >Consolidated Operating Data</td>\n",
       "                        <td id=\"T_3029dfca_8246_11e9_9f48_34e12d8376c5row2_col3\" class=\"data row2 col3\" >Net income (loss)</td>\n",
       "                        <td id=\"T_3029dfca_8246_11e9_9f48_34e12d8376c5row2_col4\" class=\"data row2 col4\" >Three Months Ended March 31, 2010</td>\n",
       "                        <td id=\"T_3029dfca_8246_11e9_9f48_34e12d8376c5row2_col5\" class=\"data row2 col5\" >725</td>\n",
       "                        <td id=\"T_3029dfca_8246_11e9_9f48_34e12d8376c5row2_col6\" class=\"data row2 col6\" >(In Thousands, Except Per Share Data)</td>\n",
       "            </tr>\n",
       "            <tr>\n",
       "                                <th id=\"T_3029dfca_8246_11e9_9f48_34e12d8376c5level1_row3\" class=\"row_heading level1 row3\" >provision for loan losses</th>\n",
       "                        <td id=\"T_3029dfca_8246_11e9_9f48_34e12d8376c5row3_col0\" class=\"data row3 col0\" ><a href=\"https://www.sec.gov/Archives/edgar/data/1076394/000090965410000237/0000909654-10-000237-index.htm\">2010Q1</a></td>\n",
       "                        <td id=\"T_3029dfca_8246_11e9_9f48_34e12d8376c5row3_col1\" class=\"data row3 col1\" >250000</td>\n",
       "                        <td id=\"T_3029dfca_8246_11e9_9f48_34e12d8376c5row3_col2\" class=\"data row3 col2\" >Consolidated Operating Data</td>\n",
       "                        <td id=\"T_3029dfca_8246_11e9_9f48_34e12d8376c5row3_col3\" class=\"data row3 col3\" >Provision for loan losses</td>\n",
       "                        <td id=\"T_3029dfca_8246_11e9_9f48_34e12d8376c5row3_col4\" class=\"data row3 col4\" >Three Months Ended March 31, 2010</td>\n",
       "                        <td id=\"T_3029dfca_8246_11e9_9f48_34e12d8376c5row3_col5\" class=\"data row3 col5\" >250</td>\n",
       "                        <td id=\"T_3029dfca_8246_11e9_9f48_34e12d8376c5row3_col6\" class=\"data row3 col6\" >(In Thousands, Except Per Share Data)</td>\n",
       "            </tr>\n",
       "            <tr>\n",
       "                        <th id=\"T_3029dfca_8246_11e9_9f48_34e12d8376c5level0_row4\" class=\"row_heading level0 row4\" rowspan=4>2010-07-27</th>\n",
       "                        <th id=\"T_3029dfca_8246_11e9_9f48_34e12d8376c5level1_row4\" class=\"row_heading level1 row4\" >book value per share</th>\n",
       "                        <td id=\"T_3029dfca_8246_11e9_9f48_34e12d8376c5row4_col0\" class=\"data row4 col0\" ><a href=\"https://www.sec.gov/Archives/edgar/data/1076394/000090965410000367/0000909654-10-000367-index.htm\">2010Q2</a></td>\n",
       "                        <td id=\"T_3029dfca_8246_11e9_9f48_34e12d8376c5row4_col1\" class=\"data row4 col1\" >21.5</td>\n",
       "                        <td id=\"T_3029dfca_8246_11e9_9f48_34e12d8376c5row4_col2\" class=\"data row4 col2\" >Consolidated Operating Data</td>\n",
       "                        <td id=\"T_3029dfca_8246_11e9_9f48_34e12d8376c5row4_col3\" class=\"data row4 col3\" >Book value per common share</td>\n",
       "                        <td id=\"T_3029dfca_8246_11e9_9f48_34e12d8376c5row4_col4\" class=\"data row4 col4\" >June 30 2010</td>\n",
       "                        <td id=\"T_3029dfca_8246_11e9_9f48_34e12d8376c5row4_col5\" class=\"data row4 col5\" >21.50</td>\n",
       "                        <td id=\"T_3029dfca_8246_11e9_9f48_34e12d8376c5row4_col6\" class=\"data row4 col6\" >(In Thousands, Except Per Share Data)</td>\n",
       "            </tr>\n",
       "            <tr>\n",
       "                                <th id=\"T_3029dfca_8246_11e9_9f48_34e12d8376c5level1_row5\" class=\"row_heading level1 row5\" >interest income</th>\n",
       "                        <td id=\"T_3029dfca_8246_11e9_9f48_34e12d8376c5row5_col0\" class=\"data row5 col0\" ><a href=\"https://www.sec.gov/Archives/edgar/data/1076394/000090965410000367/0000909654-10-000367-index.htm\">2010Q2</a></td>\n",
       "                        <td id=\"T_3029dfca_8246_11e9_9f48_34e12d8376c5row5_col1\" class=\"data row5 col1\" >4.635e+06</td>\n",
       "                        <td id=\"T_3029dfca_8246_11e9_9f48_34e12d8376c5row5_col2\" class=\"data row5 col2\" >Consolidated Operating Data</td>\n",
       "                        <td id=\"T_3029dfca_8246_11e9_9f48_34e12d8376c5row5_col3\" class=\"data row5 col3\" >Net interest and dividend income</td>\n",
       "                        <td id=\"T_3029dfca_8246_11e9_9f48_34e12d8376c5row5_col4\" class=\"data row5 col4\" >Quarter Ended June 30, 2010</td>\n",
       "                        <td id=\"T_3029dfca_8246_11e9_9f48_34e12d8376c5row5_col5\" class=\"data row5 col5\" >$4635</td>\n",
       "                        <td id=\"T_3029dfca_8246_11e9_9f48_34e12d8376c5row5_col6\" class=\"data row5 col6\" >(In Thousands, Except Per Share Data)</td>\n",
       "            </tr>\n",
       "            <tr>\n",
       "                                <th id=\"T_3029dfca_8246_11e9_9f48_34e12d8376c5level1_row6\" class=\"row_heading level1 row6\" >net income</th>\n",
       "                        <td id=\"T_3029dfca_8246_11e9_9f48_34e12d8376c5row6_col0\" class=\"data row6 col0\" ><a href=\"https://www.sec.gov/Archives/edgar/data/1076394/000090965410000367/0000909654-10-000367-index.htm\">2010Q2</a></td>\n",
       "                        <td id=\"T_3029dfca_8246_11e9_9f48_34e12d8376c5row6_col1\" class=\"data row6 col1\" >739000</td>\n",
       "                        <td id=\"T_3029dfca_8246_11e9_9f48_34e12d8376c5row6_col2\" class=\"data row6 col2\" >Consolidated Operating Data</td>\n",
       "                        <td id=\"T_3029dfca_8246_11e9_9f48_34e12d8376c5row6_col3\" class=\"data row6 col3\" >Net income</td>\n",
       "                        <td id=\"T_3029dfca_8246_11e9_9f48_34e12d8376c5row6_col4\" class=\"data row6 col4\" >Quarter Ended June 30, 2010</td>\n",
       "                        <td id=\"T_3029dfca_8246_11e9_9f48_34e12d8376c5row6_col5\" class=\"data row6 col5\" >$739</td>\n",
       "                        <td id=\"T_3029dfca_8246_11e9_9f48_34e12d8376c5row6_col6\" class=\"data row6 col6\" >(In Thousands, Except Per Share Data)</td>\n",
       "            </tr>\n",
       "            <tr>\n",
       "                                <th id=\"T_3029dfca_8246_11e9_9f48_34e12d8376c5level1_row7\" class=\"row_heading level1 row7\" >provision for loan losses</th>\n",
       "                        <td id=\"T_3029dfca_8246_11e9_9f48_34e12d8376c5row7_col0\" class=\"data row7 col0\" ><a href=\"https://www.sec.gov/Archives/edgar/data/1076394/000090965410000367/0000909654-10-000367-index.htm\">2010Q2</a></td>\n",
       "                        <td id=\"T_3029dfca_8246_11e9_9f48_34e12d8376c5row7_col1\" class=\"data row7 col1\" >300000</td>\n",
       "                        <td id=\"T_3029dfca_8246_11e9_9f48_34e12d8376c5row7_col2\" class=\"data row7 col2\" >Consolidated Operating Data</td>\n",
       "                        <td id=\"T_3029dfca_8246_11e9_9f48_34e12d8376c5row7_col3\" class=\"data row7 col3\" >Provision for loan losses</td>\n",
       "                        <td id=\"T_3029dfca_8246_11e9_9f48_34e12d8376c5row7_col4\" class=\"data row7 col4\" >Quarter Ended June 30, 2010</td>\n",
       "                        <td id=\"T_3029dfca_8246_11e9_9f48_34e12d8376c5row7_col5\" class=\"data row7 col5\" >300</td>\n",
       "                        <td id=\"T_3029dfca_8246_11e9_9f48_34e12d8376c5row7_col6\" class=\"data row7 col6\" >(In Thousands, Except Per Share Data)</td>\n",
       "            </tr>\n",
       "            <tr>\n",
       "                        <th id=\"T_3029dfca_8246_11e9_9f48_34e12d8376c5level0_row8\" class=\"row_heading level0 row8\" rowspan=4>2010-11-05</th>\n",
       "                        <th id=\"T_3029dfca_8246_11e9_9f48_34e12d8376c5level1_row8\" class=\"row_heading level1 row8\" >book value per share</th>\n",
       "                        <td id=\"T_3029dfca_8246_11e9_9f48_34e12d8376c5row8_col0\" class=\"data row8 col0\" ><a href=\"https://www.sec.gov/Archives/edgar/data/1076394/000090965410000527/0000909654-10-000527-index.htm\">2010Q3</a></td>\n",
       "                        <td id=\"T_3029dfca_8246_11e9_9f48_34e12d8376c5row8_col1\" class=\"data row8 col1\" >21.93</td>\n",
       "                        <td id=\"T_3029dfca_8246_11e9_9f48_34e12d8376c5row8_col2\" class=\"data row8 col2\" >Consolidated Balance Sheet Data</td>\n",
       "                        <td id=\"T_3029dfca_8246_11e9_9f48_34e12d8376c5row8_col3\" class=\"data row8 col3\" >Book value per common share</td>\n",
       "                        <td id=\"T_3029dfca_8246_11e9_9f48_34e12d8376c5row8_col4\" class=\"data row8 col4\" >September 30, 2010</td>\n",
       "                        <td id=\"T_3029dfca_8246_11e9_9f48_34e12d8376c5row8_col5\" class=\"data row8 col5\" >21.93</td>\n",
       "                        <td id=\"T_3029dfca_8246_11e9_9f48_34e12d8376c5row8_col6\" class=\"data row8 col6\" >(In Thousands, Except Per Share Data)</td>\n",
       "            </tr>\n",
       "            <tr>\n",
       "                                <th id=\"T_3029dfca_8246_11e9_9f48_34e12d8376c5level1_row9\" class=\"row_heading level1 row9\" >interest income</th>\n",
       "                        <td id=\"T_3029dfca_8246_11e9_9f48_34e12d8376c5row9_col0\" class=\"data row9 col0\" ><a href=\"https://www.sec.gov/Archives/edgar/data/1076394/000090965410000527/0000909654-10-000527-index.htm\">2010Q3</a></td>\n",
       "                        <td id=\"T_3029dfca_8246_11e9_9f48_34e12d8376c5row9_col1\" class=\"data row9 col1\" >4.535e+06</td>\n",
       "                        <td id=\"T_3029dfca_8246_11e9_9f48_34e12d8376c5row9_col2\" class=\"data row9 col2\" >Consolidated Operating Data</td>\n",
       "                        <td id=\"T_3029dfca_8246_11e9_9f48_34e12d8376c5row9_col3\" class=\"data row9 col3\" >Net interest and dividend income</td>\n",
       "                        <td id=\"T_3029dfca_8246_11e9_9f48_34e12d8376c5row9_col4\" class=\"data row9 col4\" >Quarter Ended September 30, 2010</td>\n",
       "                        <td id=\"T_3029dfca_8246_11e9_9f48_34e12d8376c5row9_col5\" class=\"data row9 col5\" >$ 4,535</td>\n",
       "                        <td id=\"T_3029dfca_8246_11e9_9f48_34e12d8376c5row9_col6\" class=\"data row9 col6\" >(In Thousands, Except Per Share Data)</td>\n",
       "            </tr>\n",
       "            <tr>\n",
       "                                <th id=\"T_3029dfca_8246_11e9_9f48_34e12d8376c5level1_row10\" class=\"row_heading level1 row10\" >net income</th>\n",
       "                        <td id=\"T_3029dfca_8246_11e9_9f48_34e12d8376c5row10_col0\" class=\"data row10 col0\" ><a href=\"https://www.sec.gov/Archives/edgar/data/1076394/000090965410000527/0000909654-10-000527-index.htm\">2010Q3</a></td>\n",
       "                        <td id=\"T_3029dfca_8246_11e9_9f48_34e12d8376c5row10_col1\" class=\"data row10 col1\" >401000</td>\n",
       "                        <td id=\"T_3029dfca_8246_11e9_9f48_34e12d8376c5row10_col2\" class=\"data row10 col2\" >Consolidated Operating Data</td>\n",
       "                        <td id=\"T_3029dfca_8246_11e9_9f48_34e12d8376c5row10_col3\" class=\"data row10 col3\" >Net income</td>\n",
       "                        <td id=\"T_3029dfca_8246_11e9_9f48_34e12d8376c5row10_col4\" class=\"data row10 col4\" >Quarter Ended September 30, 2010</td>\n",
       "                        <td id=\"T_3029dfca_8246_11e9_9f48_34e12d8376c5row10_col5\" class=\"data row10 col5\" >$ 401</td>\n",
       "                        <td id=\"T_3029dfca_8246_11e9_9f48_34e12d8376c5row10_col6\" class=\"data row10 col6\" >(In Thousands, Except Per Share Data)</td>\n",
       "            </tr>\n",
       "            <tr>\n",
       "                                <th id=\"T_3029dfca_8246_11e9_9f48_34e12d8376c5level1_row11\" class=\"row_heading level1 row11\" >provision for loan losses</th>\n",
       "                        <td id=\"T_3029dfca_8246_11e9_9f48_34e12d8376c5row11_col0\" class=\"data row11 col0\" ><a href=\"https://www.sec.gov/Archives/edgar/data/1076394/000090965410000527/0000909654-10-000527-index.htm\">2010Q3</a></td>\n",
       "                        <td id=\"T_3029dfca_8246_11e9_9f48_34e12d8376c5row11_col1\" class=\"data row11 col1\" >300000</td>\n",
       "                        <td id=\"T_3029dfca_8246_11e9_9f48_34e12d8376c5row11_col2\" class=\"data row11 col2\" >Consolidated Operating Data</td>\n",
       "                        <td id=\"T_3029dfca_8246_11e9_9f48_34e12d8376c5row11_col3\" class=\"data row11 col3\" >Provision for loan losses</td>\n",
       "                        <td id=\"T_3029dfca_8246_11e9_9f48_34e12d8376c5row11_col4\" class=\"data row11 col4\" >Quarter Ended September 30, 2010</td>\n",
       "                        <td id=\"T_3029dfca_8246_11e9_9f48_34e12d8376c5row11_col5\" class=\"data row11 col5\" >300</td>\n",
       "                        <td id=\"T_3029dfca_8246_11e9_9f48_34e12d8376c5row11_col6\" class=\"data row11 col6\" >(In Thousands, Except Per Share Data)</td>\n",
       "            </tr>\n",
       "            <tr>\n",
       "                        <th id=\"T_3029dfca_8246_11e9_9f48_34e12d8376c5level0_row12\" class=\"row_heading level0 row12\" rowspan=4>2011-02-09</th>\n",
       "                        <th id=\"T_3029dfca_8246_11e9_9f48_34e12d8376c5level1_row12\" class=\"row_heading level1 row12\" >book value per share</th>\n",
       "                        <td id=\"T_3029dfca_8246_11e9_9f48_34e12d8376c5row12_col0\" class=\"data row12 col0\" ><a href=\"https://www.sec.gov/Archives/edgar/data/1076394/000090965411000089/0000909654-11-000089-index.htm\">2010Q4</a></td>\n",
       "                        <td id=\"T_3029dfca_8246_11e9_9f48_34e12d8376c5row12_col1\" class=\"data row12 col1\" >22.17</td>\n",
       "                        <td id=\"T_3029dfca_8246_11e9_9f48_34e12d8376c5row12_col2\" class=\"data row12 col2\" >Consolidated Operating Data</td>\n",
       "                        <td id=\"T_3029dfca_8246_11e9_9f48_34e12d8376c5row12_col3\" class=\"data row12 col3\" >Book value per common share</td>\n",
       "                        <td id=\"T_3029dfca_8246_11e9_9f48_34e12d8376c5row12_col4\" class=\"data row12 col4\" >December 31, 2010</td>\n",
       "                        <td id=\"T_3029dfca_8246_11e9_9f48_34e12d8376c5row12_col5\" class=\"data row12 col5\" >22.17</td>\n",
       "                        <td id=\"T_3029dfca_8246_11e9_9f48_34e12d8376c5row12_col6\" class=\"data row12 col6\" >(In Thousands, Except Share and Per Share Data)</td>\n",
       "            </tr>\n",
       "            <tr>\n",
       "                                <th id=\"T_3029dfca_8246_11e9_9f48_34e12d8376c5level1_row13\" class=\"row_heading level1 row13\" >interest income</th>\n",
       "                        <td id=\"T_3029dfca_8246_11e9_9f48_34e12d8376c5row13_col0\" class=\"data row13 col0\" ><a href=\"https://www.sec.gov/Archives/edgar/data/1076394/000090965411000089/0000909654-11-000089-index.htm\">2010Q4</a></td>\n",
       "                        <td id=\"T_3029dfca_8246_11e9_9f48_34e12d8376c5row13_col1\" class=\"data row13 col1\" >4.248e+06</td>\n",
       "                        <td id=\"T_3029dfca_8246_11e9_9f48_34e12d8376c5row13_col2\" class=\"data row13 col2\" >Consolidated Operating Data</td>\n",
       "                        <td id=\"T_3029dfca_8246_11e9_9f48_34e12d8376c5row13_col3\" class=\"data row13 col3\" >Net interest and dividend income</td>\n",
       "                        <td id=\"T_3029dfca_8246_11e9_9f48_34e12d8376c5row13_col4\" class=\"data row13 col4\" >Quarter Ended December 31, 2010</td>\n",
       "                        <td id=\"T_3029dfca_8246_11e9_9f48_34e12d8376c5row13_col5\" class=\"data row13 col5\" >4248</td>\n",
       "                        <td id=\"T_3029dfca_8246_11e9_9f48_34e12d8376c5row13_col6\" class=\"data row13 col6\" >(In Thousands, Except Share and Per Share Data)</td>\n",
       "            </tr>\n",
       "            <tr>\n",
       "                                <th id=\"T_3029dfca_8246_11e9_9f48_34e12d8376c5level1_row14\" class=\"row_heading level1 row14\" >net income</th>\n",
       "                        <td id=\"T_3029dfca_8246_11e9_9f48_34e12d8376c5row14_col0\" class=\"data row14 col0\" ><a href=\"https://www.sec.gov/Archives/edgar/data/1076394/000090965411000089/0000909654-11-000089-index.htm\">2010Q4</a></td>\n",
       "                        <td id=\"T_3029dfca_8246_11e9_9f48_34e12d8376c5row14_col1\" class=\"data row14 col1\" >345000</td>\n",
       "                        <td id=\"T_3029dfca_8246_11e9_9f48_34e12d8376c5row14_col2\" class=\"data row14 col2\" >Consolidated Operating Data</td>\n",
       "                        <td id=\"T_3029dfca_8246_11e9_9f48_34e12d8376c5row14_col3\" class=\"data row14 col3\" >Net income</td>\n",
       "                        <td id=\"T_3029dfca_8246_11e9_9f48_34e12d8376c5row14_col4\" class=\"data row14 col4\" >Quarter Ended December 31, 2010</td>\n",
       "                        <td id=\"T_3029dfca_8246_11e9_9f48_34e12d8376c5row14_col5\" class=\"data row14 col5\" >345</td>\n",
       "                        <td id=\"T_3029dfca_8246_11e9_9f48_34e12d8376c5row14_col6\" class=\"data row14 col6\" >(In Thousands, Except Share and Per Share Data)</td>\n",
       "            </tr>\n",
       "            <tr>\n",
       "                                <th id=\"T_3029dfca_8246_11e9_9f48_34e12d8376c5level1_row15\" class=\"row_heading level1 row15\" >provision for loan losses</th>\n",
       "                        <td id=\"T_3029dfca_8246_11e9_9f48_34e12d8376c5row15_col0\" class=\"data row15 col0\" ><a href=\"https://www.sec.gov/Archives/edgar/data/1076394/000090965411000089/0000909654-11-000089-index.htm\">2010Q4</a></td>\n",
       "                        <td id=\"T_3029dfca_8246_11e9_9f48_34e12d8376c5row15_col1\" class=\"data row15 col1\" >300000</td>\n",
       "                        <td id=\"T_3029dfca_8246_11e9_9f48_34e12d8376c5row15_col2\" class=\"data row15 col2\" >Consolidated Operating Data</td>\n",
       "                        <td id=\"T_3029dfca_8246_11e9_9f48_34e12d8376c5row15_col3\" class=\"data row15 col3\" >Provision for loan losses</td>\n",
       "                        <td id=\"T_3029dfca_8246_11e9_9f48_34e12d8376c5row15_col4\" class=\"data row15 col4\" >Quarter Ended December 31, 2010</td>\n",
       "                        <td id=\"T_3029dfca_8246_11e9_9f48_34e12d8376c5row15_col5\" class=\"data row15 col5\" >300</td>\n",
       "                        <td id=\"T_3029dfca_8246_11e9_9f48_34e12d8376c5row15_col6\" class=\"data row15 col6\" >(In Thousands, Except Share and Per Share Data)</td>\n",
       "            </tr>\n",
       "            <tr>\n",
       "                        <th id=\"T_3029dfca_8246_11e9_9f48_34e12d8376c5level0_row16\" class=\"row_heading level0 row16\" rowspan=4>2011-05-10</th>\n",
       "                        <th id=\"T_3029dfca_8246_11e9_9f48_34e12d8376c5level1_row16\" class=\"row_heading level1 row16\" >book value per share</th>\n",
       "                        <td id=\"T_3029dfca_8246_11e9_9f48_34e12d8376c5row16_col0\" class=\"data row16 col0\" ><a href=\"https://www.sec.gov/Archives/edgar/data/1076394/000090965411000231/0000909654-11-000231-index.htm\">2011Q1</a></td>\n",
       "                        <td id=\"T_3029dfca_8246_11e9_9f48_34e12d8376c5row16_col1\" class=\"data row16 col1\" >22.26</td>\n",
       "                        <td id=\"T_3029dfca_8246_11e9_9f48_34e12d8376c5row16_col2\" class=\"data row16 col2\" >Consolidated Balance Sheet Data</td>\n",
       "                        <td id=\"T_3029dfca_8246_11e9_9f48_34e12d8376c5row16_col3\" class=\"data row16 col3\" >Book value per common share</td>\n",
       "                        <td id=\"T_3029dfca_8246_11e9_9f48_34e12d8376c5row16_col4\" class=\"data row16 col4\" >March 31, 2011</td>\n",
       "                        <td id=\"T_3029dfca_8246_11e9_9f48_34e12d8376c5row16_col5\" class=\"data row16 col5\" >22.26</td>\n",
       "                        <td id=\"T_3029dfca_8246_11e9_9f48_34e12d8376c5row16_col6\" class=\"data row16 col6\" >(In Thousands, Except Per Share Data)</td>\n",
       "            </tr>\n",
       "            <tr>\n",
       "                                <th id=\"T_3029dfca_8246_11e9_9f48_34e12d8376c5level1_row17\" class=\"row_heading level1 row17\" >interest income</th>\n",
       "                        <td id=\"T_3029dfca_8246_11e9_9f48_34e12d8376c5row17_col0\" class=\"data row17 col0\" ><a href=\"https://www.sec.gov/Archives/edgar/data/1076394/000090965411000231/0000909654-11-000231-index.htm\">2011Q1</a></td>\n",
       "                        <td id=\"T_3029dfca_8246_11e9_9f48_34e12d8376c5row17_col1\" class=\"data row17 col1\" >3964</td>\n",
       "                        <td id=\"T_3029dfca_8246_11e9_9f48_34e12d8376c5row17_col2\" class=\"data row17 col2\" >Consolidated Operating Data</td>\n",
       "                        <td id=\"T_3029dfca_8246_11e9_9f48_34e12d8376c5row17_col3\" class=\"data row17 col3\" >Net interest and dividend income</td>\n",
       "                        <td id=\"T_3029dfca_8246_11e9_9f48_34e12d8376c5row17_col4\" class=\"data row17 col4\" >Three Months Ended March 31, 2011</td>\n",
       "                        <td id=\"T_3029dfca_8246_11e9_9f48_34e12d8376c5row17_col5\" class=\"data row17 col5\" >3964</td>\n",
       "                        <td id=\"T_3029dfca_8246_11e9_9f48_34e12d8376c5row17_col6\" class=\"data row17 col6\" >None</td>\n",
       "            </tr>\n",
       "            <tr>\n",
       "                                <th id=\"T_3029dfca_8246_11e9_9f48_34e12d8376c5level1_row18\" class=\"row_heading level1 row18\" >net income</th>\n",
       "                        <td id=\"T_3029dfca_8246_11e9_9f48_34e12d8376c5row18_col0\" class=\"data row18 col0\" ><a href=\"https://www.sec.gov/Archives/edgar/data/1076394/000090965411000231/0000909654-11-000231-index.htm\">2011Q1</a></td>\n",
       "                        <td id=\"T_3029dfca_8246_11e9_9f48_34e12d8376c5row18_col1\" class=\"data row18 col1\" >241</td>\n",
       "                        <td id=\"T_3029dfca_8246_11e9_9f48_34e12d8376c5row18_col2\" class=\"data row18 col2\" >Consolidated Operating Data</td>\n",
       "                        <td id=\"T_3029dfca_8246_11e9_9f48_34e12d8376c5row18_col3\" class=\"data row18 col3\" >Net income</td>\n",
       "                        <td id=\"T_3029dfca_8246_11e9_9f48_34e12d8376c5row18_col4\" class=\"data row18 col4\" >Three Months Ended March 31, 2011</td>\n",
       "                        <td id=\"T_3029dfca_8246_11e9_9f48_34e12d8376c5row18_col5\" class=\"data row18 col5\" >241</td>\n",
       "                        <td id=\"T_3029dfca_8246_11e9_9f48_34e12d8376c5row18_col6\" class=\"data row18 col6\" >None</td>\n",
       "            </tr>\n",
       "            <tr>\n",
       "                                <th id=\"T_3029dfca_8246_11e9_9f48_34e12d8376c5level1_row19\" class=\"row_heading level1 row19\" >provision for loan losses</th>\n",
       "                        <td id=\"T_3029dfca_8246_11e9_9f48_34e12d8376c5row19_col0\" class=\"data row19 col0\" ><a href=\"https://www.sec.gov/Archives/edgar/data/1076394/000090965411000231/0000909654-11-000231-index.htm\">2011Q1</a></td>\n",
       "                        <td id=\"T_3029dfca_8246_11e9_9f48_34e12d8376c5row19_col1\" class=\"data row19 col1\" >200</td>\n",
       "                        <td id=\"T_3029dfca_8246_11e9_9f48_34e12d8376c5row19_col2\" class=\"data row19 col2\" >Consolidated Operating Data</td>\n",
       "                        <td id=\"T_3029dfca_8246_11e9_9f48_34e12d8376c5row19_col3\" class=\"data row19 col3\" >Provision for loan losses</td>\n",
       "                        <td id=\"T_3029dfca_8246_11e9_9f48_34e12d8376c5row19_col4\" class=\"data row19 col4\" >Three Months Ended March 31, 2011</td>\n",
       "                        <td id=\"T_3029dfca_8246_11e9_9f48_34e12d8376c5row19_col5\" class=\"data row19 col5\" >200</td>\n",
       "                        <td id=\"T_3029dfca_8246_11e9_9f48_34e12d8376c5row19_col6\" class=\"data row19 col6\" >None</td>\n",
       "            </tr>\n",
       "            <tr>\n",
       "                        <th id=\"T_3029dfca_8246_11e9_9f48_34e12d8376c5level0_row20\" class=\"row_heading level0 row20\" rowspan=4>2011-07-29</th>\n",
       "                        <th id=\"T_3029dfca_8246_11e9_9f48_34e12d8376c5level1_row20\" class=\"row_heading level1 row20\" >book value per share</th>\n",
       "                        <td id=\"T_3029dfca_8246_11e9_9f48_34e12d8376c5row20_col0\" class=\"data row20 col0\" ><a href=\"https://www.sec.gov/Archives/edgar/data/1076394/000090965411000324/0000909654-11-000324-index.htm\">2011Q2</a></td>\n",
       "                        <td id=\"T_3029dfca_8246_11e9_9f48_34e12d8376c5row20_col1\" class=\"data row20 col1\" >22.26</td>\n",
       "                        <td id=\"T_3029dfca_8246_11e9_9f48_34e12d8376c5row20_col2\" class=\"data row20 col2\" >Consolidated Balance Sheet Data</td>\n",
       "                        <td id=\"T_3029dfca_8246_11e9_9f48_34e12d8376c5row20_col3\" class=\"data row20 col3\" >Book value per common share</td>\n",
       "                        <td id=\"T_3029dfca_8246_11e9_9f48_34e12d8376c5row20_col4\" class=\"data row20 col4\" >June 30, 2011</td>\n",
       "                        <td id=\"T_3029dfca_8246_11e9_9f48_34e12d8376c5row20_col5\" class=\"data row20 col5\" >22.26</td>\n",
       "                        <td id=\"T_3029dfca_8246_11e9_9f48_34e12d8376c5row20_col6\" class=\"data row20 col6\" >(In Thousands, Except Per Share Data)</td>\n",
       "            </tr>\n",
       "            <tr>\n",
       "                                <th id=\"T_3029dfca_8246_11e9_9f48_34e12d8376c5level1_row21\" class=\"row_heading level1 row21\" >interest income</th>\n",
       "                        <td id=\"T_3029dfca_8246_11e9_9f48_34e12d8376c5row21_col0\" class=\"data row21 col0\" ><a href=\"https://www.sec.gov/Archives/edgar/data/1076394/000090965411000324/0000909654-11-000324-index.htm\">2011Q2</a></td>\n",
       "                        <td id=\"T_3029dfca_8246_11e9_9f48_34e12d8376c5row21_col1\" class=\"data row21 col1\" >3.968e+06</td>\n",
       "                        <td id=\"T_3029dfca_8246_11e9_9f48_34e12d8376c5row21_col2\" class=\"data row21 col2\" >Consolidated Operating Data</td>\n",
       "                        <td id=\"T_3029dfca_8246_11e9_9f48_34e12d8376c5row21_col3\" class=\"data row21 col3\" >Net interest and dividend income</td>\n",
       "                        <td id=\"T_3029dfca_8246_11e9_9f48_34e12d8376c5row21_col4\" class=\"data row21 col4\" >Quarter Ended June 30, 2011</td>\n",
       "                        <td id=\"T_3029dfca_8246_11e9_9f48_34e12d8376c5row21_col5\" class=\"data row21 col5\" >3968</td>\n",
       "                        <td id=\"T_3029dfca_8246_11e9_9f48_34e12d8376c5row21_col6\" class=\"data row21 col6\" >(In Thousands, Except Per Share Data)</td>\n",
       "            </tr>\n",
       "            <tr>\n",
       "                                <th id=\"T_3029dfca_8246_11e9_9f48_34e12d8376c5level1_row22\" class=\"row_heading level1 row22\" >net income</th>\n",
       "                        <td id=\"T_3029dfca_8246_11e9_9f48_34e12d8376c5row22_col0\" class=\"data row22 col0\" ><a href=\"https://www.sec.gov/Archives/edgar/data/1076394/000090965411000324/0000909654-11-000324-index.htm\">2011Q2</a></td>\n",
       "                        <td id=\"T_3029dfca_8246_11e9_9f48_34e12d8376c5row22_col1\" class=\"data row22 col1\" >236000</td>\n",
       "                        <td id=\"T_3029dfca_8246_11e9_9f48_34e12d8376c5row22_col2\" class=\"data row22 col2\" >Consolidated Operating Data</td>\n",
       "                        <td id=\"T_3029dfca_8246_11e9_9f48_34e12d8376c5row22_col3\" class=\"data row22 col3\" >Net income</td>\n",
       "                        <td id=\"T_3029dfca_8246_11e9_9f48_34e12d8376c5row22_col4\" class=\"data row22 col4\" >Quarter Ended June 30, 2011</td>\n",
       "                        <td id=\"T_3029dfca_8246_11e9_9f48_34e12d8376c5row22_col5\" class=\"data row22 col5\" >236</td>\n",
       "                        <td id=\"T_3029dfca_8246_11e9_9f48_34e12d8376c5row22_col6\" class=\"data row22 col6\" >(In Thousands, Except Per Share Data)</td>\n",
       "            </tr>\n",
       "            <tr>\n",
       "                                <th id=\"T_3029dfca_8246_11e9_9f48_34e12d8376c5level1_row23\" class=\"row_heading level1 row23\" >provision for loan losses</th>\n",
       "                        <td id=\"T_3029dfca_8246_11e9_9f48_34e12d8376c5row23_col0\" class=\"data row23 col0\" ><a href=\"https://www.sec.gov/Archives/edgar/data/1076394/000090965411000324/0000909654-11-000324-index.htm\">2011Q2</a></td>\n",
       "                        <td id=\"T_3029dfca_8246_11e9_9f48_34e12d8376c5row23_col1\" class=\"data row23 col1\" >500000</td>\n",
       "                        <td id=\"T_3029dfca_8246_11e9_9f48_34e12d8376c5row23_col2\" class=\"data row23 col2\" >Consolidated Operating Data</td>\n",
       "                        <td id=\"T_3029dfca_8246_11e9_9f48_34e12d8376c5row23_col3\" class=\"data row23 col3\" >Provision for loan losses</td>\n",
       "                        <td id=\"T_3029dfca_8246_11e9_9f48_34e12d8376c5row23_col4\" class=\"data row23 col4\" >Quarter Ended June 30, 2011</td>\n",
       "                        <td id=\"T_3029dfca_8246_11e9_9f48_34e12d8376c5row23_col5\" class=\"data row23 col5\" >500</td>\n",
       "                        <td id=\"T_3029dfca_8246_11e9_9f48_34e12d8376c5row23_col6\" class=\"data row23 col6\" >(In Thousands, Except Per Share Data)</td>\n",
       "            </tr>\n",
       "            <tr>\n",
       "                        <th id=\"T_3029dfca_8246_11e9_9f48_34e12d8376c5level0_row24\" class=\"row_heading level0 row24\" rowspan=4>2011-10-31</th>\n",
       "                        <th id=\"T_3029dfca_8246_11e9_9f48_34e12d8376c5level1_row24\" class=\"row_heading level1 row24\" >book value per share</th>\n",
       "                        <td id=\"T_3029dfca_8246_11e9_9f48_34e12d8376c5row24_col0\" class=\"data row24 col0\" ><a href=\"https://www.sec.gov/Archives/edgar/data/1076394/000090965411000424/0000909654-11-000424-index.htm\">2011Q3</a></td>\n",
       "                        <td id=\"T_3029dfca_8246_11e9_9f48_34e12d8376c5row24_col1\" class=\"data row24 col1\" >21.89</td>\n",
       "                        <td id=\"T_3029dfca_8246_11e9_9f48_34e12d8376c5row24_col2\" class=\"data row24 col2\" >Consolidated Balance Sheet Data</td>\n",
       "                        <td id=\"T_3029dfca_8246_11e9_9f48_34e12d8376c5row24_col3\" class=\"data row24 col3\" >Book value per common share</td>\n",
       "                        <td id=\"T_3029dfca_8246_11e9_9f48_34e12d8376c5row24_col4\" class=\"data row24 col4\" >September 30, 2011</td>\n",
       "                        <td id=\"T_3029dfca_8246_11e9_9f48_34e12d8376c5row24_col5\" class=\"data row24 col5\" >21.89</td>\n",
       "                        <td id=\"T_3029dfca_8246_11e9_9f48_34e12d8376c5row24_col6\" class=\"data row24 col6\" >(In thousands, Except Per Share Data)</td>\n",
       "            </tr>\n",
       "            <tr>\n",
       "                                <th id=\"T_3029dfca_8246_11e9_9f48_34e12d8376c5level1_row25\" class=\"row_heading level1 row25\" >interest income</th>\n",
       "                        <td id=\"T_3029dfca_8246_11e9_9f48_34e12d8376c5row25_col0\" class=\"data row25 col0\" ><a href=\"https://www.sec.gov/Archives/edgar/data/1076394/000090965411000424/0000909654-11-000424-index.htm\">2011Q3</a></td>\n",
       "                        <td id=\"T_3029dfca_8246_11e9_9f48_34e12d8376c5row25_col1\" class=\"data row25 col1\" >4.192e+06</td>\n",
       "                        <td id=\"T_3029dfca_8246_11e9_9f48_34e12d8376c5row25_col2\" class=\"data row25 col2\" >Consolidated Operating Data</td>\n",
       "                        <td id=\"T_3029dfca_8246_11e9_9f48_34e12d8376c5row25_col3\" class=\"data row25 col3\" >Net interest and dividend income</td>\n",
       "                        <td id=\"T_3029dfca_8246_11e9_9f48_34e12d8376c5row25_col4\" class=\"data row25 col4\" >Three Months Ended September 30, 2011</td>\n",
       "                        <td id=\"T_3029dfca_8246_11e9_9f48_34e12d8376c5row25_col5\" class=\"data row25 col5\" >4192</td>\n",
       "                        <td id=\"T_3029dfca_8246_11e9_9f48_34e12d8376c5row25_col6\" class=\"data row25 col6\" >(In thousands, Except Share and Per Share Data)</td>\n",
       "            </tr>\n",
       "            <tr>\n",
       "                                <th id=\"T_3029dfca_8246_11e9_9f48_34e12d8376c5level1_row26\" class=\"row_heading level1 row26\" >net income</th>\n",
       "                        <td id=\"T_3029dfca_8246_11e9_9f48_34e12d8376c5row26_col0\" class=\"data row26 col0\" ><a href=\"https://www.sec.gov/Archives/edgar/data/1076394/000090965411000424/0000909654-11-000424-index.htm\">2011Q3</a></td>\n",
       "                        <td id=\"T_3029dfca_8246_11e9_9f48_34e12d8376c5row26_col1\" class=\"data row26 col1\" >204000</td>\n",
       "                        <td id=\"T_3029dfca_8246_11e9_9f48_34e12d8376c5row26_col2\" class=\"data row26 col2\" >Consolidated Operating Data</td>\n",
       "                        <td id=\"T_3029dfca_8246_11e9_9f48_34e12d8376c5row26_col3\" class=\"data row26 col3\" >Net income</td>\n",
       "                        <td id=\"T_3029dfca_8246_11e9_9f48_34e12d8376c5row26_col4\" class=\"data row26 col4\" >Three Months Ended September 30, 2011</td>\n",
       "                        <td id=\"T_3029dfca_8246_11e9_9f48_34e12d8376c5row26_col5\" class=\"data row26 col5\" >204</td>\n",
       "                        <td id=\"T_3029dfca_8246_11e9_9f48_34e12d8376c5row26_col6\" class=\"data row26 col6\" >(In thousands, Except Share and Per Share Data)</td>\n",
       "            </tr>\n",
       "            <tr>\n",
       "                                <th id=\"T_3029dfca_8246_11e9_9f48_34e12d8376c5level1_row27\" class=\"row_heading level1 row27\" >provision for loan losses</th>\n",
       "                        <td id=\"T_3029dfca_8246_11e9_9f48_34e12d8376c5row27_col0\" class=\"data row27 col0\" ><a href=\"https://www.sec.gov/Archives/edgar/data/1076394/000090965411000424/0000909654-11-000424-index.htm\">2011Q3</a></td>\n",
       "                        <td id=\"T_3029dfca_8246_11e9_9f48_34e12d8376c5row27_col1\" class=\"data row27 col1\" >300000</td>\n",
       "                        <td id=\"T_3029dfca_8246_11e9_9f48_34e12d8376c5row27_col2\" class=\"data row27 col2\" >Consolidated Operating Data</td>\n",
       "                        <td id=\"T_3029dfca_8246_11e9_9f48_34e12d8376c5row27_col3\" class=\"data row27 col3\" >Provision for loan losses</td>\n",
       "                        <td id=\"T_3029dfca_8246_11e9_9f48_34e12d8376c5row27_col4\" class=\"data row27 col4\" >Three Months Ended September 30, 2011</td>\n",
       "                        <td id=\"T_3029dfca_8246_11e9_9f48_34e12d8376c5row27_col5\" class=\"data row27 col5\" >300</td>\n",
       "                        <td id=\"T_3029dfca_8246_11e9_9f48_34e12d8376c5row27_col6\" class=\"data row27 col6\" >(In thousands, Except Share and Per Share Data)</td>\n",
       "            </tr>\n",
       "            <tr>\n",
       "                        <th id=\"T_3029dfca_8246_11e9_9f48_34e12d8376c5level0_row28\" class=\"row_heading level0 row28\" rowspan=4>2012-02-07</th>\n",
       "                        <th id=\"T_3029dfca_8246_11e9_9f48_34e12d8376c5level1_row28\" class=\"row_heading level1 row28\" >book value per share</th>\n",
       "                        <td id=\"T_3029dfca_8246_11e9_9f48_34e12d8376c5row28_col0\" class=\"data row28 col0\" ><a href=\"https://www.sec.gov/Archives/edgar/data/1076394/000090965412000063/0000909654-12-000063-index.htm\">2011Q4</a></td>\n",
       "                        <td id=\"T_3029dfca_8246_11e9_9f48_34e12d8376c5row28_col1\" class=\"data row28 col1\" >20.72</td>\n",
       "                        <td id=\"T_3029dfca_8246_11e9_9f48_34e12d8376c5row28_col2\" class=\"data row28 col2\" >Consolidated Balance Sheet Data</td>\n",
       "                        <td id=\"T_3029dfca_8246_11e9_9f48_34e12d8376c5row28_col3\" class=\"data row28 col3\" >Book value per common share</td>\n",
       "                        <td id=\"T_3029dfca_8246_11e9_9f48_34e12d8376c5row28_col4\" class=\"data row28 col4\" >December 31, 2011</td>\n",
       "                        <td id=\"T_3029dfca_8246_11e9_9f48_34e12d8376c5row28_col5\" class=\"data row28 col5\" >20.72</td>\n",
       "                        <td id=\"T_3029dfca_8246_11e9_9f48_34e12d8376c5row28_col6\" class=\"data row28 col6\" >(In Thousands, Except Per Share Data)</td>\n",
       "            </tr>\n",
       "            <tr>\n",
       "                                <th id=\"T_3029dfca_8246_11e9_9f48_34e12d8376c5level1_row29\" class=\"row_heading level1 row29\" >interest income</th>\n",
       "                        <td id=\"T_3029dfca_8246_11e9_9f48_34e12d8376c5row29_col0\" class=\"data row29 col0\" ><a href=\"https://www.sec.gov/Archives/edgar/data/1076394/000090965412000063/0000909654-12-000063-index.htm\">2011Q4</a></td>\n",
       "                        <td id=\"T_3029dfca_8246_11e9_9f48_34e12d8376c5row29_col1\" class=\"data row29 col1\" >4.092e+06</td>\n",
       "                        <td id=\"T_3029dfca_8246_11e9_9f48_34e12d8376c5row29_col2\" class=\"data row29 col2\" >Consolidated Operating Data</td>\n",
       "                        <td id=\"T_3029dfca_8246_11e9_9f48_34e12d8376c5row29_col3\" class=\"data row29 col3\" >Net interest and dividend income</td>\n",
       "                        <td id=\"T_3029dfca_8246_11e9_9f48_34e12d8376c5row29_col4\" class=\"data row29 col4\" >Three Months Ended December 31, 2011</td>\n",
       "                        <td id=\"T_3029dfca_8246_11e9_9f48_34e12d8376c5row29_col5\" class=\"data row29 col5\" >4092</td>\n",
       "                        <td id=\"T_3029dfca_8246_11e9_9f48_34e12d8376c5row29_col6\" class=\"data row29 col6\" >(In Thousands, Except Share and Per Share Data)</td>\n",
       "            </tr>\n",
       "            <tr>\n",
       "                                <th id=\"T_3029dfca_8246_11e9_9f48_34e12d8376c5level1_row30\" class=\"row_heading level1 row30\" >net income</th>\n",
       "                        <td id=\"T_3029dfca_8246_11e9_9f48_34e12d8376c5row30_col0\" class=\"data row30 col0\" ><a href=\"https://www.sec.gov/Archives/edgar/data/1076394/000090965412000063/0000909654-12-000063-index.htm\">2011Q4</a></td>\n",
       "                        <td id=\"T_3029dfca_8246_11e9_9f48_34e12d8376c5row30_col1\" class=\"data row30 col1\" >360000</td>\n",
       "                        <td id=\"T_3029dfca_8246_11e9_9f48_34e12d8376c5row30_col2\" class=\"data row30 col2\" >Consolidated Operating Data</td>\n",
       "                        <td id=\"T_3029dfca_8246_11e9_9f48_34e12d8376c5row30_col3\" class=\"data row30 col3\" >Net income</td>\n",
       "                        <td id=\"T_3029dfca_8246_11e9_9f48_34e12d8376c5row30_col4\" class=\"data row30 col4\" >Three Months Ended December 31, 2011</td>\n",
       "                        <td id=\"T_3029dfca_8246_11e9_9f48_34e12d8376c5row30_col5\" class=\"data row30 col5\" >360</td>\n",
       "                        <td id=\"T_3029dfca_8246_11e9_9f48_34e12d8376c5row30_col6\" class=\"data row30 col6\" >(In Thousands, Except Share and Per Share Data)</td>\n",
       "            </tr>\n",
       "            <tr>\n",
       "                                <th id=\"T_3029dfca_8246_11e9_9f48_34e12d8376c5level1_row31\" class=\"row_heading level1 row31\" >provision for loan losses</th>\n",
       "                        <td id=\"T_3029dfca_8246_11e9_9f48_34e12d8376c5row31_col0\" class=\"data row31 col0\" ><a href=\"https://www.sec.gov/Archives/edgar/data/1076394/000090965412000063/0000909654-12-000063-index.htm\">2011Q4</a></td>\n",
       "                        <td id=\"T_3029dfca_8246_11e9_9f48_34e12d8376c5row31_col1\" class=\"data row31 col1\" >300000</td>\n",
       "                        <td id=\"T_3029dfca_8246_11e9_9f48_34e12d8376c5row31_col2\" class=\"data row31 col2\" >Consolidated Operating Data</td>\n",
       "                        <td id=\"T_3029dfca_8246_11e9_9f48_34e12d8376c5row31_col3\" class=\"data row31 col3\" >Provision for loan losses</td>\n",
       "                        <td id=\"T_3029dfca_8246_11e9_9f48_34e12d8376c5row31_col4\" class=\"data row31 col4\" >Three Months Ended December 31, 2011</td>\n",
       "                        <td id=\"T_3029dfca_8246_11e9_9f48_34e12d8376c5row31_col5\" class=\"data row31 col5\" >300</td>\n",
       "                        <td id=\"T_3029dfca_8246_11e9_9f48_34e12d8376c5row31_col6\" class=\"data row31 col6\" >(In Thousands, Except Share and Per Share Data)</td>\n",
       "            </tr>\n",
       "            <tr>\n",
       "                        <th id=\"T_3029dfca_8246_11e9_9f48_34e12d8376c5level0_row32\" class=\"row_heading level0 row32\" rowspan=4>2012-05-14</th>\n",
       "                        <th id=\"T_3029dfca_8246_11e9_9f48_34e12d8376c5level1_row32\" class=\"row_heading level1 row32\" >book value per share</th>\n",
       "                        <td id=\"T_3029dfca_8246_11e9_9f48_34e12d8376c5row32_col0\" class=\"data row32 col0\" ><a href=\"https://www.sec.gov/Archives/edgar/data/1076394/000090965412000210/0000909654-12-000210-index.htm\">2012Q1</a></td>\n",
       "                        <td id=\"T_3029dfca_8246_11e9_9f48_34e12d8376c5row32_col1\" class=\"data row32 col1\" >20.92</td>\n",
       "                        <td id=\"T_3029dfca_8246_11e9_9f48_34e12d8376c5row32_col2\" class=\"data row32 col2\" >Consolidated Balance Sheet Data</td>\n",
       "                        <td id=\"T_3029dfca_8246_11e9_9f48_34e12d8376c5row32_col3\" class=\"data row32 col3\" >Book value per common share</td>\n",
       "                        <td id=\"T_3029dfca_8246_11e9_9f48_34e12d8376c5row32_col4\" class=\"data row32 col4\" >March 31, 2012</td>\n",
       "                        <td id=\"T_3029dfca_8246_11e9_9f48_34e12d8376c5row32_col5\" class=\"data row32 col5\" >20.92</td>\n",
       "                        <td id=\"T_3029dfca_8246_11e9_9f48_34e12d8376c5row32_col6\" class=\"data row32 col6\" >(In Thousands, Except Per Share Data)</td>\n",
       "            </tr>\n",
       "            <tr>\n",
       "                                <th id=\"T_3029dfca_8246_11e9_9f48_34e12d8376c5level1_row33\" class=\"row_heading level1 row33\" >interest income</th>\n",
       "                        <td id=\"T_3029dfca_8246_11e9_9f48_34e12d8376c5row33_col0\" class=\"data row33 col0\" ><a href=\"https://www.sec.gov/Archives/edgar/data/1076394/000090965412000210/0000909654-12-000210-index.htm\">2012Q1</a></td>\n",
       "                        <td id=\"T_3029dfca_8246_11e9_9f48_34e12d8376c5row33_col1\" class=\"data row33 col1\" >3.849e+06</td>\n",
       "                        <td id=\"T_3029dfca_8246_11e9_9f48_34e12d8376c5row33_col2\" class=\"data row33 col2\" >Consolidated Operating Data</td>\n",
       "                        <td id=\"T_3029dfca_8246_11e9_9f48_34e12d8376c5row33_col3\" class=\"data row33 col3\" >Net interest and dividend income</td>\n",
       "                        <td id=\"T_3029dfca_8246_11e9_9f48_34e12d8376c5row33_col4\" class=\"data row33 col4\" >Three Months Ended March 31, 2012</td>\n",
       "                        <td id=\"T_3029dfca_8246_11e9_9f48_34e12d8376c5row33_col5\" class=\"data row33 col5\" >$3,849</td>\n",
       "                        <td id=\"T_3029dfca_8246_11e9_9f48_34e12d8376c5row33_col6\" class=\"data row33 col6\" >(In Thousands, Except Share and Per Share Data)</td>\n",
       "            </tr>\n",
       "            <tr>\n",
       "                                <th id=\"T_3029dfca_8246_11e9_9f48_34e12d8376c5level1_row34\" class=\"row_heading level1 row34\" >net income</th>\n",
       "                        <td id=\"T_3029dfca_8246_11e9_9f48_34e12d8376c5row34_col0\" class=\"data row34 col0\" ><a href=\"https://www.sec.gov/Archives/edgar/data/1076394/000090965412000210/0000909654-12-000210-index.htm\">2012Q1</a></td>\n",
       "                        <td id=\"T_3029dfca_8246_11e9_9f48_34e12d8376c5row34_col1\" class=\"data row34 col1\" >51000</td>\n",
       "                        <td id=\"T_3029dfca_8246_11e9_9f48_34e12d8376c5row34_col2\" class=\"data row34 col2\" >Consolidated Operating Data</td>\n",
       "                        <td id=\"T_3029dfca_8246_11e9_9f48_34e12d8376c5row34_col3\" class=\"data row34 col3\" >Net income</td>\n",
       "                        <td id=\"T_3029dfca_8246_11e9_9f48_34e12d8376c5row34_col4\" class=\"data row34 col4\" >Three Months Ended March 31, 2012</td>\n",
       "                        <td id=\"T_3029dfca_8246_11e9_9f48_34e12d8376c5row34_col5\" class=\"data row34 col5\" >$51</td>\n",
       "                        <td id=\"T_3029dfca_8246_11e9_9f48_34e12d8376c5row34_col6\" class=\"data row34 col6\" >(In Thousands, Except Share and Per Share Data)</td>\n",
       "            </tr>\n",
       "            <tr>\n",
       "                                <th id=\"T_3029dfca_8246_11e9_9f48_34e12d8376c5level1_row35\" class=\"row_heading level1 row35\" >provision for loan losses</th>\n",
       "                        <td id=\"T_3029dfca_8246_11e9_9f48_34e12d8376c5row35_col0\" class=\"data row35 col0\" ><a href=\"https://www.sec.gov/Archives/edgar/data/1076394/000090965412000210/0000909654-12-000210-index.htm\">2012Q1</a></td>\n",
       "                        <td id=\"T_3029dfca_8246_11e9_9f48_34e12d8376c5row35_col1\" class=\"data row35 col1\" >300000</td>\n",
       "                        <td id=\"T_3029dfca_8246_11e9_9f48_34e12d8376c5row35_col2\" class=\"data row35 col2\" >Consolidated Operating Data</td>\n",
       "                        <td id=\"T_3029dfca_8246_11e9_9f48_34e12d8376c5row35_col3\" class=\"data row35 col3\" >Provision for loan losses</td>\n",
       "                        <td id=\"T_3029dfca_8246_11e9_9f48_34e12d8376c5row35_col4\" class=\"data row35 col4\" >Three Months Ended March 31, 2012</td>\n",
       "                        <td id=\"T_3029dfca_8246_11e9_9f48_34e12d8376c5row35_col5\" class=\"data row35 col5\" >300</td>\n",
       "                        <td id=\"T_3029dfca_8246_11e9_9f48_34e12d8376c5row35_col6\" class=\"data row35 col6\" >(In Thousands, Except Share and Per Share Data)</td>\n",
       "            </tr>\n",
       "            <tr>\n",
       "                        <th id=\"T_3029dfca_8246_11e9_9f48_34e12d8376c5level0_row36\" class=\"row_heading level0 row36\" rowspan=4>2012-08-09</th>\n",
       "                        <th id=\"T_3029dfca_8246_11e9_9f48_34e12d8376c5level1_row36\" class=\"row_heading level1 row36\" >book value per share</th>\n",
       "                        <td id=\"T_3029dfca_8246_11e9_9f48_34e12d8376c5row36_col0\" class=\"data row36 col0\" ><a href=\"https://www.sec.gov/Archives/edgar/data/1076394/000090965412000291/0000909654-12-000291-index.htm\">2012Q2</a></td>\n",
       "                        <td id=\"T_3029dfca_8246_11e9_9f48_34e12d8376c5row36_col1\" class=\"data row36 col1\" >22.26</td>\n",
       "                        <td id=\"T_3029dfca_8246_11e9_9f48_34e12d8376c5row36_col2\" class=\"data row36 col2\" >Consolidated Balance Sheet Data</td>\n",
       "                        <td id=\"T_3029dfca_8246_11e9_9f48_34e12d8376c5row36_col3\" class=\"data row36 col3\" >Book value per common share</td>\n",
       "                        <td id=\"T_3029dfca_8246_11e9_9f48_34e12d8376c5row36_col4\" class=\"data row36 col4\" >June 30, 2012</td>\n",
       "                        <td id=\"T_3029dfca_8246_11e9_9f48_34e12d8376c5row36_col5\" class=\"data row36 col5\" >22.26</td>\n",
       "                        <td id=\"T_3029dfca_8246_11e9_9f48_34e12d8376c5row36_col6\" class=\"data row36 col6\" >(In Thousands, Except Per Share Data)</td>\n",
       "            </tr>\n",
       "            <tr>\n",
       "                                <th id=\"T_3029dfca_8246_11e9_9f48_34e12d8376c5level1_row37\" class=\"row_heading level1 row37\" >interest income</th>\n",
       "                        <td id=\"T_3029dfca_8246_11e9_9f48_34e12d8376c5row37_col0\" class=\"data row37 col0\" ><a href=\"https://www.sec.gov/Archives/edgar/data/1076394/000090965412000291/0000909654-12-000291-index.htm\">2012Q2</a></td>\n",
       "                        <td id=\"T_3029dfca_8246_11e9_9f48_34e12d8376c5row37_col1\" class=\"data row37 col1\" >3.836e+06</td>\n",
       "                        <td id=\"T_3029dfca_8246_11e9_9f48_34e12d8376c5row37_col2\" class=\"data row37 col2\" >Consolidated Operating Data</td>\n",
       "                        <td id=\"T_3029dfca_8246_11e9_9f48_34e12d8376c5row37_col3\" class=\"data row37 col3\" >Net interest and dividend income</td>\n",
       "                        <td id=\"T_3029dfca_8246_11e9_9f48_34e12d8376c5row37_col4\" class=\"data row37 col4\" >Quarter Ended June 30, 2012</td>\n",
       "                        <td id=\"T_3029dfca_8246_11e9_9f48_34e12d8376c5row37_col5\" class=\"data row37 col5\" >$3,836</td>\n",
       "                        <td id=\"T_3029dfca_8246_11e9_9f48_34e12d8376c5row37_col6\" class=\"data row37 col6\" >(In Thousands, Except Per Share Data)</td>\n",
       "            </tr>\n",
       "            <tr>\n",
       "                                <th id=\"T_3029dfca_8246_11e9_9f48_34e12d8376c5level1_row38\" class=\"row_heading level1 row38\" >net income</th>\n",
       "                        <td id=\"T_3029dfca_8246_11e9_9f48_34e12d8376c5row38_col0\" class=\"data row38 col0\" ><a href=\"https://www.sec.gov/Archives/edgar/data/1076394/000090965412000291/0000909654-12-000291-index.htm\">2012Q2</a></td>\n",
       "                        <td id=\"T_3029dfca_8246_11e9_9f48_34e12d8376c5row38_col1\" class=\"data row38 col1\" >-482000</td>\n",
       "                        <td id=\"T_3029dfca_8246_11e9_9f48_34e12d8376c5row38_col2\" class=\"data row38 col2\" >Consolidated Operating Data</td>\n",
       "                        <td id=\"T_3029dfca_8246_11e9_9f48_34e12d8376c5row38_col3\" class=\"data row38 col3\" >Net (loss) income</td>\n",
       "                        <td id=\"T_3029dfca_8246_11e9_9f48_34e12d8376c5row38_col4\" class=\"data row38 col4\" >Quarter Ended June 30, 2012</td>\n",
       "                        <td id=\"T_3029dfca_8246_11e9_9f48_34e12d8376c5row38_col5\" class=\"data row38 col5\" >(482)</td>\n",
       "                        <td id=\"T_3029dfca_8246_11e9_9f48_34e12d8376c5row38_col6\" class=\"data row38 col6\" >(In Thousands, Except Per Share Data)</td>\n",
       "            </tr>\n",
       "            <tr>\n",
       "                                <th id=\"T_3029dfca_8246_11e9_9f48_34e12d8376c5level1_row39\" class=\"row_heading level1 row39\" >provision for loan losses</th>\n",
       "                        <td id=\"T_3029dfca_8246_11e9_9f48_34e12d8376c5row39_col0\" class=\"data row39 col0\" ><a href=\"https://www.sec.gov/Archives/edgar/data/1076394/000090965412000291/0000909654-12-000291-index.htm\">2012Q2</a></td>\n",
       "                        <td id=\"T_3029dfca_8246_11e9_9f48_34e12d8376c5row39_col1\" class=\"data row39 col1\" >150000</td>\n",
       "                        <td id=\"T_3029dfca_8246_11e9_9f48_34e12d8376c5row39_col2\" class=\"data row39 col2\" >Consolidated Operating Data</td>\n",
       "                        <td id=\"T_3029dfca_8246_11e9_9f48_34e12d8376c5row39_col3\" class=\"data row39 col3\" >Provision for loan losses</td>\n",
       "                        <td id=\"T_3029dfca_8246_11e9_9f48_34e12d8376c5row39_col4\" class=\"data row39 col4\" >Quarter Ended June 30, 2012</td>\n",
       "                        <td id=\"T_3029dfca_8246_11e9_9f48_34e12d8376c5row39_col5\" class=\"data row39 col5\" >150</td>\n",
       "                        <td id=\"T_3029dfca_8246_11e9_9f48_34e12d8376c5row39_col6\" class=\"data row39 col6\" >(In Thousands, Except Per Share Data)</td>\n",
       "            </tr>\n",
       "    </tbody></table>"
      ],
      "text/plain": [
       "<pandas.io.formats.style.Styler at 0x1b1bf0b15f8>"
      ]
     },
     "execution_count": 9,
     "metadata": {},
     "output_type": "execute_result"
    }
   ],
   "source": [
    "def make_clickable(val: str) -> str: \n",
    "    if isinstance(val, str):\n",
    "        name, url = val.split('#')\n",
    "        return f'<a href=\"{url}\">{name}</a>'\n",
    "    else:\n",
    "        return ''\n",
    "\n",
    "(prelims\n",
    " .assign(fiscal_period = prelims.fiscal_period.str.cat(prelims.filing_href, sep='#'), filing_date = prelims.filing_date.map(lambda d: d.strftime('%Y-%m-%d')))\n",
    " .loc[:, ['filing_date', 'fiscal_period', 'item', 'item_value', 'src_table', 'src_row', 'src_column', 'src_value', 'src_units']]\n",
    " .set_index(['filing_date', 'item'])\n",
    " .style.format({'fiscal_period': make_clickable})\n",
    ")"
   ]
  },
  {
   "cell_type": "code",
   "execution_count": 10,
   "metadata": {
    "papermill": {
     "duration": 0.15406,
     "end_time": "2019-05-29T19:15:58.076895",
     "exception": false,
     "start_time": "2019-05-29T19:15:57.922835",
     "status": "completed"
    },
    "tags": []
   },
   "outputs": [],
   "source": [
    "#discard_prelim(cik, date(2019, 12, 31))\n",
    "#force_reload_prelim(cik, date(2019, 12, 31), delete_filings=False)\n",
    "#force_reload_prelim_between(cik,  start=date(2002, 6, 1), end=date(2019, 12, 31), delete_filings=False)"
   ]
  },
  {
   "cell_type": "code",
   "execution_count": 11,
   "metadata": {
    "papermill": {
     "duration": 0.167082,
     "end_time": "2019-05-29T19:15:58.262981",
     "exception": false,
     "start_time": "2019-05-29T19:15:58.095899",
     "status": "completed"
    },
    "tags": []
   },
   "outputs": [],
   "source": [
    "#d = date(2018, 10, 29)\n",
    "#extract_prelim_statements(cik, start=d, end=d)"
   ]
  },
  {
   "cell_type": "code",
   "execution_count": 12,
   "metadata": {
    "papermill": {
     "duration": 0.14976,
     "end_time": "2019-05-29T19:15:58.432436",
     "exception": false,
     "start_time": "2019-05-29T19:15:58.282676",
     "status": "completed"
    },
    "tags": []
   },
   "outputs": [],
   "source": [
    "#d = date(2019, 4, 22)\n",
    "#filings = query_edgar_for_filings(cik, \"8-K\", start=d, end=d, require_xbrl=False)\n",
    "#report = query_edgar_for_submission_text(filings[0].href)\n",
    "#submission = load_submission(report.href)\n",
    "#tables = list(parse_tables(submission))\n",
    "#items_from_tables(tables)"
   ]
  },
  {
   "cell_type": "code",
   "execution_count": 13,
   "metadata": {
    "papermill": {
     "duration": 0.159829,
     "end_time": "2019-05-29T19:15:58.612640",
     "exception": false,
     "start_time": "2019-05-29T19:15:58.452811",
     "status": "completed"
    },
    "tags": []
   },
   "outputs": [],
   "source": [
    "#widget = query_prelims_for_override(cik, filing_date='2006-01-27', item=None)\n",
    "#widget"
   ]
  },
  {
   "cell_type": "code",
   "execution_count": 14,
   "metadata": {
    "papermill": {
     "duration": 0.160786,
     "end_time": "2019-05-29T19:15:58.792076",
     "exception": false,
     "start_time": "2019-05-29T19:15:58.631290",
     "status": "completed"
    },
    "tags": []
   },
   "outputs": [],
   "source": [
    "#widget.save()"
   ]
  }
 ],
 "metadata": {
  "celltoolbar": "Tags",
  "kernelspec": {
   "display_name": "Python 3",
   "language": "python",
   "name": "python3"
  },
  "language_info": {
   "codemirror_mode": {
    "name": "ipython",
    "version": 3
   },
   "file_extension": ".py",
   "mimetype": "text/x-python",
   "name": "python",
   "nbconvert_exporter": "python",
   "pygments_lexer": "ipython3",
   "version": "3.7.2"
  },
  "papermill": {
   "duration": 8.541397,
   "end_time": "2019-05-29T19:15:59.744208",
   "environment_variables": {},
   "exception": null,
   "input_path": "resources/edgar_prelim_quality.ipynb",
   "output_path": "../out/notebooks/0001076394.ipynb",
   "parameters": {
    "cik": "0001076394"
   },
   "start_time": "2019-05-29T19:15:51.202811",
   "version": "0.19.1"
  }
 },
 "nbformat": 4,
 "nbformat_minor": 2
}