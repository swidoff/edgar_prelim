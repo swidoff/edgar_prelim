{
 "cells": [
  {
   "cell_type": "code",
   "execution_count": 1,
   "metadata": {
    "papermill": {
     "duration": 1.448518,
     "end_time": "2019-05-29T18:59:01.363742",
     "exception": false,
     "start_time": "2019-05-29T18:58:59.915224",
     "status": "completed"
    },
    "tags": []
   },
   "outputs": [],
   "source": [
    "from edgar_prelim import *\n",
    "import pandas as pd\n",
    "%load_ext autoreload\n",
    "%autoreload 2\n",
    "%matplotlib inline\n",
    "pd.set_option('display.max_rows', 500)\n",
    "pd.set_option('display.max_columns', 500)"
   ]
  },
  {
   "cell_type": "code",
   "execution_count": 2,
   "metadata": {
    "papermill": {
     "duration": 0.139945,
     "end_time": "2019-05-29T18:59:01.513608",
     "exception": false,
     "start_time": "2019-05-29T18:59:01.373663",
     "status": "completed"
    },
    "tags": [
     "parameters"
    ]
   },
   "outputs": [],
   "source": [
    "cik='0000004962'"
   ]
  },
  {
   "cell_type": "code",
   "execution_count": 3,
   "metadata": {
    "papermill": {
     "duration": 0.134899,
     "end_time": "2019-05-29T18:59:01.663228",
     "exception": false,
     "start_time": "2019-05-29T18:59:01.528329",
     "status": "completed"
    },
    "tags": [
     "injected-parameters"
    ]
   },
   "outputs": [],
   "source": [
    "# Parameters\n",
    "cik = \"0000840889\"\n"
   ]
  },
  {
   "cell_type": "markdown",
   "metadata": {
    "papermill": {
     "duration": 0.013999,
     "end_time": "2019-05-29T18:59:01.696144",
     "exception": false,
     "start_time": "2019-05-29T18:59:01.682145",
     "status": "completed"
    },
    "tags": []
   },
   "source": [
    "# Company"
   ]
  },
  {
   "cell_type": "code",
   "execution_count": 4,
   "metadata": {
    "papermill": {
     "duration": 1.336853,
     "end_time": "2019-05-29T18:59:03.044600",
     "exception": false,
     "start_time": "2019-05-29T18:59:01.707747",
     "status": "completed"
    },
    "tags": []
   },
   "outputs": [
    {
     "data": {
      "text/html": [
       "<div>\n",
       "<style scoped>\n",
       "    .dataframe tbody tr th:only-of-type {\n",
       "        vertical-align: middle;\n",
       "    }\n",
       "\n",
       "    .dataframe tbody tr th {\n",
       "        vertical-align: top;\n",
       "    }\n",
       "\n",
       "    .dataframe thead th {\n",
       "        text-align: right;\n",
       "    }\n",
       "</style>\n",
       "<table border=\"1\" class=\"dataframe\">\n",
       "  <thead>\n",
       "    <tr style=\"text-align: right;\">\n",
       "      <th></th>\n",
       "      <th></th>\n",
       "    </tr>\n",
       "  </thead>\n",
       "  <tbody>\n",
       "    <tr>\n",
       "      <th>CIK</th>\n",
       "      <td>0000840889</td>\n",
       "    </tr>\n",
       "    <tr>\n",
       "      <th>SIC</th>\n",
       "      <td>6029</td>\n",
       "    </tr>\n",
       "    <tr>\n",
       "      <th>Description</th>\n",
       "      <td>COMMERCIAL BANKS, NEC</td>\n",
       "    </tr>\n",
       "    <tr>\n",
       "      <th>Name</th>\n",
       "      <td>DORAL FINANCIAL CORP</td>\n",
       "    </tr>\n",
       "    <tr>\n",
       "      <th>Ticker</th>\n",
       "      <td></td>\n",
       "    </tr>\n",
       "  </tbody>\n",
       "</table>\n",
       "</div>"
      ],
      "text/plain": [
       "                                  \n",
       "CIK                     0000840889\n",
       "SIC                           6029\n",
       "Description  COMMERCIAL BANKS, NEC\n",
       "Name          DORAL FINANCIAL CORP\n",
       "Ticker                            "
      ]
     },
     "execution_count": 4,
     "metadata": {},
     "output_type": "execute_result"
    }
   ],
   "source": [
    "cik_df = pd.read_sql(text(\"select cik, sic, sic_description, company_name, ticker from cik where cik = :cik\").bindparams(cik=cik), prelim_engine)\n",
    "cik_df.rename({'cik': 'CIK', 'sic': 'SIC', 'sic_description': 'Description', 'company_name': 'Name', 'ticker': 'Ticker'}, axis=1).T.rename({0: ''}, axis=1)"
   ]
  },
  {
   "cell_type": "code",
   "execution_count": 5,
   "metadata": {
    "papermill": {
     "duration": 0.302769,
     "end_time": "2019-05-29T18:59:03.364050",
     "exception": false,
     "start_time": "2019-05-29T18:59:03.061281",
     "status": "completed"
    },
    "tags": []
   },
   "outputs": [],
   "source": [
    "prelims = query_prelims(cik)"
   ]
  },
  {
   "cell_type": "markdown",
   "metadata": {
    "papermill": {
     "duration": 0.02427,
     "end_time": "2019-05-29T18:59:03.393881",
     "exception": false,
     "start_time": "2019-05-29T18:59:03.369611",
     "status": "completed"
    },
    "tags": []
   },
   "source": [
    "# Summary Statistics"
   ]
  },
  {
   "cell_type": "code",
   "execution_count": 6,
   "metadata": {
    "papermill": {
     "duration": 0.141181,
     "end_time": "2019-05-29T18:59:03.546860",
     "exception": false,
     "start_time": "2019-05-29T18:59:03.405679",
     "status": "completed"
    },
    "tags": []
   },
   "outputs": [
    {
     "data": {
      "text/html": [
       "<div>\n",
       "<style scoped>\n",
       "    .dataframe tbody tr th:only-of-type {\n",
       "        vertical-align: middle;\n",
       "    }\n",
       "\n",
       "    .dataframe tbody tr th {\n",
       "        vertical-align: top;\n",
       "    }\n",
       "\n",
       "    .dataframe thead th {\n",
       "        text-align: right;\n",
       "    }\n",
       "</style>\n",
       "<table border=\"1\" class=\"dataframe\">\n",
       "  <thead>\n",
       "    <tr style=\"text-align: right;\">\n",
       "      <th></th>\n",
       "      <th>count</th>\n",
       "      <th>mean</th>\n",
       "      <th>std</th>\n",
       "      <th>min</th>\n",
       "      <th>25%</th>\n",
       "      <th>50%</th>\n",
       "      <th>75%</th>\n",
       "      <th>max</th>\n",
       "    </tr>\n",
       "    <tr>\n",
       "      <th>item</th>\n",
       "      <th></th>\n",
       "      <th></th>\n",
       "      <th></th>\n",
       "      <th></th>\n",
       "      <th></th>\n",
       "      <th></th>\n",
       "      <th></th>\n",
       "      <th></th>\n",
       "    </tr>\n",
       "  </thead>\n",
       "  <tbody>\n",
       "    <tr>\n",
       "      <th>book value per share</th>\n",
       "      <td>3.0</td>\n",
       "      <td>3.856667e+00</td>\n",
       "      <td>1.436431e-01</td>\n",
       "      <td>3.75</td>\n",
       "      <td>3.775000e+00</td>\n",
       "      <td>3.8</td>\n",
       "      <td>3.910000e+00</td>\n",
       "      <td>4.020000e+00</td>\n",
       "    </tr>\n",
       "    <tr>\n",
       "      <th>interest income</th>\n",
       "      <td>5.0</td>\n",
       "      <td>1.155550e+08</td>\n",
       "      <td>3.490965e+07</td>\n",
       "      <td>89738000.00</td>\n",
       "      <td>9.010900e+07</td>\n",
       "      <td>91117000.0</td>\n",
       "      <td>1.463990e+08</td>\n",
       "      <td>1.604120e+08</td>\n",
       "    </tr>\n",
       "    <tr>\n",
       "      <th>net income</th>\n",
       "      <td>6.0</td>\n",
       "      <td>4.285938e+07</td>\n",
       "      <td>7.382335e+07</td>\n",
       "      <td>-30155000.00</td>\n",
       "      <td>1.140475e+06</td>\n",
       "      <td>8070500.0</td>\n",
       "      <td>9.338700e+07</td>\n",
       "      <td>1.505140e+08</td>\n",
       "    </tr>\n",
       "    <tr>\n",
       "      <th>net interest income</th>\n",
       "      <td>7.0</td>\n",
       "      <td>4.702526e+07</td>\n",
       "      <td>2.338723e+07</td>\n",
       "      <td>56800.00</td>\n",
       "      <td>4.565650e+07</td>\n",
       "      <td>48247000.0</td>\n",
       "      <td>5.960750e+07</td>\n",
       "      <td>7.034500e+07</td>\n",
       "    </tr>\n",
       "    <tr>\n",
       "      <th>provision for loan losses</th>\n",
       "      <td>6.0</td>\n",
       "      <td>1.104838e+07</td>\n",
       "      <td>1.602021e+07</td>\n",
       "      <td>21300.00</td>\n",
       "      <td>4.960000e+05</td>\n",
       "      <td>5461500.0</td>\n",
       "      <td>1.247075e+07</td>\n",
       "      <td>4.169800e+07</td>\n",
       "    </tr>\n",
       "  </tbody>\n",
       "</table>\n",
       "</div>"
      ],
      "text/plain": [
       "                           count          mean           std          min  \\\n",
       "item                                                                        \n",
       "book value per share         3.0  3.856667e+00  1.436431e-01         3.75   \n",
       "interest income              5.0  1.155550e+08  3.490965e+07  89738000.00   \n",
       "net income                   6.0  4.285938e+07  7.382335e+07 -30155000.00   \n",
       "net interest income          7.0  4.702526e+07  2.338723e+07     56800.00   \n",
       "provision for loan losses    6.0  1.104838e+07  1.602021e+07     21300.00   \n",
       "\n",
       "                                    25%         50%           75%  \\\n",
       "item                                                                \n",
       "book value per share       3.775000e+00         3.8  3.910000e+00   \n",
       "interest income            9.010900e+07  91117000.0  1.463990e+08   \n",
       "net income                 1.140475e+06   8070500.0  9.338700e+07   \n",
       "net interest income        4.565650e+07  48247000.0  5.960750e+07   \n",
       "provision for loan losses  4.960000e+05   5461500.0  1.247075e+07   \n",
       "\n",
       "                                    max  \n",
       "item                                     \n",
       "book value per share       4.020000e+00  \n",
       "interest income            1.604120e+08  \n",
       "net income                 1.505140e+08  \n",
       "net interest income        7.034500e+07  \n",
       "provision for loan losses  4.169800e+07  "
      ]
     },
     "execution_count": 6,
     "metadata": {},
     "output_type": "execute_result"
    }
   ],
   "source": [
    "prelims.groupby('item').item_value.describe()"
   ]
  },
  {
   "cell_type": "markdown",
   "metadata": {
    "papermill": {
     "duration": 0.017287,
     "end_time": "2019-05-29T18:59:03.573718",
     "exception": false,
     "start_time": "2019-05-29T18:59:03.556431",
     "status": "completed"
    },
    "tags": []
   },
   "source": [
    "# Plots"
   ]
  },
  {
   "cell_type": "code",
   "execution_count": 7,
   "metadata": {
    "papermill": {
     "duration": 1.005976,
     "end_time": "2019-05-29T18:59:04.593657",
     "exception": false,
     "start_time": "2019-05-29T18:59:03.587681",
     "status": "completed"
    },
    "tags": []
   },
   "outputs": [
    {
     "data": {
      "image/png": "[encoded data removed]",
      "text/plain": [
       "<Figure size 1440x720 with 6 Axes>"
      ]
     },
     "metadata": {
      "needs_background": "light"
     },
     "output_type": "display_data"
    }
   ],
   "source": [
    "_ = prelims.set_index('filing_date').pivot(columns='item', values='item_value').fillna(method=\"ffill\").plot(subplots=True, layout=(2, 3), figsize=(20, 10), sharex=False)"
   ]
  },
  {
   "cell_type": "markdown",
   "metadata": {
    "papermill": {
     "duration": 0.017578,
     "end_time": "2019-05-29T18:59:04.627255",
     "exception": false,
     "start_time": "2019-05-29T18:59:04.609677",
     "status": "completed"
    },
    "tags": []
   },
   "source": [
    "# Quality"
   ]
  },
  {
   "cell_type": "code",
   "execution_count": 8,
   "metadata": {
    "papermill": {
     "duration": 0.238079,
     "end_time": "2019-05-29T18:59:04.883342",
     "exception": false,
     "start_time": "2019-05-29T18:59:04.645263",
     "status": "completed"
    },
    "tags": []
   },
   "outputs": [
    {
     "data": {
      "text/html": [
       "<div>\n",
       "<style scoped>\n",
       "    .dataframe tbody tr th:only-of-type {\n",
       "        vertical-align: middle;\n",
       "    }\n",
       "\n",
       "    .dataframe tbody tr th {\n",
       "        vertical-align: top;\n",
       "    }\n",
       "\n",
       "    .dataframe thead th {\n",
       "        text-align: right;\n",
       "    }\n",
       "</style>\n",
       "<table border=\"1\" class=\"dataframe\">\n",
       "  <thead>\n",
       "    <tr style=\"text-align: right;\">\n",
       "      <th></th>\n",
       "      <th></th>\n",
       "      <th>period</th>\n",
       "      <th>msg_type</th>\n",
       "      <th>message</th>\n",
       "    </tr>\n",
       "    <tr>\n",
       "      <th>cik</th>\n",
       "      <th>item</th>\n",
       "      <th></th>\n",
       "      <th></th>\n",
       "      <th></th>\n",
       "    </tr>\n",
       "  </thead>\n",
       "  <tbody>\n",
       "    <tr>\n",
       "      <th rowspan=\"12\" valign=\"top\">0000840889</th>\n",
       "      <th>book value per share</th>\n",
       "      <td>2004Q3 to 2011Q1: 27 periods</td>\n",
       "      <td>missing</td>\n",
       "      <td>Missing period</td>\n",
       "    </tr>\n",
       "    <tr>\n",
       "      <th>book value per share</th>\n",
       "      <td>2012Q1 to 2012Q4: 4 periods</td>\n",
       "      <td>missing</td>\n",
       "      <td>Missing period</td>\n",
       "    </tr>\n",
       "    <tr>\n",
       "      <th>interest income</th>\n",
       "      <td>2005Q1 to 2011Q1: 25 periods</td>\n",
       "      <td>missing</td>\n",
       "      <td>Missing period</td>\n",
       "    </tr>\n",
       "    <tr>\n",
       "      <th>interest income</th>\n",
       "      <td>2012Q1 to 2012Q4: 4 periods</td>\n",
       "      <td>missing</td>\n",
       "      <td>Missing period</td>\n",
       "    </tr>\n",
       "    <tr>\n",
       "      <th>net income</th>\n",
       "      <td>2005Q1 to 2011Q1: 25 periods</td>\n",
       "      <td>missing</td>\n",
       "      <td>Missing period</td>\n",
       "    </tr>\n",
       "    <tr>\n",
       "      <th>net income</th>\n",
       "      <td>2012Q1 to 2012Q3: 3 periods</td>\n",
       "      <td>missing</td>\n",
       "      <td>Missing period</td>\n",
       "    </tr>\n",
       "    <tr>\n",
       "      <th>net interest income</th>\n",
       "      <td>2005Q1 to 2009Q3: 19 periods</td>\n",
       "      <td>missing</td>\n",
       "      <td>Missing period</td>\n",
       "    </tr>\n",
       "    <tr>\n",
       "      <th>net interest income</th>\n",
       "      <td>2010Q1 to 2011Q1: 5 periods</td>\n",
       "      <td>missing</td>\n",
       "      <td>Missing period</td>\n",
       "    </tr>\n",
       "    <tr>\n",
       "      <th>net interest income</th>\n",
       "      <td>2012Q1 to 2012Q3: 3 periods</td>\n",
       "      <td>missing</td>\n",
       "      <td>Missing period</td>\n",
       "    </tr>\n",
       "    <tr>\n",
       "      <th>provision for loan losses</th>\n",
       "      <td>2005Q1 to 2011Q1: 25 periods</td>\n",
       "      <td>missing</td>\n",
       "      <td>Missing period</td>\n",
       "    </tr>\n",
       "    <tr>\n",
       "      <th>provision for loan losses</th>\n",
       "      <td>2012Q1 to 2012Q3: 3 periods</td>\n",
       "      <td>missing</td>\n",
       "      <td>Missing period</td>\n",
       "    </tr>\n",
       "    <tr>\n",
       "      <th>total revenue</th>\n",
       "      <td>None</td>\n",
       "      <td>empty</td>\n",
       "      <td>No values for item</td>\n",
       "    </tr>\n",
       "  </tbody>\n",
       "</table>\n",
       "</div>"
      ],
      "text/plain": [
       "                                                            period msg_type  \\\n",
       "cik        item                                                               \n",
       "0000840889 book value per share       2004Q3 to 2011Q1: 27 periods  missing   \n",
       "           book value per share        2012Q1 to 2012Q4: 4 periods  missing   \n",
       "           interest income            2005Q1 to 2011Q1: 25 periods  missing   \n",
       "           interest income             2012Q1 to 2012Q4: 4 periods  missing   \n",
       "           net income                 2005Q1 to 2011Q1: 25 periods  missing   \n",
       "           net income                  2012Q1 to 2012Q3: 3 periods  missing   \n",
       "           net interest income        2005Q1 to 2009Q3: 19 periods  missing   \n",
       "           net interest income         2010Q1 to 2011Q1: 5 periods  missing   \n",
       "           net interest income         2012Q1 to 2012Q3: 3 periods  missing   \n",
       "           provision for loan losses  2005Q1 to 2011Q1: 25 periods  missing   \n",
       "           provision for loan losses   2012Q1 to 2012Q3: 3 periods  missing   \n",
       "           total revenue                                      None    empty   \n",
       "\n",
       "                                                 message  \n",
       "cik        item                                           \n",
       "0000840889 book value per share           Missing period  \n",
       "           book value per share           Missing period  \n",
       "           interest income                Missing period  \n",
       "           interest income                Missing period  \n",
       "           net income                     Missing period  \n",
       "           net income                     Missing period  \n",
       "           net interest income            Missing period  \n",
       "           net interest income            Missing period  \n",
       "           net interest income            Missing period  \n",
       "           provision for loan losses      Missing period  \n",
       "           provision for loan losses      Missing period  \n",
       "           total revenue              No values for item  "
      ]
     },
     "execution_count": 8,
     "metadata": {},
     "output_type": "execute_result"
    }
   ],
   "source": [
    "validate_prelims(prelims)"
   ]
  },
  {
   "cell_type": "markdown",
   "metadata": {
    "papermill": {
     "duration": 0.013143,
     "end_time": "2019-05-29T18:59:04.916423",
     "exception": false,
     "start_time": "2019-05-29T18:59:04.903280",
     "status": "completed"
    },
    "tags": []
   },
   "source": [
    "# Data"
   ]
  },
  {
   "cell_type": "code",
   "execution_count": 9,
   "metadata": {
    "papermill": {
     "duration": 0.206439,
     "end_time": "2019-05-29T18:59:05.146464",
     "exception": false,
     "start_time": "2019-05-29T18:59:04.940025",
     "status": "completed"
    },
    "tags": []
   },
   "outputs": [
    {
     "data": {
      "text/html": [
       "<style  type=\"text/css\" >\n",
       "</style><table id=\"T_d481205e_8243_11e9_85a7_34e12d8376c5\" ><thead>    <tr>        <th class=\"blank\" ></th>        <th class=\"blank level0\" ></th>        <th class=\"col_heading level0 col0\" >fiscal_period</th>        <th class=\"col_heading level0 col1\" >item_value</th>        <th class=\"col_heading level0 col2\" >src_table</th>        <th class=\"col_heading level0 col3\" >src_row</th>        <th class=\"col_heading level0 col4\" >src_column</th>        <th class=\"col_heading level0 col5\" >src_value</th>        <th class=\"col_heading level0 col6\" >src_units</th>    </tr>    <tr>        <th class=\"index_name level0\" >filing_date</th>        <th class=\"index_name level1\" >item</th>        <th class=\"blank\" ></th>        <th class=\"blank\" ></th>        <th class=\"blank\" ></th>        <th class=\"blank\" ></th>        <th class=\"blank\" ></th>        <th class=\"blank\" ></th>        <th class=\"blank\" ></th>    </tr></thead><tbody>\n",
       "                <tr>\n",
       "                        <th id=\"T_d481205e_8243_11e9_85a7_34e12d8376c5level0_row0\" class=\"row_heading level0 row0\" rowspan=4>2004-10-14</th>\n",
       "                        <th id=\"T_d481205e_8243_11e9_85a7_34e12d8376c5level1_row0\" class=\"row_heading level1 row0\" >interest income</th>\n",
       "                        <td id=\"T_d481205e_8243_11e9_85a7_34e12d8376c5row0_col0\" class=\"data row0 col0\" ><a href=\"https://www.sec.gov/Archives/edgar/data/840889/000095014404009725/0000950144-04-009725-index.htm\">2004Q3</a></td>\n",
       "                        <td id=\"T_d481205e_8243_11e9_85a7_34e12d8376c5row0_col1\" class=\"data row0 col1\" >1.46399e+08</td>\n",
       "                        <td id=\"T_d481205e_8243_11e9_85a7_34e12d8376c5row0_col2\" class=\"data row0 col2\" >Consolidated Statements of Operations</td>\n",
       "                        <td id=\"T_d481205e_8243_11e9_85a7_34e12d8376c5row0_col3\" class=\"data row0 col3\" >Interest income</td>\n",
       "                        <td id=\"T_d481205e_8243_11e9_85a7_34e12d8376c5row0_col4\" class=\"data row0 col4\" >Quarter Ended September 30, 2004</td>\n",
       "                        <td id=\"T_d481205e_8243_11e9_85a7_34e12d8376c5row0_col5\" class=\"data row0 col5\" >$146399</td>\n",
       "                        <td id=\"T_d481205e_8243_11e9_85a7_34e12d8376c5row0_col6\" class=\"data row0 col6\" >(Dollars in Thousands, except Per Share Data)</td>\n",
       "            </tr>\n",
       "            <tr>\n",
       "                                <th id=\"T_d481205e_8243_11e9_85a7_34e12d8376c5level1_row1\" class=\"row_heading level1 row1\" >net income</th>\n",
       "                        <td id=\"T_d481205e_8243_11e9_85a7_34e12d8376c5row1_col0\" class=\"data row1 col0\" ><a href=\"https://www.sec.gov/Archives/edgar/data/840889/000095014404009725/0000950144-04-009725-index.htm\">2004Q3</a></td>\n",
       "                        <td id=\"T_d481205e_8243_11e9_85a7_34e12d8376c5row1_col1\" class=\"data row1 col1\" >1.20628e+08</td>\n",
       "                        <td id=\"T_d481205e_8243_11e9_85a7_34e12d8376c5row1_col2\" class=\"data row1 col2\" >Consolidated Statements of Operations</td>\n",
       "                        <td id=\"T_d481205e_8243_11e9_85a7_34e12d8376c5row1_col3\" class=\"data row1 col3\" >Net Income</td>\n",
       "                        <td id=\"T_d481205e_8243_11e9_85a7_34e12d8376c5row1_col4\" class=\"data row1 col4\" >Quarter Ended September 30, 2004</td>\n",
       "                        <td id=\"T_d481205e_8243_11e9_85a7_34e12d8376c5row1_col5\" class=\"data row1 col5\" >$120628</td>\n",
       "                        <td id=\"T_d481205e_8243_11e9_85a7_34e12d8376c5row1_col6\" class=\"data row1 col6\" >(Dollars in Thousands, except Per Share Data)</td>\n",
       "            </tr>\n",
       "            <tr>\n",
       "                                <th id=\"T_d481205e_8243_11e9_85a7_34e12d8376c5level1_row2\" class=\"row_heading level1 row2\" >net interest income</th>\n",
       "                        <td id=\"T_d481205e_8243_11e9_85a7_34e12d8376c5row2_col0\" class=\"data row2 col0\" ><a href=\"https://www.sec.gov/Archives/edgar/data/840889/000095014404009725/0000950144-04-009725-index.htm\">2004Q3</a></td>\n",
       "                        <td id=\"T_d481205e_8243_11e9_85a7_34e12d8376c5row2_col1\" class=\"data row2 col1\" >6.9854e+07</td>\n",
       "                        <td id=\"T_d481205e_8243_11e9_85a7_34e12d8376c5row2_col2\" class=\"data row2 col2\" >Consolidated Statements of Operations</td>\n",
       "                        <td id=\"T_d481205e_8243_11e9_85a7_34e12d8376c5row2_col3\" class=\"data row2 col3\" >Net interest income</td>\n",
       "                        <td id=\"T_d481205e_8243_11e9_85a7_34e12d8376c5row2_col4\" class=\"data row2 col4\" >Quarter Ended September 30, 2004</td>\n",
       "                        <td id=\"T_d481205e_8243_11e9_85a7_34e12d8376c5row2_col5\" class=\"data row2 col5\" >69854</td>\n",
       "                        <td id=\"T_d481205e_8243_11e9_85a7_34e12d8376c5row2_col6\" class=\"data row2 col6\" >(Dollars in Thousands, except Per Share Data)</td>\n",
       "            </tr>\n",
       "            <tr>\n",
       "                                <th id=\"T_d481205e_8243_11e9_85a7_34e12d8376c5level1_row3\" class=\"row_heading level1 row3\" >provision for loan losses</th>\n",
       "                        <td id=\"T_d481205e_8243_11e9_85a7_34e12d8376c5row3_col0\" class=\"data row3 col0\" ><a href=\"https://www.sec.gov/Archives/edgar/data/840889/000095014404009725/0000950144-04-009725-index.htm\">2004Q3</a></td>\n",
       "                        <td id=\"T_d481205e_8243_11e9_85a7_34e12d8376c5row3_col1\" class=\"data row3 col1\" >325000</td>\n",
       "                        <td id=\"T_d481205e_8243_11e9_85a7_34e12d8376c5row3_col2\" class=\"data row3 col2\" >Consolidated Statements of Operations</td>\n",
       "                        <td id=\"T_d481205e_8243_11e9_85a7_34e12d8376c5row3_col3\" class=\"data row3 col3\" >Provision for loan losses</td>\n",
       "                        <td id=\"T_d481205e_8243_11e9_85a7_34e12d8376c5row3_col4\" class=\"data row3 col4\" >Quarter Ended September 30, 2004</td>\n",
       "                        <td id=\"T_d481205e_8243_11e9_85a7_34e12d8376c5row3_col5\" class=\"data row3 col5\" >325</td>\n",
       "                        <td id=\"T_d481205e_8243_11e9_85a7_34e12d8376c5row3_col6\" class=\"data row3 col6\" >(Dollars in Thousands, except Per Share Data)</td>\n",
       "            </tr>\n",
       "            <tr>\n",
       "                        <th id=\"T_d481205e_8243_11e9_85a7_34e12d8376c5level0_row4\" class=\"row_heading level0 row4\" rowspan=4>2005-01-19</th>\n",
       "                        <th id=\"T_d481205e_8243_11e9_85a7_34e12d8376c5level1_row4\" class=\"row_heading level1 row4\" >interest income</th>\n",
       "                        <td id=\"T_d481205e_8243_11e9_85a7_34e12d8376c5row4_col0\" class=\"data row4 col0\" ><a href=\"https://www.sec.gov/Archives/edgar/data/840889/000095014405000366/0000950144-05-000366-index.htm\">2004Q4</a></td>\n",
       "                        <td id=\"T_d481205e_8243_11e9_85a7_34e12d8376c5row4_col1\" class=\"data row4 col1\" >1.60412e+08</td>\n",
       "                        <td id=\"T_d481205e_8243_11e9_85a7_34e12d8376c5row4_col2\" class=\"data row4 col2\" >Consolidated Statements of Operations</td>\n",
       "                        <td id=\"T_d481205e_8243_11e9_85a7_34e12d8376c5row4_col3\" class=\"data row4 col3\" >Interest income</td>\n",
       "                        <td id=\"T_d481205e_8243_11e9_85a7_34e12d8376c5row4_col4\" class=\"data row4 col4\" >Quarter Ended December 31, 2004</td>\n",
       "                        <td id=\"T_d481205e_8243_11e9_85a7_34e12d8376c5row4_col5\" class=\"data row4 col5\" >$160412</td>\n",
       "                        <td id=\"T_d481205e_8243_11e9_85a7_34e12d8376c5row4_col6\" class=\"data row4 col6\" >(Dollars in Thousands, except Per Share Data)</td>\n",
       "            </tr>\n",
       "            <tr>\n",
       "                                <th id=\"T_d481205e_8243_11e9_85a7_34e12d8376c5level1_row5\" class=\"row_heading level1 row5\" >net income</th>\n",
       "                        <td id=\"T_d481205e_8243_11e9_85a7_34e12d8376c5row5_col0\" class=\"data row5 col0\" ><a href=\"https://www.sec.gov/Archives/edgar/data/840889/000095014405000366/0000950144-05-000366-index.htm\">2004Q4</a></td>\n",
       "                        <td id=\"T_d481205e_8243_11e9_85a7_34e12d8376c5row5_col1\" class=\"data row5 col1\" >1.50514e+08</td>\n",
       "                        <td id=\"T_d481205e_8243_11e9_85a7_34e12d8376c5row5_col2\" class=\"data row5 col2\" >Consolidated Statements of Operations</td>\n",
       "                        <td id=\"T_d481205e_8243_11e9_85a7_34e12d8376c5row5_col3\" class=\"data row5 col3\" >Net Income</td>\n",
       "                        <td id=\"T_d481205e_8243_11e9_85a7_34e12d8376c5row5_col4\" class=\"data row5 col4\" >Quarter Ended December 31, 2004</td>\n",
       "                        <td id=\"T_d481205e_8243_11e9_85a7_34e12d8376c5row5_col5\" class=\"data row5 col5\" >$150514</td>\n",
       "                        <td id=\"T_d481205e_8243_11e9_85a7_34e12d8376c5row5_col6\" class=\"data row5 col6\" >(Dollars in Thousands, except Per Share Data)</td>\n",
       "            </tr>\n",
       "            <tr>\n",
       "                                <th id=\"T_d481205e_8243_11e9_85a7_34e12d8376c5level1_row6\" class=\"row_heading level1 row6\" >net interest income</th>\n",
       "                        <td id=\"T_d481205e_8243_11e9_85a7_34e12d8376c5row6_col0\" class=\"data row6 col0\" ><a href=\"https://www.sec.gov/Archives/edgar/data/840889/000095014405000366/0000950144-05-000366-index.htm\">2004Q4</a></td>\n",
       "                        <td id=\"T_d481205e_8243_11e9_85a7_34e12d8376c5row6_col1\" class=\"data row6 col1\" >7.0345e+07</td>\n",
       "                        <td id=\"T_d481205e_8243_11e9_85a7_34e12d8376c5row6_col2\" class=\"data row6 col2\" >Consolidated Statements of Operations</td>\n",
       "                        <td id=\"T_d481205e_8243_11e9_85a7_34e12d8376c5row6_col3\" class=\"data row6 col3\" >Net interest income</td>\n",
       "                        <td id=\"T_d481205e_8243_11e9_85a7_34e12d8376c5row6_col4\" class=\"data row6 col4\" >Quarter Ended December 31, 2004</td>\n",
       "                        <td id=\"T_d481205e_8243_11e9_85a7_34e12d8376c5row6_col5\" class=\"data row6 col5\" >70345</td>\n",
       "                        <td id=\"T_d481205e_8243_11e9_85a7_34e12d8376c5row6_col6\" class=\"data row6 col6\" >(Dollars in Thousands, except Per Share Data)</td>\n",
       "            </tr>\n",
       "            <tr>\n",
       "                                <th id=\"T_d481205e_8243_11e9_85a7_34e12d8376c5level1_row7\" class=\"row_heading level1 row7\" >provision for loan losses</th>\n",
       "                        <td id=\"T_d481205e_8243_11e9_85a7_34e12d8376c5row7_col0\" class=\"data row7 col0\" ><a href=\"https://www.sec.gov/Archives/edgar/data/840889/000095014405000366/0000950144-05-000366-index.htm\">2004Q4</a></td>\n",
       "                        <td id=\"T_d481205e_8243_11e9_85a7_34e12d8376c5row7_col1\" class=\"data row7 col1\" >1.009e+06</td>\n",
       "                        <td id=\"T_d481205e_8243_11e9_85a7_34e12d8376c5row7_col2\" class=\"data row7 col2\" >Consolidated Statements of Operations</td>\n",
       "                        <td id=\"T_d481205e_8243_11e9_85a7_34e12d8376c5row7_col3\" class=\"data row7 col3\" >Provision for loan losses</td>\n",
       "                        <td id=\"T_d481205e_8243_11e9_85a7_34e12d8376c5row7_col4\" class=\"data row7 col4\" >Quarter Ended December 31, 2004</td>\n",
       "                        <td id=\"T_d481205e_8243_11e9_85a7_34e12d8376c5row7_col5\" class=\"data row7 col5\" >1009</td>\n",
       "                        <td id=\"T_d481205e_8243_11e9_85a7_34e12d8376c5row7_col6\" class=\"data row7 col6\" >(Dollars in Thousands, except Per Share Data)</td>\n",
       "            </tr>\n",
       "            <tr>\n",
       "                        <th id=\"T_d481205e_8243_11e9_85a7_34e12d8376c5level0_row8\" class=\"row_heading level0 row8\" >2010-02-03</th>\n",
       "                        <th id=\"T_d481205e_8243_11e9_85a7_34e12d8376c5level1_row8\" class=\"row_heading level1 row8\" >net interest income</th>\n",
       "                        <td id=\"T_d481205e_8243_11e9_85a7_34e12d8376c5row8_col0\" class=\"data row8 col0\" ><a href=\"https://www.sec.gov/Archives/edgar/data/840889/000095012310008270/0000950123-10-008270-index.htm\">2009Q4</a></td>\n",
       "                        <td id=\"T_d481205e_8243_11e9_85a7_34e12d8376c5row8_col1\" class=\"data row8 col1\" >4.5858e+07</td>\n",
       "                        <td id=\"T_d481205e_8243_11e9_85a7_34e12d8376c5row8_col2\" class=\"data row8 col2\" >Stockholders equity</td>\n",
       "                        <td id=\"T_d481205e_8243_11e9_85a7_34e12d8376c5row8_col3\" class=\"data row8 col3\" >Net interest income</td>\n",
       "                        <td id=\"T_d481205e_8243_11e9_85a7_34e12d8376c5row8_col4\" class=\"data row8 col4\" >December 31, 2009</td>\n",
       "                        <td id=\"T_d481205e_8243_11e9_85a7_34e12d8376c5row8_col5\" class=\"data row8 col5\" >$45858</td>\n",
       "                        <td id=\"T_d481205e_8243_11e9_85a7_34e12d8376c5row8_col6\" class=\"data row8 col6\" >(Dollars in thousands)</td>\n",
       "            </tr>\n",
       "            <tr>\n",
       "                        <th id=\"T_d481205e_8243_11e9_85a7_34e12d8376c5level0_row9\" class=\"row_heading level0 row9\" rowspan=5>2011-08-01</th>\n",
       "                        <th id=\"T_d481205e_8243_11e9_85a7_34e12d8376c5level1_row9\" class=\"row_heading level1 row9\" >book value per share</th>\n",
       "                        <td id=\"T_d481205e_8243_11e9_85a7_34e12d8376c5row9_col0\" class=\"data row9 col0\" ><a href=\"https://www.sec.gov/Archives/edgar/data/840889/000095012311070734/0000950123-11-070734-index.htm\">2011Q2</a></td>\n",
       "                        <td id=\"T_d481205e_8243_11e9_85a7_34e12d8376c5row9_col1\" class=\"data row9 col1\" >4.02</td>\n",
       "                        <td id=\"T_d481205e_8243_11e9_85a7_34e12d8376c5row9_col2\" class=\"data row9 col2\" >Operating Data:</td>\n",
       "                        <td id=\"T_d481205e_8243_11e9_85a7_34e12d8376c5row9_col3\" class=\"data row9 col3\" >Book value per common share</td>\n",
       "                        <td id=\"T_d481205e_8243_11e9_85a7_34e12d8376c5row9_col4\" class=\"data row9 col4\" >Quarters Ended June 30, 2011</td>\n",
       "                        <td id=\"T_d481205e_8243_11e9_85a7_34e12d8376c5row9_col5\" class=\"data row9 col5\" >$4.02</td>\n",
       "                        <td id=\"T_d481205e_8243_11e9_85a7_34e12d8376c5row9_col6\" class=\"data row9 col6\" >(In thousands, except for share data)</td>\n",
       "            </tr>\n",
       "            <tr>\n",
       "                                <th id=\"T_d481205e_8243_11e9_85a7_34e12d8376c5level1_row10\" class=\"row_heading level1 row10\" >interest income</th>\n",
       "                        <td id=\"T_d481205e_8243_11e9_85a7_34e12d8376c5row10_col0\" class=\"data row10 col0\" ><a href=\"https://www.sec.gov/Archives/edgar/data/840889/000095012311070734/0000950123-11-070734-index.htm\">2011Q2</a></td>\n",
       "                        <td id=\"T_d481205e_8243_11e9_85a7_34e12d8376c5row10_col1\" class=\"data row10 col1\" >9.1117e+07</td>\n",
       "                        <td id=\"T_d481205e_8243_11e9_85a7_34e12d8376c5row10_col2\" class=\"data row10 col2\" >CONSOLIDATED STATEMENTS OF OPERATIONS</td>\n",
       "                        <td id=\"T_d481205e_8243_11e9_85a7_34e12d8376c5row10_col3\" class=\"data row10 col3\" >Total interest income</td>\n",
       "                        <td id=\"T_d481205e_8243_11e9_85a7_34e12d8376c5row10_col4\" class=\"data row10 col4\" > June 30, 2011</td>\n",
       "                        <td id=\"T_d481205e_8243_11e9_85a7_34e12d8376c5row10_col5\" class=\"data row10 col5\" >91117</td>\n",
       "                        <td id=\"T_d481205e_8243_11e9_85a7_34e12d8376c5row10_col6\" class=\"data row10 col6\" >(In thousands, except for per share data)</td>\n",
       "            </tr>\n",
       "            <tr>\n",
       "                                <th id=\"T_d481205e_8243_11e9_85a7_34e12d8376c5level1_row11\" class=\"row_heading level1 row11\" >net income</th>\n",
       "                        <td id=\"T_d481205e_8243_11e9_85a7_34e12d8376c5row11_col0\" class=\"data row11 col0\" ><a href=\"https://www.sec.gov/Archives/edgar/data/840889/000095012311070734/0000950123-11-070734-index.htm\">2011Q2</a></td>\n",
       "                        <td id=\"T_d481205e_8243_11e9_85a7_34e12d8376c5row11_col1\" class=\"data row11 col1\" >4.477e+06</td>\n",
       "                        <td id=\"T_d481205e_8243_11e9_85a7_34e12d8376c5row11_col2\" class=\"data row11 col2\" >CONSOLIDATED STATEMENTS OF OPERATIONS</td>\n",
       "                        <td id=\"T_d481205e_8243_11e9_85a7_34e12d8376c5row11_col3\" class=\"data row11 col3\" >Net income (loss)</td>\n",
       "                        <td id=\"T_d481205e_8243_11e9_85a7_34e12d8376c5row11_col4\" class=\"data row11 col4\" > June 30, 2011</td>\n",
       "                        <td id=\"T_d481205e_8243_11e9_85a7_34e12d8376c5row11_col5\" class=\"data row11 col5\" >$4477</td>\n",
       "                        <td id=\"T_d481205e_8243_11e9_85a7_34e12d8376c5row11_col6\" class=\"data row11 col6\" >(In thousands, except for per share data)</td>\n",
       "            </tr>\n",
       "            <tr>\n",
       "                                <th id=\"T_d481205e_8243_11e9_85a7_34e12d8376c5level1_row12\" class=\"row_heading level1 row12\" >net interest income</th>\n",
       "                        <td id=\"T_d481205e_8243_11e9_85a7_34e12d8376c5row12_col0\" class=\"data row12 col0\" ><a href=\"https://www.sec.gov/Archives/edgar/data/840889/000095012311070734/0000950123-11-070734-index.htm\">2011Q2</a></td>\n",
       "                        <td id=\"T_d481205e_8243_11e9_85a7_34e12d8376c5row12_col1\" class=\"data row12 col1\" >4.5455e+07</td>\n",
       "                        <td id=\"T_d481205e_8243_11e9_85a7_34e12d8376c5row12_col2\" class=\"data row12 col2\" >CONSOLIDATED STATEMENTS OF OPERATIONS</td>\n",
       "                        <td id=\"T_d481205e_8243_11e9_85a7_34e12d8376c5row12_col3\" class=\"data row12 col3\" >Net interest income</td>\n",
       "                        <td id=\"T_d481205e_8243_11e9_85a7_34e12d8376c5row12_col4\" class=\"data row12 col4\" > June 30, 2011</td>\n",
       "                        <td id=\"T_d481205e_8243_11e9_85a7_34e12d8376c5row12_col5\" class=\"data row12 col5\" >45455</td>\n",
       "                        <td id=\"T_d481205e_8243_11e9_85a7_34e12d8376c5row12_col6\" class=\"data row12 col6\" >(In thousands, except for per share data)</td>\n",
       "            </tr>\n",
       "            <tr>\n",
       "                                <th id=\"T_d481205e_8243_11e9_85a7_34e12d8376c5level1_row13\" class=\"row_heading level1 row13\" >provision for loan losses</th>\n",
       "                        <td id=\"T_d481205e_8243_11e9_85a7_34e12d8376c5row13_col0\" class=\"data row13 col0\" ><a href=\"https://www.sec.gov/Archives/edgar/data/840889/000095012311070734/0000950123-11-070734-index.htm\">2011Q2</a></td>\n",
       "                        <td id=\"T_d481205e_8243_11e9_85a7_34e12d8376c5row13_col1\" class=\"data row13 col1\" >1.3323e+07</td>\n",
       "                        <td id=\"T_d481205e_8243_11e9_85a7_34e12d8376c5row13_col2\" class=\"data row13 col2\" >CONSOLIDATED STATEMENTS OF OPERATIONS</td>\n",
       "                        <td id=\"T_d481205e_8243_11e9_85a7_34e12d8376c5row13_col3\" class=\"data row13 col3\" >Provision for loan and lease losses</td>\n",
       "                        <td id=\"T_d481205e_8243_11e9_85a7_34e12d8376c5row13_col4\" class=\"data row13 col4\" > June 30, 2011</td>\n",
       "                        <td id=\"T_d481205e_8243_11e9_85a7_34e12d8376c5row13_col5\" class=\"data row13 col5\" >13323</td>\n",
       "                        <td id=\"T_d481205e_8243_11e9_85a7_34e12d8376c5row13_col6\" class=\"data row13 col6\" >(In thousands, except for per share data)</td>\n",
       "            </tr>\n",
       "            <tr>\n",
       "                        <th id=\"T_d481205e_8243_11e9_85a7_34e12d8376c5level0_row14\" class=\"row_heading level0 row14\" rowspan=5>2011-11-10</th>\n",
       "                        <th id=\"T_d481205e_8243_11e9_85a7_34e12d8376c5level1_row14\" class=\"row_heading level1 row14\" >book value per share</th>\n",
       "                        <td id=\"T_d481205e_8243_11e9_85a7_34e12d8376c5row14_col0\" class=\"data row14 col0\" ><a href=\"https://www.sec.gov/Archives/edgar/data/840889/000119312511305201/0001193125-11-305201-index.htm\">2011Q3</a></td>\n",
       "                        <td id=\"T_d481205e_8243_11e9_85a7_34e12d8376c5row14_col1\" class=\"data row14 col1\" >3.75</td>\n",
       "                        <td id=\"T_d481205e_8243_11e9_85a7_34e12d8376c5row14_col2\" class=\"data row14 col2\" >Operating Data:</td>\n",
       "                        <td id=\"T_d481205e_8243_11e9_85a7_34e12d8376c5row14_col3\" class=\"data row14 col3\" >Book value per common share</td>\n",
       "                        <td id=\"T_d481205e_8243_11e9_85a7_34e12d8376c5row14_col4\" class=\"data row14 col4\" >Quarters ended September 30, 2011</td>\n",
       "                        <td id=\"T_d481205e_8243_11e9_85a7_34e12d8376c5row14_col5\" class=\"data row14 col5\" >$3.75</td>\n",
       "                        <td id=\"T_d481205e_8243_11e9_85a7_34e12d8376c5row14_col6\" class=\"data row14 col6\" >(In thousands, except for share data)</td>\n",
       "            </tr>\n",
       "            <tr>\n",
       "                                <th id=\"T_d481205e_8243_11e9_85a7_34e12d8376c5level1_row15\" class=\"row_heading level1 row15\" >interest income</th>\n",
       "                        <td id=\"T_d481205e_8243_11e9_85a7_34e12d8376c5row15_col0\" class=\"data row15 col0\" ><a href=\"https://www.sec.gov/Archives/edgar/data/840889/000119312511305201/0001193125-11-305201-index.htm\">2011Q3</a></td>\n",
       "                        <td id=\"T_d481205e_8243_11e9_85a7_34e12d8376c5row15_col1\" class=\"data row15 col1\" >9.0109e+07</td>\n",
       "                        <td id=\"T_d481205e_8243_11e9_85a7_34e12d8376c5row15_col2\" class=\"data row15 col2\" >CONSOLIDATED STATEMENTS OF OPERATIONS</td>\n",
       "                        <td id=\"T_d481205e_8243_11e9_85a7_34e12d8376c5row15_col3\" class=\"data row15 col3\" >Total interest income</td>\n",
       "                        <td id=\"T_d481205e_8243_11e9_85a7_34e12d8376c5row15_col4\" class=\"data row15 col4\" >Quarters ended September 30, 2011</td>\n",
       "                        <td id=\"T_d481205e_8243_11e9_85a7_34e12d8376c5row15_col5\" class=\"data row15 col5\" >90109</td>\n",
       "                        <td id=\"T_d481205e_8243_11e9_85a7_34e12d8376c5row15_col6\" class=\"data row15 col6\" >(In thousands, except for per share data)</td>\n",
       "            </tr>\n",
       "            <tr>\n",
       "                                <th id=\"T_d481205e_8243_11e9_85a7_34e12d8376c5level1_row16\" class=\"row_heading level1 row16\" >net income</th>\n",
       "                        <td id=\"T_d481205e_8243_11e9_85a7_34e12d8376c5row16_col0\" class=\"data row16 col0\" ><a href=\"https://www.sec.gov/Archives/edgar/data/840889/000119312511305201/0001193125-11-305201-index.htm\">2011Q3</a></td>\n",
       "                        <td id=\"T_d481205e_8243_11e9_85a7_34e12d8376c5row16_col1\" class=\"data row16 col1\" >-3.0155e+07</td>\n",
       "                        <td id=\"T_d481205e_8243_11e9_85a7_34e12d8376c5row16_col2\" class=\"data row16 col2\" >Operating Data:</td>\n",
       "                        <td id=\"T_d481205e_8243_11e9_85a7_34e12d8376c5row16_col3\" class=\"data row16 col3\" >Net (loss) income</td>\n",
       "                        <td id=\"T_d481205e_8243_11e9_85a7_34e12d8376c5row16_col4\" class=\"data row16 col4\" >Quarters ended September 30, 2011</td>\n",
       "                        <td id=\"T_d481205e_8243_11e9_85a7_34e12d8376c5row16_col5\" class=\"data row16 col5\" >$(30,155</td>\n",
       "                        <td id=\"T_d481205e_8243_11e9_85a7_34e12d8376c5row16_col6\" class=\"data row16 col6\" >(In thousands, except for share data)</td>\n",
       "            </tr>\n",
       "            <tr>\n",
       "                                <th id=\"T_d481205e_8243_11e9_85a7_34e12d8376c5level1_row17\" class=\"row_heading level1 row17\" >net interest income</th>\n",
       "                        <td id=\"T_d481205e_8243_11e9_85a7_34e12d8376c5row17_col0\" class=\"data row17 col0\" ><a href=\"https://www.sec.gov/Archives/edgar/data/840889/000119312511305201/0001193125-11-305201-index.htm\">2011Q3</a></td>\n",
       "                        <td id=\"T_d481205e_8243_11e9_85a7_34e12d8376c5row17_col1\" class=\"data row17 col1\" >4.8247e+07</td>\n",
       "                        <td id=\"T_d481205e_8243_11e9_85a7_34e12d8376c5row17_col2\" class=\"data row17 col2\" >CONSOLIDATED STATEMENTS OF OPERATIONS</td>\n",
       "                        <td id=\"T_d481205e_8243_11e9_85a7_34e12d8376c5row17_col3\" class=\"data row17 col3\" >Net interest income</td>\n",
       "                        <td id=\"T_d481205e_8243_11e9_85a7_34e12d8376c5row17_col4\" class=\"data row17 col4\" >Quarters ended September 30, 2011</td>\n",
       "                        <td id=\"T_d481205e_8243_11e9_85a7_34e12d8376c5row17_col5\" class=\"data row17 col5\" >48247</td>\n",
       "                        <td id=\"T_d481205e_8243_11e9_85a7_34e12d8376c5row17_col6\" class=\"data row17 col6\" >(In thousands, except for per share data)</td>\n",
       "            </tr>\n",
       "            <tr>\n",
       "                                <th id=\"T_d481205e_8243_11e9_85a7_34e12d8376c5level1_row18\" class=\"row_heading level1 row18\" >provision for loan losses</th>\n",
       "                        <td id=\"T_d481205e_8243_11e9_85a7_34e12d8376c5row18_col0\" class=\"data row18 col0\" ><a href=\"https://www.sec.gov/Archives/edgar/data/840889/000119312511305201/0001193125-11-305201-index.htm\">2011Q3</a></td>\n",
       "                        <td id=\"T_d481205e_8243_11e9_85a7_34e12d8376c5row18_col1\" class=\"data row18 col1\" >4.1698e+07</td>\n",
       "                        <td id=\"T_d481205e_8243_11e9_85a7_34e12d8376c5row18_col2\" class=\"data row18 col2\" >CONSOLIDATED STATEMENTS OF OPERATIONS</td>\n",
       "                        <td id=\"T_d481205e_8243_11e9_85a7_34e12d8376c5row18_col3\" class=\"data row18 col3\" >Provision for loan and lease losses</td>\n",
       "                        <td id=\"T_d481205e_8243_11e9_85a7_34e12d8376c5row18_col4\" class=\"data row18 col4\" >Quarters ended September 30, 2011</td>\n",
       "                        <td id=\"T_d481205e_8243_11e9_85a7_34e12d8376c5row18_col5\" class=\"data row18 col5\" >41698</td>\n",
       "                        <td id=\"T_d481205e_8243_11e9_85a7_34e12d8376c5row18_col6\" class=\"data row18 col6\" >(In thousands, except for per share data)</td>\n",
       "            </tr>\n",
       "            <tr>\n",
       "                        <th id=\"T_d481205e_8243_11e9_85a7_34e12d8376c5level0_row19\" class=\"row_heading level0 row19\" rowspan=5>2012-01-20</th>\n",
       "                        <th id=\"T_d481205e_8243_11e9_85a7_34e12d8376c5level1_row19\" class=\"row_heading level1 row19\" >book value per share</th>\n",
       "                        <td id=\"T_d481205e_8243_11e9_85a7_34e12d8376c5row19_col0\" class=\"data row19 col0\" ><a href=\"https://www.sec.gov/Archives/edgar/data/840889/000119312512017693/0001193125-12-017693-index.htm\">2011Q4</a></td>\n",
       "                        <td id=\"T_d481205e_8243_11e9_85a7_34e12d8376c5row19_col1\" class=\"data row19 col1\" >3.8</td>\n",
       "                        <td id=\"T_d481205e_8243_11e9_85a7_34e12d8376c5row19_col2\" class=\"data row19 col2\" >Operating Data:</td>\n",
       "                        <td id=\"T_d481205e_8243_11e9_85a7_34e12d8376c5row19_col3\" class=\"data row19 col3\" >Book value per common share</td>\n",
       "                        <td id=\"T_d481205e_8243_11e9_85a7_34e12d8376c5row19_col4\" class=\"data row19 col4\" >Quarters ended December 31, 2011</td>\n",
       "                        <td id=\"T_d481205e_8243_11e9_85a7_34e12d8376c5row19_col5\" class=\"data row19 col5\" >$3.80</td>\n",
       "                        <td id=\"T_d481205e_8243_11e9_85a7_34e12d8376c5row19_col6\" class=\"data row19 col6\" >(In thousands, except for share data)</td>\n",
       "            </tr>\n",
       "            <tr>\n",
       "                                <th id=\"T_d481205e_8243_11e9_85a7_34e12d8376c5level1_row20\" class=\"row_heading level1 row20\" >interest income</th>\n",
       "                        <td id=\"T_d481205e_8243_11e9_85a7_34e12d8376c5row20_col0\" class=\"data row20 col0\" ><a href=\"https://www.sec.gov/Archives/edgar/data/840889/000119312512017693/0001193125-12-017693-index.htm\">2011Q4</a></td>\n",
       "                        <td id=\"T_d481205e_8243_11e9_85a7_34e12d8376c5row20_col1\" class=\"data row20 col1\" >8.9738e+07</td>\n",
       "                        <td id=\"T_d481205e_8243_11e9_85a7_34e12d8376c5row20_col2\" class=\"data row20 col2\" >CONSOLIDATED STATEMENTS OF OPERATIONS</td>\n",
       "                        <td id=\"T_d481205e_8243_11e9_85a7_34e12d8376c5row20_col3\" class=\"data row20 col3\" >Total interest income</td>\n",
       "                        <td id=\"T_d481205e_8243_11e9_85a7_34e12d8376c5row20_col4\" class=\"data row20 col4\" >Quarters ended December 31, 2011</td>\n",
       "                        <td id=\"T_d481205e_8243_11e9_85a7_34e12d8376c5row20_col5\" class=\"data row20 col5\" >89738</td>\n",
       "                        <td id=\"T_d481205e_8243_11e9_85a7_34e12d8376c5row20_col6\" class=\"data row20 col6\" >(In thousands, except for per share data)</td>\n",
       "            </tr>\n",
       "            <tr>\n",
       "                                <th id=\"T_d481205e_8243_11e9_85a7_34e12d8376c5level1_row21\" class=\"row_heading level1 row21\" >net income</th>\n",
       "                        <td id=\"T_d481205e_8243_11e9_85a7_34e12d8376c5row21_col0\" class=\"data row21 col0\" ><a href=\"https://www.sec.gov/Archives/edgar/data/840889/000119312512017693/0001193125-12-017693-index.htm\">2011Q4</a></td>\n",
       "                        <td id=\"T_d481205e_8243_11e9_85a7_34e12d8376c5row21_col1\" class=\"data row21 col1\" >1.1664e+07</td>\n",
       "                        <td id=\"T_d481205e_8243_11e9_85a7_34e12d8376c5row21_col2\" class=\"data row21 col2\" >CONSOLIDATED STATEMENTS OF OPERATIONS</td>\n",
       "                        <td id=\"T_d481205e_8243_11e9_85a7_34e12d8376c5row21_col3\" class=\"data row21 col3\" >Net income (loss)</td>\n",
       "                        <td id=\"T_d481205e_8243_11e9_85a7_34e12d8376c5row21_col4\" class=\"data row21 col4\" >Quarters ended December 31, 2011</td>\n",
       "                        <td id=\"T_d481205e_8243_11e9_85a7_34e12d8376c5row21_col5\" class=\"data row21 col5\" >$11664</td>\n",
       "                        <td id=\"T_d481205e_8243_11e9_85a7_34e12d8376c5row21_col6\" class=\"data row21 col6\" >(In thousands, except for per share data)</td>\n",
       "            </tr>\n",
       "            <tr>\n",
       "                                <th id=\"T_d481205e_8243_11e9_85a7_34e12d8376c5level1_row22\" class=\"row_heading level1 row22\" >net interest income</th>\n",
       "                        <td id=\"T_d481205e_8243_11e9_85a7_34e12d8376c5row22_col0\" class=\"data row22 col0\" ><a href=\"https://www.sec.gov/Archives/edgar/data/840889/000119312512017693/0001193125-12-017693-index.htm\">2011Q4</a></td>\n",
       "                        <td id=\"T_d481205e_8243_11e9_85a7_34e12d8376c5row22_col1\" class=\"data row22 col1\" >4.9361e+07</td>\n",
       "                        <td id=\"T_d481205e_8243_11e9_85a7_34e12d8376c5row22_col2\" class=\"data row22 col2\" >CONSOLIDATED STATEMENTS OF OPERATIONS</td>\n",
       "                        <td id=\"T_d481205e_8243_11e9_85a7_34e12d8376c5row22_col3\" class=\"data row22 col3\" >Net interest income</td>\n",
       "                        <td id=\"T_d481205e_8243_11e9_85a7_34e12d8376c5row22_col4\" class=\"data row22 col4\" >Quarters ended December 31, 2011</td>\n",
       "                        <td id=\"T_d481205e_8243_11e9_85a7_34e12d8376c5row22_col5\" class=\"data row22 col5\" >49361</td>\n",
       "                        <td id=\"T_d481205e_8243_11e9_85a7_34e12d8376c5row22_col6\" class=\"data row22 col6\" >(In thousands, except for per share data)</td>\n",
       "            </tr>\n",
       "            <tr>\n",
       "                                <th id=\"T_d481205e_8243_11e9_85a7_34e12d8376c5level1_row23\" class=\"row_heading level1 row23\" >provision for loan losses</th>\n",
       "                        <td id=\"T_d481205e_8243_11e9_85a7_34e12d8376c5row23_col0\" class=\"data row23 col0\" ><a href=\"https://www.sec.gov/Archives/edgar/data/840889/000119312512017693/0001193125-12-017693-index.htm\">2011Q4</a></td>\n",
       "                        <td id=\"T_d481205e_8243_11e9_85a7_34e12d8376c5row23_col1\" class=\"data row23 col1\" >9.914e+06</td>\n",
       "                        <td id=\"T_d481205e_8243_11e9_85a7_34e12d8376c5row23_col2\" class=\"data row23 col2\" >CONSOLIDATED STATEMENTS OF OPERATIONS</td>\n",
       "                        <td id=\"T_d481205e_8243_11e9_85a7_34e12d8376c5row23_col3\" class=\"data row23 col3\" >Provision for loan and lease losses</td>\n",
       "                        <td id=\"T_d481205e_8243_11e9_85a7_34e12d8376c5row23_col4\" class=\"data row23 col4\" >Quarters ended December 31, 2011</td>\n",
       "                        <td id=\"T_d481205e_8243_11e9_85a7_34e12d8376c5row23_col5\" class=\"data row23 col5\" >9914</td>\n",
       "                        <td id=\"T_d481205e_8243_11e9_85a7_34e12d8376c5row23_col6\" class=\"data row23 col6\" >(In thousands, except for per share data)</td>\n",
       "            </tr>\n",
       "            <tr>\n",
       "                        <th id=\"T_d481205e_8243_11e9_85a7_34e12d8376c5level0_row24\" class=\"row_heading level0 row24\" rowspan=3>2013-03-13</th>\n",
       "                        <th id=\"T_d481205e_8243_11e9_85a7_34e12d8376c5level1_row24\" class=\"row_heading level1 row24\" >net income</th>\n",
       "                        <td id=\"T_d481205e_8243_11e9_85a7_34e12d8376c5row24_col0\" class=\"data row24 col0\" ><a href=\"https://www.sec.gov/Archives/edgar/data/840889/000119312513104202/0001193125-13-104202-index.htm\">2012Q4</a></td>\n",
       "                        <td id=\"T_d481205e_8243_11e9_85a7_34e12d8376c5row24_col1\" class=\"data row24 col1\" >28300</td>\n",
       "                        <td id=\"T_d481205e_8243_11e9_85a7_34e12d8376c5row24_col2\" class=\"data row24 col2\" >Income Statement</td>\n",
       "                        <td id=\"T_d481205e_8243_11e9_85a7_34e12d8376c5row24_col3\" class=\"data row24 col3\" >Net Income</td>\n",
       "                        <td id=\"T_d481205e_8243_11e9_85a7_34e12d8376c5row24_col4\" class=\"data row24 col4\" >31-Dec-12</td>\n",
       "                        <td id=\"T_d481205e_8243_11e9_85a7_34e12d8376c5row24_col5\" class=\"data row24 col5\" >$28.3</td>\n",
       "                        <td id=\"T_d481205e_8243_11e9_85a7_34e12d8376c5row24_col6\" class=\"data row24 col6\" >inferred: thousands</td>\n",
       "            </tr>\n",
       "            <tr>\n",
       "                                <th id=\"T_d481205e_8243_11e9_85a7_34e12d8376c5level1_row25\" class=\"row_heading level1 row25\" >net interest income</th>\n",
       "                        <td id=\"T_d481205e_8243_11e9_85a7_34e12d8376c5row25_col0\" class=\"data row25 col0\" ><a href=\"https://www.sec.gov/Archives/edgar/data/840889/000119312513104202/0001193125-13-104202-index.htm\">2012Q4</a></td>\n",
       "                        <td id=\"T_d481205e_8243_11e9_85a7_34e12d8376c5row25_col1\" class=\"data row25 col1\" >56800</td>\n",
       "                        <td id=\"T_d481205e_8243_11e9_85a7_34e12d8376c5row25_col2\" class=\"data row25 col2\" >Income Statement</td>\n",
       "                        <td id=\"T_d481205e_8243_11e9_85a7_34e12d8376c5row25_col3\" class=\"data row25 col3\" >Net Interest Income</td>\n",
       "                        <td id=\"T_d481205e_8243_11e9_85a7_34e12d8376c5row25_col4\" class=\"data row25 col4\" >31-Dec-12</td>\n",
       "                        <td id=\"T_d481205e_8243_11e9_85a7_34e12d8376c5row25_col5\" class=\"data row25 col5\" >$56.8</td>\n",
       "                        <td id=\"T_d481205e_8243_11e9_85a7_34e12d8376c5row25_col6\" class=\"data row25 col6\" >inferred: thousands</td>\n",
       "            </tr>\n",
       "            <tr>\n",
       "                                <th id=\"T_d481205e_8243_11e9_85a7_34e12d8376c5level1_row26\" class=\"row_heading level1 row26\" >provision for loan losses</th>\n",
       "                        <td id=\"T_d481205e_8243_11e9_85a7_34e12d8376c5row26_col0\" class=\"data row26 col0\" ><a href=\"https://www.sec.gov/Archives/edgar/data/840889/000119312513104202/0001193125-13-104202-index.htm\">2012Q4</a></td>\n",
       "                        <td id=\"T_d481205e_8243_11e9_85a7_34e12d8376c5row26_col1\" class=\"data row26 col1\" >21300</td>\n",
       "                        <td id=\"T_d481205e_8243_11e9_85a7_34e12d8376c5row26_col2\" class=\"data row26 col2\" >Income Statement</td>\n",
       "                        <td id=\"T_d481205e_8243_11e9_85a7_34e12d8376c5row26_col3\" class=\"data row26 col3\" >Provision for Credit Losses</td>\n",
       "                        <td id=\"T_d481205e_8243_11e9_85a7_34e12d8376c5row26_col4\" class=\"data row26 col4\" >31-Dec-12</td>\n",
       "                        <td id=\"T_d481205e_8243_11e9_85a7_34e12d8376c5row26_col5\" class=\"data row26 col5\" >21.3</td>\n",
       "                        <td id=\"T_d481205e_8243_11e9_85a7_34e12d8376c5row26_col6\" class=\"data row26 col6\" >inferred: thousands</td>\n",
       "            </tr>\n",
       "    </tbody></table>"
      ],
      "text/plain": [
       "<pandas.io.formats.style.Styler at 0x18b61459390>"
      ]
     },
     "execution_count": 9,
     "metadata": {},
     "output_type": "execute_result"
    }
   ],
   "source": [
    "def make_clickable(val: str) -> str: \n",
    "    if isinstance(val, str):\n",
    "        name, url = val.split('#')\n",
    "        return f'<a href=\"{url}\">{name}</a>'\n",
    "    else:\n",
    "        return ''\n",
    "\n",
    "(prelims\n",
    " .assign(fiscal_period = prelims.fiscal_period.str.cat(prelims.filing_href, sep='#'), filing_date = prelims.filing_date.map(lambda d: d.strftime('%Y-%m-%d')))\n",
    " .loc[:, ['filing_date', 'fiscal_period', 'item', 'item_value', 'src_table', 'src_row', 'src_column', 'src_value', 'src_units']]\n",
    " .set_index(['filing_date', 'item'])\n",
    " .style.format({'fiscal_period': make_clickable})\n",
    ")"
   ]
  },
  {
   "cell_type": "code",
   "execution_count": 10,
   "metadata": {
    "papermill": {
     "duration": 0.165644,
     "end_time": "2019-05-29T18:59:05.333138",
     "exception": false,
     "start_time": "2019-05-29T18:59:05.167494",
     "status": "completed"
    },
    "tags": []
   },
   "outputs": [],
   "source": [
    "#discard_prelim(cik, date(2019, 12, 31))\n",
    "#force_reload_prelim(cik, date(2019, 12, 31), delete_filings=False)\n",
    "#force_reload_prelim_between(cik,  start=date(2002, 6, 1), end=date(2019, 12, 31), delete_filings=False)"
   ]
  },
  {
   "cell_type": "code",
   "execution_count": 11,
   "metadata": {
    "papermill": {
     "duration": 0.157157,
     "end_time": "2019-05-29T18:59:05.510461",
     "exception": false,
     "start_time": "2019-05-29T18:59:05.353304",
     "status": "completed"
    },
    "tags": []
   },
   "outputs": [],
   "source": [
    "#d = date(2018, 10, 29)\n",
    "#extract_prelim_statements(cik, start=d, end=d)"
   ]
  },
  {
   "cell_type": "code",
   "execution_count": 12,
   "metadata": {
    "papermill": {
     "duration": 0.159106,
     "end_time": "2019-05-29T18:59:05.690562",
     "exception": false,
     "start_time": "2019-05-29T18:59:05.531456",
     "status": "completed"
    },
    "tags": []
   },
   "outputs": [],
   "source": [
    "#d = date(2019, 4, 22)\n",
    "#filings = query_edgar_for_filings(cik, \"8-K\", start=d, end=d, require_xbrl=False)\n",
    "#report = query_edgar_for_submission_text(filings[0].href)\n",
    "#submission = load_submission(report.href)\n",
    "#tables = list(parse_tables(submission))\n",
    "#items_from_tables(tables)"
   ]
  },
  {
   "cell_type": "code",
   "execution_count": 13,
   "metadata": {
    "papermill": {
     "duration": 0.176215,
     "end_time": "2019-05-29T18:59:05.879838",
     "exception": false,
     "start_time": "2019-05-29T18:59:05.703623",
     "status": "completed"
    },
    "tags": []
   },
   "outputs": [],
   "source": [
    "#widget = query_prelims_for_override(cik, filing_date='2006-01-27', item=None)\n",
    "#widget"
   ]
  },
  {
   "cell_type": "code",
   "execution_count": 14,
   "metadata": {
    "papermill": {
     "duration": 0.16982,
     "end_time": "2019-05-29T18:59:06.063281",
     "exception": false,
     "start_time": "2019-05-29T18:59:05.893461",
     "status": "completed"
    },
    "tags": []
   },
   "outputs": [],
   "source": [
    "#widget.save()"
   ]
  }
 ],
 "metadata": {
  "celltoolbar": "Tags",
  "kernelspec": {
   "display_name": "Python 3",
   "language": "python",
   "name": "python3"
  },
  "language_info": {
   "codemirror_mode": {
    "name": "ipython",
    "version": 3
   },
   "file_extension": ".py",
   "mimetype": "text/x-python",
   "name": "python",
   "nbconvert_exporter": "python",
   "pygments_lexer": "ipython3",
   "version": "3.7.2"
  },
  "papermill": {
   "duration": 8.528647,
   "end_time": "2019-05-29T18:59:07.165038",
   "environment_variables": {},
   "exception": null,
   "input_path": "resources/edgar_prelim_quality.ipynb",
   "output_path": "../out/notebooks/0000840889.ipynb",
   "parameters": {
    "cik": "0000840889"
   },
   "start_time": "2019-05-29T18:58:58.636391",
   "version": "0.19.1"
  }
 },
 "nbformat": 4,
 "nbformat_minor": 2
}