{
 "cells": [
  {
   "cell_type": "code",
   "execution_count": 1,
   "metadata": {
    "papermill": {
     "duration": 1.399978,
     "end_time": "2019-05-29T18:55:51.623766",
     "exception": false,
     "start_time": "2019-05-29T18:55:50.223788",
     "status": "completed"
    },
    "tags": []
   },
   "outputs": [],
   "source": [
    "from edgar_prelim import *\n",
    "import pandas as pd\n",
    "%load_ext autoreload\n",
    "%autoreload 2\n",
    "%matplotlib inline\n",
    "pd.set_option('display.max_rows', 500)\n",
    "pd.set_option('display.max_columns', 500)"
   ]
  },
  {
   "cell_type": "code",
   "execution_count": 2,
   "metadata": {
    "papermill": {
     "duration": 0.127156,
     "end_time": "2019-05-29T18:55:51.763714",
     "exception": false,
     "start_time": "2019-05-29T18:55:51.636558",
     "status": "completed"
    },
    "tags": [
     "parameters"
    ]
   },
   "outputs": [],
   "source": [
    "cik='0000004962'"
   ]
  },
  {
   "cell_type": "code",
   "execution_count": 3,
   "metadata": {
    "papermill": {
     "duration": 0.121121,
     "end_time": "2019-05-29T18:55:51.897833",
     "exception": false,
     "start_time": "2019-05-29T18:55:51.776712",
     "status": "completed"
    },
    "tags": [
     "injected-parameters"
    ]
   },
   "outputs": [],
   "source": [
    "# Parameters\n",
    "cik = \"0000804561\"\n"
   ]
  },
  {
   "cell_type": "markdown",
   "metadata": {
    "papermill": {
     "duration": 0.018711,
     "end_time": "2019-05-29T18:55:51.923704",
     "exception": false,
     "start_time": "2019-05-29T18:55:51.904993",
     "status": "completed"
    },
    "tags": []
   },
   "source": [
    "# Company"
   ]
  },
  {
   "cell_type": "code",
   "execution_count": 4,
   "metadata": {
    "papermill": {
     "duration": 1.331895,
     "end_time": "2019-05-29T18:55:53.265278",
     "exception": false,
     "start_time": "2019-05-29T18:55:51.933383",
     "status": "completed"
    },
    "tags": []
   },
   "outputs": [
    {
     "data": {
      "text/html": [
       "<div>\n",
       "<style scoped>\n",
       "    .dataframe tbody tr th:only-of-type {\n",
       "        vertical-align: middle;\n",
       "    }\n",
       "\n",
       "    .dataframe tbody tr th {\n",
       "        vertical-align: top;\n",
       "    }\n",
       "\n",
       "    .dataframe thead th {\n",
       "        text-align: right;\n",
       "    }\n",
       "</style>\n",
       "<table border=\"1\" class=\"dataframe\">\n",
       "  <thead>\n",
       "    <tr style=\"text-align: right;\">\n",
       "      <th></th>\n",
       "      <th></th>\n",
       "    </tr>\n",
       "  </thead>\n",
       "  <tbody>\n",
       "    <tr>\n",
       "      <th>CIK</th>\n",
       "      <td>0000804561</td>\n",
       "    </tr>\n",
       "    <tr>\n",
       "      <th>SIC</th>\n",
       "      <td>6022</td>\n",
       "    </tr>\n",
       "    <tr>\n",
       "      <th>Description</th>\n",
       "      <td>STATE COMMERCIAL BANKS</td>\n",
       "    </tr>\n",
       "    <tr>\n",
       "      <th>Name</th>\n",
       "      <td>CENTRAL VIRGINIA BANKSHARES INC</td>\n",
       "    </tr>\n",
       "    <tr>\n",
       "      <th>Ticker</th>\n",
       "      <td>CVBK</td>\n",
       "    </tr>\n",
       "  </tbody>\n",
       "</table>\n",
       "</div>"
      ],
      "text/plain": [
       "                                            \n",
       "CIK                               0000804561\n",
       "SIC                                     6022\n",
       "Description           STATE COMMERCIAL BANKS\n",
       "Name         CENTRAL VIRGINIA BANKSHARES INC\n",
       "Ticker                                  CVBK"
      ]
     },
     "execution_count": 4,
     "metadata": {},
     "output_type": "execute_result"
    }
   ],
   "source": [
    "cik_df = pd.read_sql(text(\"select cik, sic, sic_description, company_name, ticker from cik where cik = :cik\").bindparams(cik=cik), prelim_engine)\n",
    "cik_df.rename({'cik': 'CIK', 'sic': 'SIC', 'sic_description': 'Description', 'company_name': 'Name', 'ticker': 'Ticker'}, axis=1).T.rename({0: ''}, axis=1)"
   ]
  },
  {
   "cell_type": "code",
   "execution_count": 5,
   "metadata": {
    "papermill": {
     "duration": 0.238042,
     "end_time": "2019-05-29T18:55:53.517328",
     "exception": false,
     "start_time": "2019-05-29T18:55:53.279286",
     "status": "completed"
    },
    "tags": []
   },
   "outputs": [],
   "source": [
    "prelims = query_prelims(cik)"
   ]
  },
  {
   "cell_type": "markdown",
   "metadata": {
    "papermill": {
     "duration": 0.007242,
     "end_time": "2019-05-29T18:55:53.537569",
     "exception": false,
     "start_time": "2019-05-29T18:55:53.530327",
     "status": "completed"
    },
    "tags": []
   },
   "source": [
    "# Summary Statistics"
   ]
  },
  {
   "cell_type": "code",
   "execution_count": 6,
   "metadata": {
    "papermill": {
     "duration": 0.144295,
     "end_time": "2019-05-29T18:55:53.688458",
     "exception": false,
     "start_time": "2019-05-29T18:55:53.544163",
     "status": "completed"
    },
    "tags": []
   },
   "outputs": [
    {
     "data": {
      "text/html": [
       "<div>\n",
       "<style scoped>\n",
       "    .dataframe tbody tr th:only-of-type {\n",
       "        vertical-align: middle;\n",
       "    }\n",
       "\n",
       "    .dataframe tbody tr th {\n",
       "        vertical-align: top;\n",
       "    }\n",
       "\n",
       "    .dataframe thead th {\n",
       "        text-align: right;\n",
       "    }\n",
       "</style>\n",
       "<table border=\"1\" class=\"dataframe\">\n",
       "  <thead>\n",
       "    <tr style=\"text-align: right;\">\n",
       "      <th></th>\n",
       "      <th>count</th>\n",
       "      <th>mean</th>\n",
       "      <th>std</th>\n",
       "      <th>min</th>\n",
       "      <th>25%</th>\n",
       "      <th>50%</th>\n",
       "      <th>75%</th>\n",
       "      <th>max</th>\n",
       "    </tr>\n",
       "    <tr>\n",
       "      <th>item</th>\n",
       "      <th></th>\n",
       "      <th></th>\n",
       "      <th></th>\n",
       "      <th></th>\n",
       "      <th></th>\n",
       "      <th></th>\n",
       "      <th></th>\n",
       "      <th></th>\n",
       "    </tr>\n",
       "  </thead>\n",
       "  <tbody>\n",
       "    <tr>\n",
       "      <th>book value per share</th>\n",
       "      <td>4.0</td>\n",
       "      <td>4.947500e+00</td>\n",
       "      <td>0.281824</td>\n",
       "      <td>4.73</td>\n",
       "      <td>4.797500e+00</td>\n",
       "      <td>4.85</td>\n",
       "      <td>5.0</td>\n",
       "      <td>5.36</td>\n",
       "    </tr>\n",
       "    <tr>\n",
       "      <th>net income</th>\n",
       "      <td>4.0</td>\n",
       "      <td>2.373500e+05</td>\n",
       "      <td>97776.394561</td>\n",
       "      <td>94000.00</td>\n",
       "      <td>2.165500e+05</td>\n",
       "      <td>274200.00</td>\n",
       "      <td>295000.0</td>\n",
       "      <td>307000.00</td>\n",
       "    </tr>\n",
       "    <tr>\n",
       "      <th>net interest income</th>\n",
       "      <td>4.0</td>\n",
       "      <td>2.676750e+06</td>\n",
       "      <td>143592.885153</td>\n",
       "      <td>2491000.00</td>\n",
       "      <td>2.632000e+06</td>\n",
       "      <td>2687500.00</td>\n",
       "      <td>2732250.0</td>\n",
       "      <td>2841000.00</td>\n",
       "    </tr>\n",
       "    <tr>\n",
       "      <th>provision for loan losses</th>\n",
       "      <td>4.0</td>\n",
       "      <td>5.150000e+05</td>\n",
       "      <td>227082.951070</td>\n",
       "      <td>200000.00</td>\n",
       "      <td>4.250000e+05</td>\n",
       "      <td>580000.00</td>\n",
       "      <td>670000.0</td>\n",
       "      <td>700000.00</td>\n",
       "    </tr>\n",
       "  </tbody>\n",
       "</table>\n",
       "</div>"
      ],
      "text/plain": [
       "                           count          mean            std         min  \\\n",
       "item                                                                        \n",
       "book value per share         4.0  4.947500e+00       0.281824        4.73   \n",
       "net income                   4.0  2.373500e+05   97776.394561    94000.00   \n",
       "net interest income          4.0  2.676750e+06  143592.885153  2491000.00   \n",
       "provision for loan losses    4.0  5.150000e+05  227082.951070   200000.00   \n",
       "\n",
       "                                    25%         50%        75%         max  \n",
       "item                                                                        \n",
       "book value per share       4.797500e+00        4.85        5.0        5.36  \n",
       "net income                 2.165500e+05   274200.00   295000.0   307000.00  \n",
       "net interest income        2.632000e+06  2687500.00  2732250.0  2841000.00  \n",
       "provision for loan losses  4.250000e+05   580000.00   670000.0   700000.00  "
      ]
     },
     "execution_count": 6,
     "metadata": {},
     "output_type": "execute_result"
    }
   ],
   "source": [
    "prelims.groupby('item').item_value.describe()"
   ]
  },
  {
   "cell_type": "markdown",
   "metadata": {
    "papermill": {
     "duration": 0.020149,
     "end_time": "2019-05-29T18:55:53.714133",
     "exception": false,
     "start_time": "2019-05-29T18:55:53.693984",
     "status": "completed"
    },
    "tags": []
   },
   "source": [
    "# Plots"
   ]
  },
  {
   "cell_type": "code",
   "execution_count": 7,
   "metadata": {
    "papermill": {
     "duration": 0.8298,
     "end_time": "2019-05-29T18:55:54.554531",
     "exception": false,
     "start_time": "2019-05-29T18:55:53.724731",
     "status": "completed"
    },
    "tags": []
   },
   "outputs": [
    {
     "data": {
      "image/png": "[encoded data removed]",
      "text/plain": [
       "<Figure size 1440x720 with 6 Axes>"
      ]
     },
     "metadata": {
      "needs_background": "light"
     },
     "output_type": "display_data"
    }
   ],
   "source": [
    "_ = prelims.set_index('filing_date').pivot(columns='item', values='item_value').fillna(method=\"ffill\").plot(subplots=True, layout=(2, 3), figsize=(20, 10), sharex=False)"
   ]
  },
  {
   "cell_type": "markdown",
   "metadata": {
    "papermill": {
     "duration": 0.012379,
     "end_time": "2019-05-29T18:55:54.587909",
     "exception": false,
     "start_time": "2019-05-29T18:55:54.575530",
     "status": "completed"
    },
    "tags": []
   },
   "source": [
    "# Quality"
   ]
  },
  {
   "cell_type": "code",
   "execution_count": 8,
   "metadata": {
    "papermill": {
     "duration": 0.185709,
     "end_time": "2019-05-29T18:55:54.789295",
     "exception": false,
     "start_time": "2019-05-29T18:55:54.603586",
     "status": "completed"
    },
    "tags": []
   },
   "outputs": [
    {
     "data": {
      "text/html": [
       "<div>\n",
       "<style scoped>\n",
       "    .dataframe tbody tr th:only-of-type {\n",
       "        vertical-align: middle;\n",
       "    }\n",
       "\n",
       "    .dataframe tbody tr th {\n",
       "        vertical-align: top;\n",
       "    }\n",
       "\n",
       "    .dataframe thead th {\n",
       "        text-align: right;\n",
       "    }\n",
       "</style>\n",
       "<table border=\"1\" class=\"dataframe\">\n",
       "  <thead>\n",
       "    <tr style=\"text-align: right;\">\n",
       "      <th></th>\n",
       "      <th></th>\n",
       "      <th>period</th>\n",
       "      <th>msg_type</th>\n",
       "      <th>message</th>\n",
       "    </tr>\n",
       "    <tr>\n",
       "      <th>cik</th>\n",
       "      <th>item</th>\n",
       "      <th></th>\n",
       "      <th></th>\n",
       "      <th></th>\n",
       "    </tr>\n",
       "  </thead>\n",
       "  <tbody>\n",
       "    <tr>\n",
       "      <th rowspan=\"6\" valign=\"top\">0000804561</th>\n",
       "      <th>book value per share</th>\n",
       "      <td>2011Q4</td>\n",
       "      <td>missing</td>\n",
       "      <td>Missing period</td>\n",
       "    </tr>\n",
       "    <tr>\n",
       "      <th>interest income</th>\n",
       "      <td>None</td>\n",
       "      <td>empty</td>\n",
       "      <td>No values for item</td>\n",
       "    </tr>\n",
       "    <tr>\n",
       "      <th>net income</th>\n",
       "      <td>2011Q4</td>\n",
       "      <td>missing</td>\n",
       "      <td>Missing period</td>\n",
       "    </tr>\n",
       "    <tr>\n",
       "      <th>net interest income</th>\n",
       "      <td>2011Q4</td>\n",
       "      <td>missing</td>\n",
       "      <td>Missing period</td>\n",
       "    </tr>\n",
       "    <tr>\n",
       "      <th>provision for loan losses</th>\n",
       "      <td>2011Q4</td>\n",
       "      <td>missing</td>\n",
       "      <td>Missing period</td>\n",
       "    </tr>\n",
       "    <tr>\n",
       "      <th>total revenue</th>\n",
       "      <td>None</td>\n",
       "      <td>empty</td>\n",
       "      <td>No values for item</td>\n",
       "    </tr>\n",
       "  </tbody>\n",
       "</table>\n",
       "</div>"
      ],
      "text/plain": [
       "                                      period msg_type             message\n",
       "cik        item                                                          \n",
       "0000804561 book value per share       2011Q4  missing      Missing period\n",
       "           interest income              None    empty  No values for item\n",
       "           net income                 2011Q4  missing      Missing period\n",
       "           net interest income        2011Q4  missing      Missing period\n",
       "           provision for loan losses  2011Q4  missing      Missing period\n",
       "           total revenue                None    empty  No values for item"
      ]
     },
     "execution_count": 8,
     "metadata": {},
     "output_type": "execute_result"
    }
   ],
   "source": [
    "validate_prelims(prelims)"
   ]
  },
  {
   "cell_type": "markdown",
   "metadata": {
    "papermill": {
     "duration": 0.009679,
     "end_time": "2019-05-29T18:55:54.813243",
     "exception": false,
     "start_time": "2019-05-29T18:55:54.803564",
     "status": "completed"
    },
    "tags": []
   },
   "source": [
    "# Data"
   ]
  },
  {
   "cell_type": "code",
   "execution_count": 9,
   "metadata": {
    "papermill": {
     "duration": 0.160224,
     "end_time": "2019-05-29T18:55:54.996854",
     "exception": false,
     "start_time": "2019-05-29T18:55:54.836630",
     "status": "completed"
    },
    "tags": []
   },
   "outputs": [
    {
     "data": {
      "text/html": [
       "<style  type=\"text/css\" >\n",
       "</style><table id=\"T_632d259e_8243_11e9_9830_34e12d8376c5\" ><thead>    <tr>        <th class=\"blank\" ></th>        <th class=\"blank level0\" ></th>        <th class=\"col_heading level0 col0\" >fiscal_period</th>        <th class=\"col_heading level0 col1\" >item_value</th>        <th class=\"col_heading level0 col2\" >src_table</th>        <th class=\"col_heading level0 col3\" >src_row</th>        <th class=\"col_heading level0 col4\" >src_column</th>        <th class=\"col_heading level0 col5\" >src_value</th>        <th class=\"col_heading level0 col6\" >src_units</th>    </tr>    <tr>        <th class=\"index_name level0\" >filing_date</th>        <th class=\"index_name level1\" >item</th>        <th class=\"blank\" ></th>        <th class=\"blank\" ></th>        <th class=\"blank\" ></th>        <th class=\"blank\" ></th>        <th class=\"blank\" ></th>        <th class=\"blank\" ></th>        <th class=\"blank\" ></th>    </tr></thead><tbody>\n",
       "                <tr>\n",
       "                        <th id=\"T_632d259e_8243_11e9_9830_34e12d8376c5level0_row0\" class=\"row_heading level0 row0\" rowspan=4>2011-05-10</th>\n",
       "                        <th id=\"T_632d259e_8243_11e9_9830_34e12d8376c5level1_row0\" class=\"row_heading level1 row0\" >book value per share</th>\n",
       "                        <td id=\"T_632d259e_8243_11e9_9830_34e12d8376c5row0_col0\" class=\"data row0 col0\" ><a href=\"https://www.sec.gov/Archives/edgar/data/804561/000100210511000109/0001002105-11-000109-index.htm\">2011Q1</a></td>\n",
       "                        <td id=\"T_632d259e_8243_11e9_9830_34e12d8376c5row0_col1\" class=\"data row0 col1\" >4.73</td>\n",
       "                        <td id=\"T_632d259e_8243_11e9_9830_34e12d8376c5row0_col2\" class=\"data row0 col2\" >Shareholders equity</td>\n",
       "                        <td id=\"T_632d259e_8243_11e9_9830_34e12d8376c5row0_col3\" class=\"data row0 col3\" >Book value per common share</td>\n",
       "                        <td id=\"T_632d259e_8243_11e9_9830_34e12d8376c5row0_col4\" class=\"data row0 col4\" >Three Months Ended (unaudited) March 31, 2011</td>\n",
       "                        <td id=\"T_632d259e_8243_11e9_9830_34e12d8376c5row0_col5\" class=\"data row0 col5\" >$4.73</td>\n",
       "                        <td id=\"T_632d259e_8243_11e9_9830_34e12d8376c5row0_col6\" class=\"data row0 col6\" >Dollars in 000s, exceptper share data</td>\n",
       "            </tr>\n",
       "            <tr>\n",
       "                                <th id=\"T_632d259e_8243_11e9_9830_34e12d8376c5level1_row1\" class=\"row_heading level1 row1\" >net income</th>\n",
       "                        <td id=\"T_632d259e_8243_11e9_9830_34e12d8376c5row1_col0\" class=\"data row1 col0\" ><a href=\"https://www.sec.gov/Archives/edgar/data/804561/000100210511000109/0001002105-11-000109-index.htm\">2011Q1</a></td>\n",
       "                        <td id=\"T_632d259e_8243_11e9_9830_34e12d8376c5row1_col1\" class=\"data row1 col1\" >257400</td>\n",
       "                        <td id=\"T_632d259e_8243_11e9_9830_34e12d8376c5row1_col2\" class=\"data row1 col2\" >Shareholders equity</td>\n",
       "                        <td id=\"T_632d259e_8243_11e9_9830_34e12d8376c5row1_col3\" class=\"data row1 col3\" >Net income</td>\n",
       "                        <td id=\"T_632d259e_8243_11e9_9830_34e12d8376c5row1_col4\" class=\"data row1 col4\" >Three Months Ended (unaudited) March 31, 2011</td>\n",
       "                        <td id=\"T_632d259e_8243_11e9_9830_34e12d8376c5row1_col5\" class=\"data row1 col5\" >$257.4</td>\n",
       "                        <td id=\"T_632d259e_8243_11e9_9830_34e12d8376c5row1_col6\" class=\"data row1 col6\" >Dollars in 000s, exceptper share data</td>\n",
       "            </tr>\n",
       "            <tr>\n",
       "                                <th id=\"T_632d259e_8243_11e9_9830_34e12d8376c5level1_row2\" class=\"row_heading level1 row2\" >net interest income</th>\n",
       "                        <td id=\"T_632d259e_8243_11e9_9830_34e12d8376c5row2_col0\" class=\"data row2 col0\" ><a href=\"https://www.sec.gov/Archives/edgar/data/804561/000100210511000109/0001002105-11-000109-index.htm\">2011Q1</a></td>\n",
       "                        <td id=\"T_632d259e_8243_11e9_9830_34e12d8376c5row2_col1\" class=\"data row2 col1\" >2.841e+06</td>\n",
       "                        <td id=\"T_632d259e_8243_11e9_9830_34e12d8376c5row2_col2\" class=\"data row2 col2\" >Shareholders equity</td>\n",
       "                        <td id=\"T_632d259e_8243_11e9_9830_34e12d8376c5row2_col3\" class=\"data row2 col3\" >Net interest income</td>\n",
       "                        <td id=\"T_632d259e_8243_11e9_9830_34e12d8376c5row2_col4\" class=\"data row2 col4\" >Three Months Ended (unaudited) March 31, 2011</td>\n",
       "                        <td id=\"T_632d259e_8243_11e9_9830_34e12d8376c5row2_col5\" class=\"data row2 col5\" >2841</td>\n",
       "                        <td id=\"T_632d259e_8243_11e9_9830_34e12d8376c5row2_col6\" class=\"data row2 col6\" >Dollars in 000s, exceptper share data</td>\n",
       "            </tr>\n",
       "            <tr>\n",
       "                                <th id=\"T_632d259e_8243_11e9_9830_34e12d8376c5level1_row3\" class=\"row_heading level1 row3\" >provision for loan losses</th>\n",
       "                        <td id=\"T_632d259e_8243_11e9_9830_34e12d8376c5row3_col0\" class=\"data row3 col0\" ><a href=\"https://www.sec.gov/Archives/edgar/data/804561/000100210511000109/0001002105-11-000109-index.htm\">2011Q1</a></td>\n",
       "                        <td id=\"T_632d259e_8243_11e9_9830_34e12d8376c5row3_col1\" class=\"data row3 col1\" >500000</td>\n",
       "                        <td id=\"T_632d259e_8243_11e9_9830_34e12d8376c5row3_col2\" class=\"data row3 col2\" >Shareholders equity</td>\n",
       "                        <td id=\"T_632d259e_8243_11e9_9830_34e12d8376c5row3_col3\" class=\"data row3 col3\" >Loan loss provision</td>\n",
       "                        <td id=\"T_632d259e_8243_11e9_9830_34e12d8376c5row3_col4\" class=\"data row3 col4\" >Three Months Ended (unaudited) March 31, 2011</td>\n",
       "                        <td id=\"T_632d259e_8243_11e9_9830_34e12d8376c5row3_col5\" class=\"data row3 col5\" >500</td>\n",
       "                        <td id=\"T_632d259e_8243_11e9_9830_34e12d8376c5row3_col6\" class=\"data row3 col6\" >Dollars in 000s, exceptper share data</td>\n",
       "            </tr>\n",
       "            <tr>\n",
       "                        <th id=\"T_632d259e_8243_11e9_9830_34e12d8376c5level0_row4\" class=\"row_heading level0 row4\" rowspan=4>2011-08-09</th>\n",
       "                        <th id=\"T_632d259e_8243_11e9_9830_34e12d8376c5level1_row4\" class=\"row_heading level1 row4\" >book value per share</th>\n",
       "                        <td id=\"T_632d259e_8243_11e9_9830_34e12d8376c5row4_col0\" class=\"data row4 col0\" ><a href=\"https://www.sec.gov/Archives/edgar/data/804561/000100210511000178/0001002105-11-000178-index.htm\">2011Q2</a></td>\n",
       "                        <td id=\"T_632d259e_8243_11e9_9830_34e12d8376c5row4_col1\" class=\"data row4 col1\" >5.36</td>\n",
       "                        <td id=\"T_632d259e_8243_11e9_9830_34e12d8376c5row4_col2\" class=\"data row4 col2\" >Shareholders equity</td>\n",
       "                        <td id=\"T_632d259e_8243_11e9_9830_34e12d8376c5row4_col3\" class=\"data row4 col3\" >Book value per common share</td>\n",
       "                        <td id=\"T_632d259e_8243_11e9_9830_34e12d8376c5row4_col4\" class=\"data row4 col4\" >Three Months Ended (unaudited) June 30, 2011</td>\n",
       "                        <td id=\"T_632d259e_8243_11e9_9830_34e12d8376c5row4_col5\" class=\"data row4 col5\" >$5.36</td>\n",
       "                        <td id=\"T_632d259e_8243_11e9_9830_34e12d8376c5row4_col6\" class=\"data row4 col6\" >Dollars in 000s, exceptper share data</td>\n",
       "            </tr>\n",
       "            <tr>\n",
       "                                <th id=\"T_632d259e_8243_11e9_9830_34e12d8376c5level1_row5\" class=\"row_heading level1 row5\" >net income</th>\n",
       "                        <td id=\"T_632d259e_8243_11e9_9830_34e12d8376c5row5_col0\" class=\"data row5 col0\" ><a href=\"https://www.sec.gov/Archives/edgar/data/804561/000100210511000178/0001002105-11-000178-index.htm\">2011Q2</a></td>\n",
       "                        <td id=\"T_632d259e_8243_11e9_9830_34e12d8376c5row5_col1\" class=\"data row5 col1\" >94000</td>\n",
       "                        <td id=\"T_632d259e_8243_11e9_9830_34e12d8376c5row5_col2\" class=\"data row5 col2\" >Shareholders equity</td>\n",
       "                        <td id=\"T_632d259e_8243_11e9_9830_34e12d8376c5row5_col3\" class=\"data row5 col3\" >Net income (loss)</td>\n",
       "                        <td id=\"T_632d259e_8243_11e9_9830_34e12d8376c5row5_col4\" class=\"data row5 col4\" >Three Months Ended (unaudited) June 30, 2011</td>\n",
       "                        <td id=\"T_632d259e_8243_11e9_9830_34e12d8376c5row5_col5\" class=\"data row5 col5\" >$94</td>\n",
       "                        <td id=\"T_632d259e_8243_11e9_9830_34e12d8376c5row5_col6\" class=\"data row5 col6\" >Dollars in 000s, exceptper share data</td>\n",
       "            </tr>\n",
       "            <tr>\n",
       "                                <th id=\"T_632d259e_8243_11e9_9830_34e12d8376c5level1_row6\" class=\"row_heading level1 row6\" >net interest income</th>\n",
       "                        <td id=\"T_632d259e_8243_11e9_9830_34e12d8376c5row6_col0\" class=\"data row6 col0\" ><a href=\"https://www.sec.gov/Archives/edgar/data/804561/000100210511000178/0001002105-11-000178-index.htm\">2011Q2</a></td>\n",
       "                        <td id=\"T_632d259e_8243_11e9_9830_34e12d8376c5row6_col1\" class=\"data row6 col1\" >2.679e+06</td>\n",
       "                        <td id=\"T_632d259e_8243_11e9_9830_34e12d8376c5row6_col2\" class=\"data row6 col2\" >Shareholders equity</td>\n",
       "                        <td id=\"T_632d259e_8243_11e9_9830_34e12d8376c5row6_col3\" class=\"data row6 col3\" >Net interest income</td>\n",
       "                        <td id=\"T_632d259e_8243_11e9_9830_34e12d8376c5row6_col4\" class=\"data row6 col4\" >Three Months Ended (unaudited) June 30, 2011</td>\n",
       "                        <td id=\"T_632d259e_8243_11e9_9830_34e12d8376c5row6_col5\" class=\"data row6 col5\" >2679</td>\n",
       "                        <td id=\"T_632d259e_8243_11e9_9830_34e12d8376c5row6_col6\" class=\"data row6 col6\" >Dollars in 000s, exceptper share data</td>\n",
       "            </tr>\n",
       "            <tr>\n",
       "                                <th id=\"T_632d259e_8243_11e9_9830_34e12d8376c5level1_row7\" class=\"row_heading level1 row7\" >provision for loan losses</th>\n",
       "                        <td id=\"T_632d259e_8243_11e9_9830_34e12d8376c5row7_col0\" class=\"data row7 col0\" ><a href=\"https://www.sec.gov/Archives/edgar/data/804561/000100210511000178/0001002105-11-000178-index.htm\">2011Q2</a></td>\n",
       "                        <td id=\"T_632d259e_8243_11e9_9830_34e12d8376c5row7_col1\" class=\"data row7 col1\" >700000</td>\n",
       "                        <td id=\"T_632d259e_8243_11e9_9830_34e12d8376c5row7_col2\" class=\"data row7 col2\" >Shareholders equity</td>\n",
       "                        <td id=\"T_632d259e_8243_11e9_9830_34e12d8376c5row7_col3\" class=\"data row7 col3\" >Loan loss provision</td>\n",
       "                        <td id=\"T_632d259e_8243_11e9_9830_34e12d8376c5row7_col4\" class=\"data row7 col4\" >Three Months Ended (unaudited) June 30, 2011</td>\n",
       "                        <td id=\"T_632d259e_8243_11e9_9830_34e12d8376c5row7_col5\" class=\"data row7 col5\" >700</td>\n",
       "                        <td id=\"T_632d259e_8243_11e9_9830_34e12d8376c5row7_col6\" class=\"data row7 col6\" >Dollars in 000s, exceptper share data</td>\n",
       "            </tr>\n",
       "            <tr>\n",
       "                        <th id=\"T_632d259e_8243_11e9_9830_34e12d8376c5level0_row8\" class=\"row_heading level0 row8\" rowspan=4>2011-11-08</th>\n",
       "                        <th id=\"T_632d259e_8243_11e9_9830_34e12d8376c5level1_row8\" class=\"row_heading level1 row8\" >book value per share</th>\n",
       "                        <td id=\"T_632d259e_8243_11e9_9830_34e12d8376c5row8_col0\" class=\"data row8 col0\" ><a href=\"https://www.sec.gov/Archives/edgar/data/804561/000100210511000233/0001002105-11-000233-index.htm\">2011Q3</a></td>\n",
       "                        <td id=\"T_632d259e_8243_11e9_9830_34e12d8376c5row8_col1\" class=\"data row8 col1\" >4.88</td>\n",
       "                        <td id=\"T_632d259e_8243_11e9_9830_34e12d8376c5row8_col2\" class=\"data row8 col2\" >Shareholders equity</td>\n",
       "                        <td id=\"T_632d259e_8243_11e9_9830_34e12d8376c5row8_col3\" class=\"data row8 col3\" >Book value per common share</td>\n",
       "                        <td id=\"T_632d259e_8243_11e9_9830_34e12d8376c5row8_col4\" class=\"data row8 col4\" >Three Months Ended (unaudited) September 30, 2011</td>\n",
       "                        <td id=\"T_632d259e_8243_11e9_9830_34e12d8376c5row8_col5\" class=\"data row8 col5\" >$4.88</td>\n",
       "                        <td id=\"T_632d259e_8243_11e9_9830_34e12d8376c5row8_col6\" class=\"data row8 col6\" >Dollars in 000s, exceptper share data</td>\n",
       "            </tr>\n",
       "            <tr>\n",
       "                                <th id=\"T_632d259e_8243_11e9_9830_34e12d8376c5level1_row9\" class=\"row_heading level1 row9\" >net income</th>\n",
       "                        <td id=\"T_632d259e_8243_11e9_9830_34e12d8376c5row9_col0\" class=\"data row9 col0\" ><a href=\"https://www.sec.gov/Archives/edgar/data/804561/000100210511000233/0001002105-11-000233-index.htm\">2011Q3</a></td>\n",
       "                        <td id=\"T_632d259e_8243_11e9_9830_34e12d8376c5row9_col1\" class=\"data row9 col1\" >307000</td>\n",
       "                        <td id=\"T_632d259e_8243_11e9_9830_34e12d8376c5row9_col2\" class=\"data row9 col2\" >Shareholders equity</td>\n",
       "                        <td id=\"T_632d259e_8243_11e9_9830_34e12d8376c5row9_col3\" class=\"data row9 col3\" >Net income (loss)</td>\n",
       "                        <td id=\"T_632d259e_8243_11e9_9830_34e12d8376c5row9_col4\" class=\"data row9 col4\" >Three Months Ended (unaudited) September 30, 2011</td>\n",
       "                        <td id=\"T_632d259e_8243_11e9_9830_34e12d8376c5row9_col5\" class=\"data row9 col5\" >$307</td>\n",
       "                        <td id=\"T_632d259e_8243_11e9_9830_34e12d8376c5row9_col6\" class=\"data row9 col6\" >Dollars in 000s, exceptper share data</td>\n",
       "            </tr>\n",
       "            <tr>\n",
       "                                <th id=\"T_632d259e_8243_11e9_9830_34e12d8376c5level1_row10\" class=\"row_heading level1 row10\" >net interest income</th>\n",
       "                        <td id=\"T_632d259e_8243_11e9_9830_34e12d8376c5row10_col0\" class=\"data row10 col0\" ><a href=\"https://www.sec.gov/Archives/edgar/data/804561/000100210511000233/0001002105-11-000233-index.htm\">2011Q3</a></td>\n",
       "                        <td id=\"T_632d259e_8243_11e9_9830_34e12d8376c5row10_col1\" class=\"data row10 col1\" >2.491e+06</td>\n",
       "                        <td id=\"T_632d259e_8243_11e9_9830_34e12d8376c5row10_col2\" class=\"data row10 col2\" >Shareholders equity</td>\n",
       "                        <td id=\"T_632d259e_8243_11e9_9830_34e12d8376c5row10_col3\" class=\"data row10 col3\" >Net interest income</td>\n",
       "                        <td id=\"T_632d259e_8243_11e9_9830_34e12d8376c5row10_col4\" class=\"data row10 col4\" >Three Months Ended (unaudited) September 30, 2011</td>\n",
       "                        <td id=\"T_632d259e_8243_11e9_9830_34e12d8376c5row10_col5\" class=\"data row10 col5\" >2491</td>\n",
       "                        <td id=\"T_632d259e_8243_11e9_9830_34e12d8376c5row10_col6\" class=\"data row10 col6\" >Dollars in 000s, exceptper share data</td>\n",
       "            </tr>\n",
       "            <tr>\n",
       "                                <th id=\"T_632d259e_8243_11e9_9830_34e12d8376c5level1_row11\" class=\"row_heading level1 row11\" >provision for loan losses</th>\n",
       "                        <td id=\"T_632d259e_8243_11e9_9830_34e12d8376c5row11_col0\" class=\"data row11 col0\" ><a href=\"https://www.sec.gov/Archives/edgar/data/804561/000100210511000233/0001002105-11-000233-index.htm\">2011Q3</a></td>\n",
       "                        <td id=\"T_632d259e_8243_11e9_9830_34e12d8376c5row11_col1\" class=\"data row11 col1\" >660000</td>\n",
       "                        <td id=\"T_632d259e_8243_11e9_9830_34e12d8376c5row11_col2\" class=\"data row11 col2\" >Shareholders equity</td>\n",
       "                        <td id=\"T_632d259e_8243_11e9_9830_34e12d8376c5row11_col3\" class=\"data row11 col3\" >Loan loss provision</td>\n",
       "                        <td id=\"T_632d259e_8243_11e9_9830_34e12d8376c5row11_col4\" class=\"data row11 col4\" >Three Months Ended (unaudited) September 30, 2011</td>\n",
       "                        <td id=\"T_632d259e_8243_11e9_9830_34e12d8376c5row11_col5\" class=\"data row11 col5\" >660</td>\n",
       "                        <td id=\"T_632d259e_8243_11e9_9830_34e12d8376c5row11_col6\" class=\"data row11 col6\" >Dollars in 000s, exceptper share data</td>\n",
       "            </tr>\n",
       "            <tr>\n",
       "                        <th id=\"T_632d259e_8243_11e9_9830_34e12d8376c5level0_row12\" class=\"row_heading level0 row12\" rowspan=4>2012-05-08</th>\n",
       "                        <th id=\"T_632d259e_8243_11e9_9830_34e12d8376c5level1_row12\" class=\"row_heading level1 row12\" >book value per share</th>\n",
       "                        <td id=\"T_632d259e_8243_11e9_9830_34e12d8376c5row12_col0\" class=\"data row12 col0\" ><a href=\"https://www.sec.gov/Archives/edgar/data/804561/000127725412000029/0001277254-12-000029-index.htm\">2012Q1</a></td>\n",
       "                        <td id=\"T_632d259e_8243_11e9_9830_34e12d8376c5row12_col1\" class=\"data row12 col1\" >4.82</td>\n",
       "                        <td id=\"T_632d259e_8243_11e9_9830_34e12d8376c5row12_col2\" class=\"data row12 col2\" >Shareholders equity</td>\n",
       "                        <td id=\"T_632d259e_8243_11e9_9830_34e12d8376c5row12_col3\" class=\"data row12 col3\" >Book value per common share</td>\n",
       "                        <td id=\"T_632d259e_8243_11e9_9830_34e12d8376c5row12_col4\" class=\"data row12 col4\" >Three Months Ended (unaudited) March 31, 2012</td>\n",
       "                        <td id=\"T_632d259e_8243_11e9_9830_34e12d8376c5row12_col5\" class=\"data row12 col5\" >$4.82</td>\n",
       "                        <td id=\"T_632d259e_8243_11e9_9830_34e12d8376c5row12_col6\" class=\"data row12 col6\" >Dollars in 000s, exceptper share data</td>\n",
       "            </tr>\n",
       "            <tr>\n",
       "                                <th id=\"T_632d259e_8243_11e9_9830_34e12d8376c5level1_row13\" class=\"row_heading level1 row13\" >net income</th>\n",
       "                        <td id=\"T_632d259e_8243_11e9_9830_34e12d8376c5row13_col0\" class=\"data row13 col0\" ><a href=\"https://www.sec.gov/Archives/edgar/data/804561/000127725412000029/0001277254-12-000029-index.htm\">2012Q1</a></td>\n",
       "                        <td id=\"T_632d259e_8243_11e9_9830_34e12d8376c5row13_col1\" class=\"data row13 col1\" >291000</td>\n",
       "                        <td id=\"T_632d259e_8243_11e9_9830_34e12d8376c5row13_col2\" class=\"data row13 col2\" >Shareholders equity</td>\n",
       "                        <td id=\"T_632d259e_8243_11e9_9830_34e12d8376c5row13_col3\" class=\"data row13 col3\" >Net income</td>\n",
       "                        <td id=\"T_632d259e_8243_11e9_9830_34e12d8376c5row13_col4\" class=\"data row13 col4\" >Three Months Ended (unaudited) March 31, 2012</td>\n",
       "                        <td id=\"T_632d259e_8243_11e9_9830_34e12d8376c5row13_col5\" class=\"data row13 col5\" >$291</td>\n",
       "                        <td id=\"T_632d259e_8243_11e9_9830_34e12d8376c5row13_col6\" class=\"data row13 col6\" >Dollars in 000s, exceptper share data</td>\n",
       "            </tr>\n",
       "            <tr>\n",
       "                                <th id=\"T_632d259e_8243_11e9_9830_34e12d8376c5level1_row14\" class=\"row_heading level1 row14\" >net interest income</th>\n",
       "                        <td id=\"T_632d259e_8243_11e9_9830_34e12d8376c5row14_col0\" class=\"data row14 col0\" ><a href=\"https://www.sec.gov/Archives/edgar/data/804561/000127725412000029/0001277254-12-000029-index.htm\">2012Q1</a></td>\n",
       "                        <td id=\"T_632d259e_8243_11e9_9830_34e12d8376c5row14_col1\" class=\"data row14 col1\" >2.696e+06</td>\n",
       "                        <td id=\"T_632d259e_8243_11e9_9830_34e12d8376c5row14_col2\" class=\"data row14 col2\" >Shareholders equity</td>\n",
       "                        <td id=\"T_632d259e_8243_11e9_9830_34e12d8376c5row14_col3\" class=\"data row14 col3\" >Net interest income</td>\n",
       "                        <td id=\"T_632d259e_8243_11e9_9830_34e12d8376c5row14_col4\" class=\"data row14 col4\" >Three Months Ended (unaudited) March 31, 2012</td>\n",
       "                        <td id=\"T_632d259e_8243_11e9_9830_34e12d8376c5row14_col5\" class=\"data row14 col5\" >2696</td>\n",
       "                        <td id=\"T_632d259e_8243_11e9_9830_34e12d8376c5row14_col6\" class=\"data row14 col6\" >Dollars in 000s, exceptper share data</td>\n",
       "            </tr>\n",
       "            <tr>\n",
       "                                <th id=\"T_632d259e_8243_11e9_9830_34e12d8376c5level1_row15\" class=\"row_heading level1 row15\" >provision for loan losses</th>\n",
       "                        <td id=\"T_632d259e_8243_11e9_9830_34e12d8376c5row15_col0\" class=\"data row15 col0\" ><a href=\"https://www.sec.gov/Archives/edgar/data/804561/000127725412000029/0001277254-12-000029-index.htm\">2012Q1</a></td>\n",
       "                        <td id=\"T_632d259e_8243_11e9_9830_34e12d8376c5row15_col1\" class=\"data row15 col1\" >200000</td>\n",
       "                        <td id=\"T_632d259e_8243_11e9_9830_34e12d8376c5row15_col2\" class=\"data row15 col2\" >Shareholders equity</td>\n",
       "                        <td id=\"T_632d259e_8243_11e9_9830_34e12d8376c5row15_col3\" class=\"data row15 col3\" >Loan loss provision</td>\n",
       "                        <td id=\"T_632d259e_8243_11e9_9830_34e12d8376c5row15_col4\" class=\"data row15 col4\" >Three Months Ended (unaudited) March 31, 2012</td>\n",
       "                        <td id=\"T_632d259e_8243_11e9_9830_34e12d8376c5row15_col5\" class=\"data row15 col5\" >200</td>\n",
       "                        <td id=\"T_632d259e_8243_11e9_9830_34e12d8376c5row15_col6\" class=\"data row15 col6\" >Dollars in 000s, exceptper share data</td>\n",
       "            </tr>\n",
       "    </tbody></table>"
      ],
      "text/plain": [
       "<pandas.io.formats.style.Styler at 0x2e428b19198>"
      ]
     },
     "execution_count": 9,
     "metadata": {},
     "output_type": "execute_result"
    }
   ],
   "source": [
    "def make_clickable(val: str) -> str: \n",
    "    if isinstance(val, str):\n",
    "        name, url = val.split('#')\n",
    "        return f'<a href=\"{url}\">{name}</a>'\n",
    "    else:\n",
    "        return ''\n",
    "\n",
    "(prelims\n",
    " .assign(fiscal_period = prelims.fiscal_period.str.cat(prelims.filing_href, sep='#'), filing_date = prelims.filing_date.map(lambda d: d.strftime('%Y-%m-%d')))\n",
    " .loc[:, ['filing_date', 'fiscal_period', 'item', 'item_value', 'src_table', 'src_row', 'src_column', 'src_value', 'src_units']]\n",
    " .set_index(['filing_date', 'item'])\n",
    " .style.format({'fiscal_period': make_clickable})\n",
    ")"
   ]
  },
  {
   "cell_type": "code",
   "execution_count": 10,
   "metadata": {
    "papermill": {
     "duration": 0.128888,
     "end_time": "2019-05-29T18:55:55.142750",
     "exception": false,
     "start_time": "2019-05-29T18:55:55.013862",
     "status": "completed"
    },
    "tags": []
   },
   "outputs": [],
   "source": [
    "#discard_prelim(cik, date(2019, 12, 31))\n",
    "#force_reload_prelim(cik, date(2019, 12, 31), delete_filings=False)\n",
    "#force_reload_prelim_between(cik,  start=date(2002, 6, 1), end=date(2019, 12, 31), delete_filings=False)"
   ]
  },
  {
   "cell_type": "code",
   "execution_count": 11,
   "metadata": {
    "papermill": {
     "duration": 0.135633,
     "end_time": "2019-05-29T18:55:55.292200",
     "exception": false,
     "start_time": "2019-05-29T18:55:55.156567",
     "status": "completed"
    },
    "tags": []
   },
   "outputs": [],
   "source": [
    "#d = date(2018, 10, 29)\n",
    "#extract_prelim_statements(cik, start=d, end=d)"
   ]
  },
  {
   "cell_type": "code",
   "execution_count": 12,
   "metadata": {
    "papermill": {
     "duration": 0.13646,
     "end_time": "2019-05-29T18:55:55.444080",
     "exception": false,
     "start_time": "2019-05-29T18:55:55.307620",
     "status": "completed"
    },
    "tags": []
   },
   "outputs": [],
   "source": [
    "#d = date(2019, 4, 22)\n",
    "#filings = query_edgar_for_filings(cik, \"8-K\", start=d, end=d, require_xbrl=False)\n",
    "#report = query_edgar_for_submission_text(filings[0].href)\n",
    "#submission = load_submission(report.href)\n",
    "#tables = list(parse_tables(submission))\n",
    "#items_from_tables(tables)"
   ]
  },
  {
   "cell_type": "code",
   "execution_count": 13,
   "metadata": {
    "papermill": {
     "duration": 0.144517,
     "end_time": "2019-05-29T18:55:55.597854",
     "exception": false,
     "start_time": "2019-05-29T18:55:55.453337",
     "status": "completed"
    },
    "tags": []
   },
   "outputs": [],
   "source": [
    "#widget = query_prelims_for_override(cik, filing_date='2006-01-27', item=None)\n",
    "#widget"
   ]
  },
  {
   "cell_type": "code",
   "execution_count": 14,
   "metadata": {
    "papermill": {
     "duration": 0.141554,
     "end_time": "2019-05-29T18:55:55.756402",
     "exception": false,
     "start_time": "2019-05-29T18:55:55.614848",
     "status": "completed"
    },
    "tags": []
   },
   "outputs": [],
   "source": [
    "#widget.save()"
   ]
  }
 ],
 "metadata": {
  "celltoolbar": "Tags",
  "kernelspec": {
   "display_name": "Python 3",
   "language": "python",
   "name": "python3"
  },
  "language_info": {
   "codemirror_mode": {
    "name": "ipython",
    "version": 3
   },
   "file_extension": ".py",
   "mimetype": "text/x-python",
   "name": "python",
   "nbconvert_exporter": "python",
   "pygments_lexer": "ipython3",
   "version": "3.7.2"
  },
  "papermill": {
   "duration": 7.530364,
   "end_time": "2019-05-29T18:55:56.490038",
   "environment_variables": {},
   "exception": null,
   "input_path": "resources/edgar_prelim_quality.ipynb",
   "output_path": "../out/notebooks/0000804561.ipynb",
   "parameters": {
    "cik": "0000804561"
   },
   "start_time": "2019-05-29T18:55:48.959674",
   "version": "0.19.1"
  }
 },
 "nbformat": 4,
 "nbformat_minor": 2
}