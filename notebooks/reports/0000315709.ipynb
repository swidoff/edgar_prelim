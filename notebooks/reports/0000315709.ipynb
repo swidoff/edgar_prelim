{
 "cells": [
  {
   "cell_type": "code",
   "execution_count": 1,
   "metadata": {
    "papermill": {
     "duration": 1.464988,
     "end_time": "2019-05-29T18:39:54.349351",
     "exception": false,
     "start_time": "2019-05-29T18:39:52.884363",
     "status": "completed"
    },
    "tags": []
   },
   "outputs": [],
   "source": [
    "from edgar_prelim import *\n",
    "import pandas as pd\n",
    "%load_ext autoreload\n",
    "%autoreload 2\n",
    "%matplotlib inline\n",
    "pd.set_option('display.max_rows', 500)\n",
    "pd.set_option('display.max_columns', 500)"
   ]
  },
  {
   "cell_type": "code",
   "execution_count": 2,
   "metadata": {
    "papermill": {
     "duration": 0.139968,
     "end_time": "2019-05-29T18:39:54.504376",
     "exception": false,
     "start_time": "2019-05-29T18:39:54.364408",
     "status": "completed"
    },
    "tags": [
     "parameters"
    ]
   },
   "outputs": [],
   "source": [
    "cik='0000004962'"
   ]
  },
  {
   "cell_type": "code",
   "execution_count": 3,
   "metadata": {
    "papermill": {
     "duration": 0.121278,
     "end_time": "2019-05-29T18:39:54.641797",
     "exception": false,
     "start_time": "2019-05-29T18:39:54.520519",
     "status": "completed"
    },
    "tags": [
     "injected-parameters"
    ]
   },
   "outputs": [],
   "source": [
    "# Parameters\n",
    "cik = \"0000315709\"\n"
   ]
  },
  {
   "cell_type": "markdown",
   "metadata": {
    "papermill": {
     "duration": 0.016375,
     "end_time": "2019-05-29T18:39:54.666197",
     "exception": false,
     "start_time": "2019-05-29T18:39:54.649822",
     "status": "completed"
    },
    "tags": []
   },
   "source": [
    "# Company"
   ]
  },
  {
   "cell_type": "code",
   "execution_count": 4,
   "metadata": {
    "papermill": {
     "duration": 1.34959,
     "end_time": "2019-05-29T18:39:56.025896",
     "exception": false,
     "start_time": "2019-05-29T18:39:54.676306",
     "status": "completed"
    },
    "tags": []
   },
   "outputs": [
    {
     "data": {
      "text/html": [
       "<div>\n",
       "<style scoped>\n",
       "    .dataframe tbody tr th:only-of-type {\n",
       "        vertical-align: middle;\n",
       "    }\n",
       "\n",
       "    .dataframe tbody tr th {\n",
       "        vertical-align: top;\n",
       "    }\n",
       "\n",
       "    .dataframe thead th {\n",
       "        text-align: right;\n",
       "    }\n",
       "</style>\n",
       "<table border=\"1\" class=\"dataframe\">\n",
       "  <thead>\n",
       "    <tr style=\"text-align: right;\">\n",
       "      <th></th>\n",
       "      <th></th>\n",
       "    </tr>\n",
       "  </thead>\n",
       "  <tbody>\n",
       "    <tr>\n",
       "      <th>CIK</th>\n",
       "      <td>0000315709</td>\n",
       "    </tr>\n",
       "    <tr>\n",
       "      <th>SIC</th>\n",
       "      <td>6022</td>\n",
       "    </tr>\n",
       "    <tr>\n",
       "      <th>Description</th>\n",
       "      <td>STATE COMMERCIAL BANKS</td>\n",
       "    </tr>\n",
       "    <tr>\n",
       "      <th>Name</th>\n",
       "      <td>INTERNATIONAL BANCSHARES CORP</td>\n",
       "    </tr>\n",
       "    <tr>\n",
       "      <th>Ticker</th>\n",
       "      <td>IBOC</td>\n",
       "    </tr>\n",
       "  </tbody>\n",
       "</table>\n",
       "</div>"
      ],
      "text/plain": [
       "                                          \n",
       "CIK                             0000315709\n",
       "SIC                                   6022\n",
       "Description         STATE COMMERCIAL BANKS\n",
       "Name         INTERNATIONAL BANCSHARES CORP\n",
       "Ticker                                IBOC"
      ]
     },
     "execution_count": 4,
     "metadata": {},
     "output_type": "execute_result"
    }
   ],
   "source": [
    "cik_df = pd.read_sql(text(\"select cik, sic, sic_description, company_name, ticker from cik where cik = :cik\").bindparams(cik=cik), prelim_engine)\n",
    "cik_df.rename({'cik': 'CIK', 'sic': 'SIC', 'sic_description': 'Description', 'company_name': 'Name', 'ticker': 'Ticker'}, axis=1).T.rename({0: ''}, axis=1)"
   ]
  },
  {
   "cell_type": "code",
   "execution_count": 5,
   "metadata": {
    "papermill": {
     "duration": 0.20007,
     "end_time": "2019-05-29T18:39:56.241457",
     "exception": false,
     "start_time": "2019-05-29T18:39:56.041387",
     "status": "completed"
    },
    "tags": []
   },
   "outputs": [],
   "source": [
    "prelims = query_prelims(cik)"
   ]
  },
  {
   "cell_type": "markdown",
   "metadata": {
    "papermill": {
     "duration": 0.019495,
     "end_time": "2019-05-29T18:39:56.274756",
     "exception": false,
     "start_time": "2019-05-29T18:39:56.255261",
     "status": "completed"
    },
    "tags": []
   },
   "source": [
    "# Summary Statistics"
   ]
  },
  {
   "cell_type": "code",
   "execution_count": 6,
   "metadata": {
    "papermill": {
     "duration": 0.137053,
     "end_time": "2019-05-29T18:39:56.424849",
     "exception": false,
     "start_time": "2019-05-29T18:39:56.287796",
     "status": "completed"
    },
    "tags": []
   },
   "outputs": [
    {
     "data": {
      "text/html": [
       "<div>\n",
       "<style scoped>\n",
       "    .dataframe tbody tr th:only-of-type {\n",
       "        vertical-align: middle;\n",
       "    }\n",
       "\n",
       "    .dataframe tbody tr th {\n",
       "        vertical-align: top;\n",
       "    }\n",
       "\n",
       "    .dataframe thead th {\n",
       "        text-align: right;\n",
       "    }\n",
       "</style>\n",
       "<table border=\"1\" class=\"dataframe\">\n",
       "  <thead>\n",
       "    <tr style=\"text-align: right;\">\n",
       "      <th></th>\n",
       "      <th>count</th>\n",
       "      <th>mean</th>\n",
       "      <th>std</th>\n",
       "      <th>min</th>\n",
       "      <th>25%</th>\n",
       "      <th>50%</th>\n",
       "      <th>75%</th>\n",
       "      <th>max</th>\n",
       "    </tr>\n",
       "    <tr>\n",
       "      <th>item</th>\n",
       "      <th></th>\n",
       "      <th></th>\n",
       "      <th></th>\n",
       "      <th></th>\n",
       "      <th></th>\n",
       "      <th></th>\n",
       "      <th></th>\n",
       "      <th></th>\n",
       "    </tr>\n",
       "  </thead>\n",
       "  <tbody>\n",
       "    <tr>\n",
       "      <th>interest income</th>\n",
       "      <td>1.0</td>\n",
       "      <td>353928000.0</td>\n",
       "      <td>NaN</td>\n",
       "      <td>353928000.0</td>\n",
       "      <td>353928000.0</td>\n",
       "      <td>353928000.0</td>\n",
       "      <td>353928000.0</td>\n",
       "      <td>353928000.0</td>\n",
       "    </tr>\n",
       "    <tr>\n",
       "      <th>net income</th>\n",
       "      <td>1.0</td>\n",
       "      <td>100631000.0</td>\n",
       "      <td>NaN</td>\n",
       "      <td>100631000.0</td>\n",
       "      <td>100631000.0</td>\n",
       "      <td>100631000.0</td>\n",
       "      <td>100631000.0</td>\n",
       "      <td>100631000.0</td>\n",
       "    </tr>\n",
       "    <tr>\n",
       "      <th>net interest income</th>\n",
       "      <td>1.0</td>\n",
       "      <td>237513000.0</td>\n",
       "      <td>NaN</td>\n",
       "      <td>237513000.0</td>\n",
       "      <td>237513000.0</td>\n",
       "      <td>237513000.0</td>\n",
       "      <td>237513000.0</td>\n",
       "      <td>237513000.0</td>\n",
       "    </tr>\n",
       "  </tbody>\n",
       "</table>\n",
       "</div>"
      ],
      "text/plain": [
       "                     count         mean  std          min          25%  \\\n",
       "item                                                                     \n",
       "interest income        1.0  353928000.0  NaN  353928000.0  353928000.0   \n",
       "net income             1.0  100631000.0  NaN  100631000.0  100631000.0   \n",
       "net interest income    1.0  237513000.0  NaN  237513000.0  237513000.0   \n",
       "\n",
       "                             50%          75%          max  \n",
       "item                                                        \n",
       "interest income      353928000.0  353928000.0  353928000.0  \n",
       "net income           100631000.0  100631000.0  100631000.0  \n",
       "net interest income  237513000.0  237513000.0  237513000.0  "
      ]
     },
     "execution_count": 6,
     "metadata": {},
     "output_type": "execute_result"
    }
   ],
   "source": [
    "prelims.groupby('item').item_value.describe()"
   ]
  },
  {
   "cell_type": "markdown",
   "metadata": {
    "papermill": {
     "duration": 0.017753,
     "end_time": "2019-05-29T18:39:56.454254",
     "exception": false,
     "start_time": "2019-05-29T18:39:56.436501",
     "status": "completed"
    },
    "tags": []
   },
   "source": [
    "# Plots"
   ]
  },
  {
   "cell_type": "code",
   "execution_count": 7,
   "metadata": {
    "papermill": {
     "duration": 0.698265,
     "end_time": "2019-05-29T18:39:57.164427",
     "exception": false,
     "start_time": "2019-05-29T18:39:56.466162",
     "status": "completed"
    },
    "tags": []
   },
   "outputs": [
    {
     "name": "stderr",
     "output_type": "stream",
     "text": [
      "C:\\ProgramData\\Miniconda3\\lib\\site-packages\\pandas\\plotting\\_core.py:998: UserWarning: Attempting to set identical left==right results\n",
      "in singular transformations; automatically expanding.\n",
      "left=731271.0, right=731271.0\n",
      "  ax.set_xlim(left, right)\n"
     ]
    },
    {
     "data": {
      "image/png": "[encoded data removed]",
      "text/plain": [
       "<Figure size 1440x720 with 6 Axes>"
      ]
     },
     "metadata": {
      "needs_background": "light"
     },
     "output_type": "display_data"
    }
   ],
   "source": [
    "_ = prelims.set_index('filing_date').pivot(columns='item', values='item_value').fillna(method=\"ffill\").plot(subplots=True, layout=(2, 3), figsize=(20, 10), sharex=False)"
   ]
  },
  {
   "cell_type": "markdown",
   "metadata": {
    "papermill": {
     "duration": 0.013921,
     "end_time": "2019-05-29T18:39:57.196433",
     "exception": false,
     "start_time": "2019-05-29T18:39:57.182512",
     "status": "completed"
    },
    "tags": []
   },
   "source": [
    "# Quality"
   ]
  },
  {
   "cell_type": "code",
   "execution_count": 8,
   "metadata": {
    "papermill": {
     "duration": 0.173468,
     "end_time": "2019-05-29T18:39:57.383880",
     "exception": false,
     "start_time": "2019-05-29T18:39:57.210412",
     "status": "completed"
    },
    "tags": []
   },
   "outputs": [
    {
     "data": {
      "text/html": [
       "<div>\n",
       "<style scoped>\n",
       "    .dataframe tbody tr th:only-of-type {\n",
       "        vertical-align: middle;\n",
       "    }\n",
       "\n",
       "    .dataframe tbody tr th {\n",
       "        vertical-align: top;\n",
       "    }\n",
       "\n",
       "    .dataframe thead th {\n",
       "        text-align: right;\n",
       "    }\n",
       "</style>\n",
       "<table border=\"1\" class=\"dataframe\">\n",
       "  <thead>\n",
       "    <tr style=\"text-align: right;\">\n",
       "      <th></th>\n",
       "      <th></th>\n",
       "      <th>period</th>\n",
       "      <th>msg_type</th>\n",
       "      <th>message</th>\n",
       "    </tr>\n",
       "    <tr>\n",
       "      <th>cik</th>\n",
       "      <th>item</th>\n",
       "      <th></th>\n",
       "      <th></th>\n",
       "      <th></th>\n",
       "    </tr>\n",
       "  </thead>\n",
       "  <tbody>\n",
       "    <tr>\n",
       "      <th rowspan=\"3\" valign=\"top\">0000315709</th>\n",
       "      <th>book value per share</th>\n",
       "      <td>None</td>\n",
       "      <td>empty</td>\n",
       "      <td>No values for item</td>\n",
       "    </tr>\n",
       "    <tr>\n",
       "      <th>provision for loan losses</th>\n",
       "      <td>None</td>\n",
       "      <td>empty</td>\n",
       "      <td>No values for item</td>\n",
       "    </tr>\n",
       "    <tr>\n",
       "      <th>total revenue</th>\n",
       "      <td>None</td>\n",
       "      <td>empty</td>\n",
       "      <td>No values for item</td>\n",
       "    </tr>\n",
       "  </tbody>\n",
       "</table>\n",
       "</div>"
      ],
      "text/plain": [
       "                                     period msg_type             message\n",
       "cik        item                                                         \n",
       "0000315709 book value per share        None    empty  No values for item\n",
       "           provision for loan losses   None    empty  No values for item\n",
       "           total revenue               None    empty  No values for item"
      ]
     },
     "execution_count": 8,
     "metadata": {},
     "output_type": "execute_result"
    }
   ],
   "source": [
    "validate_prelims(prelims)"
   ]
  },
  {
   "cell_type": "markdown",
   "metadata": {
    "papermill": {
     "duration": 0.019035,
     "end_time": "2019-05-29T18:39:57.415287",
     "exception": false,
     "start_time": "2019-05-29T18:39:57.396252",
     "status": "completed"
    },
    "tags": []
   },
   "source": [
    "# Data"
   ]
  },
  {
   "cell_type": "code",
   "execution_count": 9,
   "metadata": {
    "papermill": {
     "duration": 0.162691,
     "end_time": "2019-05-29T18:39:57.591980",
     "exception": false,
     "start_time": "2019-05-29T18:39:57.429289",
     "status": "completed"
    },
    "tags": []
   },
   "outputs": [
    {
     "data": {
      "text/html": [
       "<style  type=\"text/css\" >\n",
       "</style><table id=\"T_28859782_8241_11e9_a780_34e12d8376c5\" ><thead>    <tr>        <th class=\"blank\" ></th>        <th class=\"blank level0\" ></th>        <th class=\"col_heading level0 col0\" >fiscal_period</th>        <th class=\"col_heading level0 col1\" >item_value</th>        <th class=\"col_heading level0 col2\" >src_table</th>        <th class=\"col_heading level0 col3\" >src_row</th>        <th class=\"col_heading level0 col4\" >src_column</th>        <th class=\"col_heading level0 col5\" >src_value</th>        <th class=\"col_heading level0 col6\" >src_units</th>    </tr>    <tr>        <th class=\"index_name level0\" >filing_date</th>        <th class=\"index_name level1\" >item</th>        <th class=\"blank\" ></th>        <th class=\"blank\" ></th>        <th class=\"blank\" ></th>        <th class=\"blank\" ></th>        <th class=\"blank\" ></th>        <th class=\"blank\" ></th>        <th class=\"blank\" ></th>    </tr></thead><tbody>\n",
       "                <tr>\n",
       "                        <th id=\"T_28859782_8241_11e9_a780_34e12d8376c5level0_row0\" class=\"row_heading level0 row0\" rowspan=3>2003-02-25</th>\n",
       "                        <th id=\"T_28859782_8241_11e9_a780_34e12d8376c5level1_row0\" class=\"row_heading level1 row0\" >interest income</th>\n",
       "                        <td id=\"T_28859782_8241_11e9_a780_34e12d8376c5row0_col0\" class=\"data row0 col0\" ><a href=\"https://www.sec.gov/Archives/edgar/data/315709/000110465903002980/0001104659-03-002980-index.htm\">2002Q4</a></td>\n",
       "                        <td id=\"T_28859782_8241_11e9_a780_34e12d8376c5row0_col1\" class=\"data row0 col1\" >3.53928e+08</td>\n",
       "                        <td id=\"T_28859782_8241_11e9_a780_34e12d8376c5row0_col2\" class=\"data row0 col2\" >Consolidated Financial Summary</td>\n",
       "                        <td id=\"T_28859782_8241_11e9_a780_34e12d8376c5row0_col3\" class=\"data row0 col3\" >Interest income</td>\n",
       "                        <td id=\"T_28859782_8241_11e9_a780_34e12d8376c5row0_col4\" class=\"data row0 col4\" >December 31, 2002</td>\n",
       "                        <td id=\"T_28859782_8241_11e9_a780_34e12d8376c5row0_col5\" class=\"data row0 col5\" >$353928</td>\n",
       "                        <td id=\"T_28859782_8241_11e9_a780_34e12d8376c5row0_col6\" class=\"data row0 col6\" >(Dollars in thousands, except per share data)</td>\n",
       "            </tr>\n",
       "            <tr>\n",
       "                                <th id=\"T_28859782_8241_11e9_a780_34e12d8376c5level1_row1\" class=\"row_heading level1 row1\" >net income</th>\n",
       "                        <td id=\"T_28859782_8241_11e9_a780_34e12d8376c5row1_col0\" class=\"data row1 col0\" ><a href=\"https://www.sec.gov/Archives/edgar/data/315709/000110465903002980/0001104659-03-002980-index.htm\">2002Q4</a></td>\n",
       "                        <td id=\"T_28859782_8241_11e9_a780_34e12d8376c5row1_col1\" class=\"data row1 col1\" >1.00631e+08</td>\n",
       "                        <td id=\"T_28859782_8241_11e9_a780_34e12d8376c5row1_col2\" class=\"data row1 col2\" >Consolidated Financial Summary</td>\n",
       "                        <td id=\"T_28859782_8241_11e9_a780_34e12d8376c5row1_col3\" class=\"data row1 col3\" >Net income</td>\n",
       "                        <td id=\"T_28859782_8241_11e9_a780_34e12d8376c5row1_col4\" class=\"data row1 col4\" >December 31, 2002</td>\n",
       "                        <td id=\"T_28859782_8241_11e9_a780_34e12d8376c5row1_col5\" class=\"data row1 col5\" >$100631</td>\n",
       "                        <td id=\"T_28859782_8241_11e9_a780_34e12d8376c5row1_col6\" class=\"data row1 col6\" >(Dollars in thousands, except per share data)</td>\n",
       "            </tr>\n",
       "            <tr>\n",
       "                                <th id=\"T_28859782_8241_11e9_a780_34e12d8376c5level1_row2\" class=\"row_heading level1 row2\" >net interest income</th>\n",
       "                        <td id=\"T_28859782_8241_11e9_a780_34e12d8376c5row2_col0\" class=\"data row2 col0\" ><a href=\"https://www.sec.gov/Archives/edgar/data/315709/000110465903002980/0001104659-03-002980-index.htm\">2002Q4</a></td>\n",
       "                        <td id=\"T_28859782_8241_11e9_a780_34e12d8376c5row2_col1\" class=\"data row2 col1\" >2.37513e+08</td>\n",
       "                        <td id=\"T_28859782_8241_11e9_a780_34e12d8376c5row2_col2\" class=\"data row2 col2\" >Consolidated Financial Summary</td>\n",
       "                        <td id=\"T_28859782_8241_11e9_a780_34e12d8376c5row2_col3\" class=\"data row2 col3\" >Net interest income</td>\n",
       "                        <td id=\"T_28859782_8241_11e9_a780_34e12d8376c5row2_col4\" class=\"data row2 col4\" >December 31, 2002</td>\n",
       "                        <td id=\"T_28859782_8241_11e9_a780_34e12d8376c5row2_col5\" class=\"data row2 col5\" >237513</td>\n",
       "                        <td id=\"T_28859782_8241_11e9_a780_34e12d8376c5row2_col6\" class=\"data row2 col6\" >(Dollars in thousands, except per share data)</td>\n",
       "            </tr>\n",
       "    </tbody></table>"
      ],
      "text/plain": [
       "<pandas.io.formats.style.Styler at 0x16e70705048>"
      ]
     },
     "execution_count": 9,
     "metadata": {},
     "output_type": "execute_result"
    }
   ],
   "source": [
    "def make_clickable(val: str) -> str: \n",
    "    if isinstance(val, str):\n",
    "        name, url = val.split('#')\n",
    "        return f'<a href=\"{url}\">{name}</a>'\n",
    "    else:\n",
    "        return ''\n",
    "\n",
    "(prelims\n",
    " .assign(fiscal_period = prelims.fiscal_period.str.cat(prelims.filing_href, sep='#'), filing_date = prelims.filing_date.map(lambda d: d.strftime('%Y-%m-%d')))\n",
    " .loc[:, ['filing_date', 'fiscal_period', 'item', 'item_value', 'src_table', 'src_row', 'src_column', 'src_value', 'src_units']]\n",
    " .set_index(['filing_date', 'item'])\n",
    " .style.format({'fiscal_period': make_clickable})\n",
    ")"
   ]
  },
  {
   "cell_type": "code",
   "execution_count": 10,
   "metadata": {
    "papermill": {
     "duration": 0.137623,
     "end_time": "2019-05-29T18:39:57.741937",
     "exception": false,
     "start_time": "2019-05-29T18:39:57.604314",
     "status": "completed"
    },
    "tags": []
   },
   "outputs": [],
   "source": [
    "#discard_prelim(cik, date(2019, 12, 31))\n",
    "#force_reload_prelim(cik, date(2019, 12, 31), delete_filings=False)\n",
    "#force_reload_prelim_between(cik,  start=date(2002, 6, 1), end=date(2019, 12, 31), delete_filings=False)"
   ]
  },
  {
   "cell_type": "code",
   "execution_count": 11,
   "metadata": {
    "papermill": {
     "duration": 0.134695,
     "end_time": "2019-05-29T18:39:57.894631",
     "exception": false,
     "start_time": "2019-05-29T18:39:57.759936",
     "status": "completed"
    },
    "tags": []
   },
   "outputs": [],
   "source": [
    "#d = date(2018, 10, 29)\n",
    "#extract_prelim_statements(cik, start=d, end=d)"
   ]
  },
  {
   "cell_type": "code",
   "execution_count": 12,
   "metadata": {
    "papermill": {
     "duration": 0.154239,
     "end_time": "2019-05-29T18:39:58.064414",
     "exception": false,
     "start_time": "2019-05-29T18:39:57.910175",
     "status": "completed"
    },
    "tags": []
   },
   "outputs": [],
   "source": [
    "#d = date(2019, 4, 22)\n",
    "#filings = query_edgar_for_filings(cik, \"8-K\", start=d, end=d, require_xbrl=False)\n",
    "#report = query_edgar_for_submission_text(filings[0].href)\n",
    "#submission = load_submission(report.href)\n",
    "#tables = list(parse_tables(submission))\n",
    "#items_from_tables(tables)"
   ]
  },
  {
   "cell_type": "code",
   "execution_count": 13,
   "metadata": {
    "papermill": {
     "duration": 0.158609,
     "end_time": "2019-05-29T18:39:58.235069",
     "exception": false,
     "start_time": "2019-05-29T18:39:58.076460",
     "status": "completed"
    },
    "tags": []
   },
   "outputs": [],
   "source": [
    "#widget = query_prelims_for_override(cik, filing_date='2006-01-27', item=None)\n",
    "#widget"
   ]
  },
  {
   "cell_type": "code",
   "execution_count": 14,
   "metadata": {
    "papermill": {
     "duration": 0.153665,
     "end_time": "2019-05-29T18:39:58.409731",
     "exception": false,
     "start_time": "2019-05-29T18:39:58.256066",
     "status": "completed"
    },
    "tags": []
   },
   "outputs": [],
   "source": [
    "#widget.save()"
   ]
  }
 ],
 "metadata": {
  "celltoolbar": "Tags",
  "kernelspec": {
   "display_name": "Python 3",
   "language": "python",
   "name": "python3"
  },
  "language_info": {
   "codemirror_mode": {
    "name": "ipython",
    "version": 3
   },
   "file_extension": ".py",
   "mimetype": "text/x-python",
   "name": "python",
   "nbconvert_exporter": "python",
   "pygments_lexer": "ipython3",
   "version": "3.7.2"
  },
  "papermill": {
   "duration": 7.637525,
   "end_time": "2019-05-29T18:39:59.665814",
   "environment_variables": {},
   "exception": null,
   "input_path": "resources/edgar_prelim_quality.ipynb",
   "output_path": "../out/notebooks/0000315709.ipynb",
   "parameters": {
    "cik": "0000315709"
   },
   "start_time": "2019-05-29T18:39:52.028289",
   "version": "0.19.1"
  }
 },
 "nbformat": 4,
 "nbformat_minor": 2
}