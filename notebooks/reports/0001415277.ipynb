{
 "cells": [
  {
   "cell_type": "code",
   "execution_count": 1,
   "metadata": {
    "papermill": {
     "duration": 2.120545,
     "end_time": "2019-05-29T19:30:38.543917",
     "exception": false,
     "start_time": "2019-05-29T19:30:36.423372",
     "status": "completed"
    },
    "tags": []
   },
   "outputs": [],
   "source": [
    "from edgar_prelim import *\n",
    "import pandas as pd\n",
    "%load_ext autoreload\n",
    "%autoreload 2\n",
    "%matplotlib inline\n",
    "pd.set_option('display.max_rows', 500)\n",
    "pd.set_option('display.max_columns', 500)"
   ]
  },
  {
   "cell_type": "code",
   "execution_count": 2,
   "metadata": {
    "papermill": {
     "duration": 0.194156,
     "end_time": "2019-05-29T19:30:38.756157",
     "exception": false,
     "start_time": "2019-05-29T19:30:38.562001",
     "status": "completed"
    },
    "tags": [
     "parameters"
    ]
   },
   "outputs": [],
   "source": [
    "cik='0000004962'"
   ]
  },
  {
   "cell_type": "code",
   "execution_count": 3,
   "metadata": {
    "papermill": {
     "duration": 0.178427,
     "end_time": "2019-05-29T19:30:38.956747",
     "exception": false,
     "start_time": "2019-05-29T19:30:38.778320",
     "status": "completed"
    },
    "tags": [
     "injected-parameters"
    ]
   },
   "outputs": [],
   "source": [
    "# Parameters\n",
    "cik = \"0001415277\"\n"
   ]
  },
  {
   "cell_type": "markdown",
   "metadata": {
    "papermill": {
     "duration": 0.015624,
     "end_time": "2019-05-29T19:30:38.994535",
     "exception": false,
     "start_time": "2019-05-29T19:30:38.978911",
     "status": "completed"
    },
    "tags": []
   },
   "source": [
    "# Company"
   ]
  },
  {
   "cell_type": "code",
   "execution_count": 4,
   "metadata": {
    "papermill": {
     "duration": 1.453923,
     "end_time": "2019-05-29T19:30:40.464122",
     "exception": false,
     "start_time": "2019-05-29T19:30:39.010199",
     "status": "completed"
    },
    "tags": []
   },
   "outputs": [
    {
     "data": {
      "text/html": [
       "<div>\n",
       "<style scoped>\n",
       "    .dataframe tbody tr th:only-of-type {\n",
       "        vertical-align: middle;\n",
       "    }\n",
       "\n",
       "    .dataframe tbody tr th {\n",
       "        vertical-align: top;\n",
       "    }\n",
       "\n",
       "    .dataframe thead th {\n",
       "        text-align: right;\n",
       "    }\n",
       "</style>\n",
       "<table border=\"1\" class=\"dataframe\">\n",
       "  <thead>\n",
       "    <tr style=\"text-align: right;\">\n",
       "      <th></th>\n",
       "      <th></th>\n",
       "    </tr>\n",
       "  </thead>\n",
       "  <tbody>\n",
       "    <tr>\n",
       "      <th>CIK</th>\n",
       "      <td>0001415277</td>\n",
       "    </tr>\n",
       "    <tr>\n",
       "      <th>SIC</th>\n",
       "      <td>6022</td>\n",
       "    </tr>\n",
       "    <tr>\n",
       "      <th>Description</th>\n",
       "      <td>STATE COMMERCIAL BANKS</td>\n",
       "    </tr>\n",
       "    <tr>\n",
       "      <th>Name</th>\n",
       "      <td>1st United Bancorp, Inc.</td>\n",
       "    </tr>\n",
       "    <tr>\n",
       "      <th>Ticker</th>\n",
       "      <td>FUBC</td>\n",
       "    </tr>\n",
       "  </tbody>\n",
       "</table>\n",
       "</div>"
      ],
      "text/plain": [
       "                                     \n",
       "CIK                        0001415277\n",
       "SIC                              6022\n",
       "Description    STATE COMMERCIAL BANKS\n",
       "Name         1st United Bancorp, Inc.\n",
       "Ticker                           FUBC"
      ]
     },
     "execution_count": 4,
     "metadata": {},
     "output_type": "execute_result"
    }
   ],
   "source": [
    "cik_df = pd.read_sql(text(\"select cik, sic, sic_description, company_name, ticker from cik where cik = :cik\").bindparams(cik=cik), prelim_engine)\n",
    "cik_df.rename({'cik': 'CIK', 'sic': 'SIC', 'sic_description': 'Description', 'company_name': 'Name', 'ticker': 'Ticker'}, axis=1).T.rename({0: ''}, axis=1)"
   ]
  },
  {
   "cell_type": "code",
   "execution_count": 5,
   "metadata": {
    "papermill": {
     "duration": 0.241953,
     "end_time": "2019-05-29T19:30:40.714136",
     "exception": false,
     "start_time": "2019-05-29T19:30:40.472183",
     "status": "completed"
    },
    "tags": []
   },
   "outputs": [],
   "source": [
    "prelims = query_prelims(cik)"
   ]
  },
  {
   "cell_type": "markdown",
   "metadata": {
    "papermill": {
     "duration": 0.015619,
     "end_time": "2019-05-29T19:30:40.745325",
     "exception": false,
     "start_time": "2019-05-29T19:30:40.729706",
     "status": "completed"
    },
    "tags": []
   },
   "source": [
    "# Summary Statistics"
   ]
  },
  {
   "cell_type": "code",
   "execution_count": 6,
   "metadata": {
    "papermill": {
     "duration": 0.18498,
     "end_time": "2019-05-29T19:30:40.945931",
     "exception": false,
     "start_time": "2019-05-29T19:30:40.760951",
     "status": "completed"
    },
    "tags": []
   },
   "outputs": [
    {
     "data": {
      "text/html": [
       "<div>\n",
       "<style scoped>\n",
       "    .dataframe tbody tr th:only-of-type {\n",
       "        vertical-align: middle;\n",
       "    }\n",
       "\n",
       "    .dataframe tbody tr th {\n",
       "        vertical-align: top;\n",
       "    }\n",
       "\n",
       "    .dataframe thead th {\n",
       "        text-align: right;\n",
       "    }\n",
       "</style>\n",
       "<table border=\"1\" class=\"dataframe\">\n",
       "  <thead>\n",
       "    <tr style=\"text-align: right;\">\n",
       "      <th></th>\n",
       "      <th>count</th>\n",
       "      <th>mean</th>\n",
       "      <th>std</th>\n",
       "      <th>min</th>\n",
       "      <th>25%</th>\n",
       "      <th>50%</th>\n",
       "      <th>75%</th>\n",
       "      <th>max</th>\n",
       "    </tr>\n",
       "    <tr>\n",
       "      <th>item</th>\n",
       "      <th></th>\n",
       "      <th></th>\n",
       "      <th></th>\n",
       "      <th></th>\n",
       "      <th></th>\n",
       "      <th></th>\n",
       "      <th></th>\n",
       "      <th></th>\n",
       "    </tr>\n",
       "  </thead>\n",
       "  <tbody>\n",
       "    <tr>\n",
       "      <th>book value per share</th>\n",
       "      <td>1.0</td>\n",
       "      <td>6.92</td>\n",
       "      <td>NaN</td>\n",
       "      <td>6.92</td>\n",
       "      <td>6.92</td>\n",
       "      <td>6.92</td>\n",
       "      <td>6.92</td>\n",
       "      <td>6.92</td>\n",
       "    </tr>\n",
       "    <tr>\n",
       "      <th>provision for loan losses</th>\n",
       "      <td>1.0</td>\n",
       "      <td>14032000.00</td>\n",
       "      <td>NaN</td>\n",
       "      <td>14032000.00</td>\n",
       "      <td>14032000.00</td>\n",
       "      <td>14032000.00</td>\n",
       "      <td>14032000.00</td>\n",
       "      <td>14032000.00</td>\n",
       "    </tr>\n",
       "  </tbody>\n",
       "</table>\n",
       "</div>"
      ],
      "text/plain": [
       "                           count         mean  std          min          25%  \\\n",
       "item                                                                           \n",
       "book value per share         1.0         6.92  NaN         6.92         6.92   \n",
       "provision for loan losses    1.0  14032000.00  NaN  14032000.00  14032000.00   \n",
       "\n",
       "                                   50%          75%          max  \n",
       "item                                                              \n",
       "book value per share              6.92         6.92         6.92  \n",
       "provision for loan losses  14032000.00  14032000.00  14032000.00  "
      ]
     },
     "execution_count": 6,
     "metadata": {},
     "output_type": "execute_result"
    }
   ],
   "source": [
    "prelims.groupby('item').item_value.describe()"
   ]
  },
  {
   "cell_type": "markdown",
   "metadata": {
    "papermill": {
     "duration": 0.022184,
     "end_time": "2019-05-29T19:30:40.983733",
     "exception": false,
     "start_time": "2019-05-29T19:30:40.961549",
     "status": "completed"
    },
    "tags": []
   },
   "source": [
    "# Plots"
   ]
  },
  {
   "cell_type": "code",
   "execution_count": 7,
   "metadata": {
    "papermill": {
     "duration": 0.732983,
     "end_time": "2019-05-29T19:30:41.732391",
     "exception": false,
     "start_time": "2019-05-29T19:30:40.999408",
     "status": "completed"
    },
    "tags": []
   },
   "outputs": [
    {
     "data": {
      "image/png": "[encoded data removed]",
      "text/plain": [
       "<Figure size 1440x720 with 6 Axes>"
      ]
     },
     "metadata": {
      "needs_background": "light"
     },
     "output_type": "display_data"
    }
   ],
   "source": [
    "_ = prelims.set_index('filing_date').pivot(columns='item', values='item_value').fillna(method=\"ffill\").plot(subplots=True, layout=(2, 3), figsize=(20, 10), sharex=False)"
   ]
  },
  {
   "cell_type": "markdown",
   "metadata": {
    "papermill": {
     "duration": 0.015622,
     "end_time": "2019-05-29T19:30:41.763596",
     "exception": false,
     "start_time": "2019-05-29T19:30:41.747974",
     "status": "completed"
    },
    "tags": []
   },
   "source": [
    "# Quality"
   ]
  },
  {
   "cell_type": "code",
   "execution_count": 8,
   "metadata": {
    "papermill": {
     "duration": 0.247549,
     "end_time": "2019-05-29T19:30:42.033282",
     "exception": false,
     "start_time": "2019-05-29T19:30:41.785733",
     "status": "completed"
    },
    "tags": []
   },
   "outputs": [
    {
     "data": {
      "text/html": [
       "<div>\n",
       "<style scoped>\n",
       "    .dataframe tbody tr th:only-of-type {\n",
       "        vertical-align: middle;\n",
       "    }\n",
       "\n",
       "    .dataframe tbody tr th {\n",
       "        vertical-align: top;\n",
       "    }\n",
       "\n",
       "    .dataframe thead th {\n",
       "        text-align: right;\n",
       "    }\n",
       "</style>\n",
       "<table border=\"1\" class=\"dataframe\">\n",
       "  <thead>\n",
       "    <tr style=\"text-align: right;\">\n",
       "      <th></th>\n",
       "      <th></th>\n",
       "      <th>period</th>\n",
       "      <th>msg_type</th>\n",
       "      <th>message</th>\n",
       "    </tr>\n",
       "    <tr>\n",
       "      <th>cik</th>\n",
       "      <th>item</th>\n",
       "      <th></th>\n",
       "      <th></th>\n",
       "      <th></th>\n",
       "    </tr>\n",
       "  </thead>\n",
       "  <tbody>\n",
       "    <tr>\n",
       "      <th rowspan=\"6\" valign=\"top\">0001415277</th>\n",
       "      <th>book value per share</th>\n",
       "      <td>2009Q4 to 2011Q1: 6 periods</td>\n",
       "      <td>missing</td>\n",
       "      <td>Missing period</td>\n",
       "    </tr>\n",
       "    <tr>\n",
       "      <th>interest income</th>\n",
       "      <td>None</td>\n",
       "      <td>empty</td>\n",
       "      <td>No values for item</td>\n",
       "    </tr>\n",
       "    <tr>\n",
       "      <th>net income</th>\n",
       "      <td>None</td>\n",
       "      <td>empty</td>\n",
       "      <td>No values for item</td>\n",
       "    </tr>\n",
       "    <tr>\n",
       "      <th>net interest income</th>\n",
       "      <td>None</td>\n",
       "      <td>empty</td>\n",
       "      <td>No values for item</td>\n",
       "    </tr>\n",
       "    <tr>\n",
       "      <th>provision for loan losses</th>\n",
       "      <td>2009Q3 to 2010Q4: 6 periods</td>\n",
       "      <td>missing</td>\n",
       "      <td>Missing period</td>\n",
       "    </tr>\n",
       "    <tr>\n",
       "      <th>total revenue</th>\n",
       "      <td>None</td>\n",
       "      <td>empty</td>\n",
       "      <td>No values for item</td>\n",
       "    </tr>\n",
       "  </tbody>\n",
       "</table>\n",
       "</div>"
      ],
      "text/plain": [
       "                                                           period msg_type  \\\n",
       "cik        item                                                              \n",
       "0001415277 book value per share       2009Q4 to 2011Q1: 6 periods  missing   \n",
       "           interest income                                   None    empty   \n",
       "           net income                                        None    empty   \n",
       "           net interest income                               None    empty   \n",
       "           provision for loan losses  2009Q3 to 2010Q4: 6 periods  missing   \n",
       "           total revenue                                     None    empty   \n",
       "\n",
       "                                                 message  \n",
       "cik        item                                           \n",
       "0001415277 book value per share           Missing period  \n",
       "           interest income            No values for item  \n",
       "           net income                 No values for item  \n",
       "           net interest income        No values for item  \n",
       "           provision for loan losses      Missing period  \n",
       "           total revenue              No values for item  "
      ]
     },
     "execution_count": 8,
     "metadata": {},
     "output_type": "execute_result"
    }
   ],
   "source": [
    "validate_prelims(prelims)"
   ]
  },
  {
   "cell_type": "markdown",
   "metadata": {
    "papermill": {
     "duration": 0.03125,
     "end_time": "2019-05-29T19:30:42.080109",
     "exception": false,
     "start_time": "2019-05-29T19:30:42.048859",
     "status": "completed"
    },
    "tags": []
   },
   "source": [
    "# Data"
   ]
  },
  {
   "cell_type": "code",
   "execution_count": 9,
   "metadata": {
    "papermill": {
     "duration": 0.231937,
     "end_time": "2019-05-29T19:30:42.334206",
     "exception": false,
     "start_time": "2019-05-29T19:30:42.102269",
     "status": "completed"
    },
    "tags": []
   },
   "outputs": [
    {
     "data": {
      "text/html": [
       "<style  type=\"text/css\" >\n",
       "</style><table id=\"T_3f5339c2_8248_11e9_90aa_34e12d8376c5\" ><thead>    <tr>        <th class=\"blank\" ></th>        <th class=\"blank level0\" ></th>        <th class=\"col_heading level0 col0\" >fiscal_period</th>        <th class=\"col_heading level0 col1\" >item_value</th>        <th class=\"col_heading level0 col2\" >src_table</th>        <th class=\"col_heading level0 col3\" >src_row</th>        <th class=\"col_heading level0 col4\" >src_column</th>        <th class=\"col_heading level0 col5\" >src_value</th>        <th class=\"col_heading level0 col6\" >src_units</th>    </tr>    <tr>        <th class=\"index_name level0\" >filing_date</th>        <th class=\"index_name level1\" >item</th>        <th class=\"blank\" ></th>        <th class=\"blank\" ></th>        <th class=\"blank\" ></th>        <th class=\"blank\" ></th>        <th class=\"blank\" ></th>        <th class=\"blank\" ></th>        <th class=\"blank\" ></th>    </tr></thead><tbody>\n",
       "                <tr>\n",
       "                        <th id=\"T_3f5339c2_8248_11e9_90aa_34e12d8376c5level0_row0\" class=\"row_heading level0 row0\" >2009-12-08</th>\n",
       "                        <th id=\"T_3f5339c2_8248_11e9_90aa_34e12d8376c5level1_row0\" class=\"row_heading level1 row0\" >book value per share</th>\n",
       "                        <td id=\"T_3f5339c2_8248_11e9_90aa_34e12d8376c5row0_col0\" class=\"data row0 col0\" ><a href=\"https://www.sec.gov/Archives/edgar/data/1415277/000117120009000999/0001171200-09-000999-index.htm\">2009Q3</a></td>\n",
       "                        <td id=\"T_3f5339c2_8248_11e9_90aa_34e12d8376c5row0_col1\" class=\"data row0 col1\" >6.92</td>\n",
       "                        <td id=\"T_3f5339c2_8248_11e9_90aa_34e12d8376c5row0_col2\" class=\"data row0 col2\" >Financial Highlights</td>\n",
       "                        <td id=\"T_3f5339c2_8248_11e9_90aa_34e12d8376c5row0_col3\" class=\"data row0 col3\" >Book Value Per Share</td>\n",
       "                        <td id=\"T_3f5339c2_8248_11e9_90aa_34e12d8376c5row0_col4\" class=\"data row0 col4\" >September 30, 2009</td>\n",
       "                        <td id=\"T_3f5339c2_8248_11e9_90aa_34e12d8376c5row0_col5\" class=\"data row0 col5\" >$6.92</td>\n",
       "                        <td id=\"T_3f5339c2_8248_11e9_90aa_34e12d8376c5row0_col6\" class=\"data row0 col6\" >None</td>\n",
       "            </tr>\n",
       "            <tr>\n",
       "                        <th id=\"T_3f5339c2_8248_11e9_90aa_34e12d8376c5level0_row1\" class=\"row_heading level0 row1\" >2011-04-27</th>\n",
       "                        <th id=\"T_3f5339c2_8248_11e9_90aa_34e12d8376c5level1_row1\" class=\"row_heading level1 row1\" >provision for loan losses</th>\n",
       "                        <td id=\"T_3f5339c2_8248_11e9_90aa_34e12d8376c5row1_col0\" class=\"data row1 col0\" ><a href=\"https://www.sec.gov/Archives/edgar/data/1415277/000117120011000362/0001171200-11-000362-index.htm\">2011Q1</a></td>\n",
       "                        <td id=\"T_3f5339c2_8248_11e9_90aa_34e12d8376c5row1_col1\" class=\"data row1 col1\" >1.4032e+07</td>\n",
       "                        <td id=\"T_3f5339c2_8248_11e9_90aa_34e12d8376c5row1_col2\" class=\"data row1 col2\" >BALANCE SHEET DATA</td>\n",
       "                        <td id=\"T_3f5339c2_8248_11e9_90aa_34e12d8376c5row1_col3\" class=\"data row1 col3\" >Allowance for loan losses</td>\n",
       "                        <td id=\"T_3f5339c2_8248_11e9_90aa_34e12d8376c5row1_col4\" class=\"data row1 col4\" >March 31, 2011</td>\n",
       "                        <td id=\"T_3f5339c2_8248_11e9_90aa_34e12d8376c5row1_col5\" class=\"data row1 col5\" >14032</td>\n",
       "                        <td id=\"T_3f5339c2_8248_11e9_90aa_34e12d8376c5row1_col6\" class=\"data row1 col6\" >(Amounts in thousands, except per share data)</td>\n",
       "            </tr>\n",
       "    </tbody></table>"
      ],
      "text/plain": [
       "<pandas.io.formats.style.Styler at 0x13412a5cc18>"
      ]
     },
     "execution_count": 9,
     "metadata": {},
     "output_type": "execute_result"
    }
   ],
   "source": [
    "def make_clickable(val: str) -> str: \n",
    "    if isinstance(val, str):\n",
    "        name, url = val.split('#')\n",
    "        return f'<a href=\"{url}\">{name}</a>'\n",
    "    else:\n",
    "        return ''\n",
    "\n",
    "(prelims\n",
    " .assign(fiscal_period = prelims.fiscal_period.str.cat(prelims.filing_href, sep='#'), filing_date = prelims.filing_date.map(lambda d: d.strftime('%Y-%m-%d')))\n",
    " .loc[:, ['filing_date', 'fiscal_period', 'item', 'item_value', 'src_table', 'src_row', 'src_column', 'src_value', 'src_units']]\n",
    " .set_index(['filing_date', 'item'])\n",
    " .style.format({'fiscal_period': make_clickable})\n",
    ")"
   ]
  },
  {
   "cell_type": "code",
   "execution_count": 10,
   "metadata": {
    "papermill": {
     "duration": 0.231874,
     "end_time": "2019-05-29T19:30:42.581702",
     "exception": false,
     "start_time": "2019-05-29T19:30:42.349828",
     "status": "completed"
    },
    "tags": []
   },
   "outputs": [],
   "source": [
    "#discard_prelim(cik, date(2019, 12, 31))\n",
    "#force_reload_prelim(cik, date(2019, 12, 31), delete_filings=False)\n",
    "#force_reload_prelim_between(cik,  start=date(2002, 6, 1), end=date(2019, 12, 31), delete_filings=False)"
   ]
  },
  {
   "cell_type": "code",
   "execution_count": 11,
   "metadata": {
    "papermill": {
     "duration": 0.247462,
     "end_time": "2019-05-29T19:30:42.851338",
     "exception": false,
     "start_time": "2019-05-29T19:30:42.603876",
     "status": "completed"
    },
    "tags": []
   },
   "outputs": [],
   "source": [
    "#d = date(2018, 10, 29)\n",
    "#extract_prelim_statements(cik, start=d, end=d)"
   ]
  },
  {
   "cell_type": "code",
   "execution_count": 12,
   "metadata": {
    "papermill": {
     "duration": 0.254093,
     "end_time": "2019-05-29T19:30:43.121058",
     "exception": false,
     "start_time": "2019-05-29T19:30:42.866965",
     "status": "completed"
    },
    "tags": []
   },
   "outputs": [],
   "source": [
    "#d = date(2019, 4, 22)\n",
    "#filings = query_edgar_for_filings(cik, \"8-K\", start=d, end=d, require_xbrl=False)\n",
    "#report = query_edgar_for_submission_text(filings[0].href)\n",
    "#submission = load_submission(report.href)\n",
    "#tables = list(parse_tables(submission))\n",
    "#items_from_tables(tables)"
   ]
  },
  {
   "cell_type": "code",
   "execution_count": 13,
   "metadata": {
    "papermill": {
     "duration": 0.254026,
     "end_time": "2019-05-29T19:30:43.406341",
     "exception": false,
     "start_time": "2019-05-29T19:30:43.152315",
     "status": "completed"
    },
    "tags": []
   },
   "outputs": [],
   "source": [
    "#widget = query_prelims_for_override(cik, filing_date='2006-01-27', item=None)\n",
    "#widget"
   ]
  },
  {
   "cell_type": "code",
   "execution_count": 14,
   "metadata": {
    "papermill": {
     "duration": 0.269809,
     "end_time": "2019-05-29T19:30:43.707406",
     "exception": false,
     "start_time": "2019-05-29T19:30:43.437597",
     "status": "completed"
    },
    "tags": []
   },
   "outputs": [],
   "source": [
    "#widget.save()"
   ]
  }
 ],
 "metadata": {
  "celltoolbar": "Tags",
  "kernelspec": {
   "display_name": "Python 3",
   "language": "python",
   "name": "python3"
  },
  "language_info": {
   "codemirror_mode": {
    "name": "ipython",
    "version": 3
   },
   "file_extension": ".py",
   "mimetype": "text/x-python",
   "name": "python",
   "nbconvert_exporter": "python",
   "pygments_lexer": "ipython3",
   "version": "3.7.2"
  },
  "papermill": {
   "duration": 9.535689,
   "end_time": "2019-05-29T19:30:44.690844",
   "environment_variables": {},
   "exception": null,
   "input_path": "resources/edgar_prelim_quality.ipynb",
   "output_path": "../out/notebooks/0001415277.ipynb",
   "parameters": {
    "cik": "0001415277"
   },
   "start_time": "2019-05-29T19:30:35.155155",
   "version": "0.19.1"
  }
 },
 "nbformat": 4,
 "nbformat_minor": 2
}