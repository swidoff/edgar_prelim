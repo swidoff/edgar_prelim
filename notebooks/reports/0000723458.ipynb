{
 "cells": [
  {
   "cell_type": "code",
   "execution_count": 1,
   "metadata": {
    "papermill": {
     "duration": 1.652389,
     "end_time": "2019-05-29T18:48:58.276586",
     "exception": false,
     "start_time": "2019-05-29T18:48:56.624197",
     "status": "completed"
    },
    "tags": []
   },
   "outputs": [],
   "source": [
    "from edgar_prelim import *\n",
    "import pandas as pd\n",
    "%load_ext autoreload\n",
    "%autoreload 2\n",
    "%matplotlib inline\n",
    "pd.set_option('display.max_rows', 500)\n",
    "pd.set_option('display.max_columns', 500)"
   ]
  },
  {
   "cell_type": "code",
   "execution_count": 2,
   "metadata": {
    "papermill": {
     "duration": 0.139133,
     "end_time": "2019-05-29T18:48:58.428916",
     "exception": false,
     "start_time": "2019-05-29T18:48:58.289783",
     "status": "completed"
    },
    "tags": [
     "parameters"
    ]
   },
   "outputs": [],
   "source": [
    "cik='0000004962'"
   ]
  },
  {
   "cell_type": "code",
   "execution_count": 3,
   "metadata": {
    "papermill": {
     "duration": 0.127173,
     "end_time": "2019-05-29T18:48:58.571196",
     "exception": false,
     "start_time": "2019-05-29T18:48:58.444023",
     "status": "completed"
    },
    "tags": [
     "injected-parameters"
    ]
   },
   "outputs": [],
   "source": [
    "# Parameters\n",
    "cik = \"0000723458\"\n"
   ]
  },
  {
   "cell_type": "markdown",
   "metadata": {
    "papermill": {
     "duration": 0.013964,
     "end_time": "2019-05-29T18:48:58.597996",
     "exception": false,
     "start_time": "2019-05-29T18:48:58.584032",
     "status": "completed"
    },
    "tags": []
   },
   "source": [
    "# Company"
   ]
  },
  {
   "cell_type": "code",
   "execution_count": 4,
   "metadata": {
    "papermill": {
     "duration": 1.343193,
     "end_time": "2019-05-29T18:48:59.953068",
     "exception": false,
     "start_time": "2019-05-29T18:48:58.609875",
     "status": "completed"
    },
    "tags": []
   },
   "outputs": [
    {
     "data": {
      "text/html": [
       "<div>\n",
       "<style scoped>\n",
       "    .dataframe tbody tr th:only-of-type {\n",
       "        vertical-align: middle;\n",
       "    }\n",
       "\n",
       "    .dataframe tbody tr th {\n",
       "        vertical-align: top;\n",
       "    }\n",
       "\n",
       "    .dataframe thead th {\n",
       "        text-align: right;\n",
       "    }\n",
       "</style>\n",
       "<table border=\"1\" class=\"dataframe\">\n",
       "  <thead>\n",
       "    <tr style=\"text-align: right;\">\n",
       "      <th></th>\n",
       "      <th></th>\n",
       "    </tr>\n",
       "  </thead>\n",
       "  <tbody>\n",
       "    <tr>\n",
       "      <th>CIK</th>\n",
       "      <td>0000723458</td>\n",
       "    </tr>\n",
       "    <tr>\n",
       "      <th>SIC</th>\n",
       "      <td>6022</td>\n",
       "    </tr>\n",
       "    <tr>\n",
       "      <th>Description</th>\n",
       "      <td>STATE COMMERCIAL BANKS</td>\n",
       "    </tr>\n",
       "    <tr>\n",
       "      <th>Name</th>\n",
       "      <td>STATE BANCORP INC</td>\n",
       "    </tr>\n",
       "    <tr>\n",
       "      <th>Ticker</th>\n",
       "      <td>STBC</td>\n",
       "    </tr>\n",
       "  </tbody>\n",
       "</table>\n",
       "</div>"
      ],
      "text/plain": [
       "                                   \n",
       "CIK                      0000723458\n",
       "SIC                            6022\n",
       "Description  STATE COMMERCIAL BANKS\n",
       "Name              STATE BANCORP INC\n",
       "Ticker                         STBC"
      ]
     },
     "execution_count": 4,
     "metadata": {},
     "output_type": "execute_result"
    }
   ],
   "source": [
    "cik_df = pd.read_sql(text(\"select cik, sic, sic_description, company_name, ticker from cik where cik = :cik\").bindparams(cik=cik), prelim_engine)\n",
    "cik_df.rename({'cik': 'CIK', 'sic': 'SIC', 'sic_description': 'Description', 'company_name': 'Name', 'ticker': 'Ticker'}, axis=1).T.rename({0: ''}, axis=1)"
   ]
  },
  {
   "cell_type": "code",
   "execution_count": 5,
   "metadata": {
    "papermill": {
     "duration": 0.20771,
     "end_time": "2019-05-29T18:49:00.174344",
     "exception": false,
     "start_time": "2019-05-29T18:48:59.966634",
     "status": "completed"
    },
    "tags": []
   },
   "outputs": [],
   "source": [
    "prelims = query_prelims(cik)"
   ]
  },
  {
   "cell_type": "markdown",
   "metadata": {
    "papermill": {
     "duration": 0.014762,
     "end_time": "2019-05-29T18:49:00.204232",
     "exception": false,
     "start_time": "2019-05-29T18:49:00.189470",
     "status": "completed"
    },
    "tags": []
   },
   "source": [
    "# Summary Statistics"
   ]
  },
  {
   "cell_type": "code",
   "execution_count": 6,
   "metadata": {
    "papermill": {
     "duration": 0.139255,
     "end_time": "2019-05-29T18:49:00.356489",
     "exception": false,
     "start_time": "2019-05-29T18:49:00.217234",
     "status": "completed"
    },
    "tags": []
   },
   "outputs": [
    {
     "data": {
      "text/html": [
       "<div>\n",
       "<style scoped>\n",
       "    .dataframe tbody tr th:only-of-type {\n",
       "        vertical-align: middle;\n",
       "    }\n",
       "\n",
       "    .dataframe tbody tr th {\n",
       "        vertical-align: top;\n",
       "    }\n",
       "\n",
       "    .dataframe thead th {\n",
       "        text-align: right;\n",
       "    }\n",
       "</style>\n",
       "<table border=\"1\" class=\"dataframe\">\n",
       "  <thead>\n",
       "    <tr style=\"text-align: right;\">\n",
       "      <th></th>\n",
       "      <th>count</th>\n",
       "      <th>mean</th>\n",
       "      <th>std</th>\n",
       "      <th>min</th>\n",
       "      <th>25%</th>\n",
       "      <th>50%</th>\n",
       "      <th>75%</th>\n",
       "      <th>max</th>\n",
       "    </tr>\n",
       "    <tr>\n",
       "      <th>item</th>\n",
       "      <th></th>\n",
       "      <th></th>\n",
       "      <th></th>\n",
       "      <th></th>\n",
       "      <th></th>\n",
       "      <th></th>\n",
       "      <th></th>\n",
       "      <th></th>\n",
       "    </tr>\n",
       "  </thead>\n",
       "  <tbody>\n",
       "    <tr>\n",
       "      <th>provision for loan losses</th>\n",
       "      <td>4.0</td>\n",
       "      <td>550000.0</td>\n",
       "      <td>2.777889e+06</td>\n",
       "      <td>-3500000.0</td>\n",
       "      <td>-50000.0</td>\n",
       "      <td>1500000.0</td>\n",
       "      <td>2100000.0</td>\n",
       "      <td>2700000.0</td>\n",
       "    </tr>\n",
       "  </tbody>\n",
       "</table>\n",
       "</div>"
      ],
      "text/plain": [
       "                           count      mean           std        min      25%  \\\n",
       "item                                                                           \n",
       "provision for loan losses    4.0  550000.0  2.777889e+06 -3500000.0 -50000.0   \n",
       "\n",
       "                                 50%        75%        max  \n",
       "item                                                        \n",
       "provision for loan losses  1500000.0  2100000.0  2700000.0  "
      ]
     },
     "execution_count": 6,
     "metadata": {},
     "output_type": "execute_result"
    }
   ],
   "source": [
    "prelims.groupby('item').item_value.describe()"
   ]
  },
  {
   "cell_type": "markdown",
   "metadata": {
    "papermill": {
     "duration": 0.016212,
     "end_time": "2019-05-29T18:49:00.385776",
     "exception": false,
     "start_time": "2019-05-29T18:49:00.369564",
     "status": "completed"
    },
    "tags": []
   },
   "source": [
    "# Plots"
   ]
  },
  {
   "cell_type": "code",
   "execution_count": 7,
   "metadata": {
    "papermill": {
     "duration": 0.524596,
     "end_time": "2019-05-29T18:49:00.920982",
     "exception": false,
     "start_time": "2019-05-29T18:49:00.396386",
     "status": "completed"
    },
    "tags": []
   },
   "outputs": [
    {
     "data": {
      "image/png": "[encoded data removed]",
      "text/plain": [
       "<Figure size 1440x720 with 6 Axes>"
      ]
     },
     "metadata": {
      "needs_background": "light"
     },
     "output_type": "display_data"
    }
   ],
   "source": [
    "_ = prelims.set_index('filing_date').pivot(columns='item', values='item_value').fillna(method=\"ffill\").plot(subplots=True, layout=(2, 3), figsize=(20, 10), sharex=False)"
   ]
  },
  {
   "cell_type": "markdown",
   "metadata": {
    "papermill": {
     "duration": 0.024265,
     "end_time": "2019-05-29T18:49:00.953836",
     "exception": false,
     "start_time": "2019-05-29T18:49:00.929571",
     "status": "completed"
    },
    "tags": []
   },
   "source": [
    "# Quality"
   ]
  },
  {
   "cell_type": "code",
   "execution_count": 8,
   "metadata": {
    "papermill": {
     "duration": 0.170081,
     "end_time": "2019-05-29T18:49:01.134068",
     "exception": false,
     "start_time": "2019-05-29T18:49:00.963987",
     "status": "completed"
    },
    "tags": []
   },
   "outputs": [
    {
     "data": {
      "text/html": [
       "<div>\n",
       "<style scoped>\n",
       "    .dataframe tbody tr th:only-of-type {\n",
       "        vertical-align: middle;\n",
       "    }\n",
       "\n",
       "    .dataframe tbody tr th {\n",
       "        vertical-align: top;\n",
       "    }\n",
       "\n",
       "    .dataframe thead th {\n",
       "        text-align: right;\n",
       "    }\n",
       "</style>\n",
       "<table border=\"1\" class=\"dataframe\">\n",
       "  <thead>\n",
       "    <tr style=\"text-align: right;\">\n",
       "      <th></th>\n",
       "      <th></th>\n",
       "      <th>period</th>\n",
       "      <th>msg_type</th>\n",
       "      <th>message</th>\n",
       "    </tr>\n",
       "    <tr>\n",
       "      <th>cik</th>\n",
       "      <th>item</th>\n",
       "      <th></th>\n",
       "      <th></th>\n",
       "      <th></th>\n",
       "    </tr>\n",
       "  </thead>\n",
       "  <tbody>\n",
       "    <tr>\n",
       "      <th rowspan=\"5\" valign=\"top\">0000723458</th>\n",
       "      <th>book value per share</th>\n",
       "      <td>None</td>\n",
       "      <td>empty</td>\n",
       "      <td>No values for item</td>\n",
       "    </tr>\n",
       "    <tr>\n",
       "      <th>interest income</th>\n",
       "      <td>None</td>\n",
       "      <td>empty</td>\n",
       "      <td>No values for item</td>\n",
       "    </tr>\n",
       "    <tr>\n",
       "      <th>net income</th>\n",
       "      <td>None</td>\n",
       "      <td>empty</td>\n",
       "      <td>No values for item</td>\n",
       "    </tr>\n",
       "    <tr>\n",
       "      <th>net interest income</th>\n",
       "      <td>None</td>\n",
       "      <td>empty</td>\n",
       "      <td>No values for item</td>\n",
       "    </tr>\n",
       "    <tr>\n",
       "      <th>total revenue</th>\n",
       "      <td>None</td>\n",
       "      <td>empty</td>\n",
       "      <td>No values for item</td>\n",
       "    </tr>\n",
       "  </tbody>\n",
       "</table>\n",
       "</div>"
      ],
      "text/plain": [
       "                                period msg_type             message\n",
       "cik        item                                                    \n",
       "0000723458 book value per share   None    empty  No values for item\n",
       "           interest income        None    empty  No values for item\n",
       "           net income             None    empty  No values for item\n",
       "           net interest income    None    empty  No values for item\n",
       "           total revenue          None    empty  No values for item"
      ]
     },
     "execution_count": 8,
     "metadata": {},
     "output_type": "execute_result"
    }
   ],
   "source": [
    "validate_prelims(prelims)"
   ]
  },
  {
   "cell_type": "markdown",
   "metadata": {
    "papermill": {
     "duration": 0.013434,
     "end_time": "2019-05-29T18:49:01.163538",
     "exception": false,
     "start_time": "2019-05-29T18:49:01.150104",
     "status": "completed"
    },
    "tags": []
   },
   "source": [
    "# Data"
   ]
  },
  {
   "cell_type": "code",
   "execution_count": 9,
   "metadata": {
    "papermill": {
     "duration": 0.188164,
     "end_time": "2019-05-29T18:49:01.369202",
     "exception": false,
     "start_time": "2019-05-29T18:49:01.181038",
     "status": "completed"
    },
    "tags": []
   },
   "outputs": [
    {
     "data": {
      "text/html": [
       "<style  type=\"text/css\" >\n",
       "</style><table id=\"T_6ca239c8_8242_11e9_89c3_34e12d8376c5\" ><thead>    <tr>        <th class=\"blank\" ></th>        <th class=\"blank level0\" ></th>        <th class=\"col_heading level0 col0\" >fiscal_period</th>        <th class=\"col_heading level0 col1\" >item_value</th>        <th class=\"col_heading level0 col2\" >src_table</th>        <th class=\"col_heading level0 col3\" >src_row</th>        <th class=\"col_heading level0 col4\" >src_column</th>        <th class=\"col_heading level0 col5\" >src_value</th>        <th class=\"col_heading level0 col6\" >src_units</th>    </tr>    <tr>        <th class=\"index_name level0\" >filing_date</th>        <th class=\"index_name level1\" >item</th>        <th class=\"blank\" ></th>        <th class=\"blank\" ></th>        <th class=\"blank\" ></th>        <th class=\"blank\" ></th>        <th class=\"blank\" ></th>        <th class=\"blank\" ></th>        <th class=\"blank\" ></th>    </tr></thead><tbody>\n",
       "                <tr>\n",
       "                        <th id=\"T_6ca239c8_8242_11e9_89c3_34e12d8376c5level0_row0\" class=\"row_heading level0 row0\" >2011-01-25</th>\n",
       "                        <th id=\"T_6ca239c8_8242_11e9_89c3_34e12d8376c5level1_row0\" class=\"row_heading level1 row0\" >provision for loan losses</th>\n",
       "                        <td id=\"T_6ca239c8_8242_11e9_89c3_34e12d8376c5row0_col0\" class=\"data row0 col0\" ><a href=\"https://www.sec.gov/Archives/edgar/data/723458/000072345811000011/0000723458-11-000011-index.htm\">2010Q4</a></td>\n",
       "                        <td id=\"T_6ca239c8_8242_11e9_89c3_34e12d8376c5row0_col1\" class=\"data row0 col1\" >2.7e+06</td>\n",
       "                        <td id=\"T_6ca239c8_8242_11e9_89c3_34e12d8376c5row0_col2\" class=\"data row0 col2\" >CONSOLIDATED BALANCE SHEETS</td>\n",
       "                        <td id=\"T_6ca239c8_8242_11e9_89c3_34e12d8376c5row0_col3\" class=\"data row0 col3\" >Provision for loan losses</td>\n",
       "                        <td id=\"T_6ca239c8_8242_11e9_89c3_34e12d8376c5row0_col4\" class=\"data row0 col4\" >Three Months Ended December 31, 2010</td>\n",
       "                        <td id=\"T_6ca239c8_8242_11e9_89c3_34e12d8376c5row0_col5\" class=\"data row0 col5\" >2700</td>\n",
       "                        <td id=\"T_6ca239c8_8242_11e9_89c3_34e12d8376c5row0_col6\" class=\"data row0 col6\" >(dollars in thousands)</td>\n",
       "            </tr>\n",
       "            <tr>\n",
       "                        <th id=\"T_6ca239c8_8242_11e9_89c3_34e12d8376c5level0_row1\" class=\"row_heading level0 row1\" >2011-04-15</th>\n",
       "                        <th id=\"T_6ca239c8_8242_11e9_89c3_34e12d8376c5level1_row1\" class=\"row_heading level1 row1\" >provision for loan losses</th>\n",
       "                        <td id=\"T_6ca239c8_8242_11e9_89c3_34e12d8376c5row1_col0\" class=\"data row1 col0\" ><a href=\"https://www.sec.gov/Archives/edgar/data/723458/000072345811000037/0000723458-11-000037-index.htm\">2011Q1</a></td>\n",
       "                        <td id=\"T_6ca239c8_8242_11e9_89c3_34e12d8376c5row1_col1\" class=\"data row1 col1\" >1.9e+06</td>\n",
       "                        <td id=\"T_6ca239c8_8242_11e9_89c3_34e12d8376c5row1_col2\" class=\"data row1 col2\" >CONSOLIDATED BALANCE SHEETS</td>\n",
       "                        <td id=\"T_6ca239c8_8242_11e9_89c3_34e12d8376c5row1_col3\" class=\"data row1 col3\" >Provision for loan losses</td>\n",
       "                        <td id=\"T_6ca239c8_8242_11e9_89c3_34e12d8376c5row1_col4\" class=\"data row1 col4\" >Three Months Ended March 31, 2011</td>\n",
       "                        <td id=\"T_6ca239c8_8242_11e9_89c3_34e12d8376c5row1_col5\" class=\"data row1 col5\" >1900</td>\n",
       "                        <td id=\"T_6ca239c8_8242_11e9_89c3_34e12d8376c5row1_col6\" class=\"data row1 col6\" >(dollars in thousands)</td>\n",
       "            </tr>\n",
       "            <tr>\n",
       "                        <th id=\"T_6ca239c8_8242_11e9_89c3_34e12d8376c5level0_row2\" class=\"row_heading level0 row2\" >2011-07-20</th>\n",
       "                        <th id=\"T_6ca239c8_8242_11e9_89c3_34e12d8376c5level1_row2\" class=\"row_heading level1 row2\" >provision for loan losses</th>\n",
       "                        <td id=\"T_6ca239c8_8242_11e9_89c3_34e12d8376c5row2_col0\" class=\"data row2 col0\" ><a href=\"https://www.sec.gov/Archives/edgar/data/723458/000072345811000052/0000723458-11-000052-index.htm\">2011Q2</a></td>\n",
       "                        <td id=\"T_6ca239c8_8242_11e9_89c3_34e12d8376c5row2_col1\" class=\"data row2 col1\" >1.1e+06</td>\n",
       "                        <td id=\"T_6ca239c8_8242_11e9_89c3_34e12d8376c5row2_col2\" class=\"data row2 col2\" >CONSOLIDATED BALANCE SHEETS</td>\n",
       "                        <td id=\"T_6ca239c8_8242_11e9_89c3_34e12d8376c5row2_col3\" class=\"data row2 col3\" >Provision for loan losses</td>\n",
       "                        <td id=\"T_6ca239c8_8242_11e9_89c3_34e12d8376c5row2_col4\" class=\"data row2 col4\" >Three Months Ended June 30, 2011</td>\n",
       "                        <td id=\"T_6ca239c8_8242_11e9_89c3_34e12d8376c5row2_col5\" class=\"data row2 col5\" >1100</td>\n",
       "                        <td id=\"T_6ca239c8_8242_11e9_89c3_34e12d8376c5row2_col6\" class=\"data row2 col6\" >(dollars in thousands)</td>\n",
       "            </tr>\n",
       "            <tr>\n",
       "                        <th id=\"T_6ca239c8_8242_11e9_89c3_34e12d8376c5level0_row3\" class=\"row_heading level0 row3\" >2011-10-19</th>\n",
       "                        <th id=\"T_6ca239c8_8242_11e9_89c3_34e12d8376c5level1_row3\" class=\"row_heading level1 row3\" >provision for loan losses</th>\n",
       "                        <td id=\"T_6ca239c8_8242_11e9_89c3_34e12d8376c5row3_col0\" class=\"data row3 col0\" ><a href=\"https://www.sec.gov/Archives/edgar/data/723458/000072345811000061/0000723458-11-000061-index.htm\">2011Q3</a></td>\n",
       "                        <td id=\"T_6ca239c8_8242_11e9_89c3_34e12d8376c5row3_col1\" class=\"data row3 col1\" >-3.5e+06</td>\n",
       "                        <td id=\"T_6ca239c8_8242_11e9_89c3_34e12d8376c5row3_col2\" class=\"data row3 col2\" >CONSOLIDATED BALANCE SHEETS</td>\n",
       "                        <td id=\"T_6ca239c8_8242_11e9_89c3_34e12d8376c5row3_col3\" class=\"data row3 col3\" >(Credit) provision for loan losses</td>\n",
       "                        <td id=\"T_6ca239c8_8242_11e9_89c3_34e12d8376c5row3_col4\" class=\"data row3 col4\" >Three Months Ended September 30, 2011</td>\n",
       "                        <td id=\"T_6ca239c8_8242_11e9_89c3_34e12d8376c5row3_col5\" class=\"data row3 col5\" >(3,500</td>\n",
       "                        <td id=\"T_6ca239c8_8242_11e9_89c3_34e12d8376c5row3_col6\" class=\"data row3 col6\" >(dollars in thousands)</td>\n",
       "            </tr>\n",
       "    </tbody></table>"
      ],
      "text/plain": [
       "<pandas.io.formats.style.Styler at 0x23e626d9c88>"
      ]
     },
     "execution_count": 9,
     "metadata": {},
     "output_type": "execute_result"
    }
   ],
   "source": [
    "def make_clickable(val: str) -> str: \n",
    "    if isinstance(val, str):\n",
    "        name, url = val.split('#')\n",
    "        return f'<a href=\"{url}\">{name}</a>'\n",
    "    else:\n",
    "        return ''\n",
    "\n",
    "(prelims\n",
    " .assign(fiscal_period = prelims.fiscal_period.str.cat(prelims.filing_href, sep='#'), filing_date = prelims.filing_date.map(lambda d: d.strftime('%Y-%m-%d')))\n",
    " .loc[:, ['filing_date', 'fiscal_period', 'item', 'item_value', 'src_table', 'src_row', 'src_column', 'src_value', 'src_units']]\n",
    " .set_index(['filing_date', 'item'])\n",
    " .style.format({'fiscal_period': make_clickable})\n",
    ")"
   ]
  },
  {
   "cell_type": "code",
   "execution_count": 10,
   "metadata": {
    "papermill": {
     "duration": 0.155833,
     "end_time": "2019-05-29T18:49:01.543580",
     "exception": false,
     "start_time": "2019-05-29T18:49:01.387747",
     "status": "completed"
    },
    "tags": []
   },
   "outputs": [],
   "source": [
    "#discard_prelim(cik, date(2019, 12, 31))\n",
    "#force_reload_prelim(cik, date(2019, 12, 31), delete_filings=False)\n",
    "#force_reload_prelim_between(cik,  start=date(2002, 6, 1), end=date(2019, 12, 31), delete_filings=False)"
   ]
  },
  {
   "cell_type": "code",
   "execution_count": 11,
   "metadata": {
    "papermill": {
     "duration": 0.162076,
     "end_time": "2019-05-29T18:49:01.725869",
     "exception": false,
     "start_time": "2019-05-29T18:49:01.563793",
     "status": "completed"
    },
    "tags": []
   },
   "outputs": [],
   "source": [
    "#d = date(2018, 10, 29)\n",
    "#extract_prelim_statements(cik, start=d, end=d)"
   ]
  },
  {
   "cell_type": "code",
   "execution_count": 12,
   "metadata": {
    "papermill": {
     "duration": 0.183696,
     "end_time": "2019-05-29T18:49:01.927368",
     "exception": false,
     "start_time": "2019-05-29T18:49:01.743672",
     "status": "completed"
    },
    "tags": []
   },
   "outputs": [],
   "source": [
    "#d = date(2019, 4, 22)\n",
    "#filings = query_edgar_for_filings(cik, \"8-K\", start=d, end=d, require_xbrl=False)\n",
    "#report = query_edgar_for_submission_text(filings[0].href)\n",
    "#submission = load_submission(report.href)\n",
    "#tables = list(parse_tables(submission))\n",
    "#items_from_tables(tables)"
   ]
  },
  {
   "cell_type": "code",
   "execution_count": 13,
   "metadata": {
    "papermill": {
     "duration": 0.193462,
     "end_time": "2019-05-29T18:49:02.145827",
     "exception": false,
     "start_time": "2019-05-29T18:49:01.952365",
     "status": "completed"
    },
    "tags": []
   },
   "outputs": [],
   "source": [
    "#widget = query_prelims_for_override(cik, filing_date='2006-01-27', item=None)\n",
    "#widget"
   ]
  },
  {
   "cell_type": "code",
   "execution_count": 14,
   "metadata": {
    "papermill": {
     "duration": 0.191086,
     "end_time": "2019-05-29T18:49:02.366471",
     "exception": false,
     "start_time": "2019-05-29T18:49:02.175385",
     "status": "completed"
    },
    "tags": []
   },
   "outputs": [],
   "source": [
    "#widget.save()"
   ]
  }
 ],
 "metadata": {
  "celltoolbar": "Tags",
  "kernelspec": {
   "display_name": "Python 3",
   "language": "python",
   "name": "python3"
  },
  "language_info": {
   "codemirror_mode": {
    "name": "ipython",
    "version": 3
   },
   "file_extension": ".py",
   "mimetype": "text/x-python",
   "name": "python",
   "nbconvert_exporter": "python",
   "pygments_lexer": "ipython3",
   "version": "3.7.2"
  },
  "papermill": {
   "duration": 7.679706,
   "end_time": "2019-05-29T18:49:03.053859",
   "environment_variables": {},
   "exception": null,
   "input_path": "resources/edgar_prelim_quality.ipynb",
   "output_path": "../out/notebooks/0000723458.ipynb",
   "parameters": {
    "cik": "0000723458"
   },
   "start_time": "2019-05-29T18:48:55.374153",
   "version": "0.19.1"
  }
 },
 "nbformat": 4,
 "nbformat_minor": 2
}