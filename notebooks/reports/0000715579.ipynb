{
 "cells": [
  {
   "cell_type": "code",
   "execution_count": 1,
   "metadata": {
    "papermill": {
     "duration": 1.442785,
     "end_time": "2019-05-29T18:46:46.677283",
     "exception": false,
     "start_time": "2019-05-29T18:46:45.234498",
     "status": "completed"
    },
    "tags": []
   },
   "outputs": [],
   "source": [
    "from edgar_prelim import *\n",
    "import pandas as pd\n",
    "%load_ext autoreload\n",
    "%autoreload 2\n",
    "%matplotlib inline\n",
    "pd.set_option('display.max_rows', 500)\n",
    "pd.set_option('display.max_columns', 500)"
   ]
  },
  {
   "cell_type": "code",
   "execution_count": 2,
   "metadata": {
    "papermill": {
     "duration": 0.125889,
     "end_time": "2019-05-29T18:46:46.817172",
     "exception": false,
     "start_time": "2019-05-29T18:46:46.691283",
     "status": "completed"
    },
    "tags": [
     "parameters"
    ]
   },
   "outputs": [],
   "source": [
    "cik='0000004962'"
   ]
  },
  {
   "cell_type": "code",
   "execution_count": 3,
   "metadata": {
    "papermill": {
     "duration": 0.130448,
     "end_time": "2019-05-29T18:46:46.964190",
     "exception": false,
     "start_time": "2019-05-29T18:46:46.833742",
     "status": "completed"
    },
    "tags": [
     "injected-parameters"
    ]
   },
   "outputs": [],
   "source": [
    "# Parameters\n",
    "cik = \"0000715579\"\n"
   ]
  },
  {
   "cell_type": "markdown",
   "metadata": {
    "papermill": {
     "duration": 0.021484,
     "end_time": "2019-05-29T18:46:46.993953",
     "exception": false,
     "start_time": "2019-05-29T18:46:46.972469",
     "status": "completed"
    },
    "tags": []
   },
   "source": [
    "# Company"
   ]
  },
  {
   "cell_type": "code",
   "execution_count": 4,
   "metadata": {
    "papermill": {
     "duration": 1.360366,
     "end_time": "2019-05-29T18:46:48.364489",
     "exception": false,
     "start_time": "2019-05-29T18:46:47.004123",
     "status": "completed"
    },
    "tags": []
   },
   "outputs": [
    {
     "data": {
      "text/html": [
       "<div>\n",
       "<style scoped>\n",
       "    .dataframe tbody tr th:only-of-type {\n",
       "        vertical-align: middle;\n",
       "    }\n",
       "\n",
       "    .dataframe tbody tr th {\n",
       "        vertical-align: top;\n",
       "    }\n",
       "\n",
       "    .dataframe thead th {\n",
       "        text-align: right;\n",
       "    }\n",
       "</style>\n",
       "<table border=\"1\" class=\"dataframe\">\n",
       "  <thead>\n",
       "    <tr style=\"text-align: right;\">\n",
       "      <th></th>\n",
       "      <th></th>\n",
       "    </tr>\n",
       "  </thead>\n",
       "  <tbody>\n",
       "    <tr>\n",
       "      <th>CIK</th>\n",
       "      <td>0000715579</td>\n",
       "    </tr>\n",
       "    <tr>\n",
       "      <th>SIC</th>\n",
       "      <td>6022</td>\n",
       "    </tr>\n",
       "    <tr>\n",
       "      <th>Description</th>\n",
       "      <td>STATE COMMERCIAL BANKS</td>\n",
       "    </tr>\n",
       "    <tr>\n",
       "      <th>Name</th>\n",
       "      <td>ACNB CORP</td>\n",
       "    </tr>\n",
       "    <tr>\n",
       "      <th>Ticker</th>\n",
       "      <td>ACNB</td>\n",
       "    </tr>\n",
       "  </tbody>\n",
       "</table>\n",
       "</div>"
      ],
      "text/plain": [
       "                                   \n",
       "CIK                      0000715579\n",
       "SIC                            6022\n",
       "Description  STATE COMMERCIAL BANKS\n",
       "Name                      ACNB CORP\n",
       "Ticker                         ACNB"
      ]
     },
     "execution_count": 4,
     "metadata": {},
     "output_type": "execute_result"
    }
   ],
   "source": [
    "cik_df = pd.read_sql(text(\"select cik, sic, sic_description, company_name, ticker from cik where cik = :cik\").bindparams(cik=cik), prelim_engine)\n",
    "cik_df.rename({'cik': 'CIK', 'sic': 'SIC', 'sic_description': 'Description', 'company_name': 'Name', 'ticker': 'Ticker'}, axis=1).T.rename({0: ''}, axis=1)"
   ]
  },
  {
   "cell_type": "code",
   "execution_count": 5,
   "metadata": {
    "papermill": {
     "duration": 0.313269,
     "end_time": "2019-05-29T18:46:48.687799",
     "exception": false,
     "start_time": "2019-05-29T18:46:48.374530",
     "status": "completed"
    },
    "tags": []
   },
   "outputs": [],
   "source": [
    "prelims = query_prelims(cik)"
   ]
  },
  {
   "cell_type": "markdown",
   "metadata": {
    "papermill": {
     "duration": 0.014177,
     "end_time": "2019-05-29T18:46:48.717080",
     "exception": false,
     "start_time": "2019-05-29T18:46:48.702903",
     "status": "completed"
    },
    "tags": []
   },
   "source": [
    "# Summary Statistics"
   ]
  },
  {
   "cell_type": "code",
   "execution_count": 6,
   "metadata": {
    "papermill": {
     "duration": 0.143118,
     "end_time": "2019-05-29T18:46:48.873254",
     "exception": false,
     "start_time": "2019-05-29T18:46:48.730136",
     "status": "completed"
    },
    "tags": []
   },
   "outputs": [
    {
     "data": {
      "text/html": [
       "<div>\n",
       "<style scoped>\n",
       "    .dataframe tbody tr th:only-of-type {\n",
       "        vertical-align: middle;\n",
       "    }\n",
       "\n",
       "    .dataframe tbody tr th {\n",
       "        vertical-align: top;\n",
       "    }\n",
       "\n",
       "    .dataframe thead th {\n",
       "        text-align: right;\n",
       "    }\n",
       "</style>\n",
       "<table border=\"1\" class=\"dataframe\">\n",
       "  <thead>\n",
       "    <tr style=\"text-align: right;\">\n",
       "      <th></th>\n",
       "      <th>count</th>\n",
       "      <th>mean</th>\n",
       "      <th>std</th>\n",
       "      <th>min</th>\n",
       "      <th>25%</th>\n",
       "      <th>50%</th>\n",
       "      <th>75%</th>\n",
       "      <th>max</th>\n",
       "    </tr>\n",
       "    <tr>\n",
       "      <th>item</th>\n",
       "      <th></th>\n",
       "      <th></th>\n",
       "      <th></th>\n",
       "      <th></th>\n",
       "      <th></th>\n",
       "      <th></th>\n",
       "      <th></th>\n",
       "      <th></th>\n",
       "    </tr>\n",
       "  </thead>\n",
       "  <tbody>\n",
       "    <tr>\n",
       "      <th>book value per share</th>\n",
       "      <td>8.0</td>\n",
       "      <td>2.262875e+01</td>\n",
       "      <td>1.335733e+00</td>\n",
       "      <td>20.38</td>\n",
       "      <td>2.189750e+01</td>\n",
       "      <td>2.251500e+01</td>\n",
       "      <td>2.348500e+01</td>\n",
       "      <td>24.65</td>\n",
       "    </tr>\n",
       "    <tr>\n",
       "      <th>interest income</th>\n",
       "      <td>6.0</td>\n",
       "      <td>1.608133e+07</td>\n",
       "      <td>8.228134e+05</td>\n",
       "      <td>15109000.00</td>\n",
       "      <td>1.540725e+07</td>\n",
       "      <td>1.607300e+07</td>\n",
       "      <td>1.673425e+07</td>\n",
       "      <td>17093000.00</td>\n",
       "    </tr>\n",
       "    <tr>\n",
       "      <th>net income</th>\n",
       "      <td>6.0</td>\n",
       "      <td>4.920667e+06</td>\n",
       "      <td>1.527883e+06</td>\n",
       "      <td>1912000.00</td>\n",
       "      <td>5.007000e+06</td>\n",
       "      <td>5.398000e+06</td>\n",
       "      <td>5.774750e+06</td>\n",
       "      <td>6039000.00</td>\n",
       "    </tr>\n",
       "    <tr>\n",
       "      <th>net interest income</th>\n",
       "      <td>6.0</td>\n",
       "      <td>1.422033e+07</td>\n",
       "      <td>5.953694e+05</td>\n",
       "      <td>13562000.00</td>\n",
       "      <td>1.369425e+07</td>\n",
       "      <td>1.425200e+07</td>\n",
       "      <td>1.460200e+07</td>\n",
       "      <td>15029000.00</td>\n",
       "    </tr>\n",
       "    <tr>\n",
       "      <th>provision for loan losses</th>\n",
       "      <td>6.0</td>\n",
       "      <td>2.950000e+05</td>\n",
       "      <td>2.924893e+05</td>\n",
       "      <td>0.00</td>\n",
       "      <td>1.625000e+05</td>\n",
       "      <td>2.250000e+05</td>\n",
       "      <td>3.025000e+05</td>\n",
       "      <td>850000.00</td>\n",
       "    </tr>\n",
       "  </tbody>\n",
       "</table>\n",
       "</div>"
      ],
      "text/plain": [
       "                           count          mean           std          min  \\\n",
       "item                                                                        \n",
       "book value per share         8.0  2.262875e+01  1.335733e+00        20.38   \n",
       "interest income              6.0  1.608133e+07  8.228134e+05  15109000.00   \n",
       "net income                   6.0  4.920667e+06  1.527883e+06   1912000.00   \n",
       "net interest income          6.0  1.422033e+07  5.953694e+05  13562000.00   \n",
       "provision for loan losses    6.0  2.950000e+05  2.924893e+05         0.00   \n",
       "\n",
       "                                    25%           50%           75%  \\\n",
       "item                                                                  \n",
       "book value per share       2.189750e+01  2.251500e+01  2.348500e+01   \n",
       "interest income            1.540725e+07  1.607300e+07  1.673425e+07   \n",
       "net income                 5.007000e+06  5.398000e+06  5.774750e+06   \n",
       "net interest income        1.369425e+07  1.425200e+07  1.460200e+07   \n",
       "provision for loan losses  1.625000e+05  2.250000e+05  3.025000e+05   \n",
       "\n",
       "                                   max  \n",
       "item                                    \n",
       "book value per share             24.65  \n",
       "interest income            17093000.00  \n",
       "net income                  6039000.00  \n",
       "net interest income        15029000.00  \n",
       "provision for loan losses    850000.00  "
      ]
     },
     "execution_count": 6,
     "metadata": {},
     "output_type": "execute_result"
    }
   ],
   "source": [
    "prelims.groupby('item').item_value.describe()"
   ]
  },
  {
   "cell_type": "markdown",
   "metadata": {
    "papermill": {
     "duration": 0.014952,
     "end_time": "2019-05-29T18:46:48.902249",
     "exception": false,
     "start_time": "2019-05-29T18:46:48.887297",
     "status": "completed"
    },
    "tags": []
   },
   "source": [
    "# Plots"
   ]
  },
  {
   "cell_type": "code",
   "execution_count": 7,
   "metadata": {
    "papermill": {
     "duration": 0.967461,
     "end_time": "2019-05-29T18:46:49.883710",
     "exception": false,
     "start_time": "2019-05-29T18:46:48.916249",
     "status": "completed"
    },
    "tags": []
   },
   "outputs": [
    {
     "data": {
      "image/png": "[encoded data removed]",
      "text/plain": [
       "<Figure size 1440x720 with 6 Axes>"
      ]
     },
     "metadata": {
      "needs_background": "light"
     },
     "output_type": "display_data"
    }
   ],
   "source": [
    "_ = prelims.set_index('filing_date').pivot(columns='item', values='item_value').fillna(method=\"ffill\").plot(subplots=True, layout=(2, 3), figsize=(20, 10), sharex=False)"
   ]
  },
  {
   "cell_type": "markdown",
   "metadata": {
    "papermill": {
     "duration": 0.019761,
     "end_time": "2019-05-29T18:46:49.916369",
     "exception": false,
     "start_time": "2019-05-29T18:46:49.896608",
     "status": "completed"
    },
    "tags": []
   },
   "source": [
    "# Quality"
   ]
  },
  {
   "cell_type": "code",
   "execution_count": 8,
   "metadata": {
    "papermill": {
     "duration": 0.235544,
     "end_time": "2019-05-29T18:46:50.169974",
     "exception": false,
     "start_time": "2019-05-29T18:46:49.934430",
     "status": "completed"
    },
    "tags": []
   },
   "outputs": [
    {
     "data": {
      "text/html": [
       "<div>\n",
       "<style scoped>\n",
       "    .dataframe tbody tr th:only-of-type {\n",
       "        vertical-align: middle;\n",
       "    }\n",
       "\n",
       "    .dataframe tbody tr th {\n",
       "        vertical-align: top;\n",
       "    }\n",
       "\n",
       "    .dataframe thead th {\n",
       "        text-align: right;\n",
       "    }\n",
       "</style>\n",
       "<table border=\"1\" class=\"dataframe\">\n",
       "  <thead>\n",
       "    <tr style=\"text-align: right;\">\n",
       "      <th></th>\n",
       "      <th></th>\n",
       "      <th>period</th>\n",
       "      <th>msg_type</th>\n",
       "      <th>message</th>\n",
       "    </tr>\n",
       "    <tr>\n",
       "      <th>cik</th>\n",
       "      <th>item</th>\n",
       "      <th></th>\n",
       "      <th></th>\n",
       "      <th></th>\n",
       "    </tr>\n",
       "  </thead>\n",
       "  <tbody>\n",
       "    <tr>\n",
       "      <th rowspan=\"9\" valign=\"top\">0000715579</th>\n",
       "      <th>interest income</th>\n",
       "      <td>2017Q2</td>\n",
       "      <td>missing</td>\n",
       "      <td>Missing period</td>\n",
       "    </tr>\n",
       "    <tr>\n",
       "      <th>interest income</th>\n",
       "      <td>2017Q4</td>\n",
       "      <td>missing</td>\n",
       "      <td>Missing period</td>\n",
       "    </tr>\n",
       "    <tr>\n",
       "      <th>net income</th>\n",
       "      <td>2017Q2</td>\n",
       "      <td>missing</td>\n",
       "      <td>Missing period</td>\n",
       "    </tr>\n",
       "    <tr>\n",
       "      <th>net income</th>\n",
       "      <td>2017Q4</td>\n",
       "      <td>missing</td>\n",
       "      <td>Missing period</td>\n",
       "    </tr>\n",
       "    <tr>\n",
       "      <th>net interest income</th>\n",
       "      <td>2017Q2</td>\n",
       "      <td>missing</td>\n",
       "      <td>Missing period</td>\n",
       "    </tr>\n",
       "    <tr>\n",
       "      <th>net interest income</th>\n",
       "      <td>2017Q4</td>\n",
       "      <td>missing</td>\n",
       "      <td>Missing period</td>\n",
       "    </tr>\n",
       "    <tr>\n",
       "      <th>provision for loan losses</th>\n",
       "      <td>2017Q2</td>\n",
       "      <td>missing</td>\n",
       "      <td>Missing period</td>\n",
       "    </tr>\n",
       "    <tr>\n",
       "      <th>provision for loan losses</th>\n",
       "      <td>2017Q4</td>\n",
       "      <td>missing</td>\n",
       "      <td>Missing period</td>\n",
       "    </tr>\n",
       "    <tr>\n",
       "      <th>total revenue</th>\n",
       "      <td>None</td>\n",
       "      <td>empty</td>\n",
       "      <td>No values for item</td>\n",
       "    </tr>\n",
       "  </tbody>\n",
       "</table>\n",
       "</div>"
      ],
      "text/plain": [
       "                                      period msg_type             message\n",
       "cik        item                                                          \n",
       "0000715579 interest income            2017Q2  missing      Missing period\n",
       "           interest income            2017Q4  missing      Missing period\n",
       "           net income                 2017Q2  missing      Missing period\n",
       "           net income                 2017Q4  missing      Missing period\n",
       "           net interest income        2017Q2  missing      Missing period\n",
       "           net interest income        2017Q4  missing      Missing period\n",
       "           provision for loan losses  2017Q2  missing      Missing period\n",
       "           provision for loan losses  2017Q4  missing      Missing period\n",
       "           total revenue                None    empty  No values for item"
      ]
     },
     "execution_count": 8,
     "metadata": {},
     "output_type": "execute_result"
    }
   ],
   "source": [
    "validate_prelims(prelims)"
   ]
  },
  {
   "cell_type": "markdown",
   "metadata": {
    "papermill": {
     "duration": 0.017038,
     "end_time": "2019-05-29T18:46:50.208549",
     "exception": false,
     "start_time": "2019-05-29T18:46:50.191511",
     "status": "completed"
    },
    "tags": []
   },
   "source": [
    "# Data"
   ]
  },
  {
   "cell_type": "code",
   "execution_count": 9,
   "metadata": {
    "papermill": {
     "duration": 0.202101,
     "end_time": "2019-05-29T18:46:50.429613",
     "exception": false,
     "start_time": "2019-05-29T18:46:50.227512",
     "status": "completed"
    },
    "tags": []
   },
   "outputs": [
    {
     "data": {
      "text/html": [
       "<style  type=\"text/css\" >\n",
       "</style><table id=\"T_1e963eec_8242_11e9_9ff8_34e12d8376c5\" ><thead>    <tr>        <th class=\"blank\" ></th>        <th class=\"blank level0\" ></th>        <th class=\"col_heading level0 col0\" >fiscal_period</th>        <th class=\"col_heading level0 col1\" >item_value</th>        <th class=\"col_heading level0 col2\" >src_table</th>        <th class=\"col_heading level0 col3\" >src_row</th>        <th class=\"col_heading level0 col4\" >src_column</th>        <th class=\"col_heading level0 col5\" >src_value</th>        <th class=\"col_heading level0 col6\" >src_units</th>    </tr>    <tr>        <th class=\"index_name level0\" >filing_date</th>        <th class=\"index_name level1\" >item</th>        <th class=\"blank\" ></th>        <th class=\"blank\" ></th>        <th class=\"blank\" ></th>        <th class=\"blank\" ></th>        <th class=\"blank\" ></th>        <th class=\"blank\" ></th>        <th class=\"blank\" ></th>    </tr></thead><tbody>\n",
       "                <tr>\n",
       "                        <th id=\"T_1e963eec_8242_11e9_9ff8_34e12d8376c5level0_row0\" class=\"row_heading level0 row0\" >2017-08-03</th>\n",
       "                        <th id=\"T_1e963eec_8242_11e9_9ff8_34e12d8376c5level1_row0\" class=\"row_heading level1 row0\" >book value per share</th>\n",
       "                        <td id=\"T_1e963eec_8242_11e9_9ff8_34e12d8376c5row0_col0\" class=\"data row0 col0\" ><a href=\"https://www.sec.gov/Archives/edgar/data/715579/000110465917049270/0001104659-17-049270-index.htm\">2017Q2</a></td>\n",
       "                        <td id=\"T_1e963eec_8242_11e9_9ff8_34e12d8376c5row0_col1\" class=\"data row0 col1\" >20.38</td>\n",
       "                        <td id=\"T_1e963eec_8242_11e9_9ff8_34e12d8376c5row0_col2\" class=\"data row0 col2\" >BALANCESHEETDATA</td>\n",
       "                        <td id=\"T_1e963eec_8242_11e9_9ff8_34e12d8376c5row0_col3\" class=\"data row0 col3\" >Book value per share</td>\n",
       "                        <td id=\"T_1e963eec_8242_11e9_9ff8_34e12d8376c5row0_col4\" class=\"data row0 col4\" >June 30, 2017</td>\n",
       "                        <td id=\"T_1e963eec_8242_11e9_9ff8_34e12d8376c5row0_col5\" class=\"data row0 col5\" >$20.38</td>\n",
       "                        <td id=\"T_1e963eec_8242_11e9_9ff8_34e12d8376c5row0_col6\" class=\"data row0 col6\" >Dollars in thousands, except per share data</td>\n",
       "            </tr>\n",
       "            <tr>\n",
       "                        <th id=\"T_1e963eec_8242_11e9_9ff8_34e12d8376c5level0_row1\" class=\"row_heading level0 row1\" rowspan=5>2017-11-03</th>\n",
       "                        <th id=\"T_1e963eec_8242_11e9_9ff8_34e12d8376c5level1_row1\" class=\"row_heading level1 row1\" >book value per share</th>\n",
       "                        <td id=\"T_1e963eec_8242_11e9_9ff8_34e12d8376c5row1_col0\" class=\"data row1 col0\" ><a href=\"https://www.sec.gov/Archives/edgar/data/715579/000110465917065863/0001104659-17-065863-index.htm\">2017Q3</a></td>\n",
       "                        <td id=\"T_1e963eec_8242_11e9_9ff8_34e12d8376c5row1_col1\" class=\"data row1 col1\" >21.83</td>\n",
       "                        <td id=\"T_1e963eec_8242_11e9_9ff8_34e12d8376c5row1_col2\" class=\"data row1 col2\" >BALANCE SHEET DATA</td>\n",
       "                        <td id=\"T_1e963eec_8242_11e9_9ff8_34e12d8376c5row1_col3\" class=\"data row1 col3\" >Book value per share</td>\n",
       "                        <td id=\"T_1e963eec_8242_11e9_9ff8_34e12d8376c5row1_col4\" class=\"data row1 col4\" >September 30, 2017</td>\n",
       "                        <td id=\"T_1e963eec_8242_11e9_9ff8_34e12d8376c5row1_col5\" class=\"data row1 col5\" >$21.83</td>\n",
       "                        <td id=\"T_1e963eec_8242_11e9_9ff8_34e12d8376c5row1_col6\" class=\"data row1 col6\" >Dollars in thousands, except per share data</td>\n",
       "            </tr>\n",
       "            <tr>\n",
       "                                <th id=\"T_1e963eec_8242_11e9_9ff8_34e12d8376c5level1_row2\" class=\"row_heading level1 row2\" >interest income</th>\n",
       "                        <td id=\"T_1e963eec_8242_11e9_9ff8_34e12d8376c5row2_col0\" class=\"data row2 col0\" ><a href=\"https://www.sec.gov/Archives/edgar/data/715579/000110465917065863/0001104659-17-065863-index.htm\">2017Q3</a></td>\n",
       "                        <td id=\"T_1e963eec_8242_11e9_9ff8_34e12d8376c5row2_col1\" class=\"data row2 col1\" >1.5109e+07</td>\n",
       "                        <td id=\"T_1e963eec_8242_11e9_9ff8_34e12d8376c5row2_col2\" class=\"data row2 col2\" >INCOME STATEMENT DATA</td>\n",
       "                        <td id=\"T_1e963eec_8242_11e9_9ff8_34e12d8376c5row2_col3\" class=\"data row2 col3\" >Interest income</td>\n",
       "                        <td id=\"T_1e963eec_8242_11e9_9ff8_34e12d8376c5row2_col4\" class=\"data row2 col4\" >Three Months Ended September 30, 2017</td>\n",
       "                        <td id=\"T_1e963eec_8242_11e9_9ff8_34e12d8376c5row2_col5\" class=\"data row2 col5\" >$15109</td>\n",
       "                        <td id=\"T_1e963eec_8242_11e9_9ff8_34e12d8376c5row2_col6\" class=\"data row2 col6\" >Dollars in thousands</td>\n",
       "            </tr>\n",
       "            <tr>\n",
       "                                <th id=\"T_1e963eec_8242_11e9_9ff8_34e12d8376c5level1_row3\" class=\"row_heading level1 row3\" >net income</th>\n",
       "                        <td id=\"T_1e963eec_8242_11e9_9ff8_34e12d8376c5row3_col0\" class=\"data row3 col0\" ><a href=\"https://www.sec.gov/Archives/edgar/data/715579/000110465917065863/0001104659-17-065863-index.htm\">2017Q3</a></td>\n",
       "                        <td id=\"T_1e963eec_8242_11e9_9ff8_34e12d8376c5row3_col1\" class=\"data row3 col1\" >1.912e+06</td>\n",
       "                        <td id=\"T_1e963eec_8242_11e9_9ff8_34e12d8376c5row3_col2\" class=\"data row3 col2\" >INCOME STATEMENT DATA</td>\n",
       "                        <td id=\"T_1e963eec_8242_11e9_9ff8_34e12d8376c5row3_col3\" class=\"data row3 col3\" >Net income</td>\n",
       "                        <td id=\"T_1e963eec_8242_11e9_9ff8_34e12d8376c5row3_col4\" class=\"data row3 col4\" >Three Months Ended September 30, 2017</td>\n",
       "                        <td id=\"T_1e963eec_8242_11e9_9ff8_34e12d8376c5row3_col5\" class=\"data row3 col5\" >$1912</td>\n",
       "                        <td id=\"T_1e963eec_8242_11e9_9ff8_34e12d8376c5row3_col6\" class=\"data row3 col6\" >Dollars in thousands</td>\n",
       "            </tr>\n",
       "            <tr>\n",
       "                                <th id=\"T_1e963eec_8242_11e9_9ff8_34e12d8376c5level1_row4\" class=\"row_heading level1 row4\" >net interest income</th>\n",
       "                        <td id=\"T_1e963eec_8242_11e9_9ff8_34e12d8376c5row4_col0\" class=\"data row4 col0\" ><a href=\"https://www.sec.gov/Archives/edgar/data/715579/000110465917065863/0001104659-17-065863-index.htm\">2017Q3</a></td>\n",
       "                        <td id=\"T_1e963eec_8242_11e9_9ff8_34e12d8376c5row4_col1\" class=\"data row4 col1\" >1.3562e+07</td>\n",
       "                        <td id=\"T_1e963eec_8242_11e9_9ff8_34e12d8376c5row4_col2\" class=\"data row4 col2\" >INCOME STATEMENT DATA</td>\n",
       "                        <td id=\"T_1e963eec_8242_11e9_9ff8_34e12d8376c5row4_col3\" class=\"data row4 col3\" >Net interest income</td>\n",
       "                        <td id=\"T_1e963eec_8242_11e9_9ff8_34e12d8376c5row4_col4\" class=\"data row4 col4\" >Three Months Ended September 30, 2017</td>\n",
       "                        <td id=\"T_1e963eec_8242_11e9_9ff8_34e12d8376c5row4_col5\" class=\"data row4 col5\" >13562</td>\n",
       "                        <td id=\"T_1e963eec_8242_11e9_9ff8_34e12d8376c5row4_col6\" class=\"data row4 col6\" >Dollars in thousands</td>\n",
       "            </tr>\n",
       "            <tr>\n",
       "                                <th id=\"T_1e963eec_8242_11e9_9ff8_34e12d8376c5level1_row5\" class=\"row_heading level1 row5\" >provision for loan losses</th>\n",
       "                        <td id=\"T_1e963eec_8242_11e9_9ff8_34e12d8376c5row5_col0\" class=\"data row5 col0\" ><a href=\"https://www.sec.gov/Archives/edgar/data/715579/000110465917065863/0001104659-17-065863-index.htm\">2017Q3</a></td>\n",
       "                        <td id=\"T_1e963eec_8242_11e9_9ff8_34e12d8376c5row5_col1\" class=\"data row5 col1\" >0</td>\n",
       "                        <td id=\"T_1e963eec_8242_11e9_9ff8_34e12d8376c5row5_col2\" class=\"data row5 col2\" >INCOME STATEMENT DATA</td>\n",
       "                        <td id=\"T_1e963eec_8242_11e9_9ff8_34e12d8376c5row5_col3\" class=\"data row5 col3\" >Provision for loan losses</td>\n",
       "                        <td id=\"T_1e963eec_8242_11e9_9ff8_34e12d8376c5row5_col4\" class=\"data row5 col4\" >Three Months Ended September 30, 2017</td>\n",
       "                        <td id=\"T_1e963eec_8242_11e9_9ff8_34e12d8376c5row5_col5\" class=\"data row5 col5\" ></td>\n",
       "                        <td id=\"T_1e963eec_8242_11e9_9ff8_34e12d8376c5row5_col6\" class=\"data row5 col6\" >Dollars in thousands</td>\n",
       "            </tr>\n",
       "            <tr>\n",
       "                        <th id=\"T_1e963eec_8242_11e9_9ff8_34e12d8376c5level0_row6\" class=\"row_heading level0 row6\" >2018-03-09</th>\n",
       "                        <th id=\"T_1e963eec_8242_11e9_9ff8_34e12d8376c5level1_row6\" class=\"row_heading level1 row6\" >book value per share</th>\n",
       "                        <td id=\"T_1e963eec_8242_11e9_9ff8_34e12d8376c5row6_col0\" class=\"data row6 col0\" ><a href=\"https://www.sec.gov/Archives/edgar/data/715579/000110465918016107/0001104659-18-016107-index.htm\">2017Q4</a></td>\n",
       "                        <td id=\"T_1e963eec_8242_11e9_9ff8_34e12d8376c5row6_col1\" class=\"data row6 col1\" >21.92</td>\n",
       "                        <td id=\"T_1e963eec_8242_11e9_9ff8_34e12d8376c5row6_col2\" class=\"data row6 col2\" >BALANCESHEETDATA</td>\n",
       "                        <td id=\"T_1e963eec_8242_11e9_9ff8_34e12d8376c5row6_col3\" class=\"data row6 col3\" >Book value per share</td>\n",
       "                        <td id=\"T_1e963eec_8242_11e9_9ff8_34e12d8376c5row6_col4\" class=\"data row6 col4\" >December 31, 2017</td>\n",
       "                        <td id=\"T_1e963eec_8242_11e9_9ff8_34e12d8376c5row6_col5\" class=\"data row6 col5\" >$21.92</td>\n",
       "                        <td id=\"T_1e963eec_8242_11e9_9ff8_34e12d8376c5row6_col6\" class=\"data row6 col6\" >Dollars in thousands, except per share data</td>\n",
       "            </tr>\n",
       "            <tr>\n",
       "                        <th id=\"T_1e963eec_8242_11e9_9ff8_34e12d8376c5level0_row7\" class=\"row_heading level0 row7\" rowspan=5>2018-04-26</th>\n",
       "                        <th id=\"T_1e963eec_8242_11e9_9ff8_34e12d8376c5level1_row7\" class=\"row_heading level1 row7\" >book value per share</th>\n",
       "                        <td id=\"T_1e963eec_8242_11e9_9ff8_34e12d8376c5row7_col0\" class=\"data row7 col0\" ><a href=\"https://www.sec.gov/Archives/edgar/data/715579/000110465918027180/0001104659-18-027180-index.htm\">2018Q1</a></td>\n",
       "                        <td id=\"T_1e963eec_8242_11e9_9ff8_34e12d8376c5row7_col1\" class=\"data row7 col1\" >22.26</td>\n",
       "                        <td id=\"T_1e963eec_8242_11e9_9ff8_34e12d8376c5row7_col2\" class=\"data row7 col2\" >SELECTED RATIOS</td>\n",
       "                        <td id=\"T_1e963eec_8242_11e9_9ff8_34e12d8376c5row7_col3\" class=\"data row7 col3\" >Book value per share</td>\n",
       "                        <td id=\"T_1e963eec_8242_11e9_9ff8_34e12d8376c5row7_col4\" class=\"data row7 col4\" >March 31, 2018</td>\n",
       "                        <td id=\"T_1e963eec_8242_11e9_9ff8_34e12d8376c5row7_col5\" class=\"data row7 col5\" >$22.26</td>\n",
       "                        <td id=\"T_1e963eec_8242_11e9_9ff8_34e12d8376c5row7_col6\" class=\"data row7 col6\" >Dollars in thousands, except per share data</td>\n",
       "            </tr>\n",
       "            <tr>\n",
       "                                <th id=\"T_1e963eec_8242_11e9_9ff8_34e12d8376c5level1_row8\" class=\"row_heading level1 row8\" >interest income</th>\n",
       "                        <td id=\"T_1e963eec_8242_11e9_9ff8_34e12d8376c5row8_col0\" class=\"data row8 col0\" ><a href=\"https://www.sec.gov/Archives/edgar/data/715579/000110465918027180/0001104659-18-027180-index.htm\">2018Q1</a></td>\n",
       "                        <td id=\"T_1e963eec_8242_11e9_9ff8_34e12d8376c5row8_col1\" class=\"data row8 col1\" >1.5255e+07</td>\n",
       "                        <td id=\"T_1e963eec_8242_11e9_9ff8_34e12d8376c5row8_col2\" class=\"data row8 col2\" >INCOME STATEMENT DATA</td>\n",
       "                        <td id=\"T_1e963eec_8242_11e9_9ff8_34e12d8376c5row8_col3\" class=\"data row8 col3\" >Interest income</td>\n",
       "                        <td id=\"T_1e963eec_8242_11e9_9ff8_34e12d8376c5row8_col4\" class=\"data row8 col4\" >Three Months Ended March 31, 2018</td>\n",
       "                        <td id=\"T_1e963eec_8242_11e9_9ff8_34e12d8376c5row8_col5\" class=\"data row8 col5\" >$15255</td>\n",
       "                        <td id=\"T_1e963eec_8242_11e9_9ff8_34e12d8376c5row8_col6\" class=\"data row8 col6\" >Dollars in thousands, except per share data</td>\n",
       "            </tr>\n",
       "            <tr>\n",
       "                                <th id=\"T_1e963eec_8242_11e9_9ff8_34e12d8376c5level1_row9\" class=\"row_heading level1 row9\" >net income</th>\n",
       "                        <td id=\"T_1e963eec_8242_11e9_9ff8_34e12d8376c5row9_col0\" class=\"data row9 col0\" ><a href=\"https://www.sec.gov/Archives/edgar/data/715579/000110465918027180/0001104659-18-027180-index.htm\">2018Q1</a></td>\n",
       "                        <td id=\"T_1e963eec_8242_11e9_9ff8_34e12d8376c5row9_col1\" class=\"data row9 col1\" >4.913e+06</td>\n",
       "                        <td id=\"T_1e963eec_8242_11e9_9ff8_34e12d8376c5row9_col2\" class=\"data row9 col2\" >INCOME STATEMENT DATA</td>\n",
       "                        <td id=\"T_1e963eec_8242_11e9_9ff8_34e12d8376c5row9_col3\" class=\"data row9 col3\" >Net income</td>\n",
       "                        <td id=\"T_1e963eec_8242_11e9_9ff8_34e12d8376c5row9_col4\" class=\"data row9 col4\" >Three Months Ended March 31, 2018</td>\n",
       "                        <td id=\"T_1e963eec_8242_11e9_9ff8_34e12d8376c5row9_col5\" class=\"data row9 col5\" >$4913</td>\n",
       "                        <td id=\"T_1e963eec_8242_11e9_9ff8_34e12d8376c5row9_col6\" class=\"data row9 col6\" >Dollars in thousands, except per share data</td>\n",
       "            </tr>\n",
       "            <tr>\n",
       "                                <th id=\"T_1e963eec_8242_11e9_9ff8_34e12d8376c5level1_row10\" class=\"row_heading level1 row10\" >net interest income</th>\n",
       "                        <td id=\"T_1e963eec_8242_11e9_9ff8_34e12d8376c5row10_col0\" class=\"data row10 col0\" ><a href=\"https://www.sec.gov/Archives/edgar/data/715579/000110465918027180/0001104659-18-027180-index.htm\">2018Q1</a></td>\n",
       "                        <td id=\"T_1e963eec_8242_11e9_9ff8_34e12d8376c5row10_col1\" class=\"data row10 col1\" >1.3562e+07</td>\n",
       "                        <td id=\"T_1e963eec_8242_11e9_9ff8_34e12d8376c5row10_col2\" class=\"data row10 col2\" >INCOME STATEMENT DATA</td>\n",
       "                        <td id=\"T_1e963eec_8242_11e9_9ff8_34e12d8376c5row10_col3\" class=\"data row10 col3\" >Net interest income</td>\n",
       "                        <td id=\"T_1e963eec_8242_11e9_9ff8_34e12d8376c5row10_col4\" class=\"data row10 col4\" >Three Months Ended March 31, 2018</td>\n",
       "                        <td id=\"T_1e963eec_8242_11e9_9ff8_34e12d8376c5row10_col5\" class=\"data row10 col5\" >13562</td>\n",
       "                        <td id=\"T_1e963eec_8242_11e9_9ff8_34e12d8376c5row10_col6\" class=\"data row10 col6\" >Dollars in thousands, except per share data</td>\n",
       "            </tr>\n",
       "            <tr>\n",
       "                                <th id=\"T_1e963eec_8242_11e9_9ff8_34e12d8376c5level1_row11\" class=\"row_heading level1 row11\" >provision for loan losses</th>\n",
       "                        <td id=\"T_1e963eec_8242_11e9_9ff8_34e12d8376c5row11_col0\" class=\"data row11 col0\" ><a href=\"https://www.sec.gov/Archives/edgar/data/715579/000110465918027180/0001104659-18-027180-index.htm\">2018Q1</a></td>\n",
       "                        <td id=\"T_1e963eec_8242_11e9_9ff8_34e12d8376c5row11_col1\" class=\"data row11 col1\" >250000</td>\n",
       "                        <td id=\"T_1e963eec_8242_11e9_9ff8_34e12d8376c5row11_col2\" class=\"data row11 col2\" >INCOME STATEMENT DATA</td>\n",
       "                        <td id=\"T_1e963eec_8242_11e9_9ff8_34e12d8376c5row11_col3\" class=\"data row11 col3\" >Provision for loan losses</td>\n",
       "                        <td id=\"T_1e963eec_8242_11e9_9ff8_34e12d8376c5row11_col4\" class=\"data row11 col4\" >Three Months Ended March 31, 2018</td>\n",
       "                        <td id=\"T_1e963eec_8242_11e9_9ff8_34e12d8376c5row11_col5\" class=\"data row11 col5\" >250</td>\n",
       "                        <td id=\"T_1e963eec_8242_11e9_9ff8_34e12d8376c5row11_col6\" class=\"data row11 col6\" >Dollars in thousands, except per share data</td>\n",
       "            </tr>\n",
       "            <tr>\n",
       "                        <th id=\"T_1e963eec_8242_11e9_9ff8_34e12d8376c5level0_row12\" class=\"row_heading level0 row12\" rowspan=5>2018-07-23</th>\n",
       "                        <th id=\"T_1e963eec_8242_11e9_9ff8_34e12d8376c5level1_row12\" class=\"row_heading level1 row12\" >book value per share</th>\n",
       "                        <td id=\"T_1e963eec_8242_11e9_9ff8_34e12d8376c5row12_col0\" class=\"data row12 col0\" ><a href=\"https://www.sec.gov/Archives/edgar/data/715579/000110465918046404/0001104659-18-046404-index.htm\">2018Q2</a></td>\n",
       "                        <td id=\"T_1e963eec_8242_11e9_9ff8_34e12d8376c5row12_col1\" class=\"data row12 col1\" >22.77</td>\n",
       "                        <td id=\"T_1e963eec_8242_11e9_9ff8_34e12d8376c5row12_col2\" class=\"data row12 col2\" >SELECTED RATIOS</td>\n",
       "                        <td id=\"T_1e963eec_8242_11e9_9ff8_34e12d8376c5row12_col3\" class=\"data row12 col3\" >Book value per share</td>\n",
       "                        <td id=\"T_1e963eec_8242_11e9_9ff8_34e12d8376c5row12_col4\" class=\"data row12 col4\" >June 30, 2018</td>\n",
       "                        <td id=\"T_1e963eec_8242_11e9_9ff8_34e12d8376c5row12_col5\" class=\"data row12 col5\" >$22.77</td>\n",
       "                        <td id=\"T_1e963eec_8242_11e9_9ff8_34e12d8376c5row12_col6\" class=\"data row12 col6\" >Dollars in thousands, except per share data</td>\n",
       "            </tr>\n",
       "            <tr>\n",
       "                                <th id=\"T_1e963eec_8242_11e9_9ff8_34e12d8376c5level1_row13\" class=\"row_heading level1 row13\" >interest income</th>\n",
       "                        <td id=\"T_1e963eec_8242_11e9_9ff8_34e12d8376c5row13_col0\" class=\"data row13 col0\" ><a href=\"https://www.sec.gov/Archives/edgar/data/715579/000110465918046404/0001104659-18-046404-index.htm\">2018Q2</a></td>\n",
       "                        <td id=\"T_1e963eec_8242_11e9_9ff8_34e12d8376c5row13_col1\" class=\"data row13 col1\" >1.5864e+07</td>\n",
       "                        <td id=\"T_1e963eec_8242_11e9_9ff8_34e12d8376c5row13_col2\" class=\"data row13 col2\" >INCOME STATEMENT DATA</td>\n",
       "                        <td id=\"T_1e963eec_8242_11e9_9ff8_34e12d8376c5row13_col3\" class=\"data row13 col3\" >Interest income</td>\n",
       "                        <td id=\"T_1e963eec_8242_11e9_9ff8_34e12d8376c5row13_col4\" class=\"data row13 col4\" >Three Months Ended June 30, 2018</td>\n",
       "                        <td id=\"T_1e963eec_8242_11e9_9ff8_34e12d8376c5row13_col5\" class=\"data row13 col5\" >$15864</td>\n",
       "                        <td id=\"T_1e963eec_8242_11e9_9ff8_34e12d8376c5row13_col6\" class=\"data row13 col6\" >Dollars in thousands, except per share data</td>\n",
       "            </tr>\n",
       "            <tr>\n",
       "                                <th id=\"T_1e963eec_8242_11e9_9ff8_34e12d8376c5level1_row14\" class=\"row_heading level1 row14\" >net income</th>\n",
       "                        <td id=\"T_1e963eec_8242_11e9_9ff8_34e12d8376c5row14_col0\" class=\"data row14 col0\" ><a href=\"https://www.sec.gov/Archives/edgar/data/715579/000110465918046404/0001104659-18-046404-index.htm\">2018Q2</a></td>\n",
       "                        <td id=\"T_1e963eec_8242_11e9_9ff8_34e12d8376c5row14_col1\" class=\"data row14 col1\" >5.507e+06</td>\n",
       "                        <td id=\"T_1e963eec_8242_11e9_9ff8_34e12d8376c5row14_col2\" class=\"data row14 col2\" >INCOME STATEMENT DATA</td>\n",
       "                        <td id=\"T_1e963eec_8242_11e9_9ff8_34e12d8376c5row14_col3\" class=\"data row14 col3\" >Net income</td>\n",
       "                        <td id=\"T_1e963eec_8242_11e9_9ff8_34e12d8376c5row14_col4\" class=\"data row14 col4\" >Three Months Ended June 30, 2018</td>\n",
       "                        <td id=\"T_1e963eec_8242_11e9_9ff8_34e12d8376c5row14_col5\" class=\"data row14 col5\" >$5507</td>\n",
       "                        <td id=\"T_1e963eec_8242_11e9_9ff8_34e12d8376c5row14_col6\" class=\"data row14 col6\" >Dollars in thousands, except per share data</td>\n",
       "            </tr>\n",
       "            <tr>\n",
       "                                <th id=\"T_1e963eec_8242_11e9_9ff8_34e12d8376c5level1_row15\" class=\"row_heading level1 row15\" >net interest income</th>\n",
       "                        <td id=\"T_1e963eec_8242_11e9_9ff8_34e12d8376c5row15_col0\" class=\"data row15 col0\" ><a href=\"https://www.sec.gov/Archives/edgar/data/715579/000110465918046404/0001104659-18-046404-index.htm\">2018Q2</a></td>\n",
       "                        <td id=\"T_1e963eec_8242_11e9_9ff8_34e12d8376c5row15_col1\" class=\"data row15 col1\" >1.4091e+07</td>\n",
       "                        <td id=\"T_1e963eec_8242_11e9_9ff8_34e12d8376c5row15_col2\" class=\"data row15 col2\" >INCOME STATEMENT DATA</td>\n",
       "                        <td id=\"T_1e963eec_8242_11e9_9ff8_34e12d8376c5row15_col3\" class=\"data row15 col3\" >Net interest income</td>\n",
       "                        <td id=\"T_1e963eec_8242_11e9_9ff8_34e12d8376c5row15_col4\" class=\"data row15 col4\" >Three Months Ended June 30, 2018</td>\n",
       "                        <td id=\"T_1e963eec_8242_11e9_9ff8_34e12d8376c5row15_col5\" class=\"data row15 col5\" >14091</td>\n",
       "                        <td id=\"T_1e963eec_8242_11e9_9ff8_34e12d8376c5row15_col6\" class=\"data row15 col6\" >Dollars in thousands, except per share data</td>\n",
       "            </tr>\n",
       "            <tr>\n",
       "                                <th id=\"T_1e963eec_8242_11e9_9ff8_34e12d8376c5level1_row16\" class=\"row_heading level1 row16\" >provision for loan losses</th>\n",
       "                        <td id=\"T_1e963eec_8242_11e9_9ff8_34e12d8376c5row16_col0\" class=\"data row16 col0\" ><a href=\"https://www.sec.gov/Archives/edgar/data/715579/000110465918046404/0001104659-18-046404-index.htm\">2018Q2</a></td>\n",
       "                        <td id=\"T_1e963eec_8242_11e9_9ff8_34e12d8376c5row16_col1\" class=\"data row16 col1\" >320000</td>\n",
       "                        <td id=\"T_1e963eec_8242_11e9_9ff8_34e12d8376c5row16_col2\" class=\"data row16 col2\" >INCOME STATEMENT DATA</td>\n",
       "                        <td id=\"T_1e963eec_8242_11e9_9ff8_34e12d8376c5row16_col3\" class=\"data row16 col3\" >Provision for loan losses</td>\n",
       "                        <td id=\"T_1e963eec_8242_11e9_9ff8_34e12d8376c5row16_col4\" class=\"data row16 col4\" >Three Months Ended June 30, 2018</td>\n",
       "                        <td id=\"T_1e963eec_8242_11e9_9ff8_34e12d8376c5row16_col5\" class=\"data row16 col5\" >320</td>\n",
       "                        <td id=\"T_1e963eec_8242_11e9_9ff8_34e12d8376c5row16_col6\" class=\"data row16 col6\" >Dollars in thousands, except per share data</td>\n",
       "            </tr>\n",
       "            <tr>\n",
       "                        <th id=\"T_1e963eec_8242_11e9_9ff8_34e12d8376c5level0_row17\" class=\"row_heading level0 row17\" rowspan=5>2018-10-25</th>\n",
       "                        <th id=\"T_1e963eec_8242_11e9_9ff8_34e12d8376c5level1_row17\" class=\"row_heading level1 row17\" >book value per share</th>\n",
       "                        <td id=\"T_1e963eec_8242_11e9_9ff8_34e12d8376c5row17_col0\" class=\"data row17 col0\" ><a href=\"https://www.sec.gov/Archives/edgar/data/715579/000110465918063822/0001104659-18-063822-index.htm\">2018Q3</a></td>\n",
       "                        <td id=\"T_1e963eec_8242_11e9_9ff8_34e12d8376c5row17_col1\" class=\"data row17 col1\" >23.36</td>\n",
       "                        <td id=\"T_1e963eec_8242_11e9_9ff8_34e12d8376c5row17_col2\" class=\"data row17 col2\" >SELECTED RATIOS</td>\n",
       "                        <td id=\"T_1e963eec_8242_11e9_9ff8_34e12d8376c5row17_col3\" class=\"data row17 col3\" >Book value per share</td>\n",
       "                        <td id=\"T_1e963eec_8242_11e9_9ff8_34e12d8376c5row17_col4\" class=\"data row17 col4\" >September 30, 2018</td>\n",
       "                        <td id=\"T_1e963eec_8242_11e9_9ff8_34e12d8376c5row17_col5\" class=\"data row17 col5\" >$23.36</td>\n",
       "                        <td id=\"T_1e963eec_8242_11e9_9ff8_34e12d8376c5row17_col6\" class=\"data row17 col6\" >Dollars in thousands, except per share data</td>\n",
       "            </tr>\n",
       "            <tr>\n",
       "                                <th id=\"T_1e963eec_8242_11e9_9ff8_34e12d8376c5level1_row18\" class=\"row_heading level1 row18\" >interest income</th>\n",
       "                        <td id=\"T_1e963eec_8242_11e9_9ff8_34e12d8376c5row18_col0\" class=\"data row18 col0\" ><a href=\"https://www.sec.gov/Archives/edgar/data/715579/000110465918063822/0001104659-18-063822-index.htm\">2018Q3</a></td>\n",
       "                        <td id=\"T_1e963eec_8242_11e9_9ff8_34e12d8376c5row18_col1\" class=\"data row18 col1\" >1.6282e+07</td>\n",
       "                        <td id=\"T_1e963eec_8242_11e9_9ff8_34e12d8376c5row18_col2\" class=\"data row18 col2\" >INCOME STATEMENT DATA</td>\n",
       "                        <td id=\"T_1e963eec_8242_11e9_9ff8_34e12d8376c5row18_col3\" class=\"data row18 col3\" >Interest income</td>\n",
       "                        <td id=\"T_1e963eec_8242_11e9_9ff8_34e12d8376c5row18_col4\" class=\"data row18 col4\" >Three Months Ended September 30, 2018</td>\n",
       "                        <td id=\"T_1e963eec_8242_11e9_9ff8_34e12d8376c5row18_col5\" class=\"data row18 col5\" >$16282</td>\n",
       "                        <td id=\"T_1e963eec_8242_11e9_9ff8_34e12d8376c5row18_col6\" class=\"data row18 col6\" >Dollars in thousands, except per share data</td>\n",
       "            </tr>\n",
       "            <tr>\n",
       "                                <th id=\"T_1e963eec_8242_11e9_9ff8_34e12d8376c5level1_row19\" class=\"row_heading level1 row19\" >net income</th>\n",
       "                        <td id=\"T_1e963eec_8242_11e9_9ff8_34e12d8376c5row19_col0\" class=\"data row19 col0\" ><a href=\"https://www.sec.gov/Archives/edgar/data/715579/000110465918063822/0001104659-18-063822-index.htm\">2018Q3</a></td>\n",
       "                        <td id=\"T_1e963eec_8242_11e9_9ff8_34e12d8376c5row19_col1\" class=\"data row19 col1\" >6.039e+06</td>\n",
       "                        <td id=\"T_1e963eec_8242_11e9_9ff8_34e12d8376c5row19_col2\" class=\"data row19 col2\" >INCOME STATEMENT DATA</td>\n",
       "                        <td id=\"T_1e963eec_8242_11e9_9ff8_34e12d8376c5row19_col3\" class=\"data row19 col3\" >Net income</td>\n",
       "                        <td id=\"T_1e963eec_8242_11e9_9ff8_34e12d8376c5row19_col4\" class=\"data row19 col4\" >Three Months Ended September 30, 2018</td>\n",
       "                        <td id=\"T_1e963eec_8242_11e9_9ff8_34e12d8376c5row19_col5\" class=\"data row19 col5\" >$6039</td>\n",
       "                        <td id=\"T_1e963eec_8242_11e9_9ff8_34e12d8376c5row19_col6\" class=\"data row19 col6\" >Dollars in thousands, except per share data</td>\n",
       "            </tr>\n",
       "            <tr>\n",
       "                                <th id=\"T_1e963eec_8242_11e9_9ff8_34e12d8376c5level1_row20\" class=\"row_heading level1 row20\" >net interest income</th>\n",
       "                        <td id=\"T_1e963eec_8242_11e9_9ff8_34e12d8376c5row20_col0\" class=\"data row20 col0\" ><a href=\"https://www.sec.gov/Archives/edgar/data/715579/000110465918063822/0001104659-18-063822-index.htm\">2018Q3</a></td>\n",
       "                        <td id=\"T_1e963eec_8242_11e9_9ff8_34e12d8376c5row20_col1\" class=\"data row20 col1\" >1.4413e+07</td>\n",
       "                        <td id=\"T_1e963eec_8242_11e9_9ff8_34e12d8376c5row20_col2\" class=\"data row20 col2\" >INCOME STATEMENT DATA</td>\n",
       "                        <td id=\"T_1e963eec_8242_11e9_9ff8_34e12d8376c5row20_col3\" class=\"data row20 col3\" >Net interest income</td>\n",
       "                        <td id=\"T_1e963eec_8242_11e9_9ff8_34e12d8376c5row20_col4\" class=\"data row20 col4\" >Three Months Ended September 30, 2018</td>\n",
       "                        <td id=\"T_1e963eec_8242_11e9_9ff8_34e12d8376c5row20_col5\" class=\"data row20 col5\" >14413</td>\n",
       "                        <td id=\"T_1e963eec_8242_11e9_9ff8_34e12d8376c5row20_col6\" class=\"data row20 col6\" >Dollars in thousands, except per share data</td>\n",
       "            </tr>\n",
       "            <tr>\n",
       "                                <th id=\"T_1e963eec_8242_11e9_9ff8_34e12d8376c5level1_row21\" class=\"row_heading level1 row21\" >provision for loan losses</th>\n",
       "                        <td id=\"T_1e963eec_8242_11e9_9ff8_34e12d8376c5row21_col0\" class=\"data row21 col0\" ><a href=\"https://www.sec.gov/Archives/edgar/data/715579/000110465918063822/0001104659-18-063822-index.htm\">2018Q3</a></td>\n",
       "                        <td id=\"T_1e963eec_8242_11e9_9ff8_34e12d8376c5row21_col1\" class=\"data row21 col1\" >200000</td>\n",
       "                        <td id=\"T_1e963eec_8242_11e9_9ff8_34e12d8376c5row21_col2\" class=\"data row21 col2\" >INCOME STATEMENT DATA</td>\n",
       "                        <td id=\"T_1e963eec_8242_11e9_9ff8_34e12d8376c5row21_col3\" class=\"data row21 col3\" >Provision for loan losses</td>\n",
       "                        <td id=\"T_1e963eec_8242_11e9_9ff8_34e12d8376c5row21_col4\" class=\"data row21 col4\" >Three Months Ended September 30, 2018</td>\n",
       "                        <td id=\"T_1e963eec_8242_11e9_9ff8_34e12d8376c5row21_col5\" class=\"data row21 col5\" >200</td>\n",
       "                        <td id=\"T_1e963eec_8242_11e9_9ff8_34e12d8376c5row21_col6\" class=\"data row21 col6\" >Dollars in thousands, except per share data</td>\n",
       "            </tr>\n",
       "            <tr>\n",
       "                        <th id=\"T_1e963eec_8242_11e9_9ff8_34e12d8376c5level0_row22\" class=\"row_heading level0 row22\" rowspan=5>2019-01-30</th>\n",
       "                        <th id=\"T_1e963eec_8242_11e9_9ff8_34e12d8376c5level1_row22\" class=\"row_heading level1 row22\" >book value per share</th>\n",
       "                        <td id=\"T_1e963eec_8242_11e9_9ff8_34e12d8376c5row22_col0\" class=\"data row22 col0\" ><a href=\"https://www.sec.gov/Archives/edgar/data/715579/000110465919004311/0001104659-19-004311-index.htm\">2018Q4</a></td>\n",
       "                        <td id=\"T_1e963eec_8242_11e9_9ff8_34e12d8376c5row22_col1\" class=\"data row22 col1\" >23.86</td>\n",
       "                        <td id=\"T_1e963eec_8242_11e9_9ff8_34e12d8376c5row22_col2\" class=\"data row22 col2\" >SELECTED RATIOS</td>\n",
       "                        <td id=\"T_1e963eec_8242_11e9_9ff8_34e12d8376c5row22_col3\" class=\"data row22 col3\" >Book value per share</td>\n",
       "                        <td id=\"T_1e963eec_8242_11e9_9ff8_34e12d8376c5row22_col4\" class=\"data row22 col4\" >December 31, 2018</td>\n",
       "                        <td id=\"T_1e963eec_8242_11e9_9ff8_34e12d8376c5row22_col5\" class=\"data row22 col5\" >$23.86</td>\n",
       "                        <td id=\"T_1e963eec_8242_11e9_9ff8_34e12d8376c5row22_col6\" class=\"data row22 col6\" >Dollars in thousands, except per share data</td>\n",
       "            </tr>\n",
       "            <tr>\n",
       "                                <th id=\"T_1e963eec_8242_11e9_9ff8_34e12d8376c5level1_row23\" class=\"row_heading level1 row23\" >interest income</th>\n",
       "                        <td id=\"T_1e963eec_8242_11e9_9ff8_34e12d8376c5row23_col0\" class=\"data row23 col0\" ><a href=\"https://www.sec.gov/Archives/edgar/data/715579/000110465919004311/0001104659-19-004311-index.htm\">2018Q4</a></td>\n",
       "                        <td id=\"T_1e963eec_8242_11e9_9ff8_34e12d8376c5row23_col1\" class=\"data row23 col1\" >1.7093e+07</td>\n",
       "                        <td id=\"T_1e963eec_8242_11e9_9ff8_34e12d8376c5row23_col2\" class=\"data row23 col2\" >INCOME STATEMENT DATA</td>\n",
       "                        <td id=\"T_1e963eec_8242_11e9_9ff8_34e12d8376c5row23_col3\" class=\"data row23 col3\" >Interest income</td>\n",
       "                        <td id=\"T_1e963eec_8242_11e9_9ff8_34e12d8376c5row23_col4\" class=\"data row23 col4\" >Three Months Ended December 31, 2018</td>\n",
       "                        <td id=\"T_1e963eec_8242_11e9_9ff8_34e12d8376c5row23_col5\" class=\"data row23 col5\" >$17093</td>\n",
       "                        <td id=\"T_1e963eec_8242_11e9_9ff8_34e12d8376c5row23_col6\" class=\"data row23 col6\" >Dollars in thousands, except per share data</td>\n",
       "            </tr>\n",
       "            <tr>\n",
       "                                <th id=\"T_1e963eec_8242_11e9_9ff8_34e12d8376c5level1_row24\" class=\"row_heading level1 row24\" >net income</th>\n",
       "                        <td id=\"T_1e963eec_8242_11e9_9ff8_34e12d8376c5row24_col0\" class=\"data row24 col0\" ><a href=\"https://www.sec.gov/Archives/edgar/data/715579/000110465919004311/0001104659-19-004311-index.htm\">2018Q4</a></td>\n",
       "                        <td id=\"T_1e963eec_8242_11e9_9ff8_34e12d8376c5row24_col1\" class=\"data row24 col1\" >5.289e+06</td>\n",
       "                        <td id=\"T_1e963eec_8242_11e9_9ff8_34e12d8376c5row24_col2\" class=\"data row24 col2\" >INCOME STATEMENT DATA</td>\n",
       "                        <td id=\"T_1e963eec_8242_11e9_9ff8_34e12d8376c5row24_col3\" class=\"data row24 col3\" >Net income</td>\n",
       "                        <td id=\"T_1e963eec_8242_11e9_9ff8_34e12d8376c5row24_col4\" class=\"data row24 col4\" >Three Months Ended December 31, 2018</td>\n",
       "                        <td id=\"T_1e963eec_8242_11e9_9ff8_34e12d8376c5row24_col5\" class=\"data row24 col5\" >$5289</td>\n",
       "                        <td id=\"T_1e963eec_8242_11e9_9ff8_34e12d8376c5row24_col6\" class=\"data row24 col6\" >Dollars in thousands, except per share data</td>\n",
       "            </tr>\n",
       "            <tr>\n",
       "                                <th id=\"T_1e963eec_8242_11e9_9ff8_34e12d8376c5level1_row25\" class=\"row_heading level1 row25\" >net interest income</th>\n",
       "                        <td id=\"T_1e963eec_8242_11e9_9ff8_34e12d8376c5row25_col0\" class=\"data row25 col0\" ><a href=\"https://www.sec.gov/Archives/edgar/data/715579/000110465919004311/0001104659-19-004311-index.htm\">2018Q4</a></td>\n",
       "                        <td id=\"T_1e963eec_8242_11e9_9ff8_34e12d8376c5row25_col1\" class=\"data row25 col1\" >1.5029e+07</td>\n",
       "                        <td id=\"T_1e963eec_8242_11e9_9ff8_34e12d8376c5row25_col2\" class=\"data row25 col2\" >INCOME STATEMENT DATA</td>\n",
       "                        <td id=\"T_1e963eec_8242_11e9_9ff8_34e12d8376c5row25_col3\" class=\"data row25 col3\" >Net interest income</td>\n",
       "                        <td id=\"T_1e963eec_8242_11e9_9ff8_34e12d8376c5row25_col4\" class=\"data row25 col4\" >Three Months Ended December 31, 2018</td>\n",
       "                        <td id=\"T_1e963eec_8242_11e9_9ff8_34e12d8376c5row25_col5\" class=\"data row25 col5\" >15029</td>\n",
       "                        <td id=\"T_1e963eec_8242_11e9_9ff8_34e12d8376c5row25_col6\" class=\"data row25 col6\" >Dollars in thousands, except per share data</td>\n",
       "            </tr>\n",
       "            <tr>\n",
       "                                <th id=\"T_1e963eec_8242_11e9_9ff8_34e12d8376c5level1_row26\" class=\"row_heading level1 row26\" >provision for loan losses</th>\n",
       "                        <td id=\"T_1e963eec_8242_11e9_9ff8_34e12d8376c5row26_col0\" class=\"data row26 col0\" ><a href=\"https://www.sec.gov/Archives/edgar/data/715579/000110465919004311/0001104659-19-004311-index.htm\">2018Q4</a></td>\n",
       "                        <td id=\"T_1e963eec_8242_11e9_9ff8_34e12d8376c5row26_col1\" class=\"data row26 col1\" >850000</td>\n",
       "                        <td id=\"T_1e963eec_8242_11e9_9ff8_34e12d8376c5row26_col2\" class=\"data row26 col2\" >INCOME STATEMENT DATA</td>\n",
       "                        <td id=\"T_1e963eec_8242_11e9_9ff8_34e12d8376c5row26_col3\" class=\"data row26 col3\" >Provision for loan losses</td>\n",
       "                        <td id=\"T_1e963eec_8242_11e9_9ff8_34e12d8376c5row26_col4\" class=\"data row26 col4\" >Three Months Ended December 31, 2018</td>\n",
       "                        <td id=\"T_1e963eec_8242_11e9_9ff8_34e12d8376c5row26_col5\" class=\"data row26 col5\" >850</td>\n",
       "                        <td id=\"T_1e963eec_8242_11e9_9ff8_34e12d8376c5row26_col6\" class=\"data row26 col6\" >Dollars in thousands, except per share data</td>\n",
       "            </tr>\n",
       "            <tr>\n",
       "                        <th id=\"T_1e963eec_8242_11e9_9ff8_34e12d8376c5level0_row27\" class=\"row_heading level0 row27\" rowspan=5>2019-04-30</th>\n",
       "                        <th id=\"T_1e963eec_8242_11e9_9ff8_34e12d8376c5level1_row27\" class=\"row_heading level1 row27\" >book value per share</th>\n",
       "                        <td id=\"T_1e963eec_8242_11e9_9ff8_34e12d8376c5row27_col0\" class=\"data row27 col0\" ><a href=\"https://www.sec.gov/Archives/edgar/data/715579/000110465919024964/0001104659-19-024964-index.htm\">2019Q1</a></td>\n",
       "                        <td id=\"T_1e963eec_8242_11e9_9ff8_34e12d8376c5row27_col1\" class=\"data row27 col1\" >24.65</td>\n",
       "                        <td id=\"T_1e963eec_8242_11e9_9ff8_34e12d8376c5row27_col2\" class=\"data row27 col2\" >SELECTED RATIOS</td>\n",
       "                        <td id=\"T_1e963eec_8242_11e9_9ff8_34e12d8376c5row27_col3\" class=\"data row27 col3\" >Book value per share</td>\n",
       "                        <td id=\"T_1e963eec_8242_11e9_9ff8_34e12d8376c5row27_col4\" class=\"data row27 col4\" >March 31, 2019</td>\n",
       "                        <td id=\"T_1e963eec_8242_11e9_9ff8_34e12d8376c5row27_col5\" class=\"data row27 col5\" >$24.65</td>\n",
       "                        <td id=\"T_1e963eec_8242_11e9_9ff8_34e12d8376c5row27_col6\" class=\"data row27 col6\" >Dollars in thousands, except per share data</td>\n",
       "            </tr>\n",
       "            <tr>\n",
       "                                <th id=\"T_1e963eec_8242_11e9_9ff8_34e12d8376c5level1_row28\" class=\"row_heading level1 row28\" >interest income</th>\n",
       "                        <td id=\"T_1e963eec_8242_11e9_9ff8_34e12d8376c5row28_col0\" class=\"data row28 col0\" ><a href=\"https://www.sec.gov/Archives/edgar/data/715579/000110465919024964/0001104659-19-024964-index.htm\">2019Q1</a></td>\n",
       "                        <td id=\"T_1e963eec_8242_11e9_9ff8_34e12d8376c5row28_col1\" class=\"data row28 col1\" >1.6885e+07</td>\n",
       "                        <td id=\"T_1e963eec_8242_11e9_9ff8_34e12d8376c5row28_col2\" class=\"data row28 col2\" >INCOME STATEMENT DATA</td>\n",
       "                        <td id=\"T_1e963eec_8242_11e9_9ff8_34e12d8376c5row28_col3\" class=\"data row28 col3\" >Interest income</td>\n",
       "                        <td id=\"T_1e963eec_8242_11e9_9ff8_34e12d8376c5row28_col4\" class=\"data row28 col4\" >Three Months Ended March 31, 2019</td>\n",
       "                        <td id=\"T_1e963eec_8242_11e9_9ff8_34e12d8376c5row28_col5\" class=\"data row28 col5\" >$16885</td>\n",
       "                        <td id=\"T_1e963eec_8242_11e9_9ff8_34e12d8376c5row28_col6\" class=\"data row28 col6\" >Dollars in thousands, except per share data</td>\n",
       "            </tr>\n",
       "            <tr>\n",
       "                                <th id=\"T_1e963eec_8242_11e9_9ff8_34e12d8376c5level1_row29\" class=\"row_heading level1 row29\" >net income</th>\n",
       "                        <td id=\"T_1e963eec_8242_11e9_9ff8_34e12d8376c5row29_col0\" class=\"data row29 col0\" ><a href=\"https://www.sec.gov/Archives/edgar/data/715579/000110465919024964/0001104659-19-024964-index.htm\">2019Q1</a></td>\n",
       "                        <td id=\"T_1e963eec_8242_11e9_9ff8_34e12d8376c5row29_col1\" class=\"data row29 col1\" >5.864e+06</td>\n",
       "                        <td id=\"T_1e963eec_8242_11e9_9ff8_34e12d8376c5row29_col2\" class=\"data row29 col2\" >INCOME STATEMENT DATA</td>\n",
       "                        <td id=\"T_1e963eec_8242_11e9_9ff8_34e12d8376c5row29_col3\" class=\"data row29 col3\" >Net income</td>\n",
       "                        <td id=\"T_1e963eec_8242_11e9_9ff8_34e12d8376c5row29_col4\" class=\"data row29 col4\" >Three Months Ended March 31, 2019</td>\n",
       "                        <td id=\"T_1e963eec_8242_11e9_9ff8_34e12d8376c5row29_col5\" class=\"data row29 col5\" >$5864</td>\n",
       "                        <td id=\"T_1e963eec_8242_11e9_9ff8_34e12d8376c5row29_col6\" class=\"data row29 col6\" >Dollars in thousands, except per share data</td>\n",
       "            </tr>\n",
       "            <tr>\n",
       "                                <th id=\"T_1e963eec_8242_11e9_9ff8_34e12d8376c5level1_row30\" class=\"row_heading level1 row30\" >net interest income</th>\n",
       "                        <td id=\"T_1e963eec_8242_11e9_9ff8_34e12d8376c5row30_col0\" class=\"data row30 col0\" ><a href=\"https://www.sec.gov/Archives/edgar/data/715579/000110465919024964/0001104659-19-024964-index.htm\">2019Q1</a></td>\n",
       "                        <td id=\"T_1e963eec_8242_11e9_9ff8_34e12d8376c5row30_col1\" class=\"data row30 col1\" >1.4665e+07</td>\n",
       "                        <td id=\"T_1e963eec_8242_11e9_9ff8_34e12d8376c5row30_col2\" class=\"data row30 col2\" >INCOME STATEMENT DATA</td>\n",
       "                        <td id=\"T_1e963eec_8242_11e9_9ff8_34e12d8376c5row30_col3\" class=\"data row30 col3\" >Net interest income</td>\n",
       "                        <td id=\"T_1e963eec_8242_11e9_9ff8_34e12d8376c5row30_col4\" class=\"data row30 col4\" >Three Months Ended March 31, 2019</td>\n",
       "                        <td id=\"T_1e963eec_8242_11e9_9ff8_34e12d8376c5row30_col5\" class=\"data row30 col5\" >14665</td>\n",
       "                        <td id=\"T_1e963eec_8242_11e9_9ff8_34e12d8376c5row30_col6\" class=\"data row30 col6\" >Dollars in thousands, except per share data</td>\n",
       "            </tr>\n",
       "            <tr>\n",
       "                                <th id=\"T_1e963eec_8242_11e9_9ff8_34e12d8376c5level1_row31\" class=\"row_heading level1 row31\" >provision for loan losses</th>\n",
       "                        <td id=\"T_1e963eec_8242_11e9_9ff8_34e12d8376c5row31_col0\" class=\"data row31 col0\" ><a href=\"https://www.sec.gov/Archives/edgar/data/715579/000110465919024964/0001104659-19-024964-index.htm\">2019Q1</a></td>\n",
       "                        <td id=\"T_1e963eec_8242_11e9_9ff8_34e12d8376c5row31_col1\" class=\"data row31 col1\" >150000</td>\n",
       "                        <td id=\"T_1e963eec_8242_11e9_9ff8_34e12d8376c5row31_col2\" class=\"data row31 col2\" >INCOME STATEMENT DATA</td>\n",
       "                        <td id=\"T_1e963eec_8242_11e9_9ff8_34e12d8376c5row31_col3\" class=\"data row31 col3\" >Provision for loan losses</td>\n",
       "                        <td id=\"T_1e963eec_8242_11e9_9ff8_34e12d8376c5row31_col4\" class=\"data row31 col4\" >Three Months Ended March 31, 2019</td>\n",
       "                        <td id=\"T_1e963eec_8242_11e9_9ff8_34e12d8376c5row31_col5\" class=\"data row31 col5\" >150</td>\n",
       "                        <td id=\"T_1e963eec_8242_11e9_9ff8_34e12d8376c5row31_col6\" class=\"data row31 col6\" >Dollars in thousands, except per share data</td>\n",
       "            </tr>\n",
       "    </tbody></table>"
      ],
      "text/plain": [
       "<pandas.io.formats.style.Styler at 0x1f489656048>"
      ]
     },
     "execution_count": 9,
     "metadata": {},
     "output_type": "execute_result"
    }
   ],
   "source": [
    "def make_clickable(val: str) -> str: \n",
    "    if isinstance(val, str):\n",
    "        name, url = val.split('#')\n",
    "        return f'<a href=\"{url}\">{name}</a>'\n",
    "    else:\n",
    "        return ''\n",
    "\n",
    "(prelims\n",
    " .assign(fiscal_period = prelims.fiscal_period.str.cat(prelims.filing_href, sep='#'), filing_date = prelims.filing_date.map(lambda d: d.strftime('%Y-%m-%d')))\n",
    " .loc[:, ['filing_date', 'fiscal_period', 'item', 'item_value', 'src_table', 'src_row', 'src_column', 'src_value', 'src_units']]\n",
    " .set_index(['filing_date', 'item'])\n",
    " .style.format({'fiscal_period': make_clickable})\n",
    ")"
   ]
  },
  {
   "cell_type": "code",
   "execution_count": 10,
   "metadata": {
    "papermill": {
     "duration": 0.258622,
     "end_time": "2019-05-29T18:46:50.708578",
     "exception": false,
     "start_time": "2019-05-29T18:46:50.449956",
     "status": "completed"
    },
    "tags": []
   },
   "outputs": [],
   "source": [
    "#discard_prelim(cik, date(2019, 12, 31))\n",
    "#force_reload_prelim(cik, date(2019, 12, 31), delete_filings=False)\n",
    "#force_reload_prelim_between(cik,  start=date(2002, 6, 1), end=date(2019, 12, 31), delete_filings=False)"
   ]
  },
  {
   "cell_type": "code",
   "execution_count": 11,
   "metadata": {
    "papermill": {
     "duration": 0.223114,
     "end_time": "2019-05-29T18:46:50.967019",
     "exception": false,
     "start_time": "2019-05-29T18:46:50.743905",
     "status": "completed"
    },
    "tags": []
   },
   "outputs": [],
   "source": [
    "#d = date(2018, 10, 29)\n",
    "#extract_prelim_statements(cik, start=d, end=d)"
   ]
  },
  {
   "cell_type": "code",
   "execution_count": 12,
   "metadata": {
    "papermill": {
     "duration": 0.346307,
     "end_time": "2019-05-29T18:46:51.349325",
     "exception": false,
     "start_time": "2019-05-29T18:46:51.003018",
     "status": "completed"
    },
    "tags": []
   },
   "outputs": [],
   "source": [
    "#d = date(2019, 4, 22)\n",
    "#filings = query_edgar_for_filings(cik, \"8-K\", start=d, end=d, require_xbrl=False)\n",
    "#report = query_edgar_for_submission_text(filings[0].href)\n",
    "#submission = load_submission(report.href)\n",
    "#tables = list(parse_tables(submission))\n",
    "#items_from_tables(tables)"
   ]
  },
  {
   "cell_type": "code",
   "execution_count": 13,
   "metadata": {
    "papermill": {
     "duration": 0.594552,
     "end_time": "2019-05-29T18:46:51.971519",
     "exception": false,
     "start_time": "2019-05-29T18:46:51.376967",
     "status": "completed"
    },
    "tags": []
   },
   "outputs": [],
   "source": [
    "#widget = query_prelims_for_override(cik, filing_date='2006-01-27', item=None)\n",
    "#widget"
   ]
  },
  {
   "cell_type": "code",
   "execution_count": 14,
   "metadata": {
    "papermill": {
     "duration": 0.213611,
     "end_time": "2019-05-29T18:46:52.209907",
     "exception": false,
     "start_time": "2019-05-29T18:46:51.996296",
     "status": "completed"
    },
    "tags": []
   },
   "outputs": [],
   "source": [
    "#widget.save()"
   ]
  }
 ],
 "metadata": {
  "celltoolbar": "Tags",
  "kernelspec": {
   "display_name": "Python 3",
   "language": "python",
   "name": "python3"
  },
  "language_info": {
   "codemirror_mode": {
    "name": "ipython",
    "version": 3
   },
   "file_extension": ".py",
   "mimetype": "text/x-python",
   "name": "python",
   "nbconvert_exporter": "python",
   "pygments_lexer": "ipython3",
   "version": "3.7.2"
  },
  "papermill": {
   "duration": 9.614551,
   "end_time": "2019-05-29T18:46:53.584494",
   "environment_variables": {},
   "exception": null,
   "input_path": "resources/edgar_prelim_quality.ipynb",
   "output_path": "../out/notebooks/0000715579.ipynb",
   "parameters": {
    "cik": "0000715579"
   },
   "start_time": "2019-05-29T18:46:43.969943",
   "version": "0.19.1"
  }
 },
 "nbformat": 4,
 "nbformat_minor": 2
}