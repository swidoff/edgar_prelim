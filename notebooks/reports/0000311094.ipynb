{
 "cells": [
  {
   "cell_type": "code",
   "execution_count": 1,
   "metadata": {
    "papermill": {
     "duration": 1.428913,
     "end_time": "2019-05-29T18:39:37.153819",
     "exception": false,
     "start_time": "2019-05-29T18:39:35.724906",
     "status": "completed"
    },
    "tags": []
   },
   "outputs": [],
   "source": [
    "from edgar_prelim import *\n",
    "import pandas as pd\n",
    "%load_ext autoreload\n",
    "%autoreload 2\n",
    "%matplotlib inline\n",
    "pd.set_option('display.max_rows', 500)\n",
    "pd.set_option('display.max_columns', 500)"
   ]
  },
  {
   "cell_type": "code",
   "execution_count": 2,
   "metadata": {
    "papermill": {
     "duration": 0.148126,
     "end_time": "2019-05-29T18:39:37.316919",
     "exception": false,
     "start_time": "2019-05-29T18:39:37.168793",
     "status": "completed"
    },
    "tags": [
     "parameters"
    ]
   },
   "outputs": [],
   "source": [
    "cik='0000004962'"
   ]
  },
  {
   "cell_type": "code",
   "execution_count": 3,
   "metadata": {
    "papermill": {
     "duration": 0.135248,
     "end_time": "2019-05-29T18:39:37.466209",
     "exception": false,
     "start_time": "2019-05-29T18:39:37.330961",
     "status": "completed"
    },
    "tags": [
     "injected-parameters"
    ]
   },
   "outputs": [],
   "source": [
    "# Parameters\n",
    "cik = \"0000311094\"\n"
   ]
  },
  {
   "cell_type": "markdown",
   "metadata": {
    "papermill": {
     "duration": 0.014,
     "end_time": "2019-05-29T18:39:37.494983",
     "exception": false,
     "start_time": "2019-05-29T18:39:37.480983",
     "status": "completed"
    },
    "tags": []
   },
   "source": [
    "# Company"
   ]
  },
  {
   "cell_type": "code",
   "execution_count": 4,
   "metadata": {
    "papermill": {
     "duration": 1.33385,
     "end_time": "2019-05-29T18:39:38.843859",
     "exception": false,
     "start_time": "2019-05-29T18:39:37.510009",
     "status": "completed"
    },
    "tags": []
   },
   "outputs": [
    {
     "data": {
      "text/html": [
       "<div>\n",
       "<style scoped>\n",
       "    .dataframe tbody tr th:only-of-type {\n",
       "        vertical-align: middle;\n",
       "    }\n",
       "\n",
       "    .dataframe tbody tr th {\n",
       "        vertical-align: top;\n",
       "    }\n",
       "\n",
       "    .dataframe thead th {\n",
       "        text-align: right;\n",
       "    }\n",
       "</style>\n",
       "<table border=\"1\" class=\"dataframe\">\n",
       "  <thead>\n",
       "    <tr style=\"text-align: right;\">\n",
       "      <th></th>\n",
       "      <th></th>\n",
       "    </tr>\n",
       "  </thead>\n",
       "  <tbody>\n",
       "    <tr>\n",
       "      <th>CIK</th>\n",
       "      <td>0000311094</td>\n",
       "    </tr>\n",
       "    <tr>\n",
       "      <th>SIC</th>\n",
       "      <td>6021</td>\n",
       "    </tr>\n",
       "    <tr>\n",
       "      <th>Description</th>\n",
       "      <td>NATIONAL COMMERCIAL BANKS</td>\n",
       "    </tr>\n",
       "    <tr>\n",
       "      <th>Name</th>\n",
       "      <td>WESTAMERICA BANCORPORATION</td>\n",
       "    </tr>\n",
       "    <tr>\n",
       "      <th>Ticker</th>\n",
       "      <td>WABC</td>\n",
       "    </tr>\n",
       "  </tbody>\n",
       "</table>\n",
       "</div>"
      ],
      "text/plain": [
       "                                       \n",
       "CIK                          0000311094\n",
       "SIC                                6021\n",
       "Description   NATIONAL COMMERCIAL BANKS\n",
       "Name         WESTAMERICA BANCORPORATION\n",
       "Ticker                             WABC"
      ]
     },
     "execution_count": 4,
     "metadata": {},
     "output_type": "execute_result"
    }
   ],
   "source": [
    "cik_df = pd.read_sql(text(\"select cik, sic, sic_description, company_name, ticker from cik where cik = :cik\").bindparams(cik=cik), prelim_engine)\n",
    "cik_df.rename({'cik': 'CIK', 'sic': 'SIC', 'sic_description': 'Description', 'company_name': 'Name', 'ticker': 'Ticker'}, axis=1).T.rename({0: ''}, axis=1)"
   ]
  },
  {
   "cell_type": "code",
   "execution_count": 5,
   "metadata": {
    "papermill": {
     "duration": 0.211205,
     "end_time": "2019-05-29T18:39:39.066304",
     "exception": false,
     "start_time": "2019-05-29T18:39:38.855099",
     "status": "completed"
    },
    "tags": []
   },
   "outputs": [],
   "source": [
    "prelims = query_prelims(cik)"
   ]
  },
  {
   "cell_type": "markdown",
   "metadata": {
    "papermill": {
     "duration": 0.013139,
     "end_time": "2019-05-29T18:39:39.089560",
     "exception": false,
     "start_time": "2019-05-29T18:39:39.076421",
     "status": "completed"
    },
    "tags": []
   },
   "source": [
    "# Summary Statistics"
   ]
  },
  {
   "cell_type": "code",
   "execution_count": 6,
   "metadata": {
    "papermill": {
     "duration": 0.125754,
     "end_time": "2019-05-29T18:39:39.230567",
     "exception": false,
     "start_time": "2019-05-29T18:39:39.104813",
     "status": "completed"
    },
    "tags": []
   },
   "outputs": [
    {
     "data": {
      "text/html": [
       "<div>\n",
       "<style scoped>\n",
       "    .dataframe tbody tr th:only-of-type {\n",
       "        vertical-align: middle;\n",
       "    }\n",
       "\n",
       "    .dataframe tbody tr th {\n",
       "        vertical-align: top;\n",
       "    }\n",
       "\n",
       "    .dataframe thead th {\n",
       "        text-align: right;\n",
       "    }\n",
       "</style>\n",
       "<table border=\"1\" class=\"dataframe\">\n",
       "  <thead>\n",
       "    <tr style=\"text-align: right;\">\n",
       "      <th></th>\n",
       "      <th>count</th>\n",
       "      <th>mean</th>\n",
       "      <th>std</th>\n",
       "      <th>min</th>\n",
       "      <th>25%</th>\n",
       "      <th>50%</th>\n",
       "      <th>75%</th>\n",
       "      <th>max</th>\n",
       "    </tr>\n",
       "    <tr>\n",
       "      <th>item</th>\n",
       "      <th></th>\n",
       "      <th></th>\n",
       "      <th></th>\n",
       "      <th></th>\n",
       "      <th></th>\n",
       "      <th></th>\n",
       "      <th></th>\n",
       "      <th></th>\n",
       "    </tr>\n",
       "  </thead>\n",
       "  <tbody>\n",
       "    <tr>\n",
       "      <th>book value per share</th>\n",
       "      <td>4.0</td>\n",
       "      <td>19.43</td>\n",
       "      <td>0.352515</td>\n",
       "      <td>19.05</td>\n",
       "      <td>19.2</td>\n",
       "      <td>19.41</td>\n",
       "      <td>19.64</td>\n",
       "      <td>19.85</td>\n",
       "    </tr>\n",
       "  </tbody>\n",
       "</table>\n",
       "</div>"
      ],
      "text/plain": [
       "                      count   mean       std    min   25%    50%    75%    max\n",
       "item                                                                          \n",
       "book value per share    4.0  19.43  0.352515  19.05  19.2  19.41  19.64  19.85"
      ]
     },
     "execution_count": 6,
     "metadata": {},
     "output_type": "execute_result"
    }
   ],
   "source": [
    "prelims.groupby('item').item_value.describe()"
   ]
  },
  {
   "cell_type": "markdown",
   "metadata": {
    "papermill": {
     "duration": 0.013024,
     "end_time": "2019-05-29T18:39:39.256615",
     "exception": false,
     "start_time": "2019-05-29T18:39:39.243591",
     "status": "completed"
    },
    "tags": []
   },
   "source": [
    "# Plots"
   ]
  },
  {
   "cell_type": "code",
   "execution_count": 7,
   "metadata": {
    "papermill": {
     "duration": 0.376053,
     "end_time": "2019-05-29T18:39:39.646543",
     "exception": false,
     "start_time": "2019-05-29T18:39:39.270490",
     "status": "completed"
    },
    "tags": []
   },
   "outputs": [
    {
     "data": {
      "image/png": "[encoded data removed]",
      "text/plain": [
       "<Figure size 1440x720 with 6 Axes>"
      ]
     },
     "metadata": {
      "needs_background": "light"
     },
     "output_type": "display_data"
    }
   ],
   "source": [
    "_ = prelims.set_index('filing_date').pivot(columns='item', values='item_value').fillna(method=\"ffill\").plot(subplots=True, layout=(2, 3), figsize=(20, 10), sharex=False)"
   ]
  },
  {
   "cell_type": "markdown",
   "metadata": {
    "papermill": {
     "duration": 0.009179,
     "end_time": "2019-05-29T18:39:39.676333",
     "exception": false,
     "start_time": "2019-05-29T18:39:39.667154",
     "status": "completed"
    },
    "tags": []
   },
   "source": [
    "# Quality"
   ]
  },
  {
   "cell_type": "code",
   "execution_count": 8,
   "metadata": {
    "papermill": {
     "duration": 0.148251,
     "end_time": "2019-05-29T18:39:39.838226",
     "exception": false,
     "start_time": "2019-05-29T18:39:39.689975",
     "status": "completed"
    },
    "tags": []
   },
   "outputs": [
    {
     "data": {
      "text/html": [
       "<div>\n",
       "<style scoped>\n",
       "    .dataframe tbody tr th:only-of-type {\n",
       "        vertical-align: middle;\n",
       "    }\n",
       "\n",
       "    .dataframe tbody tr th {\n",
       "        vertical-align: top;\n",
       "    }\n",
       "\n",
       "    .dataframe thead th {\n",
       "        text-align: right;\n",
       "    }\n",
       "</style>\n",
       "<table border=\"1\" class=\"dataframe\">\n",
       "  <thead>\n",
       "    <tr style=\"text-align: right;\">\n",
       "      <th></th>\n",
       "      <th></th>\n",
       "      <th>period</th>\n",
       "      <th>msg_type</th>\n",
       "      <th>message</th>\n",
       "    </tr>\n",
       "    <tr>\n",
       "      <th>cik</th>\n",
       "      <th>item</th>\n",
       "      <th></th>\n",
       "      <th></th>\n",
       "      <th></th>\n",
       "    </tr>\n",
       "  </thead>\n",
       "  <tbody>\n",
       "    <tr>\n",
       "      <th rowspan=\"5\" valign=\"top\">0000311094</th>\n",
       "      <th>interest income</th>\n",
       "      <td>None</td>\n",
       "      <td>empty</td>\n",
       "      <td>No values for item</td>\n",
       "    </tr>\n",
       "    <tr>\n",
       "      <th>net income</th>\n",
       "      <td>None</td>\n",
       "      <td>empty</td>\n",
       "      <td>No values for item</td>\n",
       "    </tr>\n",
       "    <tr>\n",
       "      <th>net interest income</th>\n",
       "      <td>None</td>\n",
       "      <td>empty</td>\n",
       "      <td>No values for item</td>\n",
       "    </tr>\n",
       "    <tr>\n",
       "      <th>provision for loan losses</th>\n",
       "      <td>None</td>\n",
       "      <td>empty</td>\n",
       "      <td>No values for item</td>\n",
       "    </tr>\n",
       "    <tr>\n",
       "      <th>total revenue</th>\n",
       "      <td>None</td>\n",
       "      <td>empty</td>\n",
       "      <td>No values for item</td>\n",
       "    </tr>\n",
       "  </tbody>\n",
       "</table>\n",
       "</div>"
      ],
      "text/plain": [
       "                                     period msg_type             message\n",
       "cik        item                                                         \n",
       "0000311094 interest income             None    empty  No values for item\n",
       "           net income                  None    empty  No values for item\n",
       "           net interest income         None    empty  No values for item\n",
       "           provision for loan losses   None    empty  No values for item\n",
       "           total revenue               None    empty  No values for item"
      ]
     },
     "execution_count": 8,
     "metadata": {},
     "output_type": "execute_result"
    }
   ],
   "source": [
    "validate_prelims(prelims)"
   ]
  },
  {
   "cell_type": "markdown",
   "metadata": {
    "papermill": {
     "duration": 0.015698,
     "end_time": "2019-05-29T18:39:39.869966",
     "exception": false,
     "start_time": "2019-05-29T18:39:39.854268",
     "status": "completed"
    },
    "tags": []
   },
   "source": [
    "# Data"
   ]
  },
  {
   "cell_type": "code",
   "execution_count": 9,
   "metadata": {
    "papermill": {
     "duration": 0.152898,
     "end_time": "2019-05-29T18:39:40.036858",
     "exception": false,
     "start_time": "2019-05-29T18:39:39.883960",
     "status": "completed"
    },
    "tags": []
   },
   "outputs": [
    {
     "data": {
      "text/html": [
       "<style  type=\"text/css\" >\n",
       "</style><table id=\"T_1e0ef67e_8241_11e9_926f_34e12d8376c5\" ><thead>    <tr>        <th class=\"blank\" ></th>        <th class=\"blank level0\" ></th>        <th class=\"col_heading level0 col0\" >fiscal_period</th>        <th class=\"col_heading level0 col1\" >item_value</th>        <th class=\"col_heading level0 col2\" >src_table</th>        <th class=\"col_heading level0 col3\" >src_row</th>        <th class=\"col_heading level0 col4\" >src_column</th>        <th class=\"col_heading level0 col5\" >src_value</th>        <th class=\"col_heading level0 col6\" >src_units</th>    </tr>    <tr>        <th class=\"index_name level0\" >filing_date</th>        <th class=\"index_name level1\" >item</th>        <th class=\"blank\" ></th>        <th class=\"blank\" ></th>        <th class=\"blank\" ></th>        <th class=\"blank\" ></th>        <th class=\"blank\" ></th>        <th class=\"blank\" ></th>        <th class=\"blank\" ></th>    </tr></thead><tbody>\n",
       "                <tr>\n",
       "                        <th id=\"T_1e0ef67e_8241_11e9_926f_34e12d8376c5level0_row0\" class=\"row_heading level0 row0\" >2011-04-19</th>\n",
       "                        <th id=\"T_1e0ef67e_8241_11e9_926f_34e12d8376c5level1_row0\" class=\"row_heading level1 row0\" >book value per share</th>\n",
       "                        <td id=\"T_1e0ef67e_8241_11e9_926f_34e12d8376c5row0_col0\" class=\"data row0 col0\" ><a href=\"https://www.sec.gov/Archives/edgar/data/311094/000117184311001024/0001171843-11-001024-index.htm\">2011Q1</a></td>\n",
       "                        <td id=\"T_1e0ef67e_8241_11e9_926f_34e12d8376c5row0_col1\" class=\"data row0 col1\" >19.05</td>\n",
       "                        <td id=\"T_1e0ef67e_8241_11e9_926f_34e12d8376c5row0_col2\" class=\"data row0 col2\" >FINANCIAL HIGHLIGHTS</td>\n",
       "                        <td id=\"T_1e0ef67e_8241_11e9_926f_34e12d8376c5row0_col3\" class=\"data row0 col3\" >Book Value Per Common Share</td>\n",
       "                        <td id=\"T_1e0ef67e_8241_11e9_926f_34e12d8376c5row0_col4\" class=\"data row0 col4\" > 3/31/11</td>\n",
       "                        <td id=\"T_1e0ef67e_8241_11e9_926f_34e12d8376c5row0_col5\" class=\"data row0 col5\" >$19.05</td>\n",
       "                        <td id=\"T_1e0ef67e_8241_11e9_926f_34e12d8376c5row0_col6\" class=\"data row0 col6\" >(dollars in thousands except per-share amounts)</td>\n",
       "            </tr>\n",
       "            <tr>\n",
       "                        <th id=\"T_1e0ef67e_8241_11e9_926f_34e12d8376c5level0_row1\" class=\"row_heading level0 row1\" >2011-07-19</th>\n",
       "                        <th id=\"T_1e0ef67e_8241_11e9_926f_34e12d8376c5level1_row1\" class=\"row_heading level1 row1\" >book value per share</th>\n",
       "                        <td id=\"T_1e0ef67e_8241_11e9_926f_34e12d8376c5row1_col0\" class=\"data row1 col0\" ><a href=\"https://www.sec.gov/Archives/edgar/data/311094/000117184311002043/0001171843-11-002043-index.htm\">2011Q2</a></td>\n",
       "                        <td id=\"T_1e0ef67e_8241_11e9_926f_34e12d8376c5row1_col1\" class=\"data row1 col1\" >19.25</td>\n",
       "                        <td id=\"T_1e0ef67e_8241_11e9_926f_34e12d8376c5row1_col2\" class=\"data row1 col2\" >Shareholders' Equity</td>\n",
       "                        <td id=\"T_1e0ef67e_8241_11e9_926f_34e12d8376c5row1_col3\" class=\"data row1 col3\" >Book Value Per Common Share</td>\n",
       "                        <td id=\"T_1e0ef67e_8241_11e9_926f_34e12d8376c5row1_col4\" class=\"data row1 col4\" > 6/30/11</td>\n",
       "                        <td id=\"T_1e0ef67e_8241_11e9_926f_34e12d8376c5row1_col5\" class=\"data row1 col5\" >$19.25</td>\n",
       "                        <td id=\"T_1e0ef67e_8241_11e9_926f_34e12d8376c5row1_col6\" class=\"data row1 col6\" >(dollars in thousands)</td>\n",
       "            </tr>\n",
       "            <tr>\n",
       "                        <th id=\"T_1e0ef67e_8241_11e9_926f_34e12d8376c5level0_row2\" class=\"row_heading level0 row2\" >2011-10-19</th>\n",
       "                        <th id=\"T_1e0ef67e_8241_11e9_926f_34e12d8376c5level1_row2\" class=\"row_heading level1 row2\" >book value per share</th>\n",
       "                        <td id=\"T_1e0ef67e_8241_11e9_926f_34e12d8376c5row2_col0\" class=\"data row2 col0\" ><a href=\"https://www.sec.gov/Archives/edgar/data/311094/000117184311003027/0001171843-11-003027-index.htm\">2011Q3</a></td>\n",
       "                        <td id=\"T_1e0ef67e_8241_11e9_926f_34e12d8376c5row2_col1\" class=\"data row2 col1\" >19.57</td>\n",
       "                        <td id=\"T_1e0ef67e_8241_11e9_926f_34e12d8376c5row2_col2\" class=\"data row2 col2\" >Shareholders' Equity</td>\n",
       "                        <td id=\"T_1e0ef67e_8241_11e9_926f_34e12d8376c5row2_col3\" class=\"data row2 col3\" >Book Value Per Common Share</td>\n",
       "                        <td id=\"T_1e0ef67e_8241_11e9_926f_34e12d8376c5row2_col4\" class=\"data row2 col4\" >9/30/11</td>\n",
       "                        <td id=\"T_1e0ef67e_8241_11e9_926f_34e12d8376c5row2_col5\" class=\"data row2 col5\" >$19.57</td>\n",
       "                        <td id=\"T_1e0ef67e_8241_11e9_926f_34e12d8376c5row2_col6\" class=\"data row2 col6\" >(dollars in thousands)</td>\n",
       "            </tr>\n",
       "            <tr>\n",
       "                        <th id=\"T_1e0ef67e_8241_11e9_926f_34e12d8376c5level0_row3\" class=\"row_heading level0 row3\" >2012-01-19</th>\n",
       "                        <th id=\"T_1e0ef67e_8241_11e9_926f_34e12d8376c5level1_row3\" class=\"row_heading level1 row3\" >book value per share</th>\n",
       "                        <td id=\"T_1e0ef67e_8241_11e9_926f_34e12d8376c5row3_col0\" class=\"data row3 col0\" ><a href=\"https://www.sec.gov/Archives/edgar/data/311094/000117184312000165/0001171843-12-000165-index.htm\">2011Q4</a></td>\n",
       "                        <td id=\"T_1e0ef67e_8241_11e9_926f_34e12d8376c5row3_col1\" class=\"data row3 col1\" >19.85</td>\n",
       "                        <td id=\"T_1e0ef67e_8241_11e9_926f_34e12d8376c5row3_col2\" class=\"data row3 col2\" >Shareholders' Equity</td>\n",
       "                        <td id=\"T_1e0ef67e_8241_11e9_926f_34e12d8376c5row3_col3\" class=\"data row3 col3\" >Book Value Per Common Share</td>\n",
       "                        <td id=\"T_1e0ef67e_8241_11e9_926f_34e12d8376c5row3_col4\" class=\"data row3 col4\" > 12/31/11</td>\n",
       "                        <td id=\"T_1e0ef67e_8241_11e9_926f_34e12d8376c5row3_col5\" class=\"data row3 col5\" >$19.85</td>\n",
       "                        <td id=\"T_1e0ef67e_8241_11e9_926f_34e12d8376c5row3_col6\" class=\"data row3 col6\" >(dollars in thousands)</td>\n",
       "            </tr>\n",
       "    </tbody></table>"
      ],
      "text/plain": [
       "<pandas.io.formats.style.Styler at 0x2a81c8a1160>"
      ]
     },
     "execution_count": 9,
     "metadata": {},
     "output_type": "execute_result"
    }
   ],
   "source": [
    "def make_clickable(val: str) -> str: \n",
    "    if isinstance(val, str):\n",
    "        name, url = val.split('#')\n",
    "        return f'<a href=\"{url}\">{name}</a>'\n",
    "    else:\n",
    "        return ''\n",
    "\n",
    "(prelims\n",
    " .assign(fiscal_period = prelims.fiscal_period.str.cat(prelims.filing_href, sep='#'), filing_date = prelims.filing_date.map(lambda d: d.strftime('%Y-%m-%d')))\n",
    " .loc[:, ['filing_date', 'fiscal_period', 'item', 'item_value', 'src_table', 'src_row', 'src_column', 'src_value', 'src_units']]\n",
    " .set_index(['filing_date', 'item'])\n",
    " .style.format({'fiscal_period': make_clickable})\n",
    ")"
   ]
  },
  {
   "cell_type": "code",
   "execution_count": 10,
   "metadata": {
    "papermill": {
     "duration": 0.123623,
     "end_time": "2019-05-29T18:39:40.176484",
     "exception": false,
     "start_time": "2019-05-29T18:39:40.052861",
     "status": "completed"
    },
    "tags": []
   },
   "outputs": [],
   "source": [
    "#discard_prelim(cik, date(2019, 12, 31))\n",
    "#force_reload_prelim(cik, date(2019, 12, 31), delete_filings=False)\n",
    "#force_reload_prelim_between(cik,  start=date(2002, 6, 1), end=date(2019, 12, 31), delete_filings=False)"
   ]
  },
  {
   "cell_type": "code",
   "execution_count": 11,
   "metadata": {
    "papermill": {
     "duration": 0.125818,
     "end_time": "2019-05-29T18:39:40.319307",
     "exception": false,
     "start_time": "2019-05-29T18:39:40.193489",
     "status": "completed"
    },
    "tags": []
   },
   "outputs": [],
   "source": [
    "#d = date(2018, 10, 29)\n",
    "#extract_prelim_statements(cik, start=d, end=d)"
   ]
  },
  {
   "cell_type": "code",
   "execution_count": 12,
   "metadata": {
    "papermill": {
     "duration": 0.152644,
     "end_time": "2019-05-29T18:39:40.488951",
     "exception": false,
     "start_time": "2019-05-29T18:39:40.336307",
     "status": "completed"
    },
    "tags": []
   },
   "outputs": [],
   "source": [
    "#d = date(2019, 4, 22)\n",
    "#filings = query_edgar_for_filings(cik, \"8-K\", start=d, end=d, require_xbrl=False)\n",
    "#report = query_edgar_for_submission_text(filings[0].href)\n",
    "#submission = load_submission(report.href)\n",
    "#tables = list(parse_tables(submission))\n",
    "#items_from_tables(tables)"
   ]
  },
  {
   "cell_type": "code",
   "execution_count": 13,
   "metadata": {
    "papermill": {
     "duration": 0.15628,
     "end_time": "2019-05-29T18:39:40.664239",
     "exception": false,
     "start_time": "2019-05-29T18:39:40.507959",
     "status": "completed"
    },
    "tags": []
   },
   "outputs": [],
   "source": [
    "#widget = query_prelims_for_override(cik, filing_date='2006-01-27', item=None)\n",
    "#widget"
   ]
  },
  {
   "cell_type": "code",
   "execution_count": 14,
   "metadata": {
    "papermill": {
     "duration": 0.151563,
     "end_time": "2019-05-29T18:39:40.827838",
     "exception": false,
     "start_time": "2019-05-29T18:39:40.676275",
     "status": "completed"
    },
    "tags": []
   },
   "outputs": [],
   "source": [
    "#widget.save()"
   ]
  }
 ],
 "metadata": {
  "celltoolbar": "Tags",
  "kernelspec": {
   "display_name": "Python 3",
   "language": "python",
   "name": "python3"
  },
  "language_info": {
   "codemirror_mode": {
    "name": "ipython",
    "version": 3
   },
   "file_extension": ".py",
   "mimetype": "text/x-python",
   "name": "python",
   "nbconvert_exporter": "python",
   "pygments_lexer": "ipython3",
   "version": "3.7.2"
  },
  "papermill": {
   "duration": 7.515933,
   "end_time": "2019-05-29T18:39:41.986310",
   "environment_variables": {},
   "exception": null,
   "input_path": "resources/edgar_prelim_quality.ipynb",
   "output_path": "../out/notebooks/0000311094.ipynb",
   "parameters": {
    "cik": "0000311094"
   },
   "start_time": "2019-05-29T18:39:34.470377",
   "version": "0.19.1"
  }
 },
 "nbformat": 4,
 "nbformat_minor": 2
}