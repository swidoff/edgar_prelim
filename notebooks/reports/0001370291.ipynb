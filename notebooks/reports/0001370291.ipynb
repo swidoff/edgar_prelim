{
 "cells": [
  {
   "cell_type": "code",
   "execution_count": 1,
   "metadata": {
    "papermill": {
     "duration": 1.42915,
     "end_time": "2019-05-29T19:27:55.695007",
     "exception": false,
     "start_time": "2019-05-29T19:27:54.265857",
     "status": "completed"
    },
    "tags": []
   },
   "outputs": [],
   "source": [
    "from edgar_prelim import *\n",
    "import pandas as pd\n",
    "%load_ext autoreload\n",
    "%autoreload 2\n",
    "%matplotlib inline\n",
    "pd.set_option('display.max_rows', 500)\n",
    "pd.set_option('display.max_columns', 500)"
   ]
  },
  {
   "cell_type": "code",
   "execution_count": 2,
   "metadata": {
    "papermill": {
     "duration": 0.135029,
     "end_time": "2019-05-29T19:27:55.842073",
     "exception": false,
     "start_time": "2019-05-29T19:27:55.707044",
     "status": "completed"
    },
    "tags": [
     "parameters"
    ]
   },
   "outputs": [],
   "source": [
    "cik='0000004962'"
   ]
  },
  {
   "cell_type": "code",
   "execution_count": 3,
   "metadata": {
    "papermill": {
     "duration": 0.133399,
     "end_time": "2019-05-29T19:27:55.983629",
     "exception": false,
     "start_time": "2019-05-29T19:27:55.850230",
     "status": "completed"
    },
    "tags": [
     "injected-parameters"
    ]
   },
   "outputs": [],
   "source": [
    "# Parameters\n",
    "cik = \"0001370291\"\n"
   ]
  },
  {
   "cell_type": "markdown",
   "metadata": {
    "papermill": {
     "duration": 0.014027,
     "end_time": "2019-05-29T19:27:56.013435",
     "exception": false,
     "start_time": "2019-05-29T19:27:55.999408",
     "status": "completed"
    },
    "tags": []
   },
   "source": [
    "# Company"
   ]
  },
  {
   "cell_type": "code",
   "execution_count": 4,
   "metadata": {
    "papermill": {
     "duration": 1.337234,
     "end_time": "2019-05-29T19:27:57.365096",
     "exception": false,
     "start_time": "2019-05-29T19:27:56.027862",
     "status": "completed"
    },
    "tags": []
   },
   "outputs": [
    {
     "data": {
      "text/html": [
       "<div>\n",
       "<style scoped>\n",
       "    .dataframe tbody tr th:only-of-type {\n",
       "        vertical-align: middle;\n",
       "    }\n",
       "\n",
       "    .dataframe tbody tr th {\n",
       "        vertical-align: top;\n",
       "    }\n",
       "\n",
       "    .dataframe thead th {\n",
       "        text-align: right;\n",
       "    }\n",
       "</style>\n",
       "<table border=\"1\" class=\"dataframe\">\n",
       "  <thead>\n",
       "    <tr style=\"text-align: right;\">\n",
       "      <th></th>\n",
       "      <th></th>\n",
       "    </tr>\n",
       "  </thead>\n",
       "  <tbody>\n",
       "    <tr>\n",
       "      <th>CIK</th>\n",
       "      <td>0001370291</td>\n",
       "    </tr>\n",
       "    <tr>\n",
       "      <th>SIC</th>\n",
       "      <td>6022</td>\n",
       "    </tr>\n",
       "    <tr>\n",
       "      <th>Description</th>\n",
       "      <td>STATE COMMERCIAL BANKS</td>\n",
       "    </tr>\n",
       "    <tr>\n",
       "      <th>Name</th>\n",
       "      <td>First California Financial Group, Inc.</td>\n",
       "    </tr>\n",
       "    <tr>\n",
       "      <th>Ticker</th>\n",
       "      <td>FCAL</td>\n",
       "    </tr>\n",
       "  </tbody>\n",
       "</table>\n",
       "</div>"
      ],
      "text/plain": [
       "                                                   \n",
       "CIK                                      0001370291\n",
       "SIC                                            6022\n",
       "Description                  STATE COMMERCIAL BANKS\n",
       "Name         First California Financial Group, Inc.\n",
       "Ticker                                         FCAL"
      ]
     },
     "execution_count": 4,
     "metadata": {},
     "output_type": "execute_result"
    }
   ],
   "source": [
    "cik_df = pd.read_sql(text(\"select cik, sic, sic_description, company_name, ticker from cik where cik = :cik\").bindparams(cik=cik), prelim_engine)\n",
    "cik_df.rename({'cik': 'CIK', 'sic': 'SIC', 'sic_description': 'Description', 'company_name': 'Name', 'ticker': 'Ticker'}, axis=1).T.rename({0: ''}, axis=1)"
   ]
  },
  {
   "cell_type": "code",
   "execution_count": 5,
   "metadata": {
    "papermill": {
     "duration": 0.285893,
     "end_time": "2019-05-29T19:27:57.665384",
     "exception": false,
     "start_time": "2019-05-29T19:27:57.379491",
     "status": "completed"
    },
    "tags": []
   },
   "outputs": [],
   "source": [
    "prelims = query_prelims(cik)"
   ]
  },
  {
   "cell_type": "markdown",
   "metadata": {
    "papermill": {
     "duration": 0.013464,
     "end_time": "2019-05-29T19:27:57.689979",
     "exception": false,
     "start_time": "2019-05-29T19:27:57.676515",
     "status": "completed"
    },
    "tags": []
   },
   "source": [
    "# Summary Statistics"
   ]
  },
  {
   "cell_type": "code",
   "execution_count": 6,
   "metadata": {
    "papermill": {
     "duration": 0.144987,
     "end_time": "2019-05-29T19:27:57.847842",
     "exception": false,
     "start_time": "2019-05-29T19:27:57.702855",
     "status": "completed"
    },
    "tags": []
   },
   "outputs": [
    {
     "data": {
      "text/html": [
       "<div>\n",
       "<style scoped>\n",
       "    .dataframe tbody tr th:only-of-type {\n",
       "        vertical-align: middle;\n",
       "    }\n",
       "\n",
       "    .dataframe tbody tr th {\n",
       "        vertical-align: top;\n",
       "    }\n",
       "\n",
       "    .dataframe thead th {\n",
       "        text-align: right;\n",
       "    }\n",
       "</style>\n",
       "<table border=\"1\" class=\"dataframe\">\n",
       "  <thead>\n",
       "    <tr style=\"text-align: right;\">\n",
       "      <th></th>\n",
       "      <th>count</th>\n",
       "      <th>mean</th>\n",
       "      <th>std</th>\n",
       "      <th>min</th>\n",
       "      <th>25%</th>\n",
       "      <th>50%</th>\n",
       "      <th>75%</th>\n",
       "      <th>max</th>\n",
       "    </tr>\n",
       "    <tr>\n",
       "      <th>item</th>\n",
       "      <th></th>\n",
       "      <th></th>\n",
       "      <th></th>\n",
       "      <th></th>\n",
       "      <th></th>\n",
       "      <th></th>\n",
       "      <th></th>\n",
       "      <th></th>\n",
       "    </tr>\n",
       "  </thead>\n",
       "  <tbody>\n",
       "    <tr>\n",
       "      <th>interest income</th>\n",
       "      <td>6.0</td>\n",
       "      <td>1.613000e+07</td>\n",
       "      <td>1.596181e+06</td>\n",
       "      <td>14596000.0</td>\n",
       "      <td>14901000.0</td>\n",
       "      <td>15830500.0</td>\n",
       "      <td>16808750.0</td>\n",
       "      <td>18797000.0</td>\n",
       "    </tr>\n",
       "    <tr>\n",
       "      <th>net income</th>\n",
       "      <td>6.0</td>\n",
       "      <td>-2.931667e+05</td>\n",
       "      <td>1.895299e+06</td>\n",
       "      <td>-2864000.0</td>\n",
       "      <td>-1392500.0</td>\n",
       "      <td>90500.0</td>\n",
       "      <td>192000.0</td>\n",
       "      <td>2585000.0</td>\n",
       "    </tr>\n",
       "    <tr>\n",
       "      <th>net interest income</th>\n",
       "      <td>6.0</td>\n",
       "      <td>8.867667e+06</td>\n",
       "      <td>3.988629e+06</td>\n",
       "      <td>4741000.0</td>\n",
       "      <td>6073000.0</td>\n",
       "      <td>8204000.0</td>\n",
       "      <td>10320000.0</td>\n",
       "      <td>15669000.0</td>\n",
       "    </tr>\n",
       "    <tr>\n",
       "      <th>provision for loan losses</th>\n",
       "      <td>6.0</td>\n",
       "      <td>3.066833e+06</td>\n",
       "      <td>2.333795e+06</td>\n",
       "      <td>500000.0</td>\n",
       "      <td>1271000.0</td>\n",
       "      <td>2686000.0</td>\n",
       "      <td>4706250.0</td>\n",
       "      <td>6350000.0</td>\n",
       "    </tr>\n",
       "  </tbody>\n",
       "</table>\n",
       "</div>"
      ],
      "text/plain": [
       "                           count          mean           std         min  \\\n",
       "item                                                                       \n",
       "interest income              6.0  1.613000e+07  1.596181e+06  14596000.0   \n",
       "net income                   6.0 -2.931667e+05  1.895299e+06  -2864000.0   \n",
       "net interest income          6.0  8.867667e+06  3.988629e+06   4741000.0   \n",
       "provision for loan losses    6.0  3.066833e+06  2.333795e+06    500000.0   \n",
       "\n",
       "                                  25%         50%         75%         max  \n",
       "item                                                                       \n",
       "interest income            14901000.0  15830500.0  16808750.0  18797000.0  \n",
       "net income                 -1392500.0     90500.0    192000.0   2585000.0  \n",
       "net interest income         6073000.0   8204000.0  10320000.0  15669000.0  \n",
       "provision for loan losses   1271000.0   2686000.0   4706250.0   6350000.0  "
      ]
     },
     "execution_count": 6,
     "metadata": {},
     "output_type": "execute_result"
    }
   ],
   "source": [
    "prelims.groupby('item').item_value.describe()"
   ]
  },
  {
   "cell_type": "markdown",
   "metadata": {
    "papermill": {
     "duration": 0.014057,
     "end_time": "2019-05-29T19:27:57.875901",
     "exception": false,
     "start_time": "2019-05-29T19:27:57.861844",
     "status": "completed"
    },
    "tags": []
   },
   "source": [
    "# Plots"
   ]
  },
  {
   "cell_type": "code",
   "execution_count": 7,
   "metadata": {
    "papermill": {
     "duration": 0.747185,
     "end_time": "2019-05-29T19:27:58.637029",
     "exception": false,
     "start_time": "2019-05-29T19:27:57.889844",
     "status": "completed"
    },
    "tags": []
   },
   "outputs": [
    {
     "data": {
      "image/png": "[encoded data removed]",
      "text/plain": [
       "<Figure size 1440x720 with 6 Axes>"
      ]
     },
     "metadata": {
      "needs_background": "light"
     },
     "output_type": "display_data"
    }
   ],
   "source": [
    "_ = prelims.set_index('filing_date').pivot(columns='item', values='item_value').fillna(method=\"ffill\").plot(subplots=True, layout=(2, 3), figsize=(20, 10), sharex=False)"
   ]
  },
  {
   "cell_type": "markdown",
   "metadata": {
    "papermill": {
     "duration": 0.013103,
     "end_time": "2019-05-29T19:27:58.671178",
     "exception": false,
     "start_time": "2019-05-29T19:27:58.658075",
     "status": "completed"
    },
    "tags": []
   },
   "source": [
    "# Quality"
   ]
  },
  {
   "cell_type": "code",
   "execution_count": 8,
   "metadata": {
    "papermill": {
     "duration": 0.181243,
     "end_time": "2019-05-29T19:27:58.863100",
     "exception": false,
     "start_time": "2019-05-29T19:27:58.681857",
     "status": "completed"
    },
    "tags": []
   },
   "outputs": [
    {
     "data": {
      "text/html": [
       "<div>\n",
       "<style scoped>\n",
       "    .dataframe tbody tr th:only-of-type {\n",
       "        vertical-align: middle;\n",
       "    }\n",
       "\n",
       "    .dataframe tbody tr th {\n",
       "        vertical-align: top;\n",
       "    }\n",
       "\n",
       "    .dataframe thead th {\n",
       "        text-align: right;\n",
       "    }\n",
       "</style>\n",
       "<table border=\"1\" class=\"dataframe\">\n",
       "  <thead>\n",
       "    <tr style=\"text-align: right;\">\n",
       "      <th></th>\n",
       "      <th></th>\n",
       "      <th>period</th>\n",
       "      <th>msg_type</th>\n",
       "      <th>message</th>\n",
       "    </tr>\n",
       "    <tr>\n",
       "      <th>cik</th>\n",
       "      <th>item</th>\n",
       "      <th></th>\n",
       "      <th></th>\n",
       "      <th></th>\n",
       "    </tr>\n",
       "  </thead>\n",
       "  <tbody>\n",
       "    <tr>\n",
       "      <th rowspan=\"14\" valign=\"top\">0001370291</th>\n",
       "      <th>book value per share</th>\n",
       "      <td>None</td>\n",
       "      <td>empty</td>\n",
       "      <td>No values for item</td>\n",
       "    </tr>\n",
       "    <tr>\n",
       "      <th>interest income</th>\n",
       "      <td>2009Q3</td>\n",
       "      <td>missing</td>\n",
       "      <td>Missing period</td>\n",
       "    </tr>\n",
       "    <tr>\n",
       "      <th>interest income</th>\n",
       "      <td>2010Q2</td>\n",
       "      <td>missing</td>\n",
       "      <td>Missing period</td>\n",
       "    </tr>\n",
       "    <tr>\n",
       "      <th>interest income</th>\n",
       "      <td>2010Q4 to 2011Q4: 5 periods</td>\n",
       "      <td>missing</td>\n",
       "      <td>Missing period</td>\n",
       "    </tr>\n",
       "    <tr>\n",
       "      <th>net income</th>\n",
       "      <td>2009Q3</td>\n",
       "      <td>missing</td>\n",
       "      <td>Missing period</td>\n",
       "    </tr>\n",
       "    <tr>\n",
       "      <th>net income</th>\n",
       "      <td>2010Q2</td>\n",
       "      <td>missing</td>\n",
       "      <td>Missing period</td>\n",
       "    </tr>\n",
       "    <tr>\n",
       "      <th>net income</th>\n",
       "      <td>2010Q4 to 2011Q4: 5 periods</td>\n",
       "      <td>missing</td>\n",
       "      <td>Missing period</td>\n",
       "    </tr>\n",
       "    <tr>\n",
       "      <th>net interest income</th>\n",
       "      <td>2009Q3</td>\n",
       "      <td>missing</td>\n",
       "      <td>Missing period</td>\n",
       "    </tr>\n",
       "    <tr>\n",
       "      <th>net interest income</th>\n",
       "      <td>2010Q2</td>\n",
       "      <td>missing</td>\n",
       "      <td>Missing period</td>\n",
       "    </tr>\n",
       "    <tr>\n",
       "      <th>net interest income</th>\n",
       "      <td>2010Q4 to 2011Q4: 5 periods</td>\n",
       "      <td>missing</td>\n",
       "      <td>Missing period</td>\n",
       "    </tr>\n",
       "    <tr>\n",
       "      <th>provision for loan losses</th>\n",
       "      <td>2009Q3</td>\n",
       "      <td>missing</td>\n",
       "      <td>Missing period</td>\n",
       "    </tr>\n",
       "    <tr>\n",
       "      <th>provision for loan losses</th>\n",
       "      <td>2010Q2</td>\n",
       "      <td>missing</td>\n",
       "      <td>Missing period</td>\n",
       "    </tr>\n",
       "    <tr>\n",
       "      <th>provision for loan losses</th>\n",
       "      <td>2010Q4 to 2011Q4: 5 periods</td>\n",
       "      <td>missing</td>\n",
       "      <td>Missing period</td>\n",
       "    </tr>\n",
       "    <tr>\n",
       "      <th>total revenue</th>\n",
       "      <td>None</td>\n",
       "      <td>empty</td>\n",
       "      <td>No values for item</td>\n",
       "    </tr>\n",
       "  </tbody>\n",
       "</table>\n",
       "</div>"
      ],
      "text/plain": [
       "                                                           period msg_type  \\\n",
       "cik        item                                                              \n",
       "0001370291 book value per share                              None    empty   \n",
       "           interest income                                 2009Q3  missing   \n",
       "           interest income                                 2010Q2  missing   \n",
       "           interest income            2010Q4 to 2011Q4: 5 periods  missing   \n",
       "           net income                                      2009Q3  missing   \n",
       "           net income                                      2010Q2  missing   \n",
       "           net income                 2010Q4 to 2011Q4: 5 periods  missing   \n",
       "           net interest income                             2009Q3  missing   \n",
       "           net interest income                             2010Q2  missing   \n",
       "           net interest income        2010Q4 to 2011Q4: 5 periods  missing   \n",
       "           provision for loan losses                       2009Q3  missing   \n",
       "           provision for loan losses                       2010Q2  missing   \n",
       "           provision for loan losses  2010Q4 to 2011Q4: 5 periods  missing   \n",
       "           total revenue                                     None    empty   \n",
       "\n",
       "                                                 message  \n",
       "cik        item                                           \n",
       "0001370291 book value per share       No values for item  \n",
       "           interest income                Missing period  \n",
       "           interest income                Missing period  \n",
       "           interest income                Missing period  \n",
       "           net income                     Missing period  \n",
       "           net income                     Missing period  \n",
       "           net income                     Missing period  \n",
       "           net interest income            Missing period  \n",
       "           net interest income            Missing period  \n",
       "           net interest income            Missing period  \n",
       "           provision for loan losses      Missing period  \n",
       "           provision for loan losses      Missing period  \n",
       "           provision for loan losses      Missing period  \n",
       "           total revenue              No values for item  "
      ]
     },
     "execution_count": 8,
     "metadata": {},
     "output_type": "execute_result"
    }
   ],
   "source": [
    "validate_prelims(prelims)"
   ]
  },
  {
   "cell_type": "markdown",
   "metadata": {
    "papermill": {
     "duration": 0.017098,
     "end_time": "2019-05-29T19:27:58.893314",
     "exception": false,
     "start_time": "2019-05-29T19:27:58.876216",
     "status": "completed"
    },
    "tags": []
   },
   "source": [
    "# Data"
   ]
  },
  {
   "cell_type": "code",
   "execution_count": 9,
   "metadata": {
    "papermill": {
     "duration": 0.156179,
     "end_time": "2019-05-29T19:27:59.064276",
     "exception": false,
     "start_time": "2019-05-29T19:27:58.908097",
     "status": "completed"
    },
    "tags": []
   },
   "outputs": [
    {
     "data": {
      "text/html": [
       "<style  type=\"text/css\" >\n",
       "</style><table id=\"T_de025f1e_8247_11e9_b621_34e12d8376c5\" ><thead>    <tr>        <th class=\"blank\" ></th>        <th class=\"blank level0\" ></th>        <th class=\"col_heading level0 col0\" >fiscal_period</th>        <th class=\"col_heading level0 col1\" >item_value</th>        <th class=\"col_heading level0 col2\" >src_table</th>        <th class=\"col_heading level0 col3\" >src_row</th>        <th class=\"col_heading level0 col4\" >src_column</th>        <th class=\"col_heading level0 col5\" >src_value</th>        <th class=\"col_heading level0 col6\" >src_units</th>    </tr>    <tr>        <th class=\"index_name level0\" >filing_date</th>        <th class=\"index_name level1\" >item</th>        <th class=\"blank\" ></th>        <th class=\"blank\" ></th>        <th class=\"blank\" ></th>        <th class=\"blank\" ></th>        <th class=\"blank\" ></th>        <th class=\"blank\" ></th>        <th class=\"blank\" ></th>    </tr></thead><tbody>\n",
       "                <tr>\n",
       "                        <th id=\"T_de025f1e_8247_11e9_b621_34e12d8376c5level0_row0\" class=\"row_heading level0 row0\" rowspan=4>2009-06-23</th>\n",
       "                        <th id=\"T_de025f1e_8247_11e9_b621_34e12d8376c5level1_row0\" class=\"row_heading level1 row0\" >interest income</th>\n",
       "                        <td id=\"T_de025f1e_8247_11e9_b621_34e12d8376c5row0_col0\" class=\"data row0 col0\" ><a href=\"https://www.sec.gov/Archives/edgar/data/1370291/000119312509135557/0001193125-09-135557-index.htm\">2009Q1</a></td>\n",
       "                        <td id=\"T_de025f1e_8247_11e9_b621_34e12d8376c5row0_col1\" class=\"data row0 col1\" >1.6079e+07</td>\n",
       "                        <td id=\"T_de025f1e_8247_11e9_b621_34e12d8376c5row0_col2\" class=\"data row0 col2\" >Balance sheet data</td>\n",
       "                        <td id=\"T_de025f1e_8247_11e9_b621_34e12d8376c5row0_col3\" class=\"data row0 col3\" >Total interest income</td>\n",
       "                        <td id=\"T_de025f1e_8247_11e9_b621_34e12d8376c5row0_col4\" class=\"data row0 col4\" >For the Quarter Ended March 31, 2009</td>\n",
       "                        <td id=\"T_de025f1e_8247_11e9_b621_34e12d8376c5row0_col5\" class=\"data row0 col5\" >16079</td>\n",
       "                        <td id=\"T_de025f1e_8247_11e9_b621_34e12d8376c5row0_col6\" class=\"data row0 col6\" >(in thousands, except per share data)</td>\n",
       "            </tr>\n",
       "            <tr>\n",
       "                                <th id=\"T_de025f1e_8247_11e9_b621_34e12d8376c5level1_row1\" class=\"row_heading level1 row1\" >net income</th>\n",
       "                        <td id=\"T_de025f1e_8247_11e9_b621_34e12d8376c5row1_col0\" class=\"data row1 col0\" ><a href=\"https://www.sec.gov/Archives/edgar/data/1370291/000119312509135557/0001193125-09-135557-index.htm\">2009Q1</a></td>\n",
       "                        <td id=\"T_de025f1e_8247_11e9_b621_34e12d8376c5row1_col1\" class=\"data row1 col1\" >-1.878e+06</td>\n",
       "                        <td id=\"T_de025f1e_8247_11e9_b621_34e12d8376c5row1_col2\" class=\"data row1 col2\" >Balance sheet data</td>\n",
       "                        <td id=\"T_de025f1e_8247_11e9_b621_34e12d8376c5row1_col3\" class=\"data row1 col3\" >Net income (loss)</td>\n",
       "                        <td id=\"T_de025f1e_8247_11e9_b621_34e12d8376c5row1_col4\" class=\"data row1 col4\" >For the Quarter Ended March 31, 2009</td>\n",
       "                        <td id=\"T_de025f1e_8247_11e9_b621_34e12d8376c5row1_col5\" class=\"data row1 col5\" >$(1,878</td>\n",
       "                        <td id=\"T_de025f1e_8247_11e9_b621_34e12d8376c5row1_col6\" class=\"data row1 col6\" >(in thousands, except per share data)</td>\n",
       "            </tr>\n",
       "            <tr>\n",
       "                                <th id=\"T_de025f1e_8247_11e9_b621_34e12d8376c5level1_row2\" class=\"row_heading level1 row2\" >net interest income</th>\n",
       "                        <td id=\"T_de025f1e_8247_11e9_b621_34e12d8376c5row2_col0\" class=\"data row2 col0\" ><a href=\"https://www.sec.gov/Archives/edgar/data/1370291/000119312509135557/0001193125-09-135557-index.htm\">2009Q1</a></td>\n",
       "                        <td id=\"T_de025f1e_8247_11e9_b621_34e12d8376c5row2_col1\" class=\"data row2 col1\" >5.601e+06</td>\n",
       "                        <td id=\"T_de025f1e_8247_11e9_b621_34e12d8376c5row2_col2\" class=\"data row2 col2\" >Balance sheet data</td>\n",
       "                        <td id=\"T_de025f1e_8247_11e9_b621_34e12d8376c5row2_col3\" class=\"data row2 col3\" >Net interest income after provision for loan losses</td>\n",
       "                        <td id=\"T_de025f1e_8247_11e9_b621_34e12d8376c5row2_col4\" class=\"data row2 col4\" >For the Quarter Ended March 31, 2009</td>\n",
       "                        <td id=\"T_de025f1e_8247_11e9_b621_34e12d8376c5row2_col5\" class=\"data row2 col5\" >5601</td>\n",
       "                        <td id=\"T_de025f1e_8247_11e9_b621_34e12d8376c5row2_col6\" class=\"data row2 col6\" >(in thousands, except per share data)</td>\n",
       "            </tr>\n",
       "            <tr>\n",
       "                                <th id=\"T_de025f1e_8247_11e9_b621_34e12d8376c5level1_row3\" class=\"row_heading level1 row3\" >provision for loan losses</th>\n",
       "                        <td id=\"T_de025f1e_8247_11e9_b621_34e12d8376c5row3_col0\" class=\"data row3 col0\" ><a href=\"https://www.sec.gov/Archives/edgar/data/1370291/000119312509135557/0001193125-09-135557-index.htm\">2009Q1</a></td>\n",
       "                        <td id=\"T_de025f1e_8247_11e9_b621_34e12d8376c5row3_col1\" class=\"data row3 col1\" >5.069e+06</td>\n",
       "                        <td id=\"T_de025f1e_8247_11e9_b621_34e12d8376c5row3_col2\" class=\"data row3 col2\" >Balance sheet data</td>\n",
       "                        <td id=\"T_de025f1e_8247_11e9_b621_34e12d8376c5row3_col3\" class=\"data row3 col3\" >Provision for loan losses</td>\n",
       "                        <td id=\"T_de025f1e_8247_11e9_b621_34e12d8376c5row3_col4\" class=\"data row3 col4\" >For the Quarter Ended March 31, 2009</td>\n",
       "                        <td id=\"T_de025f1e_8247_11e9_b621_34e12d8376c5row3_col5\" class=\"data row3 col5\" >5069</td>\n",
       "                        <td id=\"T_de025f1e_8247_11e9_b621_34e12d8376c5row3_col6\" class=\"data row3 col6\" >(in thousands, except per share data)</td>\n",
       "            </tr>\n",
       "            <tr>\n",
       "                        <th id=\"T_de025f1e_8247_11e9_b621_34e12d8376c5level0_row4\" class=\"row_heading level0 row4\" rowspan=4>2009-07-27</th>\n",
       "                        <th id=\"T_de025f1e_8247_11e9_b621_34e12d8376c5level1_row4\" class=\"row_heading level1 row4\" >interest income</th>\n",
       "                        <td id=\"T_de025f1e_8247_11e9_b621_34e12d8376c5row4_col0\" class=\"data row4 col0\" ><a href=\"https://www.sec.gov/Archives/edgar/data/1370291/000119312509155955/0001193125-09-155955-index.htm\">2009Q2</a></td>\n",
       "                        <td id=\"T_de025f1e_8247_11e9_b621_34e12d8376c5row4_col1\" class=\"data row4 col1\" >1.7052e+07</td>\n",
       "                        <td id=\"T_de025f1e_8247_11e9_b621_34e12d8376c5row4_col2\" class=\"data row4 col2\" >Balance sheet data</td>\n",
       "                        <td id=\"T_de025f1e_8247_11e9_b621_34e12d8376c5row4_col3\" class=\"data row4 col3\" >Total interest income</td>\n",
       "                        <td id=\"T_de025f1e_8247_11e9_b621_34e12d8376c5row4_col4\" class=\"data row4 col4\" >Three months ended June 30, 2009</td>\n",
       "                        <td id=\"T_de025f1e_8247_11e9_b621_34e12d8376c5row4_col5\" class=\"data row4 col5\" >17052</td>\n",
       "                        <td id=\"T_de025f1e_8247_11e9_b621_34e12d8376c5row4_col6\" class=\"data row4 col6\" >(in thousands, except per share data)</td>\n",
       "            </tr>\n",
       "            <tr>\n",
       "                                <th id=\"T_de025f1e_8247_11e9_b621_34e12d8376c5level1_row5\" class=\"row_heading level1 row5\" >net income</th>\n",
       "                        <td id=\"T_de025f1e_8247_11e9_b621_34e12d8376c5row5_col0\" class=\"data row5 col0\" ><a href=\"https://www.sec.gov/Archives/edgar/data/1370291/000119312509155955/0001193125-09-155955-index.htm\">2009Q2</a></td>\n",
       "                        <td id=\"T_de025f1e_8247_11e9_b621_34e12d8376c5row5_col1\" class=\"data row5 col1\" >217000</td>\n",
       "                        <td id=\"T_de025f1e_8247_11e9_b621_34e12d8376c5row5_col2\" class=\"data row5 col2\" >Balance sheet data</td>\n",
       "                        <td id=\"T_de025f1e_8247_11e9_b621_34e12d8376c5row5_col3\" class=\"data row5 col3\" >Net income (loss)</td>\n",
       "                        <td id=\"T_de025f1e_8247_11e9_b621_34e12d8376c5row5_col4\" class=\"data row5 col4\" >Three months ended June 30, 2009</td>\n",
       "                        <td id=\"T_de025f1e_8247_11e9_b621_34e12d8376c5row5_col5\" class=\"data row5 col5\" >$217</td>\n",
       "                        <td id=\"T_de025f1e_8247_11e9_b621_34e12d8376c5row5_col6\" class=\"data row5 col6\" >(in thousands, except per share data)</td>\n",
       "            </tr>\n",
       "            <tr>\n",
       "                                <th id=\"T_de025f1e_8247_11e9_b621_34e12d8376c5level1_row6\" class=\"row_heading level1 row6\" >net interest income</th>\n",
       "                        <td id=\"T_de025f1e_8247_11e9_b621_34e12d8376c5row6_col0\" class=\"data row6 col0\" ><a href=\"https://www.sec.gov/Archives/edgar/data/1370291/000119312509155955/0001193125-09-155955-index.htm\">2009Q2</a></td>\n",
       "                        <td id=\"T_de025f1e_8247_11e9_b621_34e12d8376c5row6_col1\" class=\"data row6 col1\" >1.0787e+07</td>\n",
       "                        <td id=\"T_de025f1e_8247_11e9_b621_34e12d8376c5row6_col2\" class=\"data row6 col2\" >Balance sheet data</td>\n",
       "                        <td id=\"T_de025f1e_8247_11e9_b621_34e12d8376c5row6_col3\" class=\"data row6 col3\" >Net interest income after provision for loan losses</td>\n",
       "                        <td id=\"T_de025f1e_8247_11e9_b621_34e12d8376c5row6_col4\" class=\"data row6 col4\" >Three months ended June 30, 2009</td>\n",
       "                        <td id=\"T_de025f1e_8247_11e9_b621_34e12d8376c5row6_col5\" class=\"data row6 col5\" >10787</td>\n",
       "                        <td id=\"T_de025f1e_8247_11e9_b621_34e12d8376c5row6_col6\" class=\"data row6 col6\" >(in thousands, except per share data)</td>\n",
       "            </tr>\n",
       "            <tr>\n",
       "                                <th id=\"T_de025f1e_8247_11e9_b621_34e12d8376c5level1_row7\" class=\"row_heading level1 row7\" >provision for loan losses</th>\n",
       "                        <td id=\"T_de025f1e_8247_11e9_b621_34e12d8376c5row7_col0\" class=\"data row7 col0\" ><a href=\"https://www.sec.gov/Archives/edgar/data/1370291/000119312509155955/0001193125-09-155955-index.htm\">2009Q2</a></td>\n",
       "                        <td id=\"T_de025f1e_8247_11e9_b621_34e12d8376c5row7_col1\" class=\"data row7 col1\" >1.11e+06</td>\n",
       "                        <td id=\"T_de025f1e_8247_11e9_b621_34e12d8376c5row7_col2\" class=\"data row7 col2\" >Balance sheet data</td>\n",
       "                        <td id=\"T_de025f1e_8247_11e9_b621_34e12d8376c5row7_col3\" class=\"data row7 col3\" >Provision for loan losses</td>\n",
       "                        <td id=\"T_de025f1e_8247_11e9_b621_34e12d8376c5row7_col4\" class=\"data row7 col4\" >Three months ended June 30, 2009</td>\n",
       "                        <td id=\"T_de025f1e_8247_11e9_b621_34e12d8376c5row7_col5\" class=\"data row7 col5\" >1110</td>\n",
       "                        <td id=\"T_de025f1e_8247_11e9_b621_34e12d8376c5row7_col6\" class=\"data row7 col6\" >(in thousands, except per share data)</td>\n",
       "            </tr>\n",
       "            <tr>\n",
       "                        <th id=\"T_de025f1e_8247_11e9_b621_34e12d8376c5level0_row8\" class=\"row_heading level0 row8\" rowspan=4>2010-02-05</th>\n",
       "                        <th id=\"T_de025f1e_8247_11e9_b621_34e12d8376c5level1_row8\" class=\"row_heading level1 row8\" >interest income</th>\n",
       "                        <td id=\"T_de025f1e_8247_11e9_b621_34e12d8376c5row8_col0\" class=\"data row8 col0\" ><a href=\"https://www.sec.gov/Archives/edgar/data/1370291/000138713110000137/0001387131-10-000137-index.htm\">2009Q4</a></td>\n",
       "                        <td id=\"T_de025f1e_8247_11e9_b621_34e12d8376c5row8_col1\" class=\"data row8 col1\" >1.5582e+07</td>\n",
       "                        <td id=\"T_de025f1e_8247_11e9_b621_34e12d8376c5row8_col2\" class=\"data row8 col2\" >Balance sheet data</td>\n",
       "                        <td id=\"T_de025f1e_8247_11e9_b621_34e12d8376c5row8_col3\" class=\"data row8 col3\" >Total interest income</td>\n",
       "                        <td id=\"T_de025f1e_8247_11e9_b621_34e12d8376c5row8_col4\" class=\"data row8 col4\" >Three months ended Dec. 31, 2009</td>\n",
       "                        <td id=\"T_de025f1e_8247_11e9_b621_34e12d8376c5row8_col5\" class=\"data row8 col5\" >15582</td>\n",
       "                        <td id=\"T_de025f1e_8247_11e9_b621_34e12d8376c5row8_col6\" class=\"data row8 col6\" >(in thousands, except per share data)</td>\n",
       "            </tr>\n",
       "            <tr>\n",
       "                                <th id=\"T_de025f1e_8247_11e9_b621_34e12d8376c5level1_row9\" class=\"row_heading level1 row9\" >net income</th>\n",
       "                        <td id=\"T_de025f1e_8247_11e9_b621_34e12d8376c5row9_col0\" class=\"data row9 col0\" ><a href=\"https://www.sec.gov/Archives/edgar/data/1370291/000138713110000137/0001387131-10-000137-index.htm\">2009Q4</a></td>\n",
       "                        <td id=\"T_de025f1e_8247_11e9_b621_34e12d8376c5row9_col1\" class=\"data row9 col1\" >-2.864e+06</td>\n",
       "                        <td id=\"T_de025f1e_8247_11e9_b621_34e12d8376c5row9_col2\" class=\"data row9 col2\" >Balance sheet data</td>\n",
       "                        <td id=\"T_de025f1e_8247_11e9_b621_34e12d8376c5row9_col3\" class=\"data row9 col3\" >Net income (loss)</td>\n",
       "                        <td id=\"T_de025f1e_8247_11e9_b621_34e12d8376c5row9_col4\" class=\"data row9 col4\" >Three months ended Dec. 31, 2009</td>\n",
       "                        <td id=\"T_de025f1e_8247_11e9_b621_34e12d8376c5row9_col5\" class=\"data row9 col5\" >$(2,864</td>\n",
       "                        <td id=\"T_de025f1e_8247_11e9_b621_34e12d8376c5row9_col6\" class=\"data row9 col6\" >(in thousands, except per share data)</td>\n",
       "            </tr>\n",
       "            <tr>\n",
       "                                <th id=\"T_de025f1e_8247_11e9_b621_34e12d8376c5level1_row10\" class=\"row_heading level1 row10\" >net interest income</th>\n",
       "                        <td id=\"T_de025f1e_8247_11e9_b621_34e12d8376c5row10_col0\" class=\"data row10 col0\" ><a href=\"https://www.sec.gov/Archives/edgar/data/1370291/000138713110000137/0001387131-10-000137-index.htm\">2009Q4</a></td>\n",
       "                        <td id=\"T_de025f1e_8247_11e9_b621_34e12d8376c5row10_col1\" class=\"data row10 col1\" >4.741e+06</td>\n",
       "                        <td id=\"T_de025f1e_8247_11e9_b621_34e12d8376c5row10_col2\" class=\"data row10 col2\" >Balance sheet data</td>\n",
       "                        <td id=\"T_de025f1e_8247_11e9_b621_34e12d8376c5row10_col3\" class=\"data row10 col3\" >Net interest income after provision for loan losses</td>\n",
       "                        <td id=\"T_de025f1e_8247_11e9_b621_34e12d8376c5row10_col4\" class=\"data row10 col4\" >Three months ended Dec. 31, 2009</td>\n",
       "                        <td id=\"T_de025f1e_8247_11e9_b621_34e12d8376c5row10_col5\" class=\"data row10 col5\" >4741</td>\n",
       "                        <td id=\"T_de025f1e_8247_11e9_b621_34e12d8376c5row10_col6\" class=\"data row10 col6\" >(in thousands, except per share data)</td>\n",
       "            </tr>\n",
       "            <tr>\n",
       "                                <th id=\"T_de025f1e_8247_11e9_b621_34e12d8376c5level1_row11\" class=\"row_heading level1 row11\" >provision for loan losses</th>\n",
       "                        <td id=\"T_de025f1e_8247_11e9_b621_34e12d8376c5row11_col0\" class=\"data row11 col0\" ><a href=\"https://www.sec.gov/Archives/edgar/data/1370291/000138713110000137/0001387131-10-000137-index.htm\">2009Q4</a></td>\n",
       "                        <td id=\"T_de025f1e_8247_11e9_b621_34e12d8376c5row11_col1\" class=\"data row11 col1\" >6.35e+06</td>\n",
       "                        <td id=\"T_de025f1e_8247_11e9_b621_34e12d8376c5row11_col2\" class=\"data row11 col2\" >Balance sheet data</td>\n",
       "                        <td id=\"T_de025f1e_8247_11e9_b621_34e12d8376c5row11_col3\" class=\"data row11 col3\" >Provision for loan losses</td>\n",
       "                        <td id=\"T_de025f1e_8247_11e9_b621_34e12d8376c5row11_col4\" class=\"data row11 col4\" >Three months ended Dec. 31, 2009</td>\n",
       "                        <td id=\"T_de025f1e_8247_11e9_b621_34e12d8376c5row11_col5\" class=\"data row11 col5\" >6350</td>\n",
       "                        <td id=\"T_de025f1e_8247_11e9_b621_34e12d8376c5row11_col6\" class=\"data row11 col6\" >(in thousands, except per share data)</td>\n",
       "            </tr>\n",
       "            <tr>\n",
       "                        <th id=\"T_de025f1e_8247_11e9_b621_34e12d8376c5level0_row12\" class=\"row_heading level0 row12\" rowspan=4>2010-05-05</th>\n",
       "                        <th id=\"T_de025f1e_8247_11e9_b621_34e12d8376c5level1_row12\" class=\"row_heading level1 row12\" >interest income</th>\n",
       "                        <td id=\"T_de025f1e_8247_11e9_b621_34e12d8376c5row12_col0\" class=\"data row12 col0\" ><a href=\"https://www.sec.gov/Archives/edgar/data/1370291/000138713110000520/0001387131-10-000520-index.htm\">2010Q1</a></td>\n",
       "                        <td id=\"T_de025f1e_8247_11e9_b621_34e12d8376c5row12_col1\" class=\"data row12 col1\" >1.4596e+07</td>\n",
       "                        <td id=\"T_de025f1e_8247_11e9_b621_34e12d8376c5row12_col2\" class=\"data row12 col2\" >Balance sheet data</td>\n",
       "                        <td id=\"T_de025f1e_8247_11e9_b621_34e12d8376c5row12_col3\" class=\"data row12 col3\" >Total interest income</td>\n",
       "                        <td id=\"T_de025f1e_8247_11e9_b621_34e12d8376c5row12_col4\" class=\"data row12 col4\" >Three months ended March 31, 2010</td>\n",
       "                        <td id=\"T_de025f1e_8247_11e9_b621_34e12d8376c5row12_col5\" class=\"data row12 col5\" >14596</td>\n",
       "                        <td id=\"T_de025f1e_8247_11e9_b621_34e12d8376c5row12_col6\" class=\"data row12 col6\" >(in thousands, except per share data)</td>\n",
       "            </tr>\n",
       "            <tr>\n",
       "                                <th id=\"T_de025f1e_8247_11e9_b621_34e12d8376c5level1_row13\" class=\"row_heading level1 row13\" >net income</th>\n",
       "                        <td id=\"T_de025f1e_8247_11e9_b621_34e12d8376c5row13_col0\" class=\"data row13 col0\" ><a href=\"https://www.sec.gov/Archives/edgar/data/1370291/000138713110000520/0001387131-10-000520-index.htm\">2010Q1</a></td>\n",
       "                        <td id=\"T_de025f1e_8247_11e9_b621_34e12d8376c5row13_col1\" class=\"data row13 col1\" >117000</td>\n",
       "                        <td id=\"T_de025f1e_8247_11e9_b621_34e12d8376c5row13_col2\" class=\"data row13 col2\" >Balance sheet data</td>\n",
       "                        <td id=\"T_de025f1e_8247_11e9_b621_34e12d8376c5row13_col3\" class=\"data row13 col3\" >Net income (loss)</td>\n",
       "                        <td id=\"T_de025f1e_8247_11e9_b621_34e12d8376c5row13_col4\" class=\"data row13 col4\" >Three months ended March 31, 2010</td>\n",
       "                        <td id=\"T_de025f1e_8247_11e9_b621_34e12d8376c5row13_col5\" class=\"data row13 col5\" >$117</td>\n",
       "                        <td id=\"T_de025f1e_8247_11e9_b621_34e12d8376c5row13_col6\" class=\"data row13 col6\" >(in thousands, except per share data)</td>\n",
       "            </tr>\n",
       "            <tr>\n",
       "                                <th id=\"T_de025f1e_8247_11e9_b621_34e12d8376c5level1_row14\" class=\"row_heading level1 row14\" >net interest income</th>\n",
       "                        <td id=\"T_de025f1e_8247_11e9_b621_34e12d8376c5row14_col0\" class=\"data row14 col0\" ><a href=\"https://www.sec.gov/Archives/edgar/data/1370291/000138713110000520/0001387131-10-000520-index.htm\">2010Q1</a></td>\n",
       "                        <td id=\"T_de025f1e_8247_11e9_b621_34e12d8376c5row14_col1\" class=\"data row14 col1\" >8.919e+06</td>\n",
       "                        <td id=\"T_de025f1e_8247_11e9_b621_34e12d8376c5row14_col2\" class=\"data row14 col2\" >Balance sheet data</td>\n",
       "                        <td id=\"T_de025f1e_8247_11e9_b621_34e12d8376c5row14_col3\" class=\"data row14 col3\" >Net interest income after provision for loan losses</td>\n",
       "                        <td id=\"T_de025f1e_8247_11e9_b621_34e12d8376c5row14_col4\" class=\"data row14 col4\" >Three months ended March 31, 2010</td>\n",
       "                        <td id=\"T_de025f1e_8247_11e9_b621_34e12d8376c5row14_col5\" class=\"data row14 col5\" >8919</td>\n",
       "                        <td id=\"T_de025f1e_8247_11e9_b621_34e12d8376c5row14_col6\" class=\"data row14 col6\" >(in thousands, except per share data)</td>\n",
       "            </tr>\n",
       "            <tr>\n",
       "                                <th id=\"T_de025f1e_8247_11e9_b621_34e12d8376c5level1_row15\" class=\"row_heading level1 row15\" >provision for loan losses</th>\n",
       "                        <td id=\"T_de025f1e_8247_11e9_b621_34e12d8376c5row15_col0\" class=\"data row15 col0\" ><a href=\"https://www.sec.gov/Archives/edgar/data/1370291/000138713110000520/0001387131-10-000520-index.htm\">2010Q1</a></td>\n",
       "                        <td id=\"T_de025f1e_8247_11e9_b621_34e12d8376c5row15_col1\" class=\"data row15 col1\" >1.754e+06</td>\n",
       "                        <td id=\"T_de025f1e_8247_11e9_b621_34e12d8376c5row15_col2\" class=\"data row15 col2\" >Balance sheet data</td>\n",
       "                        <td id=\"T_de025f1e_8247_11e9_b621_34e12d8376c5row15_col3\" class=\"data row15 col3\" >Provision for loan losses</td>\n",
       "                        <td id=\"T_de025f1e_8247_11e9_b621_34e12d8376c5row15_col4\" class=\"data row15 col4\" >Three months ended March 31, 2010</td>\n",
       "                        <td id=\"T_de025f1e_8247_11e9_b621_34e12d8376c5row15_col5\" class=\"data row15 col5\" >1754</td>\n",
       "                        <td id=\"T_de025f1e_8247_11e9_b621_34e12d8376c5row15_col6\" class=\"data row15 col6\" >(in thousands, except per share data)</td>\n",
       "            </tr>\n",
       "            <tr>\n",
       "                        <th id=\"T_de025f1e_8247_11e9_b621_34e12d8376c5level0_row16\" class=\"row_heading level0 row16\" rowspan=4>2010-10-21</th>\n",
       "                        <th id=\"T_de025f1e_8247_11e9_b621_34e12d8376c5level1_row16\" class=\"row_heading level1 row16\" >interest income</th>\n",
       "                        <td id=\"T_de025f1e_8247_11e9_b621_34e12d8376c5row16_col0\" class=\"data row16 col0\" ><a href=\"https://www.sec.gov/Archives/edgar/data/1370291/000138713110001154/0001387131-10-001154-index.htm\">2010Q3</a></td>\n",
       "                        <td id=\"T_de025f1e_8247_11e9_b621_34e12d8376c5row16_col1\" class=\"data row16 col1\" >1.4674e+07</td>\n",
       "                        <td id=\"T_de025f1e_8247_11e9_b621_34e12d8376c5row16_col2\" class=\"data row16 col2\" >Balance sheet data</td>\n",
       "                        <td id=\"T_de025f1e_8247_11e9_b621_34e12d8376c5row16_col3\" class=\"data row16 col3\" >Total interest income</td>\n",
       "                        <td id=\"T_de025f1e_8247_11e9_b621_34e12d8376c5row16_col4\" class=\"data row16 col4\" >Three months ended September 30, 2010</td>\n",
       "                        <td id=\"T_de025f1e_8247_11e9_b621_34e12d8376c5row16_col5\" class=\"data row16 col5\" >14674</td>\n",
       "                        <td id=\"T_de025f1e_8247_11e9_b621_34e12d8376c5row16_col6\" class=\"data row16 col6\" >(in thousands, except per share data)</td>\n",
       "            </tr>\n",
       "            <tr>\n",
       "                                <th id=\"T_de025f1e_8247_11e9_b621_34e12d8376c5level1_row17\" class=\"row_heading level1 row17\" >net income</th>\n",
       "                        <td id=\"T_de025f1e_8247_11e9_b621_34e12d8376c5row17_col0\" class=\"data row17 col0\" ><a href=\"https://www.sec.gov/Archives/edgar/data/1370291/000138713110001154/0001387131-10-001154-index.htm\">2010Q3</a></td>\n",
       "                        <td id=\"T_de025f1e_8247_11e9_b621_34e12d8376c5row17_col1\" class=\"data row17 col1\" >64000</td>\n",
       "                        <td id=\"T_de025f1e_8247_11e9_b621_34e12d8376c5row17_col2\" class=\"data row17 col2\" >Balance sheet data</td>\n",
       "                        <td id=\"T_de025f1e_8247_11e9_b621_34e12d8376c5row17_col3\" class=\"data row17 col3\" >Net income (loss)</td>\n",
       "                        <td id=\"T_de025f1e_8247_11e9_b621_34e12d8376c5row17_col4\" class=\"data row17 col4\" >Three months ended September 30, 2010</td>\n",
       "                        <td id=\"T_de025f1e_8247_11e9_b621_34e12d8376c5row17_col5\" class=\"data row17 col5\" >$64</td>\n",
       "                        <td id=\"T_de025f1e_8247_11e9_b621_34e12d8376c5row17_col6\" class=\"data row17 col6\" >(in thousands, except per share data)</td>\n",
       "            </tr>\n",
       "            <tr>\n",
       "                                <th id=\"T_de025f1e_8247_11e9_b621_34e12d8376c5level1_row18\" class=\"row_heading level1 row18\" >net interest income</th>\n",
       "                        <td id=\"T_de025f1e_8247_11e9_b621_34e12d8376c5row18_col0\" class=\"data row18 col0\" ><a href=\"https://www.sec.gov/Archives/edgar/data/1370291/000138713110001154/0001387131-10-001154-index.htm\">2010Q3</a></td>\n",
       "                        <td id=\"T_de025f1e_8247_11e9_b621_34e12d8376c5row18_col1\" class=\"data row18 col1\" >7.489e+06</td>\n",
       "                        <td id=\"T_de025f1e_8247_11e9_b621_34e12d8376c5row18_col2\" class=\"data row18 col2\" >Balance sheet data</td>\n",
       "                        <td id=\"T_de025f1e_8247_11e9_b621_34e12d8376c5row18_col3\" class=\"data row18 col3\" >Net interest income after provision for loan losses</td>\n",
       "                        <td id=\"T_de025f1e_8247_11e9_b621_34e12d8376c5row18_col4\" class=\"data row18 col4\" >Three months ended September 30, 2010</td>\n",
       "                        <td id=\"T_de025f1e_8247_11e9_b621_34e12d8376c5row18_col5\" class=\"data row18 col5\" >7489</td>\n",
       "                        <td id=\"T_de025f1e_8247_11e9_b621_34e12d8376c5row18_col6\" class=\"data row18 col6\" >(in thousands, except per share data)</td>\n",
       "            </tr>\n",
       "            <tr>\n",
       "                                <th id=\"T_de025f1e_8247_11e9_b621_34e12d8376c5level1_row19\" class=\"row_heading level1 row19\" >provision for loan losses</th>\n",
       "                        <td id=\"T_de025f1e_8247_11e9_b621_34e12d8376c5row19_col0\" class=\"data row19 col0\" ><a href=\"https://www.sec.gov/Archives/edgar/data/1370291/000138713110001154/0001387131-10-001154-index.htm\">2010Q3</a></td>\n",
       "                        <td id=\"T_de025f1e_8247_11e9_b621_34e12d8376c5row19_col1\" class=\"data row19 col1\" >3.618e+06</td>\n",
       "                        <td id=\"T_de025f1e_8247_11e9_b621_34e12d8376c5row19_col2\" class=\"data row19 col2\" >Balance sheet data</td>\n",
       "                        <td id=\"T_de025f1e_8247_11e9_b621_34e12d8376c5row19_col3\" class=\"data row19 col3\" >Provision for loan losses</td>\n",
       "                        <td id=\"T_de025f1e_8247_11e9_b621_34e12d8376c5row19_col4\" class=\"data row19 col4\" >Three months ended September 30, 2010</td>\n",
       "                        <td id=\"T_de025f1e_8247_11e9_b621_34e12d8376c5row19_col5\" class=\"data row19 col5\" >3618</td>\n",
       "                        <td id=\"T_de025f1e_8247_11e9_b621_34e12d8376c5row19_col6\" class=\"data row19 col6\" >(in thousands, except per share data)</td>\n",
       "            </tr>\n",
       "            <tr>\n",
       "                        <th id=\"T_de025f1e_8247_11e9_b621_34e12d8376c5level0_row20\" class=\"row_heading level0 row20\" rowspan=4>2012-04-26</th>\n",
       "                        <th id=\"T_de025f1e_8247_11e9_b621_34e12d8376c5level1_row20\" class=\"row_heading level1 row20\" >interest income</th>\n",
       "                        <td id=\"T_de025f1e_8247_11e9_b621_34e12d8376c5row20_col0\" class=\"data row20 col0\" ><a href=\"https://www.sec.gov/Archives/edgar/data/1370291/000138713112001297/0001387131-12-001297-index.htm\">2012Q1</a></td>\n",
       "                        <td id=\"T_de025f1e_8247_11e9_b621_34e12d8376c5row20_col1\" class=\"data row20 col1\" >1.8797e+07</td>\n",
       "                        <td id=\"T_de025f1e_8247_11e9_b621_34e12d8376c5row20_col2\" class=\"data row20 col2\" >Financial Results</td>\n",
       "                        <td id=\"T_de025f1e_8247_11e9_b621_34e12d8376c5row20_col3\" class=\"data row20 col3\" >Total interest income</td>\n",
       "                        <td id=\"T_de025f1e_8247_11e9_b621_34e12d8376c5row20_col4\" class=\"data row20 col4\" >Three months ended March 31, 2012</td>\n",
       "                        <td id=\"T_de025f1e_8247_11e9_b621_34e12d8376c5row20_col5\" class=\"data row20 col5\" >18797</td>\n",
       "                        <td id=\"T_de025f1e_8247_11e9_b621_34e12d8376c5row20_col6\" class=\"data row20 col6\" >(in thousands)</td>\n",
       "            </tr>\n",
       "            <tr>\n",
       "                                <th id=\"T_de025f1e_8247_11e9_b621_34e12d8376c5level1_row21\" class=\"row_heading level1 row21\" >net income</th>\n",
       "                        <td id=\"T_de025f1e_8247_11e9_b621_34e12d8376c5row21_col0\" class=\"data row21 col0\" ><a href=\"https://www.sec.gov/Archives/edgar/data/1370291/000138713112001297/0001387131-12-001297-index.htm\">2012Q1</a></td>\n",
       "                        <td id=\"T_de025f1e_8247_11e9_b621_34e12d8376c5row21_col1\" class=\"data row21 col1\" >2.585e+06</td>\n",
       "                        <td id=\"T_de025f1e_8247_11e9_b621_34e12d8376c5row21_col2\" class=\"data row21 col2\" >Financial Results</td>\n",
       "                        <td id=\"T_de025f1e_8247_11e9_b621_34e12d8376c5row21_col3\" class=\"data row21 col3\" >Net income</td>\n",
       "                        <td id=\"T_de025f1e_8247_11e9_b621_34e12d8376c5row21_col4\" class=\"data row21 col4\" >Three months ended March 31, 2012</td>\n",
       "                        <td id=\"T_de025f1e_8247_11e9_b621_34e12d8376c5row21_col5\" class=\"data row21 col5\" >$ 2,585</td>\n",
       "                        <td id=\"T_de025f1e_8247_11e9_b621_34e12d8376c5row21_col6\" class=\"data row21 col6\" >(in thousands)</td>\n",
       "            </tr>\n",
       "            <tr>\n",
       "                                <th id=\"T_de025f1e_8247_11e9_b621_34e12d8376c5level1_row22\" class=\"row_heading level1 row22\" >net interest income</th>\n",
       "                        <td id=\"T_de025f1e_8247_11e9_b621_34e12d8376c5row22_col0\" class=\"data row22 col0\" ><a href=\"https://www.sec.gov/Archives/edgar/data/1370291/000138713112001297/0001387131-12-001297-index.htm\">2012Q1</a></td>\n",
       "                        <td id=\"T_de025f1e_8247_11e9_b621_34e12d8376c5row22_col1\" class=\"data row22 col1\" >1.5669e+07</td>\n",
       "                        <td id=\"T_de025f1e_8247_11e9_b621_34e12d8376c5row22_col2\" class=\"data row22 col2\" >Financial Results</td>\n",
       "                        <td id=\"T_de025f1e_8247_11e9_b621_34e12d8376c5row22_col3\" class=\"data row22 col3\" >Net interest income after provision for loan losses</td>\n",
       "                        <td id=\"T_de025f1e_8247_11e9_b621_34e12d8376c5row22_col4\" class=\"data row22 col4\" >Three months ended March 31, 2012</td>\n",
       "                        <td id=\"T_de025f1e_8247_11e9_b621_34e12d8376c5row22_col5\" class=\"data row22 col5\" >15669</td>\n",
       "                        <td id=\"T_de025f1e_8247_11e9_b621_34e12d8376c5row22_col6\" class=\"data row22 col6\" >(in thousands)</td>\n",
       "            </tr>\n",
       "            <tr>\n",
       "                                <th id=\"T_de025f1e_8247_11e9_b621_34e12d8376c5level1_row23\" class=\"row_heading level1 row23\" >provision for loan losses</th>\n",
       "                        <td id=\"T_de025f1e_8247_11e9_b621_34e12d8376c5row23_col0\" class=\"data row23 col0\" ><a href=\"https://www.sec.gov/Archives/edgar/data/1370291/000138713112001297/0001387131-12-001297-index.htm\">2012Q1</a></td>\n",
       "                        <td id=\"T_de025f1e_8247_11e9_b621_34e12d8376c5row23_col1\" class=\"data row23 col1\" >500000</td>\n",
       "                        <td id=\"T_de025f1e_8247_11e9_b621_34e12d8376c5row23_col2\" class=\"data row23 col2\" >Financial Results</td>\n",
       "                        <td id=\"T_de025f1e_8247_11e9_b621_34e12d8376c5row23_col3\" class=\"data row23 col3\" >Provision for loan losses</td>\n",
       "                        <td id=\"T_de025f1e_8247_11e9_b621_34e12d8376c5row23_col4\" class=\"data row23 col4\" >Three months ended March 31, 2012</td>\n",
       "                        <td id=\"T_de025f1e_8247_11e9_b621_34e12d8376c5row23_col5\" class=\"data row23 col5\" >500</td>\n",
       "                        <td id=\"T_de025f1e_8247_11e9_b621_34e12d8376c5row23_col6\" class=\"data row23 col6\" >(in thousands)</td>\n",
       "            </tr>\n",
       "    </tbody></table>"
      ],
      "text/plain": [
       "<pandas.io.formats.style.Styler at 0x1e08a3e15c0>"
      ]
     },
     "execution_count": 9,
     "metadata": {},
     "output_type": "execute_result"
    }
   ],
   "source": [
    "def make_clickable(val: str) -> str: \n",
    "    if isinstance(val, str):\n",
    "        name, url = val.split('#')\n",
    "        return f'<a href=\"{url}\">{name}</a>'\n",
    "    else:\n",
    "        return ''\n",
    "\n",
    "(prelims\n",
    " .assign(fiscal_period = prelims.fiscal_period.str.cat(prelims.filing_href, sep='#'), filing_date = prelims.filing_date.map(lambda d: d.strftime('%Y-%m-%d')))\n",
    " .loc[:, ['filing_date', 'fiscal_period', 'item', 'item_value', 'src_table', 'src_row', 'src_column', 'src_value', 'src_units']]\n",
    " .set_index(['filing_date', 'item'])\n",
    " .style.format({'fiscal_period': make_clickable})\n",
    ")"
   ]
  },
  {
   "cell_type": "code",
   "execution_count": 10,
   "metadata": {
    "papermill": {
     "duration": 0.131098,
     "end_time": "2019-05-29T19:27:59.212379",
     "exception": false,
     "start_time": "2019-05-29T19:27:59.081281",
     "status": "completed"
    },
    "tags": []
   },
   "outputs": [],
   "source": [
    "#discard_prelim(cik, date(2019, 12, 31))\n",
    "#force_reload_prelim(cik, date(2019, 12, 31), delete_filings=False)\n",
    "#force_reload_prelim_between(cik,  start=date(2002, 6, 1), end=date(2019, 12, 31), delete_filings=False)"
   ]
  },
  {
   "cell_type": "code",
   "execution_count": 11,
   "metadata": {
    "papermill": {
     "duration": 0.1257,
     "end_time": "2019-05-29T19:27:59.354097",
     "exception": false,
     "start_time": "2019-05-29T19:27:59.228397",
     "status": "completed"
    },
    "tags": []
   },
   "outputs": [],
   "source": [
    "#d = date(2018, 10, 29)\n",
    "#extract_prelim_statements(cik, start=d, end=d)"
   ]
  },
  {
   "cell_type": "code",
   "execution_count": 12,
   "metadata": {
    "papermill": {
     "duration": 0.130778,
     "end_time": "2019-05-29T19:27:59.502403",
     "exception": false,
     "start_time": "2019-05-29T19:27:59.371625",
     "status": "completed"
    },
    "tags": []
   },
   "outputs": [],
   "source": [
    "#d = date(2019, 4, 22)\n",
    "#filings = query_edgar_for_filings(cik, \"8-K\", start=d, end=d, require_xbrl=False)\n",
    "#report = query_edgar_for_submission_text(filings[0].href)\n",
    "#submission = load_submission(report.href)\n",
    "#tables = list(parse_tables(submission))\n",
    "#items_from_tables(tables)"
   ]
  },
  {
   "cell_type": "code",
   "execution_count": 13,
   "metadata": {
    "papermill": {
     "duration": 0.126909,
     "end_time": "2019-05-29T19:27:59.645379",
     "exception": false,
     "start_time": "2019-05-29T19:27:59.518470",
     "status": "completed"
    },
    "tags": []
   },
   "outputs": [],
   "source": [
    "#widget = query_prelims_for_override(cik, filing_date='2006-01-27', item=None)\n",
    "#widget"
   ]
  },
  {
   "cell_type": "code",
   "execution_count": 14,
   "metadata": {
    "papermill": {
     "duration": 0.140678,
     "end_time": "2019-05-29T19:27:59.802450",
     "exception": false,
     "start_time": "2019-05-29T19:27:59.661772",
     "status": "completed"
    },
    "tags": []
   },
   "outputs": [],
   "source": [
    "#widget.save()"
   ]
  }
 ],
 "metadata": {
  "celltoolbar": "Tags",
  "kernelspec": {
   "display_name": "Python 3",
   "language": "python",
   "name": "python3"
  },
  "language_info": {
   "codemirror_mode": {
    "name": "ipython",
    "version": 3
   },
   "file_extension": ".py",
   "mimetype": "text/x-python",
   "name": "python",
   "nbconvert_exporter": "python",
   "pygments_lexer": "ipython3",
   "version": "3.7.2"
  },
  "papermill": {
   "duration": 7.734915,
   "end_time": "2019-05-29T19:28:00.744510",
   "environment_variables": {},
   "exception": null,
   "input_path": "resources/edgar_prelim_quality.ipynb",
   "output_path": "../out/notebooks/0001370291.ipynb",
   "parameters": {
    "cik": "0001370291"
   },
   "start_time": "2019-05-29T19:27:53.009595",
   "version": "0.19.1"
  }
 },
 "nbformat": 4,
 "nbformat_minor": 2
}