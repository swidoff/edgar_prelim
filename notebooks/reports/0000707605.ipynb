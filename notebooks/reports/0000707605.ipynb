{
 "cells": [
  {
   "cell_type": "code",
   "execution_count": 1,
   "metadata": {
    "papermill": {
     "duration": 1.434903,
     "end_time": "2019-05-29T18:43:56.324374",
     "exception": false,
     "start_time": "2019-05-29T18:43:54.889471",
     "status": "completed"
    },
    "tags": []
   },
   "outputs": [],
   "source": [
    "from edgar_prelim import *\n",
    "import pandas as pd\n",
    "%load_ext autoreload\n",
    "%autoreload 2\n",
    "%matplotlib inline\n",
    "pd.set_option('display.max_rows', 500)\n",
    "pd.set_option('display.max_columns', 500)"
   ]
  },
  {
   "cell_type": "code",
   "execution_count": 2,
   "metadata": {
    "papermill": {
     "duration": 0.127302,
     "end_time": "2019-05-29T18:43:56.464814",
     "exception": false,
     "start_time": "2019-05-29T18:43:56.337512",
     "status": "completed"
    },
    "tags": [
     "parameters"
    ]
   },
   "outputs": [],
   "source": [
    "cik='0000004962'"
   ]
  },
  {
   "cell_type": "code",
   "execution_count": 3,
   "metadata": {
    "papermill": {
     "duration": 0.146241,
     "end_time": "2019-05-29T18:43:56.626087",
     "exception": false,
     "start_time": "2019-05-29T18:43:56.479846",
     "status": "completed"
    },
    "tags": [
     "injected-parameters"
    ]
   },
   "outputs": [],
   "source": [
    "# Parameters\n",
    "cik = \"0000707605\"\n"
   ]
  },
  {
   "cell_type": "markdown",
   "metadata": {
    "papermill": {
     "duration": 0.0131,
     "end_time": "2019-05-29T18:43:56.649723",
     "exception": false,
     "start_time": "2019-05-29T18:43:56.636623",
     "status": "completed"
    },
    "tags": []
   },
   "source": [
    "# Company"
   ]
  },
  {
   "cell_type": "code",
   "execution_count": 4,
   "metadata": {
    "papermill": {
     "duration": 1.365486,
     "end_time": "2019-05-29T18:43:58.033487",
     "exception": false,
     "start_time": "2019-05-29T18:43:56.668001",
     "status": "completed"
    },
    "tags": []
   },
   "outputs": [
    {
     "data": {
      "text/html": [
       "<div>\n",
       "<style scoped>\n",
       "    .dataframe tbody tr th:only-of-type {\n",
       "        vertical-align: middle;\n",
       "    }\n",
       "\n",
       "    .dataframe tbody tr th {\n",
       "        vertical-align: top;\n",
       "    }\n",
       "\n",
       "    .dataframe thead th {\n",
       "        text-align: right;\n",
       "    }\n",
       "</style>\n",
       "<table border=\"1\" class=\"dataframe\">\n",
       "  <thead>\n",
       "    <tr style=\"text-align: right;\">\n",
       "      <th></th>\n",
       "      <th></th>\n",
       "    </tr>\n",
       "  </thead>\n",
       "  <tbody>\n",
       "    <tr>\n",
       "      <th>CIK</th>\n",
       "      <td>0000707605</td>\n",
       "    </tr>\n",
       "    <tr>\n",
       "      <th>SIC</th>\n",
       "      <td>6021</td>\n",
       "    </tr>\n",
       "    <tr>\n",
       "      <th>Description</th>\n",
       "      <td>NATIONAL COMMERCIAL BANKS</td>\n",
       "    </tr>\n",
       "    <tr>\n",
       "      <th>Name</th>\n",
       "      <td>AMERISERV FINANCIAL INC /PA/</td>\n",
       "    </tr>\n",
       "    <tr>\n",
       "      <th>Ticker</th>\n",
       "      <td>ASRV</td>\n",
       "    </tr>\n",
       "  </tbody>\n",
       "</table>\n",
       "</div>"
      ],
      "text/plain": [
       "                                         \n",
       "CIK                            0000707605\n",
       "SIC                                  6021\n",
       "Description     NATIONAL COMMERCIAL BANKS\n",
       "Name         AMERISERV FINANCIAL INC /PA/\n",
       "Ticker                               ASRV"
      ]
     },
     "execution_count": 4,
     "metadata": {},
     "output_type": "execute_result"
    }
   ],
   "source": [
    "cik_df = pd.read_sql(text(\"select cik, sic, sic_description, company_name, ticker from cik where cik = :cik\").bindparams(cik=cik), prelim_engine)\n",
    "cik_df.rename({'cik': 'CIK', 'sic': 'SIC', 'sic_description': 'Description', 'company_name': 'Name', 'ticker': 'Ticker'}, axis=1).T.rename({0: ''}, axis=1)"
   ]
  },
  {
   "cell_type": "code",
   "execution_count": 5,
   "metadata": {
    "papermill": {
     "duration": 0.180246,
     "end_time": "2019-05-29T18:43:58.228695",
     "exception": false,
     "start_time": "2019-05-29T18:43:58.048449",
     "status": "completed"
    },
    "tags": []
   },
   "outputs": [],
   "source": [
    "prelims = query_prelims(cik)"
   ]
  },
  {
   "cell_type": "markdown",
   "metadata": {
    "papermill": {
     "duration": 0.005572,
     "end_time": "2019-05-29T18:43:58.249997",
     "exception": false,
     "start_time": "2019-05-29T18:43:58.244425",
     "status": "completed"
    },
    "tags": []
   },
   "source": [
    "# Summary Statistics"
   ]
  },
  {
   "cell_type": "code",
   "execution_count": 6,
   "metadata": {
    "papermill": {
     "duration": 0.218206,
     "end_time": "2019-05-29T18:43:58.484256",
     "exception": false,
     "start_time": "2019-05-29T18:43:58.266050",
     "status": "completed"
    },
    "tags": []
   },
   "outputs": [
    {
     "data": {
      "text/html": [
       "<div>\n",
       "<style scoped>\n",
       "    .dataframe tbody tr th:only-of-type {\n",
       "        vertical-align: middle;\n",
       "    }\n",
       "\n",
       "    .dataframe tbody tr th {\n",
       "        vertical-align: top;\n",
       "    }\n",
       "\n",
       "    .dataframe thead th {\n",
       "        text-align: right;\n",
       "    }\n",
       "</style>\n",
       "<table border=\"1\" class=\"dataframe\">\n",
       "  <thead>\n",
       "    <tr style=\"text-align: right;\">\n",
       "      <th></th>\n",
       "      <th>count</th>\n",
       "      <th>mean</th>\n",
       "      <th>std</th>\n",
       "      <th>min</th>\n",
       "      <th>25%</th>\n",
       "      <th>50%</th>\n",
       "      <th>75%</th>\n",
       "      <th>max</th>\n",
       "    </tr>\n",
       "    <tr>\n",
       "      <th>item</th>\n",
       "      <th></th>\n",
       "      <th></th>\n",
       "      <th></th>\n",
       "      <th></th>\n",
       "      <th></th>\n",
       "      <th></th>\n",
       "      <th></th>\n",
       "      <th></th>\n",
       "    </tr>\n",
       "  </thead>\n",
       "  <tbody>\n",
       "    <tr>\n",
       "      <th>net income</th>\n",
       "      <td>1.0</td>\n",
       "      <td>-10941000.0</td>\n",
       "      <td>NaN</td>\n",
       "      <td>-10941000.0</td>\n",
       "      <td>-10941000.0</td>\n",
       "      <td>-10941000.0</td>\n",
       "      <td>-10941000.0</td>\n",
       "      <td>-10941000.0</td>\n",
       "    </tr>\n",
       "  </tbody>\n",
       "</table>\n",
       "</div>"
      ],
      "text/plain": [
       "            count        mean  std         min         25%         50%  \\\n",
       "item                                                                     \n",
       "net income    1.0 -10941000.0  NaN -10941000.0 -10941000.0 -10941000.0   \n",
       "\n",
       "                   75%         max  \n",
       "item                                \n",
       "net income -10941000.0 -10941000.0  "
      ]
     },
     "execution_count": 6,
     "metadata": {},
     "output_type": "execute_result"
    }
   ],
   "source": [
    "prelims.groupby('item').item_value.describe()"
   ]
  },
  {
   "cell_type": "markdown",
   "metadata": {
    "papermill": {
     "duration": 0.013695,
     "end_time": "2019-05-29T18:43:58.516574",
     "exception": false,
     "start_time": "2019-05-29T18:43:58.502879",
     "status": "completed"
    },
    "tags": []
   },
   "source": [
    "# Plots"
   ]
  },
  {
   "cell_type": "code",
   "execution_count": 7,
   "metadata": {
    "papermill": {
     "duration": 0.493624,
     "end_time": "2019-05-29T18:43:59.023324",
     "exception": false,
     "start_time": "2019-05-29T18:43:58.529700",
     "status": "completed"
    },
    "tags": []
   },
   "outputs": [
    {
     "name": "stderr",
     "output_type": "stream",
     "text": [
      "C:\\ProgramData\\Miniconda3\\lib\\site-packages\\pandas\\plotting\\_core.py:998: UserWarning: Attempting to set identical left==right results\n",
      "in singular transformations; automatically expanding.\n",
      "left=731971.0, right=731971.0\n",
      "  ax.set_xlim(left, right)\n"
     ]
    },
    {
     "data": {
      "image/png": "[encoded data removed]",
      "text/plain": [
       "<Figure size 1440x720 with 6 Axes>"
      ]
     },
     "metadata": {
      "needs_background": "light"
     },
     "output_type": "display_data"
    }
   ],
   "source": [
    "_ = prelims.set_index('filing_date').pivot(columns='item', values='item_value').fillna(method=\"ffill\").plot(subplots=True, layout=(2, 3), figsize=(20, 10), sharex=False)"
   ]
  },
  {
   "cell_type": "markdown",
   "metadata": {
    "papermill": {
     "duration": 0.013662,
     "end_time": "2019-05-29T18:43:59.049899",
     "exception": false,
     "start_time": "2019-05-29T18:43:59.036237",
     "status": "completed"
    },
    "tags": []
   },
   "source": [
    "# Quality"
   ]
  },
  {
   "cell_type": "code",
   "execution_count": 8,
   "metadata": {
    "papermill": {
     "duration": 0.167518,
     "end_time": "2019-05-29T18:43:59.237037",
     "exception": false,
     "start_time": "2019-05-29T18:43:59.069519",
     "status": "completed"
    },
    "tags": []
   },
   "outputs": [
    {
     "data": {
      "text/html": [
       "<div>\n",
       "<style scoped>\n",
       "    .dataframe tbody tr th:only-of-type {\n",
       "        vertical-align: middle;\n",
       "    }\n",
       "\n",
       "    .dataframe tbody tr th {\n",
       "        vertical-align: top;\n",
       "    }\n",
       "\n",
       "    .dataframe thead th {\n",
       "        text-align: right;\n",
       "    }\n",
       "</style>\n",
       "<table border=\"1\" class=\"dataframe\">\n",
       "  <thead>\n",
       "    <tr style=\"text-align: right;\">\n",
       "      <th></th>\n",
       "      <th></th>\n",
       "      <th>period</th>\n",
       "      <th>msg_type</th>\n",
       "      <th>message</th>\n",
       "    </tr>\n",
       "    <tr>\n",
       "      <th>cik</th>\n",
       "      <th>item</th>\n",
       "      <th></th>\n",
       "      <th></th>\n",
       "      <th></th>\n",
       "    </tr>\n",
       "  </thead>\n",
       "  <tbody>\n",
       "    <tr>\n",
       "      <th rowspan=\"5\" valign=\"top\">0000707605</th>\n",
       "      <th>book value per share</th>\n",
       "      <td>None</td>\n",
       "      <td>empty</td>\n",
       "      <td>No values for item</td>\n",
       "    </tr>\n",
       "    <tr>\n",
       "      <th>interest income</th>\n",
       "      <td>None</td>\n",
       "      <td>empty</td>\n",
       "      <td>No values for item</td>\n",
       "    </tr>\n",
       "    <tr>\n",
       "      <th>net interest income</th>\n",
       "      <td>None</td>\n",
       "      <td>empty</td>\n",
       "      <td>No values for item</td>\n",
       "    </tr>\n",
       "    <tr>\n",
       "      <th>provision for loan losses</th>\n",
       "      <td>None</td>\n",
       "      <td>empty</td>\n",
       "      <td>No values for item</td>\n",
       "    </tr>\n",
       "    <tr>\n",
       "      <th>total revenue</th>\n",
       "      <td>None</td>\n",
       "      <td>empty</td>\n",
       "      <td>No values for item</td>\n",
       "    </tr>\n",
       "  </tbody>\n",
       "</table>\n",
       "</div>"
      ],
      "text/plain": [
       "                                     period msg_type             message\n",
       "cik        item                                                         \n",
       "0000707605 book value per share        None    empty  No values for item\n",
       "           interest income             None    empty  No values for item\n",
       "           net interest income         None    empty  No values for item\n",
       "           provision for loan losses   None    empty  No values for item\n",
       "           total revenue               None    empty  No values for item"
      ]
     },
     "execution_count": 8,
     "metadata": {},
     "output_type": "execute_result"
    }
   ],
   "source": [
    "validate_prelims(prelims)"
   ]
  },
  {
   "cell_type": "markdown",
   "metadata": {
    "papermill": {
     "duration": 0.015997,
     "end_time": "2019-05-29T18:43:59.269999",
     "exception": false,
     "start_time": "2019-05-29T18:43:59.254002",
     "status": "completed"
    },
    "tags": []
   },
   "source": [
    "# Data"
   ]
  },
  {
   "cell_type": "code",
   "execution_count": 9,
   "metadata": {
    "papermill": {
     "duration": 0.179512,
     "end_time": "2019-05-29T18:43:59.463824",
     "exception": false,
     "start_time": "2019-05-29T18:43:59.284312",
     "status": "completed"
    },
    "tags": []
   },
   "outputs": [
    {
     "data": {
      "text/html": [
       "<style  type=\"text/css\" >\n",
       "</style><table id=\"T_b8ad5508_8241_11e9_bb8c_34e12d8376c5\" ><thead>    <tr>        <th class=\"blank\" ></th>        <th class=\"blank level0\" ></th>        <th class=\"col_heading level0 col0\" >fiscal_period</th>        <th class=\"col_heading level0 col1\" >item_value</th>        <th class=\"col_heading level0 col2\" >src_table</th>        <th class=\"col_heading level0 col3\" >src_row</th>        <th class=\"col_heading level0 col4\" >src_column</th>        <th class=\"col_heading level0 col5\" >src_value</th>        <th class=\"col_heading level0 col6\" >src_units</th>    </tr>    <tr>        <th class=\"index_name level0\" >filing_date</th>        <th class=\"index_name level1\" >item</th>        <th class=\"blank\" ></th>        <th class=\"blank\" ></th>        <th class=\"blank\" ></th>        <th class=\"blank\" ></th>        <th class=\"blank\" ></th>        <th class=\"blank\" ></th>        <th class=\"blank\" ></th>    </tr></thead><tbody>\n",
       "                <tr>\n",
       "                        <th id=\"T_b8ad5508_8241_11e9_bb8c_34e12d8376c5level0_row0\" class=\"row_heading level0 row0\" >2005-01-25</th>\n",
       "                        <th id=\"T_b8ad5508_8241_11e9_bb8c_34e12d8376c5level1_row0\" class=\"row_heading level1 row0\" >net income</th>\n",
       "                        <td id=\"T_b8ad5508_8241_11e9_bb8c_34e12d8376c5row0_col0\" class=\"data row0 col0\" ><a href=\"https://www.sec.gov/Archives/edgar/data/707605/000070760505000033/0000707605-05-000033-index.htm\">2004Q4</a></td>\n",
       "                        <td id=\"T_b8ad5508_8241_11e9_bb8c_34e12d8376c5row0_col1\" class=\"data row0 col1\" >-1.0941e+07</td>\n",
       "                        <td id=\"T_b8ad5508_8241_11e9_bb8c_34e12d8376c5row0_col2\" class=\"data row0 col2\" >AMERISERV FINANCIAL REPORTS FOURTH QUARTER AND FULL YEAR 2004 FINANCIAL RESULTS</td>\n",
       "                        <td id=\"T_b8ad5508_8241_11e9_bb8c_34e12d8376c5row0_col3\" class=\"data row0 col3\" >Net income (loss)</td>\n",
       "                        <td id=\"T_b8ad5508_8241_11e9_bb8c_34e12d8376c5row0_col4\" class=\"data row0 col4\" >Fourth Quarter 2004</td>\n",
       "                        <td id=\"T_b8ad5508_8241_11e9_bb8c_34e12d8376c5row0_col5\" class=\"data row0 col5\" >($10,941,000)</td>\n",
       "                        <td id=\"T_b8ad5508_8241_11e9_bb8c_34e12d8376c5row0_col6\" class=\"data row0 col6\" >None</td>\n",
       "            </tr>\n",
       "    </tbody></table>"
      ],
      "text/plain": [
       "<pandas.io.formats.style.Styler at 0x16f0490fbe0>"
      ]
     },
     "execution_count": 9,
     "metadata": {},
     "output_type": "execute_result"
    }
   ],
   "source": [
    "def make_clickable(val: str) -> str: \n",
    "    if isinstance(val, str):\n",
    "        name, url = val.split('#')\n",
    "        return f'<a href=\"{url}\">{name}</a>'\n",
    "    else:\n",
    "        return ''\n",
    "\n",
    "(prelims\n",
    " .assign(fiscal_period = prelims.fiscal_period.str.cat(prelims.filing_href, sep='#'), filing_date = prelims.filing_date.map(lambda d: d.strftime('%Y-%m-%d')))\n",
    " .loc[:, ['filing_date', 'fiscal_period', 'item', 'item_value', 'src_table', 'src_row', 'src_column', 'src_value', 'src_units']]\n",
    " .set_index(['filing_date', 'item'])\n",
    " .style.format({'fiscal_period': make_clickable})\n",
    ")"
   ]
  },
  {
   "cell_type": "code",
   "execution_count": 10,
   "metadata": {
    "papermill": {
     "duration": 0.131985,
     "end_time": "2019-05-29T18:43:59.615189",
     "exception": false,
     "start_time": "2019-05-29T18:43:59.483204",
     "status": "completed"
    },
    "tags": []
   },
   "outputs": [],
   "source": [
    "#discard_prelim(cik, date(2019, 12, 31))\n",
    "#force_reload_prelim(cik, date(2019, 12, 31), delete_filings=False)\n",
    "#force_reload_prelim_between(cik,  start=date(2002, 6, 1), end=date(2019, 12, 31), delete_filings=False)"
   ]
  },
  {
   "cell_type": "code",
   "execution_count": 11,
   "metadata": {
    "papermill": {
     "duration": 0.144924,
     "end_time": "2019-05-29T18:43:59.769886",
     "exception": false,
     "start_time": "2019-05-29T18:43:59.624962",
     "status": "completed"
    },
    "tags": []
   },
   "outputs": [],
   "source": [
    "#d = date(2018, 10, 29)\n",
    "#extract_prelim_statements(cik, start=d, end=d)"
   ]
  },
  {
   "cell_type": "code",
   "execution_count": 12,
   "metadata": {
    "papermill": {
     "duration": 0.15534,
     "end_time": "2019-05-29T18:43:59.943967",
     "exception": false,
     "start_time": "2019-05-29T18:43:59.788627",
     "status": "completed"
    },
    "tags": []
   },
   "outputs": [],
   "source": [
    "#d = date(2019, 4, 22)\n",
    "#filings = query_edgar_for_filings(cik, \"8-K\", start=d, end=d, require_xbrl=False)\n",
    "#report = query_edgar_for_submission_text(filings[0].href)\n",
    "#submission = load_submission(report.href)\n",
    "#tables = list(parse_tables(submission))\n",
    "#items_from_tables(tables)"
   ]
  },
  {
   "cell_type": "code",
   "execution_count": 13,
   "metadata": {
    "papermill": {
     "duration": 0.163431,
     "end_time": "2019-05-29T18:44:00.126528",
     "exception": false,
     "start_time": "2019-05-29T18:43:59.963097",
     "status": "completed"
    },
    "tags": []
   },
   "outputs": [],
   "source": [
    "#widget = query_prelims_for_override(cik, filing_date='2006-01-27', item=None)\n",
    "#widget"
   ]
  },
  {
   "cell_type": "code",
   "execution_count": 14,
   "metadata": {
    "papermill": {
     "duration": 0.164988,
     "end_time": "2019-05-29T18:44:00.310212",
     "exception": false,
     "start_time": "2019-05-29T18:44:00.145224",
     "status": "completed"
    },
    "tags": []
   },
   "outputs": [],
   "source": [
    "#widget.save()"
   ]
  }
 ],
 "metadata": {
  "celltoolbar": "Tags",
  "kernelspec": {
   "display_name": "Python 3",
   "language": "python",
   "name": "python3"
  },
  "language_info": {
   "codemirror_mode": {
    "name": "ipython",
    "version": 3
   },
   "file_extension": ".py",
   "mimetype": "text/x-python",
   "name": "python",
   "nbconvert_exporter": "python",
   "pygments_lexer": "ipython3",
   "version": "3.7.2"
  },
  "papermill": {
   "duration": 7.447685,
   "end_time": "2019-05-29T18:44:01.444895",
   "environment_variables": {},
   "exception": null,
   "input_path": "resources/edgar_prelim_quality.ipynb",
   "output_path": "../out/notebooks/0000707605.ipynb",
   "parameters": {
    "cik": "0000707605"
   },
   "start_time": "2019-05-29T18:43:53.997210",
   "version": "0.19.1"
  }
 },
 "nbformat": 4,
 "nbformat_minor": 2
}