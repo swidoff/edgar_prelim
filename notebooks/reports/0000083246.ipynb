{
 "cells": [
  {
   "cell_type": "code",
   "execution_count": 1,
   "metadata": {
    "papermill": {
     "duration": 1.39958,
     "end_time": "2019-05-29T18:37:48.649848",
     "exception": false,
     "start_time": "2019-05-29T18:37:47.250268",
     "status": "completed"
    },
    "tags": []
   },
   "outputs": [],
   "source": [
    "from edgar_prelim import *\n",
    "import pandas as pd\n",
    "%load_ext autoreload\n",
    "%autoreload 2\n",
    "%matplotlib inline\n",
    "pd.set_option('display.max_rows', 500)\n",
    "pd.set_option('display.max_columns', 500)"
   ]
  },
  {
   "cell_type": "code",
   "execution_count": 2,
   "metadata": {
    "papermill": {
     "duration": 0.140627,
     "end_time": "2019-05-29T18:37:48.804833",
     "exception": false,
     "start_time": "2019-05-29T18:37:48.664206",
     "status": "completed"
    },
    "tags": [
     "parameters"
    ]
   },
   "outputs": [],
   "source": [
    "cik='0000004962'"
   ]
  },
  {
   "cell_type": "code",
   "execution_count": 3,
   "metadata": {
    "papermill": {
     "duration": 0.1272,
     "end_time": "2019-05-29T18:37:48.941474",
     "exception": false,
     "start_time": "2019-05-29T18:37:48.814274",
     "status": "completed"
    },
    "tags": [
     "injected-parameters"
    ]
   },
   "outputs": [],
   "source": [
    "# Parameters\n",
    "cik = \"0000083246\"\n"
   ]
  },
  {
   "cell_type": "markdown",
   "metadata": {
    "papermill": {
     "duration": 0.010265,
     "end_time": "2019-05-29T18:37:48.964992",
     "exception": false,
     "start_time": "2019-05-29T18:37:48.954727",
     "status": "completed"
    },
    "tags": []
   },
   "source": [
    "# Company"
   ]
  },
  {
   "cell_type": "code",
   "execution_count": 4,
   "metadata": {
    "papermill": {
     "duration": 1.354185,
     "end_time": "2019-05-29T18:37:50.328692",
     "exception": false,
     "start_time": "2019-05-29T18:37:48.974507",
     "status": "completed"
    },
    "tags": []
   },
   "outputs": [
    {
     "data": {
      "text/html": [
       "<div>\n",
       "<style scoped>\n",
       "    .dataframe tbody tr th:only-of-type {\n",
       "        vertical-align: middle;\n",
       "    }\n",
       "\n",
       "    .dataframe tbody tr th {\n",
       "        vertical-align: top;\n",
       "    }\n",
       "\n",
       "    .dataframe thead th {\n",
       "        text-align: right;\n",
       "    }\n",
       "</style>\n",
       "<table border=\"1\" class=\"dataframe\">\n",
       "  <thead>\n",
       "    <tr style=\"text-align: right;\">\n",
       "      <th></th>\n",
       "      <th></th>\n",
       "    </tr>\n",
       "  </thead>\n",
       "  <tbody>\n",
       "    <tr>\n",
       "      <th>CIK</th>\n",
       "      <td>0000083246</td>\n",
       "    </tr>\n",
       "    <tr>\n",
       "      <th>SIC</th>\n",
       "      <td>6021</td>\n",
       "    </tr>\n",
       "    <tr>\n",
       "      <th>Description</th>\n",
       "      <td>NATIONAL COMMERCIAL BANKS</td>\n",
       "    </tr>\n",
       "    <tr>\n",
       "      <th>Name</th>\n",
       "      <td>HSBC USA INC /MD/</td>\n",
       "    </tr>\n",
       "    <tr>\n",
       "      <th>Ticker</th>\n",
       "      <td></td>\n",
       "    </tr>\n",
       "  </tbody>\n",
       "</table>\n",
       "</div>"
      ],
      "text/plain": [
       "                                      \n",
       "CIK                         0000083246\n",
       "SIC                               6021\n",
       "Description  NATIONAL COMMERCIAL BANKS\n",
       "Name                 HSBC USA INC /MD/\n",
       "Ticker                                "
      ]
     },
     "execution_count": 4,
     "metadata": {},
     "output_type": "execute_result"
    }
   ],
   "source": [
    "cik_df = pd.read_sql(text(\"select cik, sic, sic_description, company_name, ticker from cik where cik = :cik\").bindparams(cik=cik), prelim_engine)\n",
    "cik_df.rename({'cik': 'CIK', 'sic': 'SIC', 'sic_description': 'Description', 'company_name': 'Name', 'ticker': 'Ticker'}, axis=1).T.rename({0: ''}, axis=1)"
   ]
  },
  {
   "cell_type": "code",
   "execution_count": 5,
   "metadata": {
    "papermill": {
     "duration": 0.193112,
     "end_time": "2019-05-29T18:37:50.534806",
     "exception": false,
     "start_time": "2019-05-29T18:37:50.341694",
     "status": "completed"
    },
    "tags": []
   },
   "outputs": [],
   "source": [
    "prelims = query_prelims(cik)"
   ]
  },
  {
   "cell_type": "markdown",
   "metadata": {
    "papermill": {
     "duration": 0.015396,
     "end_time": "2019-05-29T18:37:50.560340",
     "exception": false,
     "start_time": "2019-05-29T18:37:50.544944",
     "status": "completed"
    },
    "tags": []
   },
   "source": [
    "# Summary Statistics"
   ]
  },
  {
   "cell_type": "code",
   "execution_count": 6,
   "metadata": {
    "papermill": {
     "duration": 0.131883,
     "end_time": "2019-05-29T18:37:50.705780",
     "exception": false,
     "start_time": "2019-05-29T18:37:50.573897",
     "status": "completed"
    },
    "tags": []
   },
   "outputs": [
    {
     "data": {
      "text/html": [
       "<div>\n",
       "<style scoped>\n",
       "    .dataframe tbody tr th:only-of-type {\n",
       "        vertical-align: middle;\n",
       "    }\n",
       "\n",
       "    .dataframe tbody tr th {\n",
       "        vertical-align: top;\n",
       "    }\n",
       "\n",
       "    .dataframe thead th {\n",
       "        text-align: right;\n",
       "    }\n",
       "</style>\n",
       "<table border=\"1\" class=\"dataframe\">\n",
       "  <thead>\n",
       "    <tr style=\"text-align: right;\">\n",
       "      <th></th>\n",
       "      <th>count</th>\n",
       "      <th>mean</th>\n",
       "      <th>std</th>\n",
       "      <th>min</th>\n",
       "      <th>25%</th>\n",
       "      <th>50%</th>\n",
       "      <th>75%</th>\n",
       "      <th>max</th>\n",
       "    </tr>\n",
       "    <tr>\n",
       "      <th>item</th>\n",
       "      <th></th>\n",
       "      <th></th>\n",
       "      <th></th>\n",
       "      <th></th>\n",
       "      <th></th>\n",
       "      <th></th>\n",
       "      <th></th>\n",
       "      <th></th>\n",
       "    </tr>\n",
       "  </thead>\n",
       "  <tbody>\n",
       "    <tr>\n",
       "      <th>interest income</th>\n",
       "      <td>1.0</td>\n",
       "      <td>1684000.0</td>\n",
       "      <td>NaN</td>\n",
       "      <td>1684000.0</td>\n",
       "      <td>1684000.0</td>\n",
       "      <td>1684000.0</td>\n",
       "      <td>1684000.0</td>\n",
       "      <td>1684000.0</td>\n",
       "    </tr>\n",
       "    <tr>\n",
       "      <th>net income</th>\n",
       "      <td>1.0</td>\n",
       "      <td>196000.0</td>\n",
       "      <td>NaN</td>\n",
       "      <td>196000.0</td>\n",
       "      <td>196000.0</td>\n",
       "      <td>196000.0</td>\n",
       "      <td>196000.0</td>\n",
       "      <td>196000.0</td>\n",
       "    </tr>\n",
       "    <tr>\n",
       "      <th>net interest income</th>\n",
       "      <td>1.0</td>\n",
       "      <td>742000.0</td>\n",
       "      <td>NaN</td>\n",
       "      <td>742000.0</td>\n",
       "      <td>742000.0</td>\n",
       "      <td>742000.0</td>\n",
       "      <td>742000.0</td>\n",
       "      <td>742000.0</td>\n",
       "    </tr>\n",
       "    <tr>\n",
       "      <th>provision for loan losses</th>\n",
       "      <td>1.0</td>\n",
       "      <td>198000.0</td>\n",
       "      <td>NaN</td>\n",
       "      <td>198000.0</td>\n",
       "      <td>198000.0</td>\n",
       "      <td>198000.0</td>\n",
       "      <td>198000.0</td>\n",
       "      <td>198000.0</td>\n",
       "    </tr>\n",
       "  </tbody>\n",
       "</table>\n",
       "</div>"
      ],
      "text/plain": [
       "                           count       mean  std        min        25%  \\\n",
       "item                                                                     \n",
       "interest income              1.0  1684000.0  NaN  1684000.0  1684000.0   \n",
       "net income                   1.0   196000.0  NaN   196000.0   196000.0   \n",
       "net interest income          1.0   742000.0  NaN   742000.0   742000.0   \n",
       "provision for loan losses    1.0   198000.0  NaN   198000.0   198000.0   \n",
       "\n",
       "                                 50%        75%        max  \n",
       "item                                                        \n",
       "interest income            1684000.0  1684000.0  1684000.0  \n",
       "net income                  196000.0   196000.0   196000.0  \n",
       "net interest income         742000.0   742000.0   742000.0  \n",
       "provision for loan losses   198000.0   198000.0   198000.0  "
      ]
     },
     "execution_count": 6,
     "metadata": {},
     "output_type": "execute_result"
    }
   ],
   "source": [
    "prelims.groupby('item').item_value.describe()"
   ]
  },
  {
   "cell_type": "markdown",
   "metadata": {
    "papermill": {
     "duration": 0.013294,
     "end_time": "2019-05-29T18:37:50.729735",
     "exception": false,
     "start_time": "2019-05-29T18:37:50.716441",
     "status": "completed"
    },
    "tags": []
   },
   "source": [
    "# Plots"
   ]
  },
  {
   "cell_type": "code",
   "execution_count": 7,
   "metadata": {
    "papermill": {
     "duration": 0.813854,
     "end_time": "2019-05-29T18:37:51.557152",
     "exception": false,
     "start_time": "2019-05-29T18:37:50.743298",
     "status": "completed"
    },
    "tags": []
   },
   "outputs": [
    {
     "name": "stderr",
     "output_type": "stream",
     "text": [
      "C:\\ProgramData\\Miniconda3\\lib\\site-packages\\pandas\\plotting\\_core.py:998: UserWarning: Attempting to set identical left==right results\n",
      "in singular transformations; automatically expanding.\n",
      "left=732359.0, right=732359.0\n",
      "  ax.set_xlim(left, right)\n"
     ]
    },
    {
     "data": {
      "image/png": "[encoded data removed]",
      "text/plain": [
       "<Figure size 1440x720 with 6 Axes>"
      ]
     },
     "metadata": {
      "needs_background": "light"
     },
     "output_type": "display_data"
    }
   ],
   "source": [
    "_ = prelims.set_index('filing_date').pivot(columns='item', values='item_value').fillna(method=\"ffill\").plot(subplots=True, layout=(2, 3), figsize=(20, 10), sharex=False)"
   ]
  },
  {
   "cell_type": "markdown",
   "metadata": {
    "papermill": {
     "duration": 0.015024,
     "end_time": "2019-05-29T18:37:51.588713",
     "exception": false,
     "start_time": "2019-05-29T18:37:51.573689",
     "status": "completed"
    },
    "tags": []
   },
   "source": [
    "# Quality"
   ]
  },
  {
   "cell_type": "code",
   "execution_count": 8,
   "metadata": {
    "papermill": {
     "duration": 0.17983,
     "end_time": "2019-05-29T18:37:51.784190",
     "exception": false,
     "start_time": "2019-05-29T18:37:51.604360",
     "status": "completed"
    },
    "tags": []
   },
   "outputs": [
    {
     "data": {
      "text/html": [
       "<div>\n",
       "<style scoped>\n",
       "    .dataframe tbody tr th:only-of-type {\n",
       "        vertical-align: middle;\n",
       "    }\n",
       "\n",
       "    .dataframe tbody tr th {\n",
       "        vertical-align: top;\n",
       "    }\n",
       "\n",
       "    .dataframe thead th {\n",
       "        text-align: right;\n",
       "    }\n",
       "</style>\n",
       "<table border=\"1\" class=\"dataframe\">\n",
       "  <thead>\n",
       "    <tr style=\"text-align: right;\">\n",
       "      <th></th>\n",
       "      <th></th>\n",
       "      <th>period</th>\n",
       "      <th>msg_type</th>\n",
       "      <th>message</th>\n",
       "    </tr>\n",
       "    <tr>\n",
       "      <th>cik</th>\n",
       "      <th>item</th>\n",
       "      <th></th>\n",
       "      <th></th>\n",
       "      <th></th>\n",
       "    </tr>\n",
       "  </thead>\n",
       "  <tbody>\n",
       "    <tr>\n",
       "      <th rowspan=\"2\" valign=\"top\">0000083246</th>\n",
       "      <th>book value per share</th>\n",
       "      <td>None</td>\n",
       "      <td>empty</td>\n",
       "      <td>No values for item</td>\n",
       "    </tr>\n",
       "    <tr>\n",
       "      <th>total revenue</th>\n",
       "      <td>None</td>\n",
       "      <td>empty</td>\n",
       "      <td>No values for item</td>\n",
       "    </tr>\n",
       "  </tbody>\n",
       "</table>\n",
       "</div>"
      ],
      "text/plain": [
       "                                period msg_type             message\n",
       "cik        item                                                    \n",
       "0000083246 book value per share   None    empty  No values for item\n",
       "           total revenue          None    empty  No values for item"
      ]
     },
     "execution_count": 8,
     "metadata": {},
     "output_type": "execute_result"
    }
   ],
   "source": [
    "validate_prelims(prelims)"
   ]
  },
  {
   "cell_type": "markdown",
   "metadata": {
    "papermill": {
     "duration": 0.0208,
     "end_time": "2019-05-29T18:37:51.817130",
     "exception": false,
     "start_time": "2019-05-29T18:37:51.796330",
     "status": "completed"
    },
    "tags": []
   },
   "source": [
    "# Data"
   ]
  },
  {
   "cell_type": "code",
   "execution_count": 9,
   "metadata": {
    "papermill": {
     "duration": 0.192909,
     "end_time": "2019-05-29T18:37:52.017180",
     "exception": false,
     "start_time": "2019-05-29T18:37:51.824271",
     "status": "completed"
    },
    "tags": []
   },
   "outputs": [
    {
     "data": {
      "text/html": [
       "<style  type=\"text/css\" >\n",
       "</style><table id=\"T_ddaa2a24_8240_11e9_b044_34e12d8376c5\" ><thead>    <tr>        <th class=\"blank\" ></th>        <th class=\"blank level0\" ></th>        <th class=\"col_heading level0 col0\" >fiscal_period</th>        <th class=\"col_heading level0 col1\" >item_value</th>        <th class=\"col_heading level0 col2\" >src_table</th>        <th class=\"col_heading level0 col3\" >src_row</th>        <th class=\"col_heading level0 col4\" >src_column</th>        <th class=\"col_heading level0 col5\" >src_value</th>        <th class=\"col_heading level0 col6\" >src_units</th>    </tr>    <tr>        <th class=\"index_name level0\" >filing_date</th>        <th class=\"index_name level1\" >item</th>        <th class=\"blank\" ></th>        <th class=\"blank\" ></th>        <th class=\"blank\" ></th>        <th class=\"blank\" ></th>        <th class=\"blank\" ></th>        <th class=\"blank\" ></th>        <th class=\"blank\" ></th>    </tr></thead><tbody>\n",
       "                <tr>\n",
       "                        <th id=\"T_ddaa2a24_8240_11e9_b044_34e12d8376c5level0_row0\" class=\"row_heading level0 row0\" rowspan=4>2006-02-17</th>\n",
       "                        <th id=\"T_ddaa2a24_8240_11e9_b044_34e12d8376c5level1_row0\" class=\"row_heading level1 row0\" >interest income</th>\n",
       "                        <td id=\"T_ddaa2a24_8240_11e9_b044_34e12d8376c5row0_col0\" class=\"data row0 col0\" ><a href=\"https://www.sec.gov/Archives/edgar/data/83246/000008324606000002/0000083246-06-000002-index.htm\">2005Q4</a></td>\n",
       "                        <td id=\"T_ddaa2a24_8240_11e9_b044_34e12d8376c5row0_col1\" class=\"data row0 col1\" >1.684e+06</td>\n",
       "                        <td id=\"T_ddaa2a24_8240_11e9_b044_34e12d8376c5row0_col2\" class=\"data row0 col2\" >Consolidated Statement of Income</td>\n",
       "                        <td id=\"T_ddaa2a24_8240_11e9_b044_34e12d8376c5row0_col3\" class=\"data row0 col3\" >Total interest income</td>\n",
       "                        <td id=\"T_ddaa2a24_8240_11e9_b044_34e12d8376c5row0_col4\" class=\"data row0 col4\" >Quarter ended 31 December 2005</td>\n",
       "                        <td id=\"T_ddaa2a24_8240_11e9_b044_34e12d8376c5row0_col5\" class=\"data row0 col5\" >1684</td>\n",
       "                        <td id=\"T_ddaa2a24_8240_11e9_b044_34e12d8376c5row0_col6\" class=\"data row0 col6\" >inferred: thousands</td>\n",
       "            </tr>\n",
       "            <tr>\n",
       "                                <th id=\"T_ddaa2a24_8240_11e9_b044_34e12d8376c5level1_row1\" class=\"row_heading level1 row1\" >net income</th>\n",
       "                        <td id=\"T_ddaa2a24_8240_11e9_b044_34e12d8376c5row1_col0\" class=\"data row1 col0\" ><a href=\"https://www.sec.gov/Archives/edgar/data/83246/000008324606000002/0000083246-06-000002-index.htm\">2005Q4</a></td>\n",
       "                        <td id=\"T_ddaa2a24_8240_11e9_b044_34e12d8376c5row1_col1\" class=\"data row1 col1\" >196000</td>\n",
       "                        <td id=\"T_ddaa2a24_8240_11e9_b044_34e12d8376c5row1_col2\" class=\"data row1 col2\" >Consolidated Statement of Income</td>\n",
       "                        <td id=\"T_ddaa2a24_8240_11e9_b044_34e12d8376c5row1_col3\" class=\"data row1 col3\" >Net income</td>\n",
       "                        <td id=\"T_ddaa2a24_8240_11e9_b044_34e12d8376c5row1_col4\" class=\"data row1 col4\" >Quarter ended 31 December 2005</td>\n",
       "                        <td id=\"T_ddaa2a24_8240_11e9_b044_34e12d8376c5row1_col5\" class=\"data row1 col5\" >196</td>\n",
       "                        <td id=\"T_ddaa2a24_8240_11e9_b044_34e12d8376c5row1_col6\" class=\"data row1 col6\" >inferred: thousands</td>\n",
       "            </tr>\n",
       "            <tr>\n",
       "                                <th id=\"T_ddaa2a24_8240_11e9_b044_34e12d8376c5level1_row2\" class=\"row_heading level1 row2\" >net interest income</th>\n",
       "                        <td id=\"T_ddaa2a24_8240_11e9_b044_34e12d8376c5row2_col0\" class=\"data row2 col0\" ><a href=\"https://www.sec.gov/Archives/edgar/data/83246/000008324606000002/0000083246-06-000002-index.htm\">2005Q4</a></td>\n",
       "                        <td id=\"T_ddaa2a24_8240_11e9_b044_34e12d8376c5row2_col1\" class=\"data row2 col1\" >742000</td>\n",
       "                        <td id=\"T_ddaa2a24_8240_11e9_b044_34e12d8376c5row2_col2\" class=\"data row2 col2\" >Consolidated Statement of Income</td>\n",
       "                        <td id=\"T_ddaa2a24_8240_11e9_b044_34e12d8376c5row2_col3\" class=\"data row2 col3\" >Net interest income</td>\n",
       "                        <td id=\"T_ddaa2a24_8240_11e9_b044_34e12d8376c5row2_col4\" class=\"data row2 col4\" >Quarter ended 31 December 2005</td>\n",
       "                        <td id=\"T_ddaa2a24_8240_11e9_b044_34e12d8376c5row2_col5\" class=\"data row2 col5\" >742</td>\n",
       "                        <td id=\"T_ddaa2a24_8240_11e9_b044_34e12d8376c5row2_col6\" class=\"data row2 col6\" >inferred: thousands</td>\n",
       "            </tr>\n",
       "            <tr>\n",
       "                                <th id=\"T_ddaa2a24_8240_11e9_b044_34e12d8376c5level1_row3\" class=\"row_heading level1 row3\" >provision for loan losses</th>\n",
       "                        <td id=\"T_ddaa2a24_8240_11e9_b044_34e12d8376c5row3_col0\" class=\"data row3 col0\" ><a href=\"https://www.sec.gov/Archives/edgar/data/83246/000008324606000002/0000083246-06-000002-index.htm\">2005Q4</a></td>\n",
       "                        <td id=\"T_ddaa2a24_8240_11e9_b044_34e12d8376c5row3_col1\" class=\"data row3 col1\" >198000</td>\n",
       "                        <td id=\"T_ddaa2a24_8240_11e9_b044_34e12d8376c5row3_col2\" class=\"data row3 col2\" >Consolidated Statement of Income</td>\n",
       "                        <td id=\"T_ddaa2a24_8240_11e9_b044_34e12d8376c5row3_col3\" class=\"data row3 col3\" >Provision (credit) for credit losses</td>\n",
       "                        <td id=\"T_ddaa2a24_8240_11e9_b044_34e12d8376c5row3_col4\" class=\"data row3 col4\" >Quarter ended 31 December 2005</td>\n",
       "                        <td id=\"T_ddaa2a24_8240_11e9_b044_34e12d8376c5row3_col5\" class=\"data row3 col5\" >198</td>\n",
       "                        <td id=\"T_ddaa2a24_8240_11e9_b044_34e12d8376c5row3_col6\" class=\"data row3 col6\" >inferred: thousands</td>\n",
       "            </tr>\n",
       "    </tbody></table>"
      ],
      "text/plain": [
       "<pandas.io.formats.style.Styler at 0x15636bf6fd0>"
      ]
     },
     "execution_count": 9,
     "metadata": {},
     "output_type": "execute_result"
    }
   ],
   "source": [
    "def make_clickable(val: str) -> str: \n",
    "    if isinstance(val, str):\n",
    "        name, url = val.split('#')\n",
    "        return f'<a href=\"{url}\">{name}</a>'\n",
    "    else:\n",
    "        return ''\n",
    "\n",
    "(prelims\n",
    " .assign(fiscal_period = prelims.fiscal_period.str.cat(prelims.filing_href, sep='#'), filing_date = prelims.filing_date.map(lambda d: d.strftime('%Y-%m-%d')))\n",
    " .loc[:, ['filing_date', 'fiscal_period', 'item', 'item_value', 'src_table', 'src_row', 'src_column', 'src_value', 'src_units']]\n",
    " .set_index(['filing_date', 'item'])\n",
    " .style.format({'fiscal_period': make_clickable})\n",
    ")"
   ]
  },
  {
   "cell_type": "code",
   "execution_count": 10,
   "metadata": {
    "papermill": {
     "duration": 0.134777,
     "end_time": "2019-05-29T18:37:52.167991",
     "exception": false,
     "start_time": "2019-05-29T18:37:52.033214",
     "status": "completed"
    },
    "tags": []
   },
   "outputs": [],
   "source": [
    "#discard_prelim(cik, date(2019, 12, 31))\n",
    "#force_reload_prelim(cik, date(2019, 12, 31), delete_filings=False)\n",
    "#force_reload_prelim_between(cik,  start=date(2002, 6, 1), end=date(2019, 12, 31), delete_filings=False)"
   ]
  },
  {
   "cell_type": "code",
   "execution_count": 11,
   "metadata": {
    "papermill": {
     "duration": 0.133703,
     "end_time": "2019-05-29T18:37:52.318513",
     "exception": false,
     "start_time": "2019-05-29T18:37:52.184810",
     "status": "completed"
    },
    "tags": []
   },
   "outputs": [],
   "source": [
    "#d = date(2018, 10, 29)\n",
    "#extract_prelim_statements(cik, start=d, end=d)"
   ]
  },
  {
   "cell_type": "code",
   "execution_count": 12,
   "metadata": {
    "papermill": {
     "duration": 0.140655,
     "end_time": "2019-05-29T18:37:52.475168",
     "exception": false,
     "start_time": "2019-05-29T18:37:52.334513",
     "status": "completed"
    },
    "tags": []
   },
   "outputs": [],
   "source": [
    "#d = date(2019, 4, 22)\n",
    "#filings = query_edgar_for_filings(cik, \"8-K\", start=d, end=d, require_xbrl=False)\n",
    "#report = query_edgar_for_submission_text(filings[0].href)\n",
    "#submission = load_submission(report.href)\n",
    "#tables = list(parse_tables(submission))\n",
    "#items_from_tables(tables)"
   ]
  },
  {
   "cell_type": "code",
   "execution_count": 13,
   "metadata": {
    "papermill": {
     "duration": 0.153222,
     "end_time": "2019-05-29T18:37:52.649396",
     "exception": false,
     "start_time": "2019-05-29T18:37:52.496174",
     "status": "completed"
    },
    "tags": []
   },
   "outputs": [],
   "source": [
    "#widget = query_prelims_for_override(cik, filing_date='2006-01-27', item=None)\n",
    "#widget"
   ]
  },
  {
   "cell_type": "code",
   "execution_count": 14,
   "metadata": {
    "papermill": {
     "duration": 0.166452,
     "end_time": "2019-05-29T18:37:52.836661",
     "exception": false,
     "start_time": "2019-05-29T18:37:52.670209",
     "status": "completed"
    },
    "tags": []
   },
   "outputs": [],
   "source": [
    "#widget.save()"
   ]
  }
 ],
 "metadata": {
  "celltoolbar": "Tags",
  "kernelspec": {
   "display_name": "Python 3",
   "language": "python",
   "name": "python3"
  },
  "language_info": {
   "codemirror_mode": {
    "name": "ipython",
    "version": 3
   },
   "file_extension": ".py",
   "mimetype": "text/x-python",
   "name": "python",
   "nbconvert_exporter": "python",
   "pygments_lexer": "ipython3",
   "version": "3.7.2"
  },
  "papermill": {
   "duration": 7.529615,
   "end_time": "2019-05-29T18:37:53.504354",
   "environment_variables": {},
   "exception": null,
   "input_path": "resources/edgar_prelim_quality.ipynb",
   "output_path": "../out/notebooks/0000083246.ipynb",
   "parameters": {
    "cik": "0000083246"
   },
   "start_time": "2019-05-29T18:37:45.974739",
   "version": "0.19.1"
  }
 },
 "nbformat": 4,
 "nbformat_minor": 2
}