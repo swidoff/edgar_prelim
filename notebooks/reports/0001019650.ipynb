{
 "cells": [
  {
   "cell_type": "code",
   "execution_count": 1,
   "metadata": {
    "papermill": {
     "duration": 1.621941,
     "end_time": "2019-05-29T19:09:41.975432",
     "exception": false,
     "start_time": "2019-05-29T19:09:40.353491",
     "status": "completed"
    },
    "tags": []
   },
   "outputs": [],
   "source": [
    "from edgar_prelim import *\n",
    "import pandas as pd\n",
    "%load_ext autoreload\n",
    "%autoreload 2\n",
    "%matplotlib inline\n",
    "pd.set_option('display.max_rows', 500)\n",
    "pd.set_option('display.max_columns', 500)"
   ]
  },
  {
   "cell_type": "code",
   "execution_count": 2,
   "metadata": {
    "papermill": {
     "duration": 0.137472,
     "end_time": "2019-05-29T19:09:42.125183",
     "exception": false,
     "start_time": "2019-05-29T19:09:41.987711",
     "status": "completed"
    },
    "tags": [
     "parameters"
    ]
   },
   "outputs": [],
   "source": [
    "cik='0000004962'"
   ]
  },
  {
   "cell_type": "code",
   "execution_count": 3,
   "metadata": {
    "papermill": {
     "duration": 0.12424,
     "end_time": "2019-05-29T19:09:42.263471",
     "exception": false,
     "start_time": "2019-05-29T19:09:42.139231",
     "status": "completed"
    },
    "tags": [
     "injected-parameters"
    ]
   },
   "outputs": [],
   "source": [
    "# Parameters\n",
    "cik = \"0001019650\"\n"
   ]
  },
  {
   "cell_type": "markdown",
   "metadata": {
    "papermill": {
     "duration": 0.011332,
     "end_time": "2019-05-29T19:09:42.289791",
     "exception": false,
     "start_time": "2019-05-29T19:09:42.278459",
     "status": "completed"
    },
    "tags": []
   },
   "source": [
    "# Company"
   ]
  },
  {
   "cell_type": "code",
   "execution_count": 4,
   "metadata": {
    "papermill": {
     "duration": 1.370395,
     "end_time": "2019-05-29T19:09:43.673383",
     "exception": false,
     "start_time": "2019-05-29T19:09:42.302988",
     "status": "completed"
    },
    "tags": []
   },
   "outputs": [
    {
     "data": {
      "text/html": [
       "<div>\n",
       "<style scoped>\n",
       "    .dataframe tbody tr th:only-of-type {\n",
       "        vertical-align: middle;\n",
       "    }\n",
       "\n",
       "    .dataframe tbody tr th {\n",
       "        vertical-align: top;\n",
       "    }\n",
       "\n",
       "    .dataframe thead th {\n",
       "        text-align: right;\n",
       "    }\n",
       "</style>\n",
       "<table border=\"1\" class=\"dataframe\">\n",
       "  <thead>\n",
       "    <tr style=\"text-align: right;\">\n",
       "      <th></th>\n",
       "      <th></th>\n",
       "    </tr>\n",
       "  </thead>\n",
       "  <tbody>\n",
       "    <tr>\n",
       "      <th>CIK</th>\n",
       "      <td>0001019650</td>\n",
       "    </tr>\n",
       "    <tr>\n",
       "      <th>SIC</th>\n",
       "      <td>6021</td>\n",
       "    </tr>\n",
       "    <tr>\n",
       "      <th>Description</th>\n",
       "      <td>NATIONAL COMMERCIAL BANKS</td>\n",
       "    </tr>\n",
       "    <tr>\n",
       "      <th>Name</th>\n",
       "      <td>CENTRUE FINANCIAL CORP</td>\n",
       "    </tr>\n",
       "    <tr>\n",
       "      <th>Ticker</th>\n",
       "      <td></td>\n",
       "    </tr>\n",
       "  </tbody>\n",
       "</table>\n",
       "</div>"
      ],
      "text/plain": [
       "                                      \n",
       "CIK                         0001019650\n",
       "SIC                               6021\n",
       "Description  NATIONAL COMMERCIAL BANKS\n",
       "Name            CENTRUE FINANCIAL CORP\n",
       "Ticker                                "
      ]
     },
     "execution_count": 4,
     "metadata": {},
     "output_type": "execute_result"
    }
   ],
   "source": [
    "cik_df = pd.read_sql(text(\"select cik, sic, sic_description, company_name, ticker from cik where cik = :cik\").bindparams(cik=cik), prelim_engine)\n",
    "cik_df.rename({'cik': 'CIK', 'sic': 'SIC', 'sic_description': 'Description', 'company_name': 'Name', 'ticker': 'Ticker'}, axis=1).T.rename({0: ''}, axis=1)"
   ]
  },
  {
   "cell_type": "code",
   "execution_count": 5,
   "metadata": {
    "papermill": {
     "duration": 0.304799,
     "end_time": "2019-05-29T19:09:43.988271",
     "exception": false,
     "start_time": "2019-05-29T19:09:43.683472",
     "status": "completed"
    },
    "tags": []
   },
   "outputs": [],
   "source": [
    "prelims = query_prelims(cik)"
   ]
  },
  {
   "cell_type": "markdown",
   "metadata": {
    "papermill": {
     "duration": 0.013002,
     "end_time": "2019-05-29T19:09:44.014271",
     "exception": false,
     "start_time": "2019-05-29T19:09:44.001269",
     "status": "completed"
    },
    "tags": []
   },
   "source": [
    "# Summary Statistics"
   ]
  },
  {
   "cell_type": "code",
   "execution_count": 6,
   "metadata": {
    "papermill": {
     "duration": 0.140738,
     "end_time": "2019-05-29T19:09:44.164068",
     "exception": false,
     "start_time": "2019-05-29T19:09:44.023330",
     "status": "completed"
    },
    "tags": []
   },
   "outputs": [
    {
     "data": {
      "text/html": [
       "<div>\n",
       "<style scoped>\n",
       "    .dataframe tbody tr th:only-of-type {\n",
       "        vertical-align: middle;\n",
       "    }\n",
       "\n",
       "    .dataframe tbody tr th {\n",
       "        vertical-align: top;\n",
       "    }\n",
       "\n",
       "    .dataframe thead th {\n",
       "        text-align: right;\n",
       "    }\n",
       "</style>\n",
       "<table border=\"1\" class=\"dataframe\">\n",
       "  <thead>\n",
       "    <tr style=\"text-align: right;\">\n",
       "      <th></th>\n",
       "      <th>count</th>\n",
       "      <th>mean</th>\n",
       "      <th>std</th>\n",
       "      <th>min</th>\n",
       "      <th>25%</th>\n",
       "      <th>50%</th>\n",
       "      <th>75%</th>\n",
       "      <th>max</th>\n",
       "    </tr>\n",
       "    <tr>\n",
       "      <th>item</th>\n",
       "      <th></th>\n",
       "      <th></th>\n",
       "      <th></th>\n",
       "      <th></th>\n",
       "      <th></th>\n",
       "      <th></th>\n",
       "      <th></th>\n",
       "      <th></th>\n",
       "    </tr>\n",
       "  </thead>\n",
       "  <tbody>\n",
       "    <tr>\n",
       "      <th>book value per share</th>\n",
       "      <td>6.0</td>\n",
       "      <td>1.879167e+01</td>\n",
       "      <td>4.058284e-01</td>\n",
       "      <td>18.21</td>\n",
       "      <td>1.853250e+01</td>\n",
       "      <td>18.85</td>\n",
       "      <td>19.04</td>\n",
       "      <td>19.31</td>\n",
       "    </tr>\n",
       "    <tr>\n",
       "      <th>interest income</th>\n",
       "      <td>6.0</td>\n",
       "      <td>7.912167e+06</td>\n",
       "      <td>1.420330e+05</td>\n",
       "      <td>7678000.00</td>\n",
       "      <td>7.874750e+06</td>\n",
       "      <td>7920500.00</td>\n",
       "      <td>7970750.00</td>\n",
       "      <td>8107000.00</td>\n",
       "    </tr>\n",
       "    <tr>\n",
       "      <th>net income</th>\n",
       "      <td>6.0</td>\n",
       "      <td>7.661500e+06</td>\n",
       "      <td>1.516455e+07</td>\n",
       "      <td>918000.00</td>\n",
       "      <td>1.056000e+06</td>\n",
       "      <td>1593500.00</td>\n",
       "      <td>2193250.00</td>\n",
       "      <td>38594000.00</td>\n",
       "    </tr>\n",
       "    <tr>\n",
       "      <th>net interest income</th>\n",
       "      <td>6.0</td>\n",
       "      <td>7.244333e+06</td>\n",
       "      <td>1.046798e+05</td>\n",
       "      <td>7081000.00</td>\n",
       "      <td>7.216000e+06</td>\n",
       "      <td>7239000.00</td>\n",
       "      <td>7284500.00</td>\n",
       "      <td>7399000.00</td>\n",
       "    </tr>\n",
       "    <tr>\n",
       "      <th>provision for loan losses</th>\n",
       "      <td>6.0</td>\n",
       "      <td>1.125000e+05</td>\n",
       "      <td>1.758906e+05</td>\n",
       "      <td>0.00</td>\n",
       "      <td>0.000000e+00</td>\n",
       "      <td>0.00</td>\n",
       "      <td>225000.00</td>\n",
       "      <td>375000.00</td>\n",
       "    </tr>\n",
       "  </tbody>\n",
       "</table>\n",
       "</div>"
      ],
      "text/plain": [
       "                           count          mean           std         min  \\\n",
       "item                                                                       \n",
       "book value per share         6.0  1.879167e+01  4.058284e-01       18.21   \n",
       "interest income              6.0  7.912167e+06  1.420330e+05  7678000.00   \n",
       "net income                   6.0  7.661500e+06  1.516455e+07   918000.00   \n",
       "net interest income          6.0  7.244333e+06  1.046798e+05  7081000.00   \n",
       "provision for loan losses    6.0  1.125000e+05  1.758906e+05        0.00   \n",
       "\n",
       "                                    25%         50%         75%          max  \n",
       "item                                                                          \n",
       "book value per share       1.853250e+01       18.85       19.04        19.31  \n",
       "interest income            7.874750e+06  7920500.00  7970750.00   8107000.00  \n",
       "net income                 1.056000e+06  1593500.00  2193250.00  38594000.00  \n",
       "net interest income        7.216000e+06  7239000.00  7284500.00   7399000.00  \n",
       "provision for loan losses  0.000000e+00        0.00   225000.00    375000.00  "
      ]
     },
     "execution_count": 6,
     "metadata": {},
     "output_type": "execute_result"
    }
   ],
   "source": [
    "prelims.groupby('item').item_value.describe()"
   ]
  },
  {
   "cell_type": "markdown",
   "metadata": {
    "papermill": {
     "duration": 0.011883,
     "end_time": "2019-05-29T19:09:44.184974",
     "exception": false,
     "start_time": "2019-05-29T19:09:44.173091",
     "status": "completed"
    },
    "tags": []
   },
   "source": [
    "# Plots"
   ]
  },
  {
   "cell_type": "code",
   "execution_count": 7,
   "metadata": {
    "papermill": {
     "duration": 0.883652,
     "end_time": "2019-05-29T19:09:45.089605",
     "exception": false,
     "start_time": "2019-05-29T19:09:44.205953",
     "status": "completed"
    },
    "tags": []
   },
   "outputs": [
    {
     "data": {
      "image/png": "[encoded data removed]",
      "text/plain": [
       "<Figure size 1440x720 with 6 Axes>"
      ]
     },
     "metadata": {
      "needs_background": "light"
     },
     "output_type": "display_data"
    }
   ],
   "source": [
    "_ = prelims.set_index('filing_date').pivot(columns='item', values='item_value').fillna(method=\"ffill\").plot(subplots=True, layout=(2, 3), figsize=(20, 10), sharex=False)"
   ]
  },
  {
   "cell_type": "markdown",
   "metadata": {
    "papermill": {
     "duration": 0.013149,
     "end_time": "2019-05-29T19:09:45.116426",
     "exception": false,
     "start_time": "2019-05-29T19:09:45.103277",
     "status": "completed"
    },
    "tags": []
   },
   "source": [
    "# Quality"
   ]
  },
  {
   "cell_type": "code",
   "execution_count": 8,
   "metadata": {
    "papermill": {
     "duration": 0.226446,
     "end_time": "2019-05-29T19:09:45.364913",
     "exception": false,
     "start_time": "2019-05-29T19:09:45.138467",
     "status": "completed"
    },
    "tags": []
   },
   "outputs": [
    {
     "data": {
      "text/html": [
       "<div>\n",
       "<style scoped>\n",
       "    .dataframe tbody tr th:only-of-type {\n",
       "        vertical-align: middle;\n",
       "    }\n",
       "\n",
       "    .dataframe tbody tr th {\n",
       "        vertical-align: top;\n",
       "    }\n",
       "\n",
       "    .dataframe thead th {\n",
       "        text-align: right;\n",
       "    }\n",
       "</style>\n",
       "<table border=\"1\" class=\"dataframe\">\n",
       "  <thead>\n",
       "    <tr style=\"text-align: right;\">\n",
       "      <th></th>\n",
       "      <th></th>\n",
       "      <th>period</th>\n",
       "      <th>msg_type</th>\n",
       "      <th>message</th>\n",
       "    </tr>\n",
       "    <tr>\n",
       "      <th>cik</th>\n",
       "      <th>item</th>\n",
       "      <th></th>\n",
       "      <th></th>\n",
       "      <th></th>\n",
       "    </tr>\n",
       "  </thead>\n",
       "  <tbody>\n",
       "    <tr>\n",
       "      <th>0001019650</th>\n",
       "      <th>total revenue</th>\n",
       "      <td>None</td>\n",
       "      <td>empty</td>\n",
       "      <td>No values for item</td>\n",
       "    </tr>\n",
       "  </tbody>\n",
       "</table>\n",
       "</div>"
      ],
      "text/plain": [
       "                         period msg_type             message\n",
       "cik        item                                             \n",
       "0001019650 total revenue   None    empty  No values for item"
      ]
     },
     "execution_count": 8,
     "metadata": {},
     "output_type": "execute_result"
    }
   ],
   "source": [
    "validate_prelims(prelims)"
   ]
  },
  {
   "cell_type": "markdown",
   "metadata": {
    "papermill": {
     "duration": 0.019045,
     "end_time": "2019-05-29T19:09:45.402132",
     "exception": false,
     "start_time": "2019-05-29T19:09:45.383087",
     "status": "completed"
    },
    "tags": []
   },
   "source": [
    "# Data"
   ]
  },
  {
   "cell_type": "code",
   "execution_count": 9,
   "metadata": {
    "papermill": {
     "duration": 0.187567,
     "end_time": "2019-05-29T19:09:45.608018",
     "exception": false,
     "start_time": "2019-05-29T19:09:45.420451",
     "status": "completed"
    },
    "tags": []
   },
   "outputs": [
    {
     "data": {
      "text/html": [
       "<style  type=\"text/css\" >\n",
       "</style><table id=\"T_52422390_8245_11e9_a8bf_34e12d8376c5\" ><thead>    <tr>        <th class=\"blank\" ></th>        <th class=\"blank level0\" ></th>        <th class=\"col_heading level0 col0\" >fiscal_period</th>        <th class=\"col_heading level0 col1\" >item_value</th>        <th class=\"col_heading level0 col2\" >src_table</th>        <th class=\"col_heading level0 col3\" >src_row</th>        <th class=\"col_heading level0 col4\" >src_column</th>        <th class=\"col_heading level0 col5\" >src_value</th>        <th class=\"col_heading level0 col6\" >src_units</th>    </tr>    <tr>        <th class=\"index_name level0\" >filing_date</th>        <th class=\"index_name level1\" >item</th>        <th class=\"blank\" ></th>        <th class=\"blank\" ></th>        <th class=\"blank\" ></th>        <th class=\"blank\" ></th>        <th class=\"blank\" ></th>        <th class=\"blank\" ></th>        <th class=\"blank\" ></th>    </tr></thead><tbody>\n",
       "                <tr>\n",
       "                        <th id=\"T_52422390_8245_11e9_a8bf_34e12d8376c5level0_row0\" class=\"row_heading level0 row0\" rowspan=5>2016-02-05</th>\n",
       "                        <th id=\"T_52422390_8245_11e9_a8bf_34e12d8376c5level1_row0\" class=\"row_heading level1 row0\" >book value per share</th>\n",
       "                        <td id=\"T_52422390_8245_11e9_a8bf_34e12d8376c5row0_col0\" class=\"data row0 col0\" ><a href=\"https://www.sec.gov/Archives/edgar/data/1019650/000101965016000067/0001019650-16-000067-index.htm\">2015Q4</a></td>\n",
       "                        <td id=\"T_52422390_8245_11e9_a8bf_34e12d8376c5row0_col1\" class=\"data row0 col1\" >18.21</td>\n",
       "                        <td id=\"T_52422390_8245_11e9_a8bf_34e12d8376c5row0_col2\" class=\"data row0 col2\" >Statement of Income</td>\n",
       "                        <td id=\"T_52422390_8245_11e9_a8bf_34e12d8376c5row0_col3\" class=\"data row0 col3\" >Book value per common share</td>\n",
       "                        <td id=\"T_52422390_8245_11e9_a8bf_34e12d8376c5row0_col4\" class=\"data row0 col4\" >Quarters Ended 12/31/15</td>\n",
       "                        <td id=\"T_52422390_8245_11e9_a8bf_34e12d8376c5row0_col5\" class=\"data row0 col5\" >18.21</td>\n",
       "                        <td id=\"T_52422390_8245_11e9_a8bf_34e12d8376c5row0_col6\" class=\"data row0 col6\" >(In Thousands, Except Per Share Data)</td>\n",
       "            </tr>\n",
       "            <tr>\n",
       "                                <th id=\"T_52422390_8245_11e9_a8bf_34e12d8376c5level1_row1\" class=\"row_heading level1 row1\" >interest income</th>\n",
       "                        <td id=\"T_52422390_8245_11e9_a8bf_34e12d8376c5row1_col0\" class=\"data row1 col0\" ><a href=\"https://www.sec.gov/Archives/edgar/data/1019650/000101965016000067/0001019650-16-000067-index.htm\">2015Q4</a></td>\n",
       "                        <td id=\"T_52422390_8245_11e9_a8bf_34e12d8376c5row1_col1\" class=\"data row1 col1\" >7.678e+06</td>\n",
       "                        <td id=\"T_52422390_8245_11e9_a8bf_34e12d8376c5row1_col2\" class=\"data row1 col2\" >Statement of Income</td>\n",
       "                        <td id=\"T_52422390_8245_11e9_a8bf_34e12d8376c5row1_col3\" class=\"data row1 col3\" >Interest income</td>\n",
       "                        <td id=\"T_52422390_8245_11e9_a8bf_34e12d8376c5row1_col4\" class=\"data row1 col4\" >Quarters Ended 12/31/15</td>\n",
       "                        <td id=\"T_52422390_8245_11e9_a8bf_34e12d8376c5row1_col5\" class=\"data row1 col5\" >7678</td>\n",
       "                        <td id=\"T_52422390_8245_11e9_a8bf_34e12d8376c5row1_col6\" class=\"data row1 col6\" >(In Thousands, Except Per Share Data)</td>\n",
       "            </tr>\n",
       "            <tr>\n",
       "                                <th id=\"T_52422390_8245_11e9_a8bf_34e12d8376c5level1_row2\" class=\"row_heading level1 row2\" >net income</th>\n",
       "                        <td id=\"T_52422390_8245_11e9_a8bf_34e12d8376c5row2_col0\" class=\"data row2 col0\" ><a href=\"https://www.sec.gov/Archives/edgar/data/1019650/000101965016000067/0001019650-16-000067-index.htm\">2015Q4</a></td>\n",
       "                        <td id=\"T_52422390_8245_11e9_a8bf_34e12d8376c5row2_col1\" class=\"data row2 col1\" >3.8594e+07</td>\n",
       "                        <td id=\"T_52422390_8245_11e9_a8bf_34e12d8376c5row2_col2\" class=\"data row2 col2\" >Statement of Income</td>\n",
       "                        <td id=\"T_52422390_8245_11e9_a8bf_34e12d8376c5row2_col3\" class=\"data row2 col3\" >Net income (loss)</td>\n",
       "                        <td id=\"T_52422390_8245_11e9_a8bf_34e12d8376c5row2_col4\" class=\"data row2 col4\" >Quarters Ended 12/31/15</td>\n",
       "                        <td id=\"T_52422390_8245_11e9_a8bf_34e12d8376c5row2_col5\" class=\"data row2 col5\" >38594</td>\n",
       "                        <td id=\"T_52422390_8245_11e9_a8bf_34e12d8376c5row2_col6\" class=\"data row2 col6\" >(In Thousands, Except Per Share Data)</td>\n",
       "            </tr>\n",
       "            <tr>\n",
       "                                <th id=\"T_52422390_8245_11e9_a8bf_34e12d8376c5level1_row3\" class=\"row_heading level1 row3\" >net interest income</th>\n",
       "                        <td id=\"T_52422390_8245_11e9_a8bf_34e12d8376c5row3_col0\" class=\"data row3 col0\" ><a href=\"https://www.sec.gov/Archives/edgar/data/1019650/000101965016000067/0001019650-16-000067-index.htm\">2015Q4</a></td>\n",
       "                        <td id=\"T_52422390_8245_11e9_a8bf_34e12d8376c5row3_col1\" class=\"data row3 col1\" >7.081e+06</td>\n",
       "                        <td id=\"T_52422390_8245_11e9_a8bf_34e12d8376c5row3_col2\" class=\"data row3 col2\" >Statement of Income</td>\n",
       "                        <td id=\"T_52422390_8245_11e9_a8bf_34e12d8376c5row3_col3\" class=\"data row3 col3\" >Net interest income</td>\n",
       "                        <td id=\"T_52422390_8245_11e9_a8bf_34e12d8376c5row3_col4\" class=\"data row3 col4\" >Quarters Ended 12/31/15</td>\n",
       "                        <td id=\"T_52422390_8245_11e9_a8bf_34e12d8376c5row3_col5\" class=\"data row3 col5\" >7081</td>\n",
       "                        <td id=\"T_52422390_8245_11e9_a8bf_34e12d8376c5row3_col6\" class=\"data row3 col6\" >(In Thousands, Except Per Share Data)</td>\n",
       "            </tr>\n",
       "            <tr>\n",
       "                                <th id=\"T_52422390_8245_11e9_a8bf_34e12d8376c5level1_row4\" class=\"row_heading level1 row4\" >provision for loan losses</th>\n",
       "                        <td id=\"T_52422390_8245_11e9_a8bf_34e12d8376c5row4_col0\" class=\"data row4 col0\" ><a href=\"https://www.sec.gov/Archives/edgar/data/1019650/000101965016000067/0001019650-16-000067-index.htm\">2015Q4</a></td>\n",
       "                        <td id=\"T_52422390_8245_11e9_a8bf_34e12d8376c5row4_col1\" class=\"data row4 col1\" >375000</td>\n",
       "                        <td id=\"T_52422390_8245_11e9_a8bf_34e12d8376c5row4_col2\" class=\"data row4 col2\" >Statement of Income</td>\n",
       "                        <td id=\"T_52422390_8245_11e9_a8bf_34e12d8376c5row4_col3\" class=\"data row4 col3\" >Provision for loan losses</td>\n",
       "                        <td id=\"T_52422390_8245_11e9_a8bf_34e12d8376c5row4_col4\" class=\"data row4 col4\" >Quarters Ended 12/31/15</td>\n",
       "                        <td id=\"T_52422390_8245_11e9_a8bf_34e12d8376c5row4_col5\" class=\"data row4 col5\" >375</td>\n",
       "                        <td id=\"T_52422390_8245_11e9_a8bf_34e12d8376c5row4_col6\" class=\"data row4 col6\" >(In Thousands, Except Per Share Data)</td>\n",
       "            </tr>\n",
       "            <tr>\n",
       "                        <th id=\"T_52422390_8245_11e9_a8bf_34e12d8376c5level0_row5\" class=\"row_heading level0 row5\" rowspan=5>2016-05-02</th>\n",
       "                        <th id=\"T_52422390_8245_11e9_a8bf_34e12d8376c5level1_row5\" class=\"row_heading level1 row5\" >book value per share</th>\n",
       "                        <td id=\"T_52422390_8245_11e9_a8bf_34e12d8376c5row5_col0\" class=\"data row5 col0\" ><a href=\"https://www.sec.gov/Archives/edgar/data/1019650/000101965016000092/0001019650-16-000092-index.htm\">2016Q1</a></td>\n",
       "                        <td id=\"T_52422390_8245_11e9_a8bf_34e12d8376c5row5_col1\" class=\"data row5 col1\" >18.45</td>\n",
       "                        <td id=\"T_52422390_8245_11e9_a8bf_34e12d8376c5row5_col2\" class=\"data row5 col2\" >Statement of Income</td>\n",
       "                        <td id=\"T_52422390_8245_11e9_a8bf_34e12d8376c5row5_col3\" class=\"data row5 col3\" >Book value per common share</td>\n",
       "                        <td id=\"T_52422390_8245_11e9_a8bf_34e12d8376c5row5_col4\" class=\"data row5 col4\" >Quarters Ended 03/31/16</td>\n",
       "                        <td id=\"T_52422390_8245_11e9_a8bf_34e12d8376c5row5_col5\" class=\"data row5 col5\" >18.45$</td>\n",
       "                        <td id=\"T_52422390_8245_11e9_a8bf_34e12d8376c5row5_col6\" class=\"data row5 col6\" >(In Thousands, Except Per Share Data)</td>\n",
       "            </tr>\n",
       "            <tr>\n",
       "                                <th id=\"T_52422390_8245_11e9_a8bf_34e12d8376c5level1_row6\" class=\"row_heading level1 row6\" >interest income</th>\n",
       "                        <td id=\"T_52422390_8245_11e9_a8bf_34e12d8376c5row6_col0\" class=\"data row6 col0\" ><a href=\"https://www.sec.gov/Archives/edgar/data/1019650/000101965016000092/0001019650-16-000092-index.htm\">2016Q1</a></td>\n",
       "                        <td id=\"T_52422390_8245_11e9_a8bf_34e12d8376c5row6_col1\" class=\"data row6 col1\" >7.913e+06</td>\n",
       "                        <td id=\"T_52422390_8245_11e9_a8bf_34e12d8376c5row6_col2\" class=\"data row6 col2\" >Statement of Income</td>\n",
       "                        <td id=\"T_52422390_8245_11e9_a8bf_34e12d8376c5row6_col3\" class=\"data row6 col3\" >Interest income</td>\n",
       "                        <td id=\"T_52422390_8245_11e9_a8bf_34e12d8376c5row6_col4\" class=\"data row6 col4\" >Quarters Ended 03/31/16</td>\n",
       "                        <td id=\"T_52422390_8245_11e9_a8bf_34e12d8376c5row6_col5\" class=\"data row6 col5\" >7913$</td>\n",
       "                        <td id=\"T_52422390_8245_11e9_a8bf_34e12d8376c5row6_col6\" class=\"data row6 col6\" >(In Thousands, Except Per Share Data)</td>\n",
       "            </tr>\n",
       "            <tr>\n",
       "                                <th id=\"T_52422390_8245_11e9_a8bf_34e12d8376c5level1_row7\" class=\"row_heading level1 row7\" >net income</th>\n",
       "                        <td id=\"T_52422390_8245_11e9_a8bf_34e12d8376c5row7_col0\" class=\"data row7 col0\" ><a href=\"https://www.sec.gov/Archives/edgar/data/1019650/000101965016000092/0001019650-16-000092-index.htm\">2016Q1</a></td>\n",
       "                        <td id=\"T_52422390_8245_11e9_a8bf_34e12d8376c5row7_col1\" class=\"data row7 col1\" >918000</td>\n",
       "                        <td id=\"T_52422390_8245_11e9_a8bf_34e12d8376c5row7_col2\" class=\"data row7 col2\" >Statement of Income</td>\n",
       "                        <td id=\"T_52422390_8245_11e9_a8bf_34e12d8376c5row7_col3\" class=\"data row7 col3\" >Net income (loss)</td>\n",
       "                        <td id=\"T_52422390_8245_11e9_a8bf_34e12d8376c5row7_col4\" class=\"data row7 col4\" >Quarters Ended 03/31/16</td>\n",
       "                        <td id=\"T_52422390_8245_11e9_a8bf_34e12d8376c5row7_col5\" class=\"data row7 col5\" >918$</td>\n",
       "                        <td id=\"T_52422390_8245_11e9_a8bf_34e12d8376c5row7_col6\" class=\"data row7 col6\" >(In Thousands, Except Per Share Data)</td>\n",
       "            </tr>\n",
       "            <tr>\n",
       "                                <th id=\"T_52422390_8245_11e9_a8bf_34e12d8376c5level1_row8\" class=\"row_heading level1 row8\" >net interest income</th>\n",
       "                        <td id=\"T_52422390_8245_11e9_a8bf_34e12d8376c5row8_col0\" class=\"data row8 col0\" ><a href=\"https://www.sec.gov/Archives/edgar/data/1019650/000101965016000092/0001019650-16-000092-index.htm\">2016Q1</a></td>\n",
       "                        <td id=\"T_52422390_8245_11e9_a8bf_34e12d8376c5row8_col1\" class=\"data row8 col1\" >7.262e+06</td>\n",
       "                        <td id=\"T_52422390_8245_11e9_a8bf_34e12d8376c5row8_col2\" class=\"data row8 col2\" >Statement of Income</td>\n",
       "                        <td id=\"T_52422390_8245_11e9_a8bf_34e12d8376c5row8_col3\" class=\"data row8 col3\" >Net interest income</td>\n",
       "                        <td id=\"T_52422390_8245_11e9_a8bf_34e12d8376c5row8_col4\" class=\"data row8 col4\" >Quarters Ended 03/31/16</td>\n",
       "                        <td id=\"T_52422390_8245_11e9_a8bf_34e12d8376c5row8_col5\" class=\"data row8 col5\" >7262</td>\n",
       "                        <td id=\"T_52422390_8245_11e9_a8bf_34e12d8376c5row8_col6\" class=\"data row8 col6\" >(In Thousands, Except Per Share Data)</td>\n",
       "            </tr>\n",
       "            <tr>\n",
       "                                <th id=\"T_52422390_8245_11e9_a8bf_34e12d8376c5level1_row9\" class=\"row_heading level1 row9\" >provision for loan losses</th>\n",
       "                        <td id=\"T_52422390_8245_11e9_a8bf_34e12d8376c5row9_col0\" class=\"data row9 col0\" ><a href=\"https://www.sec.gov/Archives/edgar/data/1019650/000101965016000092/0001019650-16-000092-index.htm\">2016Q1</a></td>\n",
       "                        <td id=\"T_52422390_8245_11e9_a8bf_34e12d8376c5row9_col1\" class=\"data row9 col1\" >300000</td>\n",
       "                        <td id=\"T_52422390_8245_11e9_a8bf_34e12d8376c5row9_col2\" class=\"data row9 col2\" >Statement of Income</td>\n",
       "                        <td id=\"T_52422390_8245_11e9_a8bf_34e12d8376c5row9_col3\" class=\"data row9 col3\" >Provision for loan losses</td>\n",
       "                        <td id=\"T_52422390_8245_11e9_a8bf_34e12d8376c5row9_col4\" class=\"data row9 col4\" >Quarters Ended 03/31/16</td>\n",
       "                        <td id=\"T_52422390_8245_11e9_a8bf_34e12d8376c5row9_col5\" class=\"data row9 col5\" >300</td>\n",
       "                        <td id=\"T_52422390_8245_11e9_a8bf_34e12d8376c5row9_col6\" class=\"data row9 col6\" >(In Thousands, Except Per Share Data)</td>\n",
       "            </tr>\n",
       "            <tr>\n",
       "                        <th id=\"T_52422390_8245_11e9_a8bf_34e12d8376c5level0_row10\" class=\"row_heading level0 row10\" rowspan=5>2016-07-28</th>\n",
       "                        <th id=\"T_52422390_8245_11e9_a8bf_34e12d8376c5level1_row10\" class=\"row_heading level1 row10\" >book value per share</th>\n",
       "                        <td id=\"T_52422390_8245_11e9_a8bf_34e12d8376c5row10_col0\" class=\"data row10 col0\" ><a href=\"https://www.sec.gov/Archives/edgar/data/1019650/000101965016000129/0001019650-16-000129-index.htm\">2016Q2</a></td>\n",
       "                        <td id=\"T_52422390_8245_11e9_a8bf_34e12d8376c5row10_col1\" class=\"data row10 col1\" >18.78</td>\n",
       "                        <td id=\"T_52422390_8245_11e9_a8bf_34e12d8376c5row10_col2\" class=\"data row10 col2\" >Statement of Income</td>\n",
       "                        <td id=\"T_52422390_8245_11e9_a8bf_34e12d8376c5row10_col3\" class=\"data row10 col3\" >Book value per common share</td>\n",
       "                        <td id=\"T_52422390_8245_11e9_a8bf_34e12d8376c5row10_col4\" class=\"data row10 col4\" >Quarters Ended 06/30/16</td>\n",
       "                        <td id=\"T_52422390_8245_11e9_a8bf_34e12d8376c5row10_col5\" class=\"data row10 col5\" >18.78$</td>\n",
       "                        <td id=\"T_52422390_8245_11e9_a8bf_34e12d8376c5row10_col6\" class=\"data row10 col6\" >(In Thousands, Except Per Share Data)</td>\n",
       "            </tr>\n",
       "            <tr>\n",
       "                                <th id=\"T_52422390_8245_11e9_a8bf_34e12d8376c5level1_row11\" class=\"row_heading level1 row11\" >interest income</th>\n",
       "                        <td id=\"T_52422390_8245_11e9_a8bf_34e12d8376c5row11_col0\" class=\"data row11 col0\" ><a href=\"https://www.sec.gov/Archives/edgar/data/1019650/000101965016000129/0001019650-16-000129-index.htm\">2016Q2</a></td>\n",
       "                        <td id=\"T_52422390_8245_11e9_a8bf_34e12d8376c5row11_col1\" class=\"data row11 col1\" >7.862e+06</td>\n",
       "                        <td id=\"T_52422390_8245_11e9_a8bf_34e12d8376c5row11_col2\" class=\"data row11 col2\" >Statement of Income</td>\n",
       "                        <td id=\"T_52422390_8245_11e9_a8bf_34e12d8376c5row11_col3\" class=\"data row11 col3\" >Interest income</td>\n",
       "                        <td id=\"T_52422390_8245_11e9_a8bf_34e12d8376c5row11_col4\" class=\"data row11 col4\" >Quarters Ended 06/30/16</td>\n",
       "                        <td id=\"T_52422390_8245_11e9_a8bf_34e12d8376c5row11_col5\" class=\"data row11 col5\" >7862$</td>\n",
       "                        <td id=\"T_52422390_8245_11e9_a8bf_34e12d8376c5row11_col6\" class=\"data row11 col6\" >(In Thousands, Except Per Share Data)</td>\n",
       "            </tr>\n",
       "            <tr>\n",
       "                                <th id=\"T_52422390_8245_11e9_a8bf_34e12d8376c5level1_row12\" class=\"row_heading level1 row12\" >net income</th>\n",
       "                        <td id=\"T_52422390_8245_11e9_a8bf_34e12d8376c5row12_col0\" class=\"data row12 col0\" ><a href=\"https://www.sec.gov/Archives/edgar/data/1019650/000101965016000129/0001019650-16-000129-index.htm\">2016Q2</a></td>\n",
       "                        <td id=\"T_52422390_8245_11e9_a8bf_34e12d8376c5row12_col1\" class=\"data row12 col1\" >2.128e+06</td>\n",
       "                        <td id=\"T_52422390_8245_11e9_a8bf_34e12d8376c5row12_col2\" class=\"data row12 col2\" >Statement of Income</td>\n",
       "                        <td id=\"T_52422390_8245_11e9_a8bf_34e12d8376c5row12_col3\" class=\"data row12 col3\" >Net income</td>\n",
       "                        <td id=\"T_52422390_8245_11e9_a8bf_34e12d8376c5row12_col4\" class=\"data row12 col4\" >Quarters Ended 06/30/16</td>\n",
       "                        <td id=\"T_52422390_8245_11e9_a8bf_34e12d8376c5row12_col5\" class=\"data row12 col5\" >2128$</td>\n",
       "                        <td id=\"T_52422390_8245_11e9_a8bf_34e12d8376c5row12_col6\" class=\"data row12 col6\" >(In Thousands, Except Per Share Data)</td>\n",
       "            </tr>\n",
       "            <tr>\n",
       "                                <th id=\"T_52422390_8245_11e9_a8bf_34e12d8376c5level1_row13\" class=\"row_heading level1 row13\" >net interest income</th>\n",
       "                        <td id=\"T_52422390_8245_11e9_a8bf_34e12d8376c5row13_col0\" class=\"data row13 col0\" ><a href=\"https://www.sec.gov/Archives/edgar/data/1019650/000101965016000129/0001019650-16-000129-index.htm\">2016Q2</a></td>\n",
       "                        <td id=\"T_52422390_8245_11e9_a8bf_34e12d8376c5row13_col1\" class=\"data row13 col1\" >7.216e+06</td>\n",
       "                        <td id=\"T_52422390_8245_11e9_a8bf_34e12d8376c5row13_col2\" class=\"data row13 col2\" >Statement of Income</td>\n",
       "                        <td id=\"T_52422390_8245_11e9_a8bf_34e12d8376c5row13_col3\" class=\"data row13 col3\" >Net interest income</td>\n",
       "                        <td id=\"T_52422390_8245_11e9_a8bf_34e12d8376c5row13_col4\" class=\"data row13 col4\" >Quarters Ended 06/30/16</td>\n",
       "                        <td id=\"T_52422390_8245_11e9_a8bf_34e12d8376c5row13_col5\" class=\"data row13 col5\" >7216</td>\n",
       "                        <td id=\"T_52422390_8245_11e9_a8bf_34e12d8376c5row13_col6\" class=\"data row13 col6\" >(In Thousands, Except Per Share Data)</td>\n",
       "            </tr>\n",
       "            <tr>\n",
       "                                <th id=\"T_52422390_8245_11e9_a8bf_34e12d8376c5level1_row14\" class=\"row_heading level1 row14\" >provision for loan losses</th>\n",
       "                        <td id=\"T_52422390_8245_11e9_a8bf_34e12d8376c5row14_col0\" class=\"data row14 col0\" ><a href=\"https://www.sec.gov/Archives/edgar/data/1019650/000101965016000129/0001019650-16-000129-index.htm\">2016Q2</a></td>\n",
       "                        <td id=\"T_52422390_8245_11e9_a8bf_34e12d8376c5row14_col1\" class=\"data row14 col1\" >0</td>\n",
       "                        <td id=\"T_52422390_8245_11e9_a8bf_34e12d8376c5row14_col2\" class=\"data row14 col2\" >Statement of Income</td>\n",
       "                        <td id=\"T_52422390_8245_11e9_a8bf_34e12d8376c5row14_col3\" class=\"data row14 col3\" >Provision for loan losses</td>\n",
       "                        <td id=\"T_52422390_8245_11e9_a8bf_34e12d8376c5row14_col4\" class=\"data row14 col4\" >Quarters Ended 06/30/16</td>\n",
       "                        <td id=\"T_52422390_8245_11e9_a8bf_34e12d8376c5row14_col5\" class=\"data row14 col5\" >-</td>\n",
       "                        <td id=\"T_52422390_8245_11e9_a8bf_34e12d8376c5row14_col6\" class=\"data row14 col6\" >(In Thousands, Except Per Share Data)</td>\n",
       "            </tr>\n",
       "            <tr>\n",
       "                        <th id=\"T_52422390_8245_11e9_a8bf_34e12d8376c5level0_row15\" class=\"row_heading level0 row15\" rowspan=5>2016-11-02</th>\n",
       "                        <th id=\"T_52422390_8245_11e9_a8bf_34e12d8376c5level1_row15\" class=\"row_heading level1 row15\" >book value per share</th>\n",
       "                        <td id=\"T_52422390_8245_11e9_a8bf_34e12d8376c5row15_col0\" class=\"data row15 col0\" ><a href=\"https://www.sec.gov/Archives/edgar/data/1019650/000101965016000138/0001019650-16-000138-index.htm\">2016Q3</a></td>\n",
       "                        <td id=\"T_52422390_8245_11e9_a8bf_34e12d8376c5row15_col1\" class=\"data row15 col1\" >18.92</td>\n",
       "                        <td id=\"T_52422390_8245_11e9_a8bf_34e12d8376c5row15_col2\" class=\"data row15 col2\" >Statement of Income</td>\n",
       "                        <td id=\"T_52422390_8245_11e9_a8bf_34e12d8376c5row15_col3\" class=\"data row15 col3\" >Book value per common share</td>\n",
       "                        <td id=\"T_52422390_8245_11e9_a8bf_34e12d8376c5row15_col4\" class=\"data row15 col4\" >Quarters Ended 09/30/16</td>\n",
       "                        <td id=\"T_52422390_8245_11e9_a8bf_34e12d8376c5row15_col5\" class=\"data row15 col5\" >18.92</td>\n",
       "                        <td id=\"T_52422390_8245_11e9_a8bf_34e12d8376c5row15_col6\" class=\"data row15 col6\" >(In Thousands, Except Share Data)</td>\n",
       "            </tr>\n",
       "            <tr>\n",
       "                                <th id=\"T_52422390_8245_11e9_a8bf_34e12d8376c5level1_row16\" class=\"row_heading level1 row16\" >interest income</th>\n",
       "                        <td id=\"T_52422390_8245_11e9_a8bf_34e12d8376c5row16_col0\" class=\"data row16 col0\" ><a href=\"https://www.sec.gov/Archives/edgar/data/1019650/000101965016000138/0001019650-16-000138-index.htm\">2016Q3</a></td>\n",
       "                        <td id=\"T_52422390_8245_11e9_a8bf_34e12d8376c5row16_col1\" class=\"data row16 col1\" >7.928e+06</td>\n",
       "                        <td id=\"T_52422390_8245_11e9_a8bf_34e12d8376c5row16_col2\" class=\"data row16 col2\" >Statement of Income</td>\n",
       "                        <td id=\"T_52422390_8245_11e9_a8bf_34e12d8376c5row16_col3\" class=\"data row16 col3\" >Interest income</td>\n",
       "                        <td id=\"T_52422390_8245_11e9_a8bf_34e12d8376c5row16_col4\" class=\"data row16 col4\" >Quarters Ended 09/30/16</td>\n",
       "                        <td id=\"T_52422390_8245_11e9_a8bf_34e12d8376c5row16_col5\" class=\"data row16 col5\" >$7928</td>\n",
       "                        <td id=\"T_52422390_8245_11e9_a8bf_34e12d8376c5row16_col6\" class=\"data row16 col6\" >(In Thousands, Except Share Data)</td>\n",
       "            </tr>\n",
       "            <tr>\n",
       "                                <th id=\"T_52422390_8245_11e9_a8bf_34e12d8376c5level1_row17\" class=\"row_heading level1 row17\" >net income</th>\n",
       "                        <td id=\"T_52422390_8245_11e9_a8bf_34e12d8376c5row17_col0\" class=\"data row17 col0\" ><a href=\"https://www.sec.gov/Archives/edgar/data/1019650/000101965016000138/0001019650-16-000138-index.htm\">2016Q3</a></td>\n",
       "                        <td id=\"T_52422390_8245_11e9_a8bf_34e12d8376c5row17_col1\" class=\"data row17 col1\" >1.055e+06</td>\n",
       "                        <td id=\"T_52422390_8245_11e9_a8bf_34e12d8376c5row17_col2\" class=\"data row17 col2\" >Statement of Income</td>\n",
       "                        <td id=\"T_52422390_8245_11e9_a8bf_34e12d8376c5row17_col3\" class=\"data row17 col3\" >Net income</td>\n",
       "                        <td id=\"T_52422390_8245_11e9_a8bf_34e12d8376c5row17_col4\" class=\"data row17 col4\" >Quarters Ended 09/30/16</td>\n",
       "                        <td id=\"T_52422390_8245_11e9_a8bf_34e12d8376c5row17_col5\" class=\"data row17 col5\" >$1055</td>\n",
       "                        <td id=\"T_52422390_8245_11e9_a8bf_34e12d8376c5row17_col6\" class=\"data row17 col6\" >(In Thousands, Except Share Data)</td>\n",
       "            </tr>\n",
       "            <tr>\n",
       "                                <th id=\"T_52422390_8245_11e9_a8bf_34e12d8376c5level1_row18\" class=\"row_heading level1 row18\" >net interest income</th>\n",
       "                        <td id=\"T_52422390_8245_11e9_a8bf_34e12d8376c5row18_col0\" class=\"data row18 col0\" ><a href=\"https://www.sec.gov/Archives/edgar/data/1019650/000101965016000138/0001019650-16-000138-index.htm\">2016Q3</a></td>\n",
       "                        <td id=\"T_52422390_8245_11e9_a8bf_34e12d8376c5row18_col1\" class=\"data row18 col1\" >7.216e+06</td>\n",
       "                        <td id=\"T_52422390_8245_11e9_a8bf_34e12d8376c5row18_col2\" class=\"data row18 col2\" >Statement of Income</td>\n",
       "                        <td id=\"T_52422390_8245_11e9_a8bf_34e12d8376c5row18_col3\" class=\"data row18 col3\" >Net interest income</td>\n",
       "                        <td id=\"T_52422390_8245_11e9_a8bf_34e12d8376c5row18_col4\" class=\"data row18 col4\" >Quarters Ended 09/30/16</td>\n",
       "                        <td id=\"T_52422390_8245_11e9_a8bf_34e12d8376c5row18_col5\" class=\"data row18 col5\" >7216</td>\n",
       "                        <td id=\"T_52422390_8245_11e9_a8bf_34e12d8376c5row18_col6\" class=\"data row18 col6\" >(In Thousands, Except Share Data)</td>\n",
       "            </tr>\n",
       "            <tr>\n",
       "                                <th id=\"T_52422390_8245_11e9_a8bf_34e12d8376c5level1_row19\" class=\"row_heading level1 row19\" >provision for loan losses</th>\n",
       "                        <td id=\"T_52422390_8245_11e9_a8bf_34e12d8376c5row19_col0\" class=\"data row19 col0\" ><a href=\"https://www.sec.gov/Archives/edgar/data/1019650/000101965016000138/0001019650-16-000138-index.htm\">2016Q3</a></td>\n",
       "                        <td id=\"T_52422390_8245_11e9_a8bf_34e12d8376c5row19_col1\" class=\"data row19 col1\" >0</td>\n",
       "                        <td id=\"T_52422390_8245_11e9_a8bf_34e12d8376c5row19_col2\" class=\"data row19 col2\" >Statement of Income</td>\n",
       "                        <td id=\"T_52422390_8245_11e9_a8bf_34e12d8376c5row19_col3\" class=\"data row19 col3\" >Provision for loan losses</td>\n",
       "                        <td id=\"T_52422390_8245_11e9_a8bf_34e12d8376c5row19_col4\" class=\"data row19 col4\" >Quarters Ended 09/30/16</td>\n",
       "                        <td id=\"T_52422390_8245_11e9_a8bf_34e12d8376c5row19_col5\" class=\"data row19 col5\" ></td>\n",
       "                        <td id=\"T_52422390_8245_11e9_a8bf_34e12d8376c5row19_col6\" class=\"data row19 col6\" >(In Thousands, Except Share Data)</td>\n",
       "            </tr>\n",
       "            <tr>\n",
       "                        <th id=\"T_52422390_8245_11e9_a8bf_34e12d8376c5level0_row20\" class=\"row_heading level0 row20\" rowspan=5>2017-01-27</th>\n",
       "                        <th id=\"T_52422390_8245_11e9_a8bf_34e12d8376c5level1_row20\" class=\"row_heading level1 row20\" >book value per share</th>\n",
       "                        <td id=\"T_52422390_8245_11e9_a8bf_34e12d8376c5row20_col0\" class=\"data row20 col0\" ><a href=\"https://www.sec.gov/Archives/edgar/data/1019650/000101965017000003/0001019650-17-000003-index.htm\">2016Q4</a></td>\n",
       "                        <td id=\"T_52422390_8245_11e9_a8bf_34e12d8376c5row20_col1\" class=\"data row20 col1\" >19.08</td>\n",
       "                        <td id=\"T_52422390_8245_11e9_a8bf_34e12d8376c5row20_col2\" class=\"data row20 col2\" >Statement of Income</td>\n",
       "                        <td id=\"T_52422390_8245_11e9_a8bf_34e12d8376c5row20_col3\" class=\"data row20 col3\" >Book value per common share</td>\n",
       "                        <td id=\"T_52422390_8245_11e9_a8bf_34e12d8376c5row20_col4\" class=\"data row20 col4\" >Quarters Ended 12/31/16</td>\n",
       "                        <td id=\"T_52422390_8245_11e9_a8bf_34e12d8376c5row20_col5\" class=\"data row20 col5\" >19.08</td>\n",
       "                        <td id=\"T_52422390_8245_11e9_a8bf_34e12d8376c5row20_col6\" class=\"data row20 col6\" >(In Thousands, Except Share Data)</td>\n",
       "            </tr>\n",
       "            <tr>\n",
       "                                <th id=\"T_52422390_8245_11e9_a8bf_34e12d8376c5level1_row21\" class=\"row_heading level1 row21\" >interest income</th>\n",
       "                        <td id=\"T_52422390_8245_11e9_a8bf_34e12d8376c5row21_col0\" class=\"data row21 col0\" ><a href=\"https://www.sec.gov/Archives/edgar/data/1019650/000101965017000003/0001019650-17-000003-index.htm\">2016Q4</a></td>\n",
       "                        <td id=\"T_52422390_8245_11e9_a8bf_34e12d8376c5row21_col1\" class=\"data row21 col1\" >7.985e+06</td>\n",
       "                        <td id=\"T_52422390_8245_11e9_a8bf_34e12d8376c5row21_col2\" class=\"data row21 col2\" >Statement of Income</td>\n",
       "                        <td id=\"T_52422390_8245_11e9_a8bf_34e12d8376c5row21_col3\" class=\"data row21 col3\" >Interest income</td>\n",
       "                        <td id=\"T_52422390_8245_11e9_a8bf_34e12d8376c5row21_col4\" class=\"data row21 col4\" >Quarters Ended 12/31/16</td>\n",
       "                        <td id=\"T_52422390_8245_11e9_a8bf_34e12d8376c5row21_col5\" class=\"data row21 col5\" >$7985</td>\n",
       "                        <td id=\"T_52422390_8245_11e9_a8bf_34e12d8376c5row21_col6\" class=\"data row21 col6\" >(In Thousands, Except Share Data)</td>\n",
       "            </tr>\n",
       "            <tr>\n",
       "                                <th id=\"T_52422390_8245_11e9_a8bf_34e12d8376c5level1_row22\" class=\"row_heading level1 row22\" >net income</th>\n",
       "                        <td id=\"T_52422390_8245_11e9_a8bf_34e12d8376c5row22_col0\" class=\"data row22 col0\" ><a href=\"https://www.sec.gov/Archives/edgar/data/1019650/000101965017000003/0001019650-17-000003-index.htm\">2016Q4</a></td>\n",
       "                        <td id=\"T_52422390_8245_11e9_a8bf_34e12d8376c5row22_col1\" class=\"data row22 col1\" >2.215e+06</td>\n",
       "                        <td id=\"T_52422390_8245_11e9_a8bf_34e12d8376c5row22_col2\" class=\"data row22 col2\" >Statement of Income</td>\n",
       "                        <td id=\"T_52422390_8245_11e9_a8bf_34e12d8376c5row22_col3\" class=\"data row22 col3\" >Net income</td>\n",
       "                        <td id=\"T_52422390_8245_11e9_a8bf_34e12d8376c5row22_col4\" class=\"data row22 col4\" >Quarters Ended 12/31/16</td>\n",
       "                        <td id=\"T_52422390_8245_11e9_a8bf_34e12d8376c5row22_col5\" class=\"data row22 col5\" >$2215</td>\n",
       "                        <td id=\"T_52422390_8245_11e9_a8bf_34e12d8376c5row22_col6\" class=\"data row22 col6\" >(In Thousands, Except Share Data)</td>\n",
       "            </tr>\n",
       "            <tr>\n",
       "                                <th id=\"T_52422390_8245_11e9_a8bf_34e12d8376c5level1_row23\" class=\"row_heading level1 row23\" >net interest income</th>\n",
       "                        <td id=\"T_52422390_8245_11e9_a8bf_34e12d8376c5row23_col0\" class=\"data row23 col0\" ><a href=\"https://www.sec.gov/Archives/edgar/data/1019650/000101965017000003/0001019650-17-000003-index.htm\">2016Q4</a></td>\n",
       "                        <td id=\"T_52422390_8245_11e9_a8bf_34e12d8376c5row23_col1\" class=\"data row23 col1\" >7.292e+06</td>\n",
       "                        <td id=\"T_52422390_8245_11e9_a8bf_34e12d8376c5row23_col2\" class=\"data row23 col2\" >Statement of Income</td>\n",
       "                        <td id=\"T_52422390_8245_11e9_a8bf_34e12d8376c5row23_col3\" class=\"data row23 col3\" >Net interest income</td>\n",
       "                        <td id=\"T_52422390_8245_11e9_a8bf_34e12d8376c5row23_col4\" class=\"data row23 col4\" >Quarters Ended 12/31/16</td>\n",
       "                        <td id=\"T_52422390_8245_11e9_a8bf_34e12d8376c5row23_col5\" class=\"data row23 col5\" >7292</td>\n",
       "                        <td id=\"T_52422390_8245_11e9_a8bf_34e12d8376c5row23_col6\" class=\"data row23 col6\" >(In Thousands, Except Share Data)</td>\n",
       "            </tr>\n",
       "            <tr>\n",
       "                                <th id=\"T_52422390_8245_11e9_a8bf_34e12d8376c5level1_row24\" class=\"row_heading level1 row24\" >provision for loan losses</th>\n",
       "                        <td id=\"T_52422390_8245_11e9_a8bf_34e12d8376c5row24_col0\" class=\"data row24 col0\" ><a href=\"https://www.sec.gov/Archives/edgar/data/1019650/000101965017000003/0001019650-17-000003-index.htm\">2016Q4</a></td>\n",
       "                        <td id=\"T_52422390_8245_11e9_a8bf_34e12d8376c5row24_col1\" class=\"data row24 col1\" >0</td>\n",
       "                        <td id=\"T_52422390_8245_11e9_a8bf_34e12d8376c5row24_col2\" class=\"data row24 col2\" >Statement of Income</td>\n",
       "                        <td id=\"T_52422390_8245_11e9_a8bf_34e12d8376c5row24_col3\" class=\"data row24 col3\" >Provision for loan losses</td>\n",
       "                        <td id=\"T_52422390_8245_11e9_a8bf_34e12d8376c5row24_col4\" class=\"data row24 col4\" >Quarters Ended 12/31/16</td>\n",
       "                        <td id=\"T_52422390_8245_11e9_a8bf_34e12d8376c5row24_col5\" class=\"data row24 col5\" ></td>\n",
       "                        <td id=\"T_52422390_8245_11e9_a8bf_34e12d8376c5row24_col6\" class=\"data row24 col6\" >(In Thousands, Except Share Data)</td>\n",
       "            </tr>\n",
       "            <tr>\n",
       "                        <th id=\"T_52422390_8245_11e9_a8bf_34e12d8376c5level0_row25\" class=\"row_heading level0 row25\" rowspan=5>2017-04-27</th>\n",
       "                        <th id=\"T_52422390_8245_11e9_a8bf_34e12d8376c5level1_row25\" class=\"row_heading level1 row25\" >book value per share</th>\n",
       "                        <td id=\"T_52422390_8245_11e9_a8bf_34e12d8376c5row25_col0\" class=\"data row25 col0\" ><a href=\"https://www.sec.gov/Archives/edgar/data/1019650/000101965017000018/0001019650-17-000018-index.htm\">2017Q1</a></td>\n",
       "                        <td id=\"T_52422390_8245_11e9_a8bf_34e12d8376c5row25_col1\" class=\"data row25 col1\" >19.31</td>\n",
       "                        <td id=\"T_52422390_8245_11e9_a8bf_34e12d8376c5row25_col2\" class=\"data row25 col2\" >Statement of Income</td>\n",
       "                        <td id=\"T_52422390_8245_11e9_a8bf_34e12d8376c5row25_col3\" class=\"data row25 col3\" >Book value per common share</td>\n",
       "                        <td id=\"T_52422390_8245_11e9_a8bf_34e12d8376c5row25_col4\" class=\"data row25 col4\" >Quarters Ended 03/31/17</td>\n",
       "                        <td id=\"T_52422390_8245_11e9_a8bf_34e12d8376c5row25_col5\" class=\"data row25 col5\" >19.31</td>\n",
       "                        <td id=\"T_52422390_8245_11e9_a8bf_34e12d8376c5row25_col6\" class=\"data row25 col6\" >(In Thousands, Except Share Data)</td>\n",
       "            </tr>\n",
       "            <tr>\n",
       "                                <th id=\"T_52422390_8245_11e9_a8bf_34e12d8376c5level1_row26\" class=\"row_heading level1 row26\" >interest income</th>\n",
       "                        <td id=\"T_52422390_8245_11e9_a8bf_34e12d8376c5row26_col0\" class=\"data row26 col0\" ><a href=\"https://www.sec.gov/Archives/edgar/data/1019650/000101965017000018/0001019650-17-000018-index.htm\">2017Q1</a></td>\n",
       "                        <td id=\"T_52422390_8245_11e9_a8bf_34e12d8376c5row26_col1\" class=\"data row26 col1\" >8.107e+06</td>\n",
       "                        <td id=\"T_52422390_8245_11e9_a8bf_34e12d8376c5row26_col2\" class=\"data row26 col2\" >Statement of Income</td>\n",
       "                        <td id=\"T_52422390_8245_11e9_a8bf_34e12d8376c5row26_col3\" class=\"data row26 col3\" >Interest income</td>\n",
       "                        <td id=\"T_52422390_8245_11e9_a8bf_34e12d8376c5row26_col4\" class=\"data row26 col4\" >Quarters Ended 03/31/17</td>\n",
       "                        <td id=\"T_52422390_8245_11e9_a8bf_34e12d8376c5row26_col5\" class=\"data row26 col5\" >$8107</td>\n",
       "                        <td id=\"T_52422390_8245_11e9_a8bf_34e12d8376c5row26_col6\" class=\"data row26 col6\" >(In Thousands, Except Share Data)</td>\n",
       "            </tr>\n",
       "            <tr>\n",
       "                                <th id=\"T_52422390_8245_11e9_a8bf_34e12d8376c5level1_row27\" class=\"row_heading level1 row27\" >net income</th>\n",
       "                        <td id=\"T_52422390_8245_11e9_a8bf_34e12d8376c5row27_col0\" class=\"data row27 col0\" ><a href=\"https://www.sec.gov/Archives/edgar/data/1019650/000101965017000018/0001019650-17-000018-index.htm\">2017Q1</a></td>\n",
       "                        <td id=\"T_52422390_8245_11e9_a8bf_34e12d8376c5row27_col1\" class=\"data row27 col1\" >1.059e+06</td>\n",
       "                        <td id=\"T_52422390_8245_11e9_a8bf_34e12d8376c5row27_col2\" class=\"data row27 col2\" >Statement of Income</td>\n",
       "                        <td id=\"T_52422390_8245_11e9_a8bf_34e12d8376c5row27_col3\" class=\"data row27 col3\" >Net income</td>\n",
       "                        <td id=\"T_52422390_8245_11e9_a8bf_34e12d8376c5row27_col4\" class=\"data row27 col4\" >Quarters Ended 03/31/17</td>\n",
       "                        <td id=\"T_52422390_8245_11e9_a8bf_34e12d8376c5row27_col5\" class=\"data row27 col5\" >$1059</td>\n",
       "                        <td id=\"T_52422390_8245_11e9_a8bf_34e12d8376c5row27_col6\" class=\"data row27 col6\" >(In Thousands, Except Share Data)</td>\n",
       "            </tr>\n",
       "            <tr>\n",
       "                                <th id=\"T_52422390_8245_11e9_a8bf_34e12d8376c5level1_row28\" class=\"row_heading level1 row28\" >net interest income</th>\n",
       "                        <td id=\"T_52422390_8245_11e9_a8bf_34e12d8376c5row28_col0\" class=\"data row28 col0\" ><a href=\"https://www.sec.gov/Archives/edgar/data/1019650/000101965017000018/0001019650-17-000018-index.htm\">2017Q1</a></td>\n",
       "                        <td id=\"T_52422390_8245_11e9_a8bf_34e12d8376c5row28_col1\" class=\"data row28 col1\" >7.399e+06</td>\n",
       "                        <td id=\"T_52422390_8245_11e9_a8bf_34e12d8376c5row28_col2\" class=\"data row28 col2\" >Statement of Income</td>\n",
       "                        <td id=\"T_52422390_8245_11e9_a8bf_34e12d8376c5row28_col3\" class=\"data row28 col3\" >Net interest income</td>\n",
       "                        <td id=\"T_52422390_8245_11e9_a8bf_34e12d8376c5row28_col4\" class=\"data row28 col4\" >Quarters Ended 03/31/17</td>\n",
       "                        <td id=\"T_52422390_8245_11e9_a8bf_34e12d8376c5row28_col5\" class=\"data row28 col5\" >7399</td>\n",
       "                        <td id=\"T_52422390_8245_11e9_a8bf_34e12d8376c5row28_col6\" class=\"data row28 col6\" >(In Thousands, Except Share Data)</td>\n",
       "            </tr>\n",
       "            <tr>\n",
       "                                <th id=\"T_52422390_8245_11e9_a8bf_34e12d8376c5level1_row29\" class=\"row_heading level1 row29\" >provision for loan losses</th>\n",
       "                        <td id=\"T_52422390_8245_11e9_a8bf_34e12d8376c5row29_col0\" class=\"data row29 col0\" ><a href=\"https://www.sec.gov/Archives/edgar/data/1019650/000101965017000018/0001019650-17-000018-index.htm\">2017Q1</a></td>\n",
       "                        <td id=\"T_52422390_8245_11e9_a8bf_34e12d8376c5row29_col1\" class=\"data row29 col1\" >0</td>\n",
       "                        <td id=\"T_52422390_8245_11e9_a8bf_34e12d8376c5row29_col2\" class=\"data row29 col2\" >Statement of Income</td>\n",
       "                        <td id=\"T_52422390_8245_11e9_a8bf_34e12d8376c5row29_col3\" class=\"data row29 col3\" >Provision for loan losses</td>\n",
       "                        <td id=\"T_52422390_8245_11e9_a8bf_34e12d8376c5row29_col4\" class=\"data row29 col4\" >Quarters Ended 03/31/17</td>\n",
       "                        <td id=\"T_52422390_8245_11e9_a8bf_34e12d8376c5row29_col5\" class=\"data row29 col5\" ></td>\n",
       "                        <td id=\"T_52422390_8245_11e9_a8bf_34e12d8376c5row29_col6\" class=\"data row29 col6\" >(In Thousands, Except Share Data)</td>\n",
       "            </tr>\n",
       "    </tbody></table>"
      ],
      "text/plain": [
       "<pandas.io.formats.style.Styler at 0x193df5a4d30>"
      ]
     },
     "execution_count": 9,
     "metadata": {},
     "output_type": "execute_result"
    }
   ],
   "source": [
    "def make_clickable(val: str) -> str: \n",
    "    if isinstance(val, str):\n",
    "        name, url = val.split('#')\n",
    "        return f'<a href=\"{url}\">{name}</a>'\n",
    "    else:\n",
    "        return ''\n",
    "\n",
    "(prelims\n",
    " .assign(fiscal_period = prelims.fiscal_period.str.cat(prelims.filing_href, sep='#'), filing_date = prelims.filing_date.map(lambda d: d.strftime('%Y-%m-%d')))\n",
    " .loc[:, ['filing_date', 'fiscal_period', 'item', 'item_value', 'src_table', 'src_row', 'src_column', 'src_value', 'src_units']]\n",
    " .set_index(['filing_date', 'item'])\n",
    " .style.format({'fiscal_period': make_clickable})\n",
    ")"
   ]
  },
  {
   "cell_type": "code",
   "execution_count": 10,
   "metadata": {
    "papermill": {
     "duration": 0.159155,
     "end_time": "2019-05-29T19:09:45.785198",
     "exception": false,
     "start_time": "2019-05-29T19:09:45.626043",
     "status": "completed"
    },
    "tags": []
   },
   "outputs": [],
   "source": [
    "#discard_prelim(cik, date(2019, 12, 31))\n",
    "#force_reload_prelim(cik, date(2019, 12, 31), delete_filings=False)\n",
    "#force_reload_prelim_between(cik,  start=date(2002, 6, 1), end=date(2019, 12, 31), delete_filings=False)"
   ]
  },
  {
   "cell_type": "code",
   "execution_count": 11,
   "metadata": {
    "papermill": {
     "duration": 0.145372,
     "end_time": "2019-05-29T19:09:45.948325",
     "exception": false,
     "start_time": "2019-05-29T19:09:45.802953",
     "status": "completed"
    },
    "tags": []
   },
   "outputs": [],
   "source": [
    "#d = date(2018, 10, 29)\n",
    "#extract_prelim_statements(cik, start=d, end=d)"
   ]
  },
  {
   "cell_type": "code",
   "execution_count": 12,
   "metadata": {
    "papermill": {
     "duration": 0.13488,
     "end_time": "2019-05-29T19:09:46.100250",
     "exception": false,
     "start_time": "2019-05-29T19:09:45.965370",
     "status": "completed"
    },
    "tags": []
   },
   "outputs": [],
   "source": [
    "#d = date(2019, 4, 22)\n",
    "#filings = query_edgar_for_filings(cik, \"8-K\", start=d, end=d, require_xbrl=False)\n",
    "#report = query_edgar_for_submission_text(filings[0].href)\n",
    "#submission = load_submission(report.href)\n",
    "#tables = list(parse_tables(submission))\n",
    "#items_from_tables(tables)"
   ]
  },
  {
   "cell_type": "code",
   "execution_count": 13,
   "metadata": {
    "papermill": {
     "duration": 0.148934,
     "end_time": "2019-05-29T19:09:46.265565",
     "exception": false,
     "start_time": "2019-05-29T19:09:46.116631",
     "status": "completed"
    },
    "tags": []
   },
   "outputs": [],
   "source": [
    "#widget = query_prelims_for_override(cik, filing_date='2006-01-27', item=None)\n",
    "#widget"
   ]
  },
  {
   "cell_type": "code",
   "execution_count": 14,
   "metadata": {
    "papermill": {
     "duration": 0.134412,
     "end_time": "2019-05-29T19:09:46.417229",
     "exception": false,
     "start_time": "2019-05-29T19:09:46.282817",
     "status": "completed"
    },
    "tags": []
   },
   "outputs": [],
   "source": [
    "#widget.save()"
   ]
  }
 ],
 "metadata": {
  "celltoolbar": "Tags",
  "kernelspec": {
   "display_name": "Python 3",
   "language": "python",
   "name": "python3"
  },
  "language_info": {
   "codemirror_mode": {
    "name": "ipython",
    "version": 3
   },
   "file_extension": ".py",
   "mimetype": "text/x-python",
   "name": "python",
   "nbconvert_exporter": "python",
   "pygments_lexer": "ipython3",
   "version": "3.7.2"
  },
  "papermill": {
   "duration": 8.535524,
   "end_time": "2019-05-29T19:09:47.644651",
   "environment_variables": {},
   "exception": null,
   "input_path": "resources/edgar_prelim_quality.ipynb",
   "output_path": "../out/notebooks/0001019650.ipynb",
   "parameters": {
    "cik": "0001019650"
   },
   "start_time": "2019-05-29T19:09:39.109127",
   "version": "0.19.1"
  }
 },
 "nbformat": 4,
 "nbformat_minor": 2
}